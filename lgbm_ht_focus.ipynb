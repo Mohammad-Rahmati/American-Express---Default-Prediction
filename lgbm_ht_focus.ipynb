{
 "cells": [
  {
   "cell_type": "code",
   "execution_count": 1,
   "metadata": {},
   "outputs": [],
   "source": [
    "import warnings\n",
    "warnings.filterwarnings('ignore')\n",
    "\n",
    "from evaluation_metric import lgb_amex_metric\n",
    "import os\n",
    "import gc\n",
    "import random\n",
    "import numpy as np\n",
    "import pandas as pd\n",
    "import joblib\n",
    "from sklearn.model_selection import StratifiedKFold\n",
    "from sklearn.preprocessing import LabelEncoder\n",
    "from sklearn.model_selection import ParameterGrid\n",
    "from sklearn.calibration import CalibratedClassifierCV\n",
    "import lightgbm as lgb\n",
    "\n",
    "main_fold = 1\n",
    "\n",
    "class CFG:\n",
    "    input_dir = 'Data/'\n",
    "    seed = 42\n",
    "    n_folds = 5\n",
    "    target = 'target'\n",
    "\n",
    "def seed_everything(seed):\n",
    "    random.seed(seed)\n",
    "    np.random.seed(seed)\n",
    "    os.environ['PYTHONHASHSEED'] = str(seed)\n",
    "\n",
    "def save_model(fold):\n",
    "    def callback(env):\n",
    "        global max_score\n",
    "        iteration = env.iteration\n",
    "        score = env.evaluation_result_list[0][2]\n",
    "        if iteration % 200 == 0:\n",
    "            print('iteration {}, score= {:.05f}, max_score= {:.05f}'.format(iteration,score, max_score))\n",
    "        if score > max_score:\n",
    "            max_score = score\n",
    "            path = 'Models/'\n",
    "            for fname in os.listdir(path):\n",
    "                if fname.startswith(\"fold_{}_{}\".format(main_fold, fold)):\n",
    "                    os.remove(os.path.join(path, fname))\n",
    "\n",
    "            print('High Score: iteration {}, score={:.05f}'.format(iteration, score))\n",
    "            joblib.dump(env.model, 'Models/fold_{}_{}_iter_{}_score_{:.05f}.pkl'.format(main_fold, fold, iteration, score))\n",
    "\n",
    "    callback.order = 0\n",
    "    return callback\n",
    "\n",
    "cat_features = [\n",
    "    \"B_30\",\n",
    "    \"B_38\",\n",
    "    \"D_114\",\n",
    "    \"D_116\",\n",
    "    \"D_117\",\n",
    "    \"D_120\",\n",
    "    \"D_126\",\n",
    "    \"D_63\",\n",
    "    \"D_64\",\n",
    "    \"D_66\",\n",
    "    \"D_68\"\n",
    "]\n",
    "cat_features = [f\"{cf}_last\" for cf in cat_features]"
   ]
  },
  {
   "cell_type": "code",
   "execution_count": 2,
   "metadata": {},
   "outputs": [
    {
     "data": {
      "text/plain": [
       "((367130, 1103), (91783, 1103), (367130,), (91783,))"
      ]
     },
     "execution_count": 2,
     "metadata": {},
     "output_type": "execute_result"
    }
   ],
   "source": [
    "x_train = pd.read_pickle('Output/x_train_fold_{}.pkl'.format(main_fold))\n",
    "x_val = pd.read_pickle('Output/x_val_fold_{}.pkl'.format(main_fold))\n",
    "y_train = pd.read_pickle('Output/y_train_fold_{}.pkl'.format(main_fold))\n",
    "y_val = pd.read_pickle('Output/y_val_fold_{}.pkl'.format(main_fold))\n",
    "\n",
    "x_train.shape, x_val.shape, y_train.shape, y_val.shape"
   ]
  },
  {
   "cell_type": "code",
   "execution_count": 3,
   "metadata": {},
   "outputs": [],
   "source": [
    "val = pd.concat([x_val, y_val], axis=1)\n",
    "val.shape"
   ]
  },
  {
   "cell_type": "code",
   "execution_count": null,
   "metadata": {},
   "outputs": [],
   "source": [
    "def train_and_evaluate(x_train_org, y_train_org, val, parameters):\n",
    "    global max_score\n",
    "    \n",
    "    kfold = StratifiedKFold(n_splits = CFG.n_folds, shuffle = True, random_state = CFG.seed)\n",
    "    for fold, (trn_ind, val_ind) in enumerate(kfold.split(val, val[CFG.target])):\n",
    "        \n",
    "        max_score = 0.785\n",
    "        print(' ')\n",
    "        features = [col for col in x_train_org.columns if col not in ['target']]\n",
    "        print(f'Training fold {fold} with {len(features)} features...')\n",
    "        x_train, x_val = val[features].iloc[trn_ind], val[features].iloc[val_ind]\n",
    "        y_train, y_val = val[CFG.target].iloc[trn_ind], val[CFG.target].iloc[val_ind]\n",
    "        x_train_new = pd.concat([x_train_org, x_train], axis=0)\n",
    "        y_train_new = pd.concat([y_train_org, y_train], axis=0)\n",
    "    \n",
    "        lgb_train = lgb.Dataset(x_train_new, y_train_new, categorical_feature = cat_features)\n",
    "        lgb_valid = lgb.Dataset(x_val, y_val, categorical_feature = cat_features)\n",
    "        del x_train, x_val, y_train, y_val, x_train_new, y_train_new; gc.collect()\n",
    "            \n",
    "        model = lgb.train(\n",
    "            params = parameters,\n",
    "            train_set = lgb_train,\n",
    "            num_boost_round = 12000,\n",
    "            valid_sets = [lgb_valid],\n",
    "            feval = lgb_amex_metric,\n",
    "            callbacks=[save_model(fold)],\n",
    "            )\n",
    "\n",
    "        path = 'Models/'\n",
    "        for fname in os.listdir(path):\n",
    "            if fname.startswith(\"fold_{}_{}\".format(main_fold, fold)):\n",
    "                model = joblib.load('Models/' + fname)\n",
    "                model.save_model('Models/cp_{}_{}_model.txt'.format(main_fold, fold))"
   ]
  },
  {
   "cell_type": "code",
   "execution_count": null,
   "metadata": {},
   "outputs": [],
   "source": [
    "params = {\n",
    "    'objective': 'binary',\n",
    "    'metric':'None',\n",
    "    'boosting': 'dart',\n",
    "    'seed': CFG.seed,\n",
    "    'num_leaves': 100,\n",
    "    'learning_rate': 0.01,\n",
    "    'drop_rate': 0.1,\n",
    "    'feature_fraction': 0.20,\n",
    "    'bagging_freq': 10,\n",
    "    'bagging_fraction': 0.50,\n",
    "    'n_jobs': -1,\n",
    "    'lambda_l2': 2,\n",
    "    'min_data_in_leaf': 40\n",
    "}\n",
    "\n",
    "# params = {\n",
    "#     'objective': ['binary'],\n",
    "#     'metric': ['amex_metric'],\n",
    "#     'boosting': ['dart'],\n",
    "#     'seed': [42],\n",
    "#     'num_leaves': [25, 50, 100, 250, 500, 1000],\n",
    "#     'learning_rate': [0.01, 0.005],\n",
    "#     'drop_rate': [0.01, 0.025, 0.05, 0.1, 0.2],\n",
    "#     'feature_fraction': [0.20,0.30],\n",
    "#     'bagging_freq': [10],\n",
    "#     'bagging_fraction': [0.50,0.60],\n",
    "#     'n_jobs': [-1],\n",
    "#     'lambda_l2': [2],\n",
    "#     'min_data_in_leaf': [40]\n",
    "#     }"
   ]
  },
  {
   "cell_type": "code",
   "execution_count": null,
   "metadata": {},
   "outputs": [],
   "source": [
    "train_and_evaluate(x_train, y_train, val, params)"
   ]
  },
  {
   "cell_type": "code",
   "execution_count": null,
   "metadata": {},
   "outputs": [],
   "source": [
    "# grid  = list(ParameterGrid(params))\n",
    "# len_grid = len(grid)\n",
    "# for run, parameters in enumerate(grid):\n",
    "#     print('-' * 50)\n",
    "#     print(run, len_grid, parameters)\n",
    "#     train_and_evaluate(x_train,y_train, val, parameters)"
   ]
  }
 ],
 "metadata": {
  "kernelspec": {
   "display_name": "Python 3.9.12 ('rapids-22.06')",
   "language": "python",
   "name": "python3"
  },
  "language_info": {
   "codemirror_mode": {
    "name": "ipython",
    "version": 3
   },
   "file_extension": ".py",
   "mimetype": "text/x-python",
   "name": "python",
   "nbconvert_exporter": "python",
   "pygments_lexer": "ipython3",
   "version": "3.9.12"
  },
  "orig_nbformat": 4,
  "vscode": {
   "interpreter": {
    "hash": "468ef23ed2970eb3eae24d512361eed443dbea3050d88b5fbf8075c8ae4b100c"
   }
  }
 },
 "nbformat": 4,
 "nbformat_minor": 2
}
