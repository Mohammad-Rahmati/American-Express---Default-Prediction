{
 "cells": [
  {
   "cell_type": "code",
   "execution_count": 1,
   "metadata": {},
   "outputs": [],
   "source": [
    "import warnings\n",
    "warnings.filterwarnings('ignore')\n",
    "import os\n",
    "import pandas as pd\n",
    "from sklearn.preprocessing import LabelEncoder\n",
    "from sklearn.model_selection import ParameterGrid\n",
    "from evaluation_metric import lgb_amex_metric\n",
    "from sklearn.model_selection import StratifiedKFold\n",
    "\n",
    "import joblib\n",
    "import lightgbm as lgb\n",
    "\n",
    "import gc\n",
    "\n",
    "def save_model(fold):\n",
    "    def callback(env):\n",
    "        \n",
    "        iteration = env.iteration\n",
    "        score = env.evaluation_result_list[0][2]\n",
    "        if iteration % 200 == 0:\n",
    "            print('iteration {}, score= {:.05f}'.format(iteration,score))\n",
    "        if score > score_dic[fold]:\n",
    "            score_dic[fold] = score\n",
    "            path = 'Models/'\n",
    "            for fname in os.listdir(path):\n",
    "                if fname.startswith(\"weak_fold_{}\".format(fold)):\n",
    "                    os.remove(os.path.join(path, fname))\n",
    "\n",
    "            print('High Score: iteration {}, score={:.05f}'.format(iteration, score))\n",
    "            joblib.dump(env.model, 'Models/weak_fold_{}_score_{:.05f}.pkl'.format(fold, score))\n",
    "\n",
    "    callback.order = 0\n",
    "    return callback"
   ]
  },
  {
   "cell_type": "code",
   "execution_count": 2,
   "metadata": {},
   "outputs": [
    {
     "data": {
      "text/plain": [
       "((385487, 1011), (73426, 1011))"
      ]
     },
     "execution_count": 2,
     "metadata": {},
     "output_type": "execute_result"
    }
   ],
   "source": [
    "val_indx = pd.read_pickle('Data/weak_fold_indx.pkl')['weak_index'].tolist()\n",
    "train_val = pd.read_parquet('Data/train_all.parquet')\n",
    "train_indx = set(train_val.index).difference(set(val_indx))\n",
    "train = train_val.loc[train_indx]\n",
    "val = train_val.loc[val_indx]\n",
    "train.shape, val.shape"
   ]
  },
  {
   "cell_type": "code",
   "execution_count": 3,
   "metadata": {},
   "outputs": [
    {
     "data": {
      "text/plain": [
       "((385487, 1104), (73426, 1104))"
      ]
     },
     "execution_count": 3,
     "metadata": {},
     "output_type": "execute_result"
    }
   ],
   "source": [
    "cat_features = [\n",
    "    \"B_30\",\n",
    "    \"B_38\",\n",
    "    \"D_114\",\n",
    "    \"D_116\",\n",
    "    \"D_117\",\n",
    "    \"D_120\",\n",
    "    \"D_126\",\n",
    "    \"D_63\",\n",
    "    \"D_64\",\n",
    "    \"D_66\",\n",
    "    \"D_68\"\n",
    "]\n",
    "\n",
    "cat_features = [f\"{cf}_last\" for cf in cat_features]\n",
    "for cat_col in cat_features:\n",
    "    encoder = LabelEncoder()\n",
    "    train[cat_col] = encoder.fit_transform(train[cat_col])\n",
    "    val[cat_col] = encoder.transform(val[cat_col])\n",
    "    \n",
    "num_cols = list(train.dtypes[(train.dtypes == 'float32') | (train.dtypes == 'float64')].index)\n",
    "num_cols = [col for col in num_cols if 'last' in col]\n",
    "for col in num_cols:\n",
    "    train[col + '_round2'] = train[col].round(2)\n",
    "    val[col + '_round2'] = val[col].round(2)\n",
    "\n",
    "features = [col for col in train.columns if col not in ['target']]\n",
    "\n",
    "train.shape, val.shape"
   ]
  },
  {
   "cell_type": "code",
   "execution_count": 4,
   "metadata": {},
   "outputs": [],
   "source": [
    "score_dic = {4:0.78990, 7:0.77869, 9:0.78098}"
   ]
  },
  {
   "cell_type": "code",
   "execution_count": 5,
   "metadata": {},
   "outputs": [],
   "source": [
    "def train_and_evaluate(train_org, val, parameters):\n",
    "    kfold = StratifiedKFold(n_splits = 10, shuffle = True, random_state = 42)\n",
    "    for fold, (trn_ind, val_ind) in enumerate(kfold.split(val, val['target'])):\n",
    "        if fold in [4, 7, 9]:\n",
    "            \n",
    "            print(f'Training fold {fold} with {len(features)} features...')\n",
    "            x_train, x_val = val[features].iloc[trn_ind], val[features].iloc[val_ind]\n",
    "            y_train, y_val = val['target'].iloc[trn_ind], val['target'].iloc[val_ind]\n",
    "            x_train_new = pd.concat([train_org[features], x_train], axis=0)\n",
    "            y_train_new = pd.concat([train_org['target'], y_train], axis=0)\n",
    "\n",
    "            lgb_train = lgb.Dataset(x_train_new, y_train_new, categorical_feature = cat_features)\n",
    "            lgb_valid = lgb.Dataset(x_val, y_val, categorical_feature = cat_features)\n",
    "            del x_train, x_val, y_train, y_val, x_train_new, y_train_new; gc.collect()\n",
    "            model = lgb.train(\n",
    "                params = parameters,\n",
    "                train_set = lgb_train,\n",
    "                num_boost_round = 1200,\n",
    "                valid_sets = [lgb_valid],\n",
    "                feval = lgb_amex_metric,\n",
    "                callbacks=[save_model(fold)],\n",
    "                init_model= 'Models/weak_{}_model.txt'.format(fold)\n",
    "                )"
   ]
  },
  {
   "cell_type": "code",
   "execution_count": 6,
   "metadata": {},
   "outputs": [],
   "source": [
    "# model = joblib.load('Models/weak_fold_4_score_0.78990.pkl')\n",
    "# model.save_model('Models/weak_4_model.txt')"
   ]
  },
  {
   "cell_type": "code",
   "execution_count": 7,
   "metadata": {},
   "outputs": [],
   "source": [
    "# params = {\n",
    "#     'objective': ['binary'],\n",
    "#     'metric': ['amex_metric'],\n",
    "#     'boosting': ['dart'],\n",
    "#     'seed': [42],\n",
    "#     'num_leaves': [100],\n",
    "#     'learning_rate': [0.01],\n",
    "#     'drop_rate': [0.1],\n",
    "#     'feature_fraction': [0.20],\n",
    "#     'bagging_freq': [10],\n",
    "#     'bagging_fraction': [0.50],\n",
    "#     'n_jobs': [-1],\n",
    "#     'lambda_l2': [2],\n",
    "#     'min_data_in_leaf': [40]\n",
    "#     }\n",
    "\n",
    "params = {\n",
    "    \n",
    "    'objective': ['binary'],\n",
    "    'metric': ['amex_metric'],\n",
    "    'boosting': ['dart'],\n",
    "    'seed': [42],\n",
    "    'num_leaves': [100, 110],\n",
    "    'learning_rate': [0.01, 0.005],\n",
    "    'drop_rate': [0.01, 0.025, 0.50],\n",
    "    'feature_fraction': [0.30],\n",
    "    'bagging_freq': [10],\n",
    "    'bagging_fraction': [0.25, 0.50],\n",
    "    'n_jobs': [-1],\n",
    "    'lambda_l2': [2],\n",
    "    'min_data_in_leaf': [40]\n",
    "}"
   ]
  },
  {
   "cell_type": "code",
   "execution_count": 8,
   "metadata": {},
   "outputs": [
    {
     "name": "stdout",
     "output_type": "stream",
     "text": [
      "--------------------------------------------------\n",
      "0 24 {'bagging_fraction': 0.25, 'bagging_freq': 10, 'boosting': 'dart', 'drop_rate': 0.01, 'feature_fraction': 0.3, 'lambda_l2': 2, 'learning_rate': 0.01, 'metric': 'amex_metric', 'min_data_in_leaf': 40, 'n_jobs': -1, 'num_leaves': 100, 'objective': 'binary', 'seed': 42}\n",
      "Training fold 4 with 1103 features...\n",
      "[LightGBM] [Info] Number of positive: 116926, number of negative: 334644\n",
      "[LightGBM] [Warning] Auto-choosing col-wise multi-threading, the overhead of testing was 1.203937 seconds.\n",
      "You can set `force_col_wise=true` to remove the overhead.\n",
      "[LightGBM] [Info] Total Bins 187417\n",
      "[LightGBM] [Info] Number of data points in the train set: 451570, number of used features: 1095\n",
      "High Score: iteration 16602, score=0.78991\n",
      "High Score: iteration 16603, score=0.78991\n",
      "iteration 16800, score= 0.78755\n",
      "iteration 17000, score= 0.78883\n",
      "iteration 17200, score= 0.78914\n",
      "iteration 17400, score= 0.78812\n",
      "iteration 17600, score= 0.78779\n",
      "iteration 17800, score= 0.78887\n",
      "Training fold 7 with 1103 features...\n",
      "[LightGBM] [Info] Number of positive: 116927, number of negative: 334644\n",
      "[LightGBM] [Warning] Auto-choosing col-wise multi-threading, the overhead of testing was 1.361138 seconds.\n",
      "You can set `force_col_wise=true` to remove the overhead.\n",
      "[LightGBM] [Info] Total Bins 187448\n",
      "[LightGBM] [Info] Number of data points in the train set: 451571, number of used features: 1095\n",
      "High Score: iteration 4559, score=0.77896\n",
      "High Score: iteration 4571, score=0.77921\n",
      "High Score: iteration 4574, score=0.77922\n",
      "High Score: iteration 4575, score=0.77948\n",
      "iteration 4600, score= 0.77896\n",
      "iteration 4800, score= 0.77566\n",
      "iteration 5000, score= 0.77547\n",
      "iteration 5200, score= 0.77552\n",
      "iteration 5400, score= 0.77555\n",
      "iteration 5600, score= 0.77505\n",
      "Training fold 9 with 1103 features...\n",
      "[LightGBM] [Info] Number of positive: 116927, number of negative: 334644\n",
      "[LightGBM] [Warning] Auto-choosing col-wise multi-threading, the overhead of testing was 1.292992 seconds.\n",
      "You can set `force_col_wise=true` to remove the overhead.\n",
      "[LightGBM] [Info] Total Bins 187411\n",
      "[LightGBM] [Info] Number of data points in the train set: 451571, number of used features: 1095\n",
      "iteration 6600, score= 0.77942\n"
     ]
    }
   ],
   "source": [
    "grid  = list(ParameterGrid(params))\n",
    "len_grid = len(grid)\n",
    "\n",
    "for run, parameters in enumerate(grid):\n",
    "\n",
    "    print('-'*50)\n",
    "    print(run, len_grid, parameters)\n",
    "    train_and_evaluate(train, val, parameters)"
   ]
  },
  {
   "cell_type": "code",
   "execution_count": null,
   "metadata": {},
   "outputs": [],
   "source": []
  }
 ],
 "metadata": {
  "kernelspec": {
   "display_name": "Python 3.9.12 ('rapids-22.06')",
   "language": "python",
   "name": "python3"
  },
  "language_info": {
   "codemirror_mode": {
    "name": "ipython",
    "version": 3
   },
   "file_extension": ".py",
   "mimetype": "text/x-python",
   "name": "python",
   "nbconvert_exporter": "python",
   "pygments_lexer": "ipython3",
   "version": "3.9.12"
  },
  "orig_nbformat": 4,
  "vscode": {
   "interpreter": {
    "hash": "468ef23ed2970eb3eae24d512361eed443dbea3050d88b5fbf8075c8ae4b100c"
   }
  }
 },
 "nbformat": 4,
 "nbformat_minor": 2
}
