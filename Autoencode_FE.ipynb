{
 "cells": [
  {
   "cell_type": "code",
   "execution_count": 1,
   "metadata": {},
   "outputs": [
    {
     "name": "stderr",
     "output_type": "stream",
     "text": [
      "2022-08-10 14:26:35.595493: I tensorflow/core/util/util.cc:169] oneDNN custom operations are on. You may see slightly different numerical results due to floating-point round-off errors from different computation orders. To turn them off, set the environment variable `TF_ENABLE_ONEDNN_OPTS=0`.\n"
     ]
    }
   ],
   "source": [
    "import warnings\n",
    "warnings.filterwarnings(\"ignore\")\n",
    "\n",
    "import pandas as pd\n",
    "import numpy as np\n",
    "import matplotlib.pyplot as plt\n",
    "import gc\n",
    "from sklearn.model_selection import train_test_split\n",
    "import tensorflow as tf\n",
    "from tensorflow.keras.models import Model\n",
    "from tensorflow.keras.layers import Input\n",
    "from tensorflow.keras.layers import Dense\n",
    "from tensorflow.keras.layers import ReLU\n",
    "from tensorflow.keras.layers import BatchNormalization\n",
    "from tensorflow.keras.utils import plot_model"
   ]
  },
  {
   "cell_type": "code",
   "execution_count": 2,
   "metadata": {},
   "outputs": [],
   "source": [
    "def AutoEncoder(n_input):\n",
    "    \n",
    "    X_in = Input(shape=(n_input,))\n",
    "\n",
    "    # level 1\n",
    "    X = Dense(256)(X_in)\n",
    "    X = BatchNormalization()(X)\n",
    "    X = ReLU()(X)\n",
    "\n",
    "    # level 3\n",
    "    X = Dense(128)(X)\n",
    "    X = BatchNormalization()(X)\n",
    "    X = ReLU()(X)\n",
    "\n",
    "    # Bottle neck\n",
    "    X = Dense(70)(X)\n",
    "    X = BatchNormalization()(X)\n",
    "    X = ReLU()(X)\n",
    "\n",
    "    # level 4\n",
    "    X = Dense(128)(X)\n",
    "    X = BatchNormalization()(X)\n",
    "    X = ReLU()(X)\n",
    "\n",
    "    # level 5\n",
    "    X = Dense(256)(X)\n",
    "    X = BatchNormalization()(X)\n",
    "    X = ReLU()(X)\n",
    "\n",
    "    # output\n",
    "    X_out = Dense(n_input, activation='linear')(X)\n",
    "    model = Model(inputs=X_in, outputs=X_out)\n",
    "    model.compile(optimizer='adam', loss='mse')\n",
    "\n",
    "    return model"
   ]
  },
  {
   "cell_type": "code",
   "execution_count": 3,
   "metadata": {},
   "outputs": [
    {
     "data": {
      "text/plain": [
       "(16895213, 178)"
      ]
     },
     "execution_count": 3,
     "metadata": {},
     "output_type": "execute_result"
    }
   ],
   "source": [
    "train = pd.read_pickle('Data/train_data.pkl')\n",
    "test = pd.read_pickle('Data/test_data.pkl')\n",
    "data = pd.concat([train, test], axis=0)\n",
    "data.drop('S_2', axis=1, inplace=True)\n",
    "\n",
    "cat_features = [\n",
    "    \"B_30\",\n",
    "    \"B_38\",\n",
    "    \"D_114\",\n",
    "    \"D_116\",\n",
    "    \"D_117\",\n",
    "    \"D_120\",\n",
    "    \"D_126\",\n",
    "    \"D_63\",\n",
    "    \"D_64\",\n",
    "    \"D_66\",\n",
    "    \"D_68\",\n",
    "]\n",
    "\n",
    "data.drop(cat_features, axis=1, inplace=True)\n",
    "data.reset_index(drop=False, inplace=True)\n",
    "\n",
    "num_columns = data.columns.to_list()\n",
    "num_columns.remove('customer_ID')\n",
    "\n",
    "for i in num_columns:\n",
    "    data[i].fillna(data[i].median(), inplace=True)\n",
    "\n",
    "del train, test; gc.collect()\n",
    "data.shape"
   ]
  },
  {
   "cell_type": "code",
   "execution_count": 4,
   "metadata": {},
   "outputs": [
    {
     "name": "stderr",
     "output_type": "stream",
     "text": [
      "2022-08-10 14:27:38.962888: I tensorflow/stream_executor/cuda/cuda_gpu_executor.cc:975] successful NUMA node read from SysFS had negative value (-1), but there must be at least one NUMA node, so returning NUMA node zero\n",
      "2022-08-10 14:27:39.026322: W tensorflow/stream_executor/platform/default/dso_loader.cc:64] Could not load dynamic library 'libcudnn.so.8'; dlerror: libcudnn.so.8: cannot open shared object file: No such file or directory\n",
      "2022-08-10 14:27:39.026336: W tensorflow/core/common_runtime/gpu/gpu_device.cc:1850] Cannot dlopen some GPU libraries. Please make sure the missing libraries mentioned above are installed properly if you would like to use GPU. Follow the guide at https://www.tensorflow.org/install/gpu for how to download and setup the required libraries for your platform.\n",
      "Skipping registering GPU devices...\n",
      "2022-08-10 14:27:39.026731: I tensorflow/core/platform/cpu_feature_guard.cc:193] This TensorFlow binary is optimized with oneAPI Deep Neural Network Library (oneDNN) to use the following CPU instructions in performance-critical operations:  AVX2 AVX512F AVX512_VNNI FMA\n",
      "To enable them in other operations, rebuild TensorFlow with the appropriate compiler flags.\n"
     ]
    }
   ],
   "source": [
    "train_dataset = tf.data.Dataset.from_tensor_slices((data[num_columns], data[num_columns]))\n",
    "del data; _ = gc.collect()\n",
    "\n",
    "BATCH_SIZE = 1024\n",
    "train_dataset = train_dataset.batch(BATCH_SIZE)\n",
    "AUTOTUNE = tf.data.experimental.AUTOTUNE\n",
    "train_dataset = train_dataset.prefetch(buffer_size=AUTOTUNE)"
   ]
  },
  {
   "cell_type": "code",
   "execution_count": 5,
   "metadata": {},
   "outputs": [],
   "source": [
    "model = AutoEncoder(len(num_columns))"
   ]
  },
  {
   "cell_type": "code",
   "execution_count": 6,
   "metadata": {},
   "outputs": [
    {
     "name": "stdout",
     "output_type": "stream",
     "text": [
      "Epoch 1/500\n",
      "16500/16500 [==============================] - 197s 12ms/step - loss: 4.3688\n",
      "Epoch 2/500\n",
      "16500/16500 [==============================] - 214s 13ms/step - loss: 4.0678\n",
      "Epoch 3/500\n",
      "16500/16500 [==============================] - 212s 13ms/step - loss: 3.9215\n",
      "Epoch 4/500\n",
      "16500/16500 [==============================] - 226s 14ms/step - loss: 3.8304\n",
      "Epoch 5/500\n",
      "16500/16500 [==============================] - 242s 15ms/step - loss: 3.7448\n",
      "Epoch 6/500\n",
      "16500/16500 [==============================] - 222s 13ms/step - loss: 3.6842\n",
      "Epoch 7/500\n",
      "16500/16500 [==============================] - 208s 13ms/step - loss: 3.6162\n",
      "Epoch 8/500\n",
      "16500/16500 [==============================] - 213s 13ms/step - loss: 3.5499\n",
      "Epoch 9/500\n",
      "16500/16500 [==============================] - 213s 13ms/step - loss: 3.5215\n",
      "Epoch 10/500\n",
      "16500/16500 [==============================] - 204s 12ms/step - loss: 3.4463\n",
      "Epoch 11/500\n",
      "16500/16500 [==============================] - 211s 13ms/step - loss: 3.3970\n",
      "Epoch 12/500\n",
      "16500/16500 [==============================] - 212s 13ms/step - loss: 3.3367\n",
      "Epoch 13/500\n",
      "16500/16500 [==============================] - 217s 13ms/step - loss: 3.2640\n",
      "Epoch 14/500\n",
      "16500/16500 [==============================] - 210s 13ms/step - loss: 3.2200\n",
      "Epoch 15/500\n",
      "16500/16500 [==============================] - 213s 13ms/step - loss: 3.1582\n",
      "Epoch 16/500\n",
      "16500/16500 [==============================] - 216s 13ms/step - loss: 3.1144\n",
      "Epoch 17/500\n",
      "16500/16500 [==============================] - 203s 12ms/step - loss: 3.0413\n",
      "Epoch 18/500\n",
      "16500/16500 [==============================] - 202s 12ms/step - loss: 2.9848\n",
      "Epoch 19/500\n",
      "16500/16500 [==============================] - 256s 16ms/step - loss: 2.9196\n",
      "Epoch 20/500\n",
      "16500/16500 [==============================] - 259s 16ms/step - loss: 2.8574\n",
      "Epoch 21/500\n",
      "16500/16500 [==============================] - 271s 16ms/step - loss: 2.8452\n",
      "Epoch 22/500\n",
      "16500/16500 [==============================] - 273s 17ms/step - loss: 2.7775\n",
      "Epoch 23/500\n",
      "16500/16500 [==============================] - 229s 14ms/step - loss: 2.6835\n",
      "Epoch 24/500\n",
      "16500/16500 [==============================] - 231s 14ms/step - loss: 2.5955\n",
      "Epoch 25/500\n",
      "16500/16500 [==============================] - 249s 15ms/step - loss: 2.7662\n",
      "Epoch 26/500\n",
      "16500/16500 [==============================] - 280s 17ms/step - loss: 2.4969\n",
      "Epoch 27/500\n",
      "16500/16500 [==============================] - 280s 17ms/step - loss: 2.4425\n",
      "Epoch 28/500\n",
      "16500/16500 [==============================] - 281s 17ms/step - loss: 2.3766\n",
      "Epoch 29/500\n",
      "16500/16500 [==============================] - 280s 17ms/step - loss: 2.3681\n",
      "Epoch 30/500\n",
      "16500/16500 [==============================] - 280s 17ms/step - loss: 2.2628\n",
      "Epoch 31/500\n",
      "16500/16500 [==============================] - 279s 17ms/step - loss: 2.2027\n",
      "Epoch 32/500\n",
      "16500/16500 [==============================] - 263s 16ms/step - loss: 2.1393\n",
      "Epoch 33/500\n",
      "16500/16500 [==============================] - 221s 13ms/step - loss: 2.1131\n",
      "Epoch 34/500\n",
      "16500/16500 [==============================] - 201s 12ms/step - loss: 2.0328\n",
      "Epoch 35/500\n",
      "16500/16500 [==============================] - 213s 13ms/step - loss: 1.9925\n",
      "Epoch 36/500\n",
      "16500/16500 [==============================] - 211s 13ms/step - loss: 1.9155\n",
      "Epoch 37/500\n",
      "16500/16500 [==============================] - 203s 12ms/step - loss: 1.8540\n",
      "Epoch 38/500\n",
      "16500/16500 [==============================] - 210s 13ms/step - loss: 1.8280\n",
      "Epoch 39/500\n",
      "16500/16500 [==============================] - 238s 14ms/step - loss: 1.7659\n",
      "Epoch 40/500\n",
      "16500/16500 [==============================] - 208s 13ms/step - loss: 1.7790\n",
      "Epoch 41/500\n",
      "16500/16500 [==============================] - 212s 13ms/step - loss: 1.7397\n",
      "Epoch 42/500\n",
      "16500/16500 [==============================] - 214s 13ms/step - loss: 1.7052\n",
      "Epoch 43/500\n",
      "16500/16500 [==============================] - 211s 13ms/step - loss: 1.6941\n",
      "Epoch 44/500\n",
      "16500/16500 [==============================] - 236s 14ms/step - loss: 2.0122\n",
      "Epoch 45/500\n",
      "16500/16500 [==============================] - 213s 13ms/step - loss: 1.7181\n",
      "Epoch 46/500\n",
      "16500/16500 [==============================] - 206s 12ms/step - loss: 1.6500\n",
      "Epoch 47/500\n",
      "16500/16500 [==============================] - 217s 13ms/step - loss: 1.6378\n",
      "Epoch 48/500\n",
      "16500/16500 [==============================] - 208s 13ms/step - loss: 1.8418\n",
      "Epoch 49/500\n",
      "16500/16500 [==============================] - 224s 14ms/step - loss: 1.6957\n",
      "Epoch 50/500\n",
      "16500/16500 [==============================] - 222s 13ms/step - loss: 1.7691\n",
      "Epoch 51/500\n",
      "16500/16500 [==============================] - 226s 14ms/step - loss: 1.5670\n",
      "Epoch 52/500\n",
      "16500/16500 [==============================] - 226s 14ms/step - loss: 1.4790\n",
      "Epoch 53/500\n",
      "16500/16500 [==============================] - 225s 14ms/step - loss: 1.4314\n",
      "Epoch 54/500\n",
      "16500/16500 [==============================] - 225s 14ms/step - loss: 1.9547\n",
      "Epoch 55/500\n",
      "16500/16500 [==============================] - 224s 14ms/step - loss: 1.5727\n",
      "Epoch 56/500\n",
      "16500/16500 [==============================] - 225s 14ms/step - loss: 1.5576\n",
      "Epoch 57/500\n",
      "16500/16500 [==============================] - 222s 13ms/step - loss: 2.3534\n",
      "Epoch 58/500\n",
      "16500/16500 [==============================] - 268s 16ms/step - loss: 1.6788\n"
     ]
    }
   ],
   "source": [
    "history = model.fit(\n",
    "    train_dataset,\n",
    "    epochs=500,\n",
    "    callbacks=[tf.keras.callbacks.EarlyStopping(monitor='loss', patience=5, restore_best_weights=True)],\n",
    ")\n",
    "model.save('Models/AutoEncoder_bottleneck70.h5')"
   ]
  },
  {
   "cell_type": "code",
   "execution_count": 7,
   "metadata": {},
   "outputs": [
    {
     "data": {
      "image/png": "[encoded data removed]",
      "text/plain": [
       "<Figure size 432x288 with 1 Axes>"
      ]
     },
     "metadata": {
      "needs_background": "light"
     },
     "output_type": "display_data"
    }
   ],
   "source": [
    "plt.plot(history.history['loss'], label='train')\n",
    "plt.legend()\n",
    "plt.show()"
   ]
  },
  {
   "cell_type": "code",
   "execution_count": null,
   "metadata": {},
   "outputs": [],
   "source": [
    "model.load_weights('Models/AutoEncoder.h5')"
   ]
  },
  {
   "cell_type": "code",
   "execution_count": 8,
   "metadata": {},
   "outputs": [
    {
     "name": "stdout",
     "output_type": "stream",
     "text": [
      "32/32 [==============================] - 0s 1ms/step\n"
     ]
    },
    {
     "data": {
      "text/plain": [
       "<matplotlib.collections.PathCollection at 0x7f41b00d91c0>"
      ]
     },
     "execution_count": 8,
     "metadata": {},
     "output_type": "execute_result"
    },
    {
     "data": {
      "image/png": "[encoded data removed]",
      "text/plain": [
       "<Figure size 432x288 with 1 Axes>"
      ]
     },
     "metadata": {
      "needs_background": "light"
     },
     "output_type": "display_data"
    }
   ],
   "source": [
    "j = 0\n",
    "for i in train_dataset.take(1):\n",
    "     value = i[0].numpy()[j]\n",
    "\n",
    "for i in train_dataset.take(1):\n",
    "    pred = model.predict(i[0])\n",
    "\n",
    "plt.scatter(pred[j], value)"
   ]
  },
  {
   "cell_type": "code",
   "execution_count": null,
   "metadata": {},
   "outputs": [],
   "source": [
    "j = 0\n",
    "for i in train_dataset.take(1):\n",
    "     value = i[0].numpy()[j]\n",
    "\n",
    "for i in train_dataset.take(1):\n",
    "    pred = model.predict(i[0])\n",
    "\n",
    "plt.scatter(pred[j], value)"
   ]
  },
  {
   "cell_type": "code",
   "execution_count": null,
   "metadata": {},
   "outputs": [],
   "source": [
    "pred = model.predict(train_dataset)\n",
    "pred.shape"
   ]
  },
  {
   "cell_type": "code",
   "execution_count": null,
   "metadata": {},
   "outputs": [],
   "source": [
    "pred"
   ]
  },
  {
   "cell_type": "code",
   "execution_count": null,
   "metadata": {},
   "outputs": [],
   "source": []
  }
 ],
 "metadata": {
  "kernelspec": {
   "display_name": "Python 3.9.12 ('rapids-22.06')",
   "language": "python",
   "name": "python3"
  },
  "language_info": {
   "codemirror_mode": {
    "name": "ipython",
    "version": 3
   },
   "file_extension": ".py",
   "mimetype": "text/x-python",
   "name": "python",
   "nbconvert_exporter": "python",
   "pygments_lexer": "ipython3",
   "version": "3.9.12"
  },
  "orig_nbformat": 4,
  "vscode": {
   "interpreter": {
    "hash": "468ef23ed2970eb3eae24d512361eed443dbea3050d88b5fbf8075c8ae4b100c"
   }
  }
 },
 "nbformat": 4,
 "nbformat_minor": 2
}
