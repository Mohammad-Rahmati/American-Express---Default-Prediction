{
 "cells": [
  {
   "cell_type": "code",
   "execution_count": null,
   "metadata": {},
   "outputs": [],
   "source": [
    "import warnings\n",
    "warnings.filterwarnings(\"ignore\")\n",
    "\n",
    "import pandas as pd\n",
    "import numpy as np\n",
    "import matplotlib.pyplot as plt\n",
    "import gc\n",
    "from sklearn.model_selection import train_test_split\n",
    "import tensorflow as tf\n",
    "from tensorflow.keras.models import Model\n",
    "from tensorflow.keras.layers import Input\n",
    "from tensorflow.keras.layers import Dense\n",
    "from tensorflow.keras.layers import ReLU\n",
    "from tensorflow.keras.layers import BatchNormalization\n",
    "from tensorflow.keras.utils import plot_model"
   ]
  },
  {
   "cell_type": "code",
   "execution_count": null,
   "metadata": {},
   "outputs": [],
   "source": [
    "def AutoEncoder(n_input):\n",
    "    \n",
    "    X_in = Input(shape=(n_input,))\n",
    "\n",
    "    # level 1\n",
    "    X = Dense(256)(X_in)\n",
    "    X = BatchNormalization()(X)\n",
    "    X = ReLU()(X)\n",
    "\n",
    "    # level 3\n",
    "    X = Dense(128)(X)\n",
    "    X = BatchNormalization()(X)\n",
    "    X = ReLU()(X)\n",
    "\n",
    "    # Bottle neck\n",
    "    X = Dense(70)(X)\n",
    "    X = BatchNormalization()(X)\n",
    "    X = ReLU()(X)\n",
    "\n",
    "    # level 4\n",
    "    X = Dense(128)(X)\n",
    "    X = BatchNormalization()(X)\n",
    "    X = ReLU()(X)\n",
    "\n",
    "    # level 5\n",
    "    X = Dense(256)(X)\n",
    "    X = BatchNormalization()(X)\n",
    "    X = ReLU()(X)\n",
    "\n",
    "    # output\n",
    "    X_out = Dense(n_input, activation='linear')(X)\n",
    "    model = Model(inputs=X_in, outputs=X_out)\n",
    "    opt = tf.keras.optimizers.Adam(learning_rate=0.0005)\n",
    "    model.compile(optimizer=opt, loss='mse')\n",
    "\n",
    "    return model"
   ]
  },
  {
   "cell_type": "code",
   "execution_count": null,
   "metadata": {},
   "outputs": [],
   "source": [
    "train = pd.read_pickle('Data/train_data.pkl')\n",
    "test = pd.read_pickle('Data/test_data.pkl')\n",
    "data = pd.concat([train, test], axis=0)\n",
    "data.drop('S_2', axis=1, inplace=True)\n",
    "\n",
    "cat_features = [\n",
    "    \"B_30\",\n",
    "    \"B_38\",\n",
    "    \"D_114\",\n",
    "    \"D_116\",\n",
    "    \"D_117\",\n",
    "    \"D_120\",\n",
    "    \"D_126\",\n",
    "    \"D_63\",\n",
    "    \"D_64\",\n",
    "    \"D_66\",\n",
    "    \"D_68\",\n",
    "]\n",
    "\n",
    "data.drop(cat_features, axis=1, inplace=True)\n",
    "data.reset_index(drop=False, inplace=True)\n",
    "\n",
    "num_columns = data.columns.to_list()\n",
    "num_columns.remove('customer_ID')\n",
    "\n",
    "for i in num_columns:\n",
    "    data[i].fillna(data[i].median(), inplace=True)\n",
    "\n",
    "del train, test; gc.collect()\n",
    "\n",
    "data = data.sample(frac=1).reset_index(drop=True)\n",
    "data.shape"
   ]
  },
  {
   "cell_type": "code",
   "execution_count": null,
   "metadata": {},
   "outputs": [],
   "source": [
    "train_dataset = tf.data.Dataset.from_tensor_slices((data[num_columns], data[num_columns]))\n",
    "del data; _ = gc.collect()\n",
    "\n",
    "BATCH_SIZE = 1024\n",
    "train_dataset = train_dataset.batch(BATCH_SIZE)\n",
    "AUTOTUNE = tf.data.experimental.AUTOTUNE\n",
    "train_dataset = train_dataset.prefetch(buffer_size=AUTOTUNE)"
   ]
  },
  {
   "cell_type": "code",
   "execution_count": null,
   "metadata": {},
   "outputs": [],
   "source": [
    "model = AutoEncoder(len(num_columns))"
   ]
  },
  {
   "cell_type": "code",
   "execution_count": null,
   "metadata": {},
   "outputs": [],
   "source": [
    "history = model.fit(\n",
    "    train_dataset,\n",
    "    epochs=500,\n",
    "    callbacks=[tf.keras.callbacks.EarlyStopping(monitor='loss', patience=20, restore_best_weights=True)],\n",
    ")\n",
    "model.save('Models/AutoEncoder_bottleneck70_learningrate0005_ShuffeledData.h5')"
   ]
  },
  {
   "cell_type": "code",
   "execution_count": null,
   "metadata": {},
   "outputs": [],
   "source": [
    "plt.plot(history.history['loss'], label='train')\n",
    "plt.legend()\n",
    "plt.show()"
   ]
  },
  {
   "cell_type": "code",
   "execution_count": null,
   "metadata": {},
   "outputs": [],
   "source": [
    "j = 4\n",
    "for i in train_dataset.take(1):\n",
    "     value = i[0].numpy()[j]\n",
    "\n",
    "for i in train_dataset.take(1):\n",
    "    pred = model.predict(i[0])\n",
    "\n",
    "plt.scatter(pred[j], value)"
   ]
  },
  {
   "cell_type": "markdown",
   "metadata": {},
   "source": [
    "## Predict"
   ]
  },
  {
   "cell_type": "code",
   "execution_count": null,
   "metadata": {},
   "outputs": [],
   "source": [
    "import warnings\n",
    "warnings.filterwarnings(\"ignore\")\n",
    "\n",
    "import pandas as pd\n",
    "import numpy as np\n",
    "import matplotlib.pyplot as plt\n",
    "import gc\n",
    "from sklearn.model_selection import train_test_split\n",
    "import tensorflow as tf\n",
    "from tensorflow.keras.models import Model\n",
    "from tensorflow.keras.layers import Input\n",
    "from tensorflow.keras.layers import Dense\n",
    "from tensorflow.keras.layers import ReLU\n",
    "from tensorflow.keras.layers import BatchNormalization\n",
    "from tensorflow.keras.utils import plot_model"
   ]
  },
  {
   "cell_type": "code",
   "execution_count": null,
   "metadata": {},
   "outputs": [],
   "source": [
    "def AutoEncoder(n_input):\n",
    "    \n",
    "    X_in = Input(shape=(n_input,))\n",
    "\n",
    "    # level 1\n",
    "    X = Dense(256)(X_in)\n",
    "    X = BatchNormalization()(X)\n",
    "    X = ReLU()(X)\n",
    "\n",
    "    # level 3\n",
    "    X = Dense(128)(X)\n",
    "    X = BatchNormalization()(X)\n",
    "    X = ReLU()(X)\n",
    "\n",
    "    # Bottle neck\n",
    "    X = Dense(70)(X)\n",
    "    X = BatchNormalization()(X)\n",
    "    X = ReLU()(X)\n",
    "\n",
    "    # level 4\n",
    "    X = Dense(128)(X)\n",
    "    X = BatchNormalization()(X)\n",
    "    X = ReLU()(X)\n",
    "\n",
    "    # level 5\n",
    "    X = Dense(256)(X)\n",
    "    X = BatchNormalization()(X)\n",
    "    X = ReLU()(X)\n",
    "\n",
    "    # output\n",
    "    X_out = Dense(n_input, activation='linear')(X)\n",
    "    model = Model(inputs=X_in, outputs=X_out)\n",
    "    opt = tf.keras.optimizers.Adam(learning_rate=0.0005)\n",
    "    model.compile(optimizer=opt, loss='mse')\n",
    "\n",
    "    return model"
   ]
  },
  {
   "cell_type": "code",
   "execution_count": null,
   "metadata": {},
   "outputs": [],
   "source": [
    "train = pd.read_pickle('Data/test_data.pkl')\n",
    "train.drop('S_2', axis=1, inplace=True)\n",
    "\n",
    "cat_features = [\n",
    "    \"B_30\",\n",
    "    \"B_38\",\n",
    "    \"D_114\",\n",
    "    \"D_116\",\n",
    "    \"D_117\",\n",
    "    \"D_120\",\n",
    "    \"D_126\",\n",
    "    \"D_63\",\n",
    "    \"D_64\",\n",
    "    \"D_66\",\n",
    "    \"D_68\",\n",
    "]\n",
    "\n",
    "train.drop(cat_features, axis=1, inplace=True)\n",
    "train.reset_index(drop=False, inplace=True)\n",
    "\n",
    "num_columns = train.columns.to_list()\n",
    "num_columns.remove('customer_ID')\n",
    "\n",
    "for i in num_columns:\n",
    "    train[i].fillna(train[i].median(), inplace=True)\n",
    "\n",
    "\n",
    "train.shape"
   ]
  },
  {
   "cell_type": "code",
   "execution_count": null,
   "metadata": {},
   "outputs": [],
   "source": [
    "model = AutoEncoder(len(num_columns))\n",
    "model.load_weights('Models/AutoEncoder_70.h5')"
   ]
  },
  {
   "cell_type": "code",
   "execution_count": null,
   "metadata": {},
   "outputs": [],
   "source": [
    "sample = train[num_columns].to_numpy()\n",
    "pred = model.predict(sample)"
   ]
  },
  {
   "cell_type": "code",
   "execution_count": null,
   "metadata": {},
   "outputs": [],
   "source": [
    "pred_df = pd.DataFrame(pred)\n",
    "pred_df.columns = num_columns\n",
    "error = ((pred_df - sample) ** 2).sum(axis = 1)/pred_df.shape[1]"
   ]
  },
  {
   "cell_type": "code",
   "execution_count": null,
   "metadata": {},
   "outputs": [],
   "source": [
    "del pred, pred_df, sample; gc.collect()"
   ]
  },
  {
   "cell_type": "code",
   "execution_count": null,
   "metadata": {},
   "outputs": [],
   "source": [
    "inputs = model.input\n",
    "outputs= model.get_layer('re_lu_2').output\n",
    "\n",
    "encoder = Model(inputs, outputs)"
   ]
  },
  {
   "cell_type": "code",
   "execution_count": null,
   "metadata": {},
   "outputs": [],
   "source": [
    "sample = train[num_columns].to_numpy()\n",
    "enc_pred = encoder.predict(sample)"
   ]
  },
  {
   "cell_type": "code",
   "execution_count": null,
   "metadata": {},
   "outputs": [],
   "source": [
    "enc_df = pd.DataFrame(enc_pred)\n",
    "enc_df.columns = ['enc_'+ str(col) for col in enc_df.columns]\n",
    "enc_df['error'] = error\n",
    "enc_df['customer_ID'] = train['customer_ID']\n",
    "enc_df.set_index('customer_ID', inplace=True)"
   ]
  },
  {
   "cell_type": "code",
   "execution_count": null,
   "metadata": {},
   "outputs": [],
   "source": [
    "enc_df.to_pickle('Data/enc_test.pkl')"
   ]
  },
  {
   "cell_type": "code",
   "execution_count": null,
   "metadata": {},
   "outputs": [],
   "source": []
  }
 ],
 "metadata": {
  "kernelspec": {
   "display_name": "Python 3.9.12 ('rapids-22.06')",
   "language": "python",
   "name": "python3"
  },
  "language_info": {
   "codemirror_mode": {
    "name": "ipython",
    "version": 3
   },
   "file_extension": ".py",
   "mimetype": "text/x-python",
   "name": "python",
   "nbconvert_exporter": "python",
   "pygments_lexer": "ipython3",
   "version": "3.9.12"
  },
  "orig_nbformat": 4,
  "vscode": {
   "interpreter": {
    "hash": "468ef23ed2970eb3eae24d512361eed443dbea3050d88b5fbf8075c8ae4b100c"
   }
  }
 },
 "nbformat": 4,
 "nbformat_minor": 2
}
