{
 "cells": [
  {
   "cell_type": "code",
   "execution_count": 1,
   "metadata": {},
   "outputs": [],
   "source": [
    "import pandas as pd\n",
    "import matplotlib.pyplot as plt\n",
    "from scipy.stats import linregress\n",
    "from sklearn.decomposition import PCA\n",
    "import numpy as np\n",
    "import gc\n",
    "import warnings\n",
    "warnings.filterwarnings('ignore')"
   ]
  },
  {
   "cell_type": "code",
   "execution_count": 2,
   "metadata": {},
   "outputs": [
    {
     "data": {
      "text/plain": [
       "(5531451, 189)"
      ]
     },
     "execution_count": 2,
     "metadata": {},
     "output_type": "execute_result"
    }
   ],
   "source": [
    "train = pd.read_parquet('Data/train.parquet')\n",
    "# test = pd.read_parquet('Data/test.parquet')\n",
    "train.set_index('customer_ID', inplace=True)\n",
    "# test.set_index('customer_ID', inplace=True)\n",
    "\n",
    "columns = train.columns\n",
    "cat_columns = ['B_30', 'B_38', 'D_114', 'D_116', 'D_117', 'D_120', 'D_126', 'D_63', 'D_64', 'D_66', 'D_68']\n",
    "num_columns = [c for c in columns if c not in cat_columns]\n",
    "\n",
    "train.shape"
   ]
  },
  {
   "cell_type": "code",
   "execution_count": 3,
   "metadata": {},
   "outputs": [],
   "source": [
    "train.drop(cat_columns, axis=1, inplace=True)\n",
    "# test.drop(cat_columns, axis=1, inplace=True)\n",
    "\n",
    "train['time'] = pd.to_datetime(train['S_2'])                                                                                                                                                                                                    \n",
    "train['time']  = train['time'].astype(np.int64) / 10**18\n",
    "# test['time'] = pd.to_datetime(test['S_2'])                                                                                                                                                                                                    \n",
    "# test['time']  = test['time'].astype(np.int64) / 10**18\n",
    "\n",
    "train.drop(['S_2'], axis=1, inplace=True)\n",
    "# test.drop(['S_2'], axis=1, inplace=True)\n",
    "\n",
    "num_columns.remove('S_2')"
   ]
  },
  {
   "cell_type": "code",
   "execution_count": 25,
   "metadata": {},
   "outputs": [],
   "source": [
    "indx = train[(train.groupby('customer_ID').count()['time'] > 2)].index.unique()"
   ]
  },
  {
   "cell_type": "code",
   "execution_count": 70,
   "metadata": {},
   "outputs": [],
   "source": [
    "s1_list = []\n",
    "s2_list = []\n",
    "\n",
    "for count, id in enumerate(indx):\n",
    "    train_id = train[train.index == id].copy()\n",
    "    train_id = train_id.fillna(train_id.median())\n",
    "    train_pca = PCA(n_components=2).fit_transform(train_id[num_columns])\n",
    "    train_pca_df = pd.DataFrame(train_pca, columns=['PCA1', 'PCA2'],  index=train_id.index)\n",
    "    train_pca_df['time'] = train_id['time']\n",
    "    s1 = train_pca_df.groupby('customer_ID').apply(lambda v: linregress(v['time'], v['PCA1'])[0]).values[0]\n",
    "    s2 = train_pca_df.groupby('customer_ID').apply(lambda v: linregress(v['time'], v['PCA2'])[0]).values[0]\n",
    "    s1_list.append(s1)\n",
    "    s2_list.append(s2)"
   ]
  },
  {
   "cell_type": "code",
   "execution_count": 74,
   "metadata": {},
   "outputs": [
    {
     "data": {
      "text/html": [
       "<div>\n",
       "<style scoped>\n",
       "    .dataframe tbody tr th:only-of-type {\n",
       "        vertical-align: middle;\n",
       "    }\n",
       "\n",
       "    .dataframe tbody tr th {\n",
       "        vertical-align: top;\n",
       "    }\n",
       "\n",
       "    .dataframe thead th {\n",
       "        text-align: right;\n",
       "    }\n",
       "</style>\n",
       "<table border=\"1\" class=\"dataframe\">\n",
       "  <thead>\n",
       "    <tr style=\"text-align: right;\">\n",
       "      <th></th>\n",
       "      <th>s1</th>\n",
       "      <th>s2</th>\n",
       "    </tr>\n",
       "    <tr>\n",
       "      <th>customer_ID</th>\n",
       "      <th></th>\n",
       "      <th></th>\n",
       "    </tr>\n",
       "  </thead>\n",
       "  <tbody>\n",
       "    <tr>\n",
       "      <th>0000099d6bd597052cdcda90ffabf56573fe9d7c79be5fbac11a8ed792feb62a</th>\n",
       "      <td>31821.462020</td>\n",
       "      <td>-7258.048778</td>\n",
       "    </tr>\n",
       "    <tr>\n",
       "      <th>00000fd6641609c6ece5454664794f0340ad84dddce9a267a310b5ae68e9d8e5</th>\n",
       "      <td>35282.686153</td>\n",
       "      <td>1564.077229</td>\n",
       "    </tr>\n",
       "    <tr>\n",
       "      <th>00001b22f846c82c51f6e3958ccd81970162bae8b007e80662ef27519fcc18c1</th>\n",
       "      <td>69.582284</td>\n",
       "      <td>-55.850760</td>\n",
       "    </tr>\n",
       "    <tr>\n",
       "      <th>000041bdba6ecadd89a52d11886e8eaaec9325906c9723355abb5ca523658edc</th>\n",
       "      <td>-28216.029327</td>\n",
       "      <td>-197.709235</td>\n",
       "    </tr>\n",
       "    <tr>\n",
       "      <th>00007889e4fcd2614b6cbe7f8f3d2e5c728eca32d9eb8ad51ca8b8c4a24cefed</th>\n",
       "      <td>-995.988944</td>\n",
       "      <td>814.943927</td>\n",
       "    </tr>\n",
       "  </tbody>\n",
       "</table>\n",
       "</div>"
      ],
      "text/plain": [
       "                                                              s1           s2\n",
       "customer_ID                                                                  \n",
       "0000099d6bd597052cdcda90ffabf56573fe9d7c79be5fb...  31821.462020 -7258.048778\n",
       "00000fd6641609c6ece5454664794f0340ad84dddce9a26...  35282.686153  1564.077229\n",
       "00001b22f846c82c51f6e3958ccd81970162bae8b007e80...     69.582284   -55.850760\n",
       "000041bdba6ecadd89a52d11886e8eaaec9325906c97233... -28216.029327  -197.709235\n",
       "00007889e4fcd2614b6cbe7f8f3d2e5c728eca32d9eb8ad...   -995.988944   814.943927"
      ]
     },
     "execution_count": 74,
     "metadata": {},
     "output_type": "execute_result"
    }
   ],
   "source": [
    "slope_pca_df = pd.DataFrame(s1_list, index=indx[:5], columns=['s1'])\n",
    "slope_pca_df['s2'] = s2_list\n",
    "slope_pca_df"
   ]
  },
  {
   "cell_type": "code",
   "execution_count": null,
   "metadata": {},
   "outputs": [],
   "source": []
  }
 ],
 "metadata": {
  "kernelspec": {
   "display_name": "Python 3.9.12 ('rapids-22.06')",
   "language": "python",
   "name": "python3"
  },
  "language_info": {
   "codemirror_mode": {
    "name": "ipython",
    "version": 3
   },
   "file_extension": ".py",
   "mimetype": "text/x-python",
   "name": "python",
   "nbconvert_exporter": "python",
   "pygments_lexer": "ipython3",
   "version": "3.9.12"
  },
  "orig_nbformat": 4,
  "vscode": {
   "interpreter": {
    "hash": "468ef23ed2970eb3eae24d512361eed443dbea3050d88b5fbf8075c8ae4b100c"
   }
  }
 },
 "nbformat": 4,
 "nbformat_minor": 2
}
