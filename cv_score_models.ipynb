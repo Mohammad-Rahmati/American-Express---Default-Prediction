{
 "cells": [
  {
   "cell_type": "markdown",
   "metadata": {},
   "source": [
    "### LGBM DART"
   ]
  },
  {
   "cell_type": "code",
   "execution_count": 41,
   "metadata": {},
   "outputs": [],
   "source": [
    "# L1\n",
    "fold_0 = 0.80361\n",
    "fold_2 = 0.79786\n",
    "fold_4 = 0.79769\n",
    "\n",
    "# L2\n",
    "fold_1_0 = 0.79579\n",
    "fold_1_3 = 0.80380\n",
    "fold_1_4 = 0.80461\n",
    "fold_3_0 = 0.79723\n",
    "fold_3_1 = 0.79668\n",
    "fold_3_3 = 0.79752\n",
    "\n",
    "# L3\n",
    "fold_weak_0 = 0.79444\n",
    "fold_weak_1 = 0.79402\n",
    "fold_weak_2 =0.79294\n",
    "fold_weak_3 = 0.79655\n",
    "fold_weak_4 = 0.79648\n",
    "fold_weak_5 = 0.80553\n",
    "fold_weak_6 = 0.80330\n",
    "fold_weak_7 = 0.78550\n",
    "fold_weak_8 = 0.79930\n",
    "fold_weak_9 = 0.78429"
   ]
  },
  {
   "cell_type": "code",
   "execution_count": 42,
   "metadata": {},
   "outputs": [
    {
     "name": "stdout",
     "output_type": "stream",
     "text": [
      "0.79889\n"
     ]
    }
   ],
   "source": [
    "score = 0.20 * (fold_0 + fold_2 + fold_4) + \\\n",
    "     0.04 * (fold_1_0 + fold_1_3 + fold_1_4 + fold_3_0 + fold_3_1 + fold_3_3) + \\\n",
    "        0.016 * (fold_weak_0 + fold_weak_1 + fold_weak_2 + fold_weak_3 + fold_weak_4 + fold_weak_5 + fold_weak_6 + fold_weak_7 + fold_weak_8 + fold_weak_9)\n",
    "\n",
    "print('{:0.5f}'.format(score))"
   ]
  },
  {
   "cell_type": "code",
   "execution_count": null,
   "metadata": {},
   "outputs": [],
   "source": []
  }
 ],
 "metadata": {
  "kernelspec": {
   "display_name": "Python 3.10.4 64-bit",
   "language": "python",
   "name": "python3"
  },
  "language_info": {
   "codemirror_mode": {
    "name": "ipython",
    "version": 3
   },
   "file_extension": ".py",
   "mimetype": "text/x-python",
   "name": "python",
   "nbconvert_exporter": "python",
   "pygments_lexer": "ipython3",
   "version": "3.10.4"
  },
  "orig_nbformat": 4,
  "vscode": {
   "interpreter": {
    "hash": "916dbcbb3f70747c44a77c7bcd40155683ae19c65e1c03b4aa3499c5328201f1"
   }
  }
 },
 "nbformat": 4,
 "nbformat_minor": 2
}
