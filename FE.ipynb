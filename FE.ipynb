{
 "cells": [
  {
   "cell_type": "code",
   "execution_count": 1,
   "metadata": {},
   "outputs": [],
   "source": [
    "import warnings\n",
    "warnings.filterwarnings('ignore')\n",
    "\n",
    "import pandas as pd\n",
    "import matplotlib.pyplot as plt \n",
    "from matplotlib.pyplot import figure\n",
    "from sklearn.decomposition import PCA\n",
    "\n",
    "cat_features = [\n",
    "    \"B_30\",\n",
    "    \"B_38\",\n",
    "    \"D_114\",\n",
    "    \"D_116\",\n",
    "    \"D_117\",\n",
    "    \"D_120\",\n",
    "    \"D_126\",\n",
    "    \"D_63\",\n",
    "    \"D_64\",\n",
    "    \"D_66\",\n",
    "    \"D_68\"\n",
    "]"
   ]
  },
  {
   "cell_type": "code",
   "execution_count": 2,
   "metadata": {},
   "outputs": [
    {
     "data": {
      "text/plain": [
       "((5531451, 189), (458913, 1))"
      ]
     },
     "execution_count": 2,
     "metadata": {},
     "output_type": "execute_result"
    }
   ],
   "source": [
    "train = pd.read_pickle('Data/train_data.pkl')\n",
    "labels = pd.read_pickle('Data/train_labels.pkl')\n",
    "train.shape, labels.shape"
   ]
  },
  {
   "cell_type": "code",
   "execution_count": 3,
   "metadata": {},
   "outputs": [
    {
     "data": {
      "text/plain": [
       "(5531451, 65)"
      ]
     },
     "execution_count": 3,
     "metadata": {},
     "output_type": "execute_result"
    }
   ],
   "source": [
    "train.dropna(axis = 1, inplace=True)\n",
    "train.drop(['S_2'], axis = 1, inplace=True)\n",
    "num_features = set(train.columns).difference(set(cat_features))\n",
    "train = train[num_features]\n",
    "train.shape"
   ]
  },
  {
   "cell_type": "code",
   "execution_count": 4,
   "metadata": {},
   "outputs": [],
   "source": [
    "n_rows = train.groupby('customer_ID').count()['R_1']\n",
    "ID = n_rows[n_rows > 2].index"
   ]
  },
  {
   "cell_type": "code",
   "execution_count": 10,
   "metadata": {},
   "outputs": [
    {
     "ename": "KeyboardInterrupt",
     "evalue": "",
     "output_type": "error",
     "traceback": [
      "\u001b[0;31m---------------------------------------------------------------------------\u001b[0m",
      "\u001b[0;31mKeyboardInterrupt\u001b[0m                         Traceback (most recent call last)",
      "\u001b[1;32m/home/mora/Desktop/Github/Kaggle/Amex/FE.ipynb Cell 5'\u001b[0m in \u001b[0;36m<cell line: 3>\u001b[0;34m()\u001b[0m\n\u001b[1;32m      <a href='vscode-notebook-cell:/home/mora/Desktop/Github/Kaggle/Amex/FE.ipynb#ch0000011?line=2'>3</a>\u001b[0m \u001b[39mfor\u001b[39;00m i \u001b[39min\u001b[39;00m ID[\u001b[39m426880\u001b[39m:]:\n\u001b[1;32m      <a href='vscode-notebook-cell:/home/mora/Desktop/Github/Kaggle/Amex/FE.ipynb#ch0000011?line=3'>4</a>\u001b[0m     study \u001b[39m=\u001b[39m train\u001b[39m.\u001b[39mloc[i]\n\u001b[0;32m----> <a href='vscode-notebook-cell:/home/mora/Desktop/Github/Kaggle/Amex/FE.ipynb#ch0000011?line=4'>5</a>\u001b[0m     study_PCA \u001b[39m=\u001b[39m pca\u001b[39m.\u001b[39mfit_transform(study[num_features])\n\u001b[1;32m      <a href='vscode-notebook-cell:/home/mora/Desktop/Github/Kaggle/Amex/FE.ipynb#ch0000011?line=5'>6</a>\u001b[0m     FE_list\u001b[39m.\u001b[39mappend(study_PCA)\n",
      "File \u001b[0;32m~/miniconda3/envs/rapids-22.06/lib/python3.9/site-packages/pandas/core/frame.py:3464\u001b[0m, in \u001b[0;36mDataFrame.__getitem__\u001b[0;34m(self, key)\u001b[0m\n\u001b[1;32m   3463\u001b[0m \u001b[39mdef\u001b[39;00m \u001b[39m__getitem__\u001b[39m(\u001b[39mself\u001b[39m, key):\n\u001b[0;32m-> 3464\u001b[0m     check_deprecated_indexers(key)\n\u001b[1;32m   3465\u001b[0m     key \u001b[39m=\u001b[39m lib\u001b[39m.\u001b[39mitem_from_zerodim(key)\n\u001b[1;32m   3466\u001b[0m     key \u001b[39m=\u001b[39m com\u001b[39m.\u001b[39mapply_if_callable(key, \u001b[39mself\u001b[39m)\n",
      "File \u001b[0;32m~/miniconda3/envs/rapids-22.06/lib/python3.9/site-packages/pandas/core/indexing.py:2492\u001b[0m, in \u001b[0;36mcheck_deprecated_indexers\u001b[0;34m(key)\u001b[0m\n\u001b[1;32m   2482\u001b[0m \u001b[39m\"\"\"Checks if the key is a deprecated indexer.\"\"\"\u001b[39;00m\n\u001b[1;32m   2483\u001b[0m \u001b[39mif\u001b[39;00m (\n\u001b[1;32m   2484\u001b[0m     \u001b[39misinstance\u001b[39m(key, \u001b[39mset\u001b[39m)\n\u001b[1;32m   2485\u001b[0m     \u001b[39mor\u001b[39;00m \u001b[39misinstance\u001b[39m(key, \u001b[39mtuple\u001b[39m)\n\u001b[1;32m   2486\u001b[0m     \u001b[39mand\u001b[39;00m \u001b[39many\u001b[39m(\u001b[39misinstance\u001b[39m(x, \u001b[39mset\u001b[39m) \u001b[39mfor\u001b[39;00m x \u001b[39min\u001b[39;00m key)\n\u001b[1;32m   2487\u001b[0m ):\n\u001b[1;32m   2488\u001b[0m     warnings\u001b[39m.\u001b[39mwarn(\n\u001b[1;32m   2489\u001b[0m         \u001b[39m\"\u001b[39m\u001b[39mPassing a set as an indexer is deprecated and will raise in \u001b[39m\u001b[39m\"\u001b[39m\n\u001b[1;32m   2490\u001b[0m         \u001b[39m\"\u001b[39m\u001b[39ma future version. Use a list instead.\u001b[39m\u001b[39m\"\u001b[39m,\n\u001b[1;32m   2491\u001b[0m         \u001b[39mFutureWarning\u001b[39;00m,\n\u001b[0;32m-> 2492\u001b[0m         stacklevel\u001b[39m=\u001b[39mfind_stack_level(),\n\u001b[1;32m   2493\u001b[0m     )\n\u001b[1;32m   2494\u001b[0m \u001b[39mif\u001b[39;00m (\n\u001b[1;32m   2495\u001b[0m     \u001b[39misinstance\u001b[39m(key, \u001b[39mdict\u001b[39m)\n\u001b[1;32m   2496\u001b[0m     \u001b[39mor\u001b[39;00m \u001b[39misinstance\u001b[39m(key, \u001b[39mtuple\u001b[39m)\n\u001b[1;32m   2497\u001b[0m     \u001b[39mand\u001b[39;00m \u001b[39many\u001b[39m(\u001b[39misinstance\u001b[39m(x, \u001b[39mdict\u001b[39m) \u001b[39mfor\u001b[39;00m x \u001b[39min\u001b[39;00m key)\n\u001b[1;32m   2498\u001b[0m ):\n\u001b[1;32m   2499\u001b[0m     warnings\u001b[39m.\u001b[39mwarn(\n\u001b[1;32m   2500\u001b[0m         \u001b[39m\"\u001b[39m\u001b[39mPassing a dict as an indexer is deprecated and will raise in \u001b[39m\u001b[39m\"\u001b[39m\n\u001b[1;32m   2501\u001b[0m         \u001b[39m\"\u001b[39m\u001b[39ma future version. Use a list instead.\u001b[39m\u001b[39m\"\u001b[39m,\n\u001b[1;32m   2502\u001b[0m         \u001b[39mFutureWarning\u001b[39;00m,\n\u001b[1;32m   2503\u001b[0m         stacklevel\u001b[39m=\u001b[39mfind_stack_level(),\n\u001b[1;32m   2504\u001b[0m     )\n",
      "File \u001b[0;32m~/miniconda3/envs/rapids-22.06/lib/python3.9/site-packages/pandas/util/_exceptions.py:32\u001b[0m, in \u001b[0;36mfind_stack_level\u001b[0;34m()\u001b[0m\n\u001b[1;32m     27\u001b[0m \u001b[39mdef\u001b[39;00m \u001b[39mfind_stack_level\u001b[39m() \u001b[39m-\u001b[39m\u001b[39m>\u001b[39m \u001b[39mint\u001b[39m:\n\u001b[1;32m     28\u001b[0m     \u001b[39m\"\"\"\u001b[39;00m\n\u001b[1;32m     29\u001b[0m \u001b[39m    Find the first place in the stack that is not inside pandas\u001b[39;00m\n\u001b[1;32m     30\u001b[0m \u001b[39m    (tests notwithstanding).\u001b[39;00m\n\u001b[1;32m     31\u001b[0m \u001b[39m    \"\"\"\u001b[39;00m\n\u001b[0;32m---> 32\u001b[0m     stack \u001b[39m=\u001b[39m inspect\u001b[39m.\u001b[39;49mstack()\n\u001b[1;32m     34\u001b[0m     \u001b[39mimport\u001b[39;00m \u001b[39mpandas\u001b[39;00m \u001b[39mas\u001b[39;00m \u001b[39mpd\u001b[39;00m\n\u001b[1;32m     36\u001b[0m     pkg_dir \u001b[39m=\u001b[39m os\u001b[39m.\u001b[39mpath\u001b[39m.\u001b[39mdirname(pd\u001b[39m.\u001b[39m\u001b[39m__file__\u001b[39m)\n",
      "File \u001b[0;32m~/miniconda3/envs/rapids-22.06/lib/python3.9/inspect.py:1554\u001b[0m, in \u001b[0;36mstack\u001b[0;34m(context)\u001b[0m\n\u001b[1;32m   1552\u001b[0m \u001b[39mdef\u001b[39;00m \u001b[39mstack\u001b[39m(context\u001b[39m=\u001b[39m\u001b[39m1\u001b[39m):\n\u001b[1;32m   1553\u001b[0m     \u001b[39m\"\"\"Return a list of records for the stack above the caller's frame.\"\"\"\u001b[39;00m\n\u001b[0;32m-> 1554\u001b[0m     \u001b[39mreturn\u001b[39;00m getouterframes(sys\u001b[39m.\u001b[39;49m_getframe(\u001b[39m1\u001b[39;49m), context)\n",
      "File \u001b[0;32m~/miniconda3/envs/rapids-22.06/lib/python3.9/inspect.py:1531\u001b[0m, in \u001b[0;36mgetouterframes\u001b[0;34m(frame, context)\u001b[0m\n\u001b[1;32m   1529\u001b[0m framelist \u001b[39m=\u001b[39m []\n\u001b[1;32m   1530\u001b[0m \u001b[39mwhile\u001b[39;00m frame:\n\u001b[0;32m-> 1531\u001b[0m     frameinfo \u001b[39m=\u001b[39m (frame,) \u001b[39m+\u001b[39m getframeinfo(frame, context)\n\u001b[1;32m   1532\u001b[0m     framelist\u001b[39m.\u001b[39mappend(FrameInfo(\u001b[39m*\u001b[39mframeinfo))\n\u001b[1;32m   1533\u001b[0m     frame \u001b[39m=\u001b[39m frame\u001b[39m.\u001b[39mf_back\n",
      "File \u001b[0;32m~/miniconda3/envs/rapids-22.06/lib/python3.9/inspect.py:1505\u001b[0m, in \u001b[0;36mgetframeinfo\u001b[0;34m(frame, context)\u001b[0m\n\u001b[1;32m   1503\u001b[0m start \u001b[39m=\u001b[39m lineno \u001b[39m-\u001b[39m \u001b[39m1\u001b[39m \u001b[39m-\u001b[39m context\u001b[39m/\u001b[39m\u001b[39m/\u001b[39m\u001b[39m2\u001b[39m\n\u001b[1;32m   1504\u001b[0m \u001b[39mtry\u001b[39;00m:\n\u001b[0;32m-> 1505\u001b[0m     lines, lnum \u001b[39m=\u001b[39m findsource(frame)\n\u001b[1;32m   1506\u001b[0m \u001b[39mexcept\u001b[39;00m \u001b[39mOSError\u001b[39;00m:\n\u001b[1;32m   1507\u001b[0m     lines \u001b[39m=\u001b[39m index \u001b[39m=\u001b[39m \u001b[39mNone\u001b[39;00m\n",
      "File \u001b[0;32m~/miniconda3/envs/rapids-22.06/lib/python3.9/inspect.py:829\u001b[0m, in \u001b[0;36mfindsource\u001b[0;34m(object)\u001b[0m\n\u001b[1;32m    826\u001b[0m     \u001b[39mif\u001b[39;00m \u001b[39mnot\u001b[39;00m (file\u001b[39m.\u001b[39mstartswith(\u001b[39m'\u001b[39m\u001b[39m<\u001b[39m\u001b[39m'\u001b[39m) \u001b[39mand\u001b[39;00m file\u001b[39m.\u001b[39mendswith(\u001b[39m'\u001b[39m\u001b[39m>\u001b[39m\u001b[39m'\u001b[39m)):\n\u001b[1;32m    827\u001b[0m         \u001b[39mraise\u001b[39;00m \u001b[39mOSError\u001b[39;00m(\u001b[39m'\u001b[39m\u001b[39msource code not available\u001b[39m\u001b[39m'\u001b[39m)\n\u001b[0;32m--> 829\u001b[0m module \u001b[39m=\u001b[39m getmodule(\u001b[39mobject\u001b[39;49m, file)\n\u001b[1;32m    830\u001b[0m \u001b[39mif\u001b[39;00m module:\n\u001b[1;32m    831\u001b[0m     lines \u001b[39m=\u001b[39m linecache\u001b[39m.\u001b[39mgetlines(file, module\u001b[39m.\u001b[39m\u001b[39m__dict__\u001b[39m)\n",
      "File \u001b[0;32m~/miniconda3/envs/rapids-22.06/lib/python3.9/inspect.py:746\u001b[0m, in \u001b[0;36mgetmodule\u001b[0;34m(object, _filename)\u001b[0m\n\u001b[1;32m    743\u001b[0m \u001b[39m# Update the filename to module name cache and check yet again\u001b[39;00m\n\u001b[1;32m    744\u001b[0m \u001b[39m# Copy sys.modules in order to cope with changes while iterating\u001b[39;00m\n\u001b[1;32m    745\u001b[0m \u001b[39mfor\u001b[39;00m modname, module \u001b[39min\u001b[39;00m sys\u001b[39m.\u001b[39mmodules\u001b[39m.\u001b[39mcopy()\u001b[39m.\u001b[39mitems():\n\u001b[0;32m--> 746\u001b[0m     \u001b[39mif\u001b[39;00m ismodule(module) \u001b[39mand\u001b[39;00m \u001b[39mhasattr\u001b[39;49m(module, \u001b[39m'\u001b[39;49m\u001b[39m__file__\u001b[39;49m\u001b[39m'\u001b[39;49m):\n\u001b[1;32m    747\u001b[0m         f \u001b[39m=\u001b[39m module\u001b[39m.\u001b[39m\u001b[39m__file__\u001b[39m\n\u001b[1;32m    748\u001b[0m         \u001b[39mif\u001b[39;00m f \u001b[39m==\u001b[39m _filesbymodname\u001b[39m.\u001b[39mget(modname, \u001b[39mNone\u001b[39;00m):\n\u001b[1;32m    749\u001b[0m             \u001b[39m# Have already mapped this module, so skip it\u001b[39;00m\n",
      "\u001b[0;31mKeyboardInterrupt\u001b[0m: "
     ]
    }
   ],
   "source": [
    "pca = PCA(n_components=2, random_state=42)\n",
    "FE_list = []\n",
    "for i in ID[426880:]:\n",
    "    study = train.loc[i]\n",
    "    study_PCA = pca.fit_transform(study[num_features])\n",
    "    FE_list.append(study_PCA)"
   ]
  },
  {
   "cell_type": "code",
   "execution_count": 7,
   "metadata": {},
   "outputs": [
    {
     "data": {
      "text/plain": [
       "(426880, 447695)"
      ]
     },
     "execution_count": 7,
     "metadata": {},
     "output_type": "execute_result"
    }
   ],
   "source": [
    "len(FE_list), len(ID)"
   ]
  },
  {
   "cell_type": "code",
   "execution_count": 9,
   "metadata": {},
   "outputs": [],
   "source": [
    "study_df = pd.DataFrame(FE_list, columns = ['PCA'], index=ID[:426880])\n",
    "study_df.to_pickle('Data/study_PCA_1.pkl')"
   ]
  },
  {
   "cell_type": "code",
   "execution_count": 11,
   "metadata": {},
   "outputs": [
    {
     "data": {
      "text/html": [
       "<div>\n",
       "<style scoped>\n",
       "    .dataframe tbody tr th:only-of-type {\n",
       "        vertical-align: middle;\n",
       "    }\n",
       "\n",
       "    .dataframe tbody tr th {\n",
       "        vertical-align: top;\n",
       "    }\n",
       "\n",
       "    .dataframe thead th {\n",
       "        text-align: right;\n",
       "    }\n",
       "</style>\n",
       "<table border=\"1\" class=\"dataframe\">\n",
       "  <thead>\n",
       "    <tr style=\"text-align: right;\">\n",
       "      <th></th>\n",
       "      <th>PCA</th>\n",
       "    </tr>\n",
       "    <tr>\n",
       "      <th>customer_ID</th>\n",
       "      <th></th>\n",
       "    </tr>\n",
       "  </thead>\n",
       "  <tbody>\n",
       "    <tr>\n",
       "      <th>0000099d6bd597052cdcda90ffabf56573fe9d7c79be5fbac11a8ed792feb62a</th>\n",
       "      <td>[[-0.757038419658706, -0.06928191831606344], [...</td>\n",
       "    </tr>\n",
       "    <tr>\n",
       "      <th>00000fd6641609c6ece5454664794f0340ad84dddce9a267a310b5ae68e9d8e5</th>\n",
       "      <td>[[0.289377320057893, -0.02677451903461955], [-...</td>\n",
       "    </tr>\n",
       "    <tr>\n",
       "      <th>00001b22f846c82c51f6e3958ccd81970162bae8b007e80662ef27519fcc18c1</th>\n",
       "      <td>[[0.3224599796910082, -0.05389624751541392], [...</td>\n",
       "    </tr>\n",
       "    <tr>\n",
       "      <th>000041bdba6ecadd89a52d11886e8eaaec9325906c9723355abb5ca523658edc</th>\n",
       "      <td>[[0.6768958243357791, -0.0818516958335195], [0...</td>\n",
       "    </tr>\n",
       "    <tr>\n",
       "      <th>00007889e4fcd2614b6cbe7f8f3d2e5c728eca32d9eb8ad51ca8b8c4a24cefed</th>\n",
       "      <td>[[0.9232926427114132, -0.031128816482214952], ...</td>\n",
       "    </tr>\n",
       "    <tr>\n",
       "      <th>...</th>\n",
       "      <td>...</td>\n",
       "    </tr>\n",
       "    <tr>\n",
       "      <th>f3fc3d8c305964827080f6984d07438a22f5f682f221728dbfab3dab69547cd6</th>\n",
       "      <td>[[-0.6466757475966843, 0.5799051222924506], [-...</td>\n",
       "    </tr>\n",
       "    <tr>\n",
       "      <th>f3fc3f1ae80d5a3f06d4c0c71d9fb361d130fa2381daf4f8d67538fd940b5c5c</th>\n",
       "      <td>[[0.9188909781273574, 0.9441679908996252], [0....</td>\n",
       "    </tr>\n",
       "    <tr>\n",
       "      <th>f3fc6d63d9fd202eaf9bb4f411c4382270296b77006021d1b11475d826deabab</th>\n",
       "      <td>[[-0.04519989967776214, 0.05204578193729714], ...</td>\n",
       "    </tr>\n",
       "    <tr>\n",
       "      <th>f3fc77ef8836bf07009043f362ae304d389f150a3ee057f5a9baf8d06173f466</th>\n",
       "      <td>[[-0.2817094882577302, 0.04629660310201476], [...</td>\n",
       "    </tr>\n",
       "    <tr>\n",
       "      <th>f3fcc53e70c36d20dc1f31f76952cdbf50348f9003d494f7316f7327b11866e8</th>\n",
       "      <td>[[0.9674147065915294, 0.022678252004677053], [...</td>\n",
       "    </tr>\n",
       "  </tbody>\n",
       "</table>\n",
       "<p>426880 rows × 1 columns</p>\n",
       "</div>"
      ],
      "text/plain": [
       "                                                                                                  PCA\n",
       "customer_ID                                                                                          \n",
       "0000099d6bd597052cdcda90ffabf56573fe9d7c79be5fb...  [[-0.757038419658706, -0.06928191831606344], [...\n",
       "00000fd6641609c6ece5454664794f0340ad84dddce9a26...  [[0.289377320057893, -0.02677451903461955], [-...\n",
       "00001b22f846c82c51f6e3958ccd81970162bae8b007e80...  [[0.3224599796910082, -0.05389624751541392], [...\n",
       "000041bdba6ecadd89a52d11886e8eaaec9325906c97233...  [[0.6768958243357791, -0.0818516958335195], [0...\n",
       "00007889e4fcd2614b6cbe7f8f3d2e5c728eca32d9eb8ad...  [[0.9232926427114132, -0.031128816482214952], ...\n",
       "...                                                                                               ...\n",
       "f3fc3d8c305964827080f6984d07438a22f5f682f221728...  [[-0.6466757475966843, 0.5799051222924506], [-...\n",
       "f3fc3f1ae80d5a3f06d4c0c71d9fb361d130fa2381daf4f...  [[0.9188909781273574, 0.9441679908996252], [0....\n",
       "f3fc6d63d9fd202eaf9bb4f411c4382270296b77006021d...  [[-0.04519989967776214, 0.05204578193729714], ...\n",
       "f3fc77ef8836bf07009043f362ae304d389f150a3ee057f...  [[-0.2817094882577302, 0.04629660310201476], [...\n",
       "f3fcc53e70c36d20dc1f31f76952cdbf50348f9003d494f...  [[0.9674147065915294, 0.022678252004677053], [...\n",
       "\n",
       "[426880 rows x 1 columns]"
      ]
     },
     "execution_count": 11,
     "metadata": {},
     "output_type": "execute_result"
    }
   ],
   "source": [
    "study_df"
   ]
  },
  {
   "cell_type": "code",
   "execution_count": null,
   "metadata": {},
   "outputs": [],
   "source": [
    "figure(figsize=(12, 8), dpi=80)\n",
    "groups = study_df.groupby('label')\n",
    "for name, group in groups:\n",
    "    plt.scatter(group['min'], group['max'], marker=\"o\", label=name, alpha = 0.5)\n",
    "plt.legend()\n",
    "plt.show()"
   ]
  },
  {
   "cell_type": "code",
   "execution_count": null,
   "metadata": {},
   "outputs": [],
   "source": []
  }
 ],
 "metadata": {
  "kernelspec": {
   "display_name": "Python 3.9.12 ('rapids-22.06')",
   "language": "python",
   "name": "python3"
  },
  "language_info": {
   "codemirror_mode": {
    "name": "ipython",
    "version": 3
   },
   "file_extension": ".py",
   "mimetype": "text/x-python",
   "name": "python",
   "nbconvert_exporter": "python",
   "pygments_lexer": "ipython3",
   "version": "3.9.12"
  },
  "orig_nbformat": 4,
  "vscode": {
   "interpreter": {
    "hash": "468ef23ed2970eb3eae24d512361eed443dbea3050d88b5fbf8075c8ae4b100c"
   }
  }
 },
 "nbformat": 4,
 "nbformat_minor": 2
}
