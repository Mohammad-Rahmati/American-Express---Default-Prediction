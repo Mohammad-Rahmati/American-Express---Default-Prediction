{
 "cells": [
  {
   "cell_type": "code",
   "execution_count": null,
   "metadata": {},
   "outputs": [],
   "source": [
    "import warnings\n",
    "warnings.filterwarnings(\"ignore\")\n",
    "\n",
    "from evaluation_metric import *\n",
    "import xgboost as xgb\n",
    "from sklearn.model_selection import StratifiedKFold\n",
    "import pandas as pd\n",
    "import matplotlib.pyplot as plt\n",
    "import seaborn as sns\n",
    "import pickle\n",
    "import gc"
   ]
  },
  {
   "cell_type": "code",
   "execution_count": null,
   "metadata": {},
   "outputs": [],
   "source": [
    "train_data = pd.read_pickle('Data/train_data_aggV3.pkl')\n",
    "train_labels = pd.read_pickle('Data/train_labels.pkl').loc[train_data.index]\n",
    "\n",
    "train_data.shape, train_labels.shape"
   ]
  },
  {
   "cell_type": "code",
   "execution_count": null,
   "metadata": {},
   "outputs": [],
   "source": [
    "n_fold = 5\n",
    "n_seed = 2\n",
    "\n",
    "kf = StratifiedKFold(n_splits=n_fold)\n",
    "\n",
    "importances = []\n",
    "models = {}\n",
    "df_scores = []\n",
    "\n",
    "for fold, (idx_tr, idx_va) in enumerate(kf.split(train_data, train_labels)):\n",
    "    \n",
    "        X_tr = train_data.iloc[idx_tr]\n",
    "        X_va = train_data.iloc[idx_va]\n",
    "        y_tr = train_labels.iloc[idx_tr]\n",
    "        y_va = train_labels.iloc[idx_va]\n",
    "\n",
    "        dtrain = xgb.DMatrix(data=X_tr, label=y_tr)\n",
    "        dvalid = xgb.DMatrix(data=X_va, label=y_va)\n",
    "        \n",
    "        for seed in range(n_seed):\n",
    "                print('Fold: '+str(fold)+ ' - seed: '+str(seed))\n",
    "                key = str(fold)+'-'+str(seed)\n",
    "\n",
    "                params = {\n",
    "                        'objective': 'binary:logistic', \n",
    "                        'tree_method': 'gpu_hist', \n",
    "                        'max_depth': 7,\n",
    "                        'subsample':0.88,\n",
    "                        'colsample_bytree': 0.5,\n",
    "                        'gamma':1.5,\n",
    "                        'min_child_weight':8,\n",
    "                        'lambda':70,\n",
    "                        'eta':0.03,\n",
    "                        'random_state': seed\n",
    "                }\n",
    "\n",
    "                watchlist = [(dtrain, 'train'), (dvalid, 'eval')]\n",
    "                bst = xgb.train(params, dtrain=dtrain,evals=watchlist,num_boost_round=20000,\n",
    "                        early_stopping_rounds=2000, feval=xgb_amex, maximize=True,\n",
    "                        verbose_eval=200)\n",
    "\n",
    "                \n",
    "                score = amex_metric(y_va.reset_index(drop=True), pd.Series(bst.predict(dvalid)).rename('prediction'))\n",
    "                print(f'Fold: {fold} - seed: {0} - score {score:.2%}')\n",
    "                models[key] = bst\n",
    "                df_scores.append((fold, seed, score))\n",
    "                df_results = pd.DataFrame(df_scores,columns=['fold','seed','score']).pivot(index='fold',columns='seed',values='score')\n",
    "                df_results.loc['seed_mean']= df_results.mean(numeric_only=True, axis=0)\n",
    "                df_results.loc[:,'fold_mean'] = df_results.mean(numeric_only=True, axis=1)\n"
   ]
  },
  {
   "cell_type": "code",
   "execution_count": null,
   "metadata": {},
   "outputs": [],
   "source": [
    "df_results"
   ]
  },
  {
   "cell_type": "code",
   "execution_count": null,
   "metadata": {},
   "outputs": [],
   "source": [
    "test_data = pd.read_pickle('Data/test_data_aggV3.pkl')\n",
    "test_data.shape"
   ]
  },
  {
   "cell_type": "code",
   "execution_count": null,
   "metadata": {},
   "outputs": [],
   "source": [
    "dtest = xgb.DMatrix(data=test_data)\n",
    "prediction_list = []\n",
    "for keys in models.keys():\n",
    "    prediction_list.append(models[keys].predict(dtest))\n",
    "\n",
    "prediction_df = pd.DataFrame(prediction_list).T\n",
    "prediction_df.index = test_data.index"
   ]
  },
  {
   "cell_type": "code",
   "execution_count": null,
   "metadata": {},
   "outputs": [],
   "source": [
    "prediction_df"
   ]
  },
  {
   "cell_type": "code",
   "execution_count": null,
   "metadata": {},
   "outputs": [],
   "source": []
  }
 ],
 "metadata": {
  "kernelspec": {
   "display_name": "Python 3.10.4 64-bit",
   "language": "python",
   "name": "python3"
  },
  "language_info": {
   "codemirror_mode": {
    "name": "ipython",
    "version": 3
   },
   "file_extension": ".py",
   "mimetype": "text/x-python",
   "name": "python",
   "nbconvert_exporter": "python",
   "pygments_lexer": "ipython3",
   "version": "3.10.4"
  },
  "orig_nbformat": 4,
  "vscode": {
   "interpreter": {
    "hash": "916dbcbb3f70747c44a77c7bcd40155683ae19c65e1c03b4aa3499c5328201f1"
   }
  }
 },
 "nbformat": 4,
 "nbformat_minor": 2
}
