{
 "cells": [
  {
   "cell_type": "code",
   "execution_count": null,
   "id": "8160dc5c",
   "metadata": {
    "execution": {
     "iopub.execute_input": "2022-06-07T16:42:10.255266Z",
     "iopub.status.busy": "2022-06-07T16:42:10.254961Z",
     "iopub.status.idle": "2022-06-07T16:42:14.899938Z",
     "shell.execute_reply": "2022-06-07T16:42:14.898903Z"
    },
    "papermill": {
     "duration": 4.652739,
     "end_time": "2022-06-07T16:42:14.902096",
     "exception": false,
     "start_time": "2022-06-07T16:42:10.249357",
     "status": "completed"
    },
    "tags": []
   },
   "outputs": [],
   "source": [
    "import warnings\n",
    "warnings.filterwarnings(\"ignore\")\n",
    "import cudf\n",
    "cudf.set_allocator(\"managed\")\n",
    "import pandas as pd\n",
    "import matplotlib.pylab as plt\n",
    "import cupy\n",
    "import xgboost as xgb\n",
    "from sklearn.model_selection import StratifiedKFold\n",
    "from xgboost import plot_importance\n",
    "import numpy as np\n",
    "from tqdm import tqdm\n",
    "import pickle\n",
    "import gc"
   ]
  },
  {
   "cell_type": "markdown",
   "id": "2544532c",
   "metadata": {
    "papermill": {
     "duration": 0.004859,
     "end_time": "2022-06-07T16:42:14.912329",
     "exception": false,
     "start_time": "2022-06-07T16:42:14.907470",
     "status": "completed"
    },
    "tags": []
   },
   "source": [
    "### Feature Engineering"
   ]
  },
  {
   "cell_type": "code",
   "execution_count": null,
   "id": "9d19bc3d",
   "metadata": {
    "execution": {
     "iopub.execute_input": "2022-06-07T16:42:14.923997Z",
     "iopub.status.busy": "2022-06-07T16:42:14.923675Z",
     "iopub.status.idle": "2022-06-07T16:42:14.949860Z",
     "shell.execute_reply": "2022-06-07T16:42:14.948855Z"
    },
    "jupyter": {
     "source_hidden": true
    },
    "papermill": {
     "duration": 0.035014,
     "end_time": "2022-06-07T16:42:14.952292",
     "exception": false,
     "start_time": "2022-06-07T16:42:14.917278",
     "status": "completed"
    },
    "tags": []
   },
   "outputs": [],
   "source": [
    "def get_not_used():\n",
    "    # cid is the label encode of customer_ID\n",
    "    # row_id indicates the order of rows\n",
    "    return ['row_id', 'customer_ID', 'target', 'cid', 'S_2']\n",
    "    \n",
    "def preprocess(df):\n",
    "    df['row_id'] = cupy.arange(df.shape[0])\n",
    "    not_used = get_not_used()\n",
    "    cat_cols = ['B_30', 'B_38', 'D_114', 'D_116', 'D_117', 'D_120',\n",
    "                'D_126', 'D_63', 'D_64', 'D_66', 'D_68']\n",
    "\n",
    "    for col in df.columns:\n",
    "        if col not in not_used+cat_cols:\n",
    "            df[col] = df[col].round(2)\n",
    "\n",
    "    # compute \"after pay\" features\n",
    "    for bcol in [f'B_{i}' for i in [11,14,17]]+['D_39','D_131']+[f'S_{i}' for i in [16,23]]:\n",
    "        for pcol in ['P_2','P_3']:\n",
    "            if bcol in df.columns:\n",
    "                df[f'{bcol}-{pcol}'] = df[bcol] - df[pcol]\n",
    "\n",
    "    df['S_2'] = cudf.to_datetime(df['S_2'])\n",
    "    df['cid'], _ = df.customer_ID.factorize()\n",
    "        \n",
    "    num_cols = [col for col in df.columns if col not in cat_cols+not_used]\n",
    "    \n",
    "    dgs = add_stats_step(df, num_cols)\n",
    "        \n",
    "    # cudf merge changes row orders\n",
    "    # restore the original row order by sorting row_id\n",
    "    df = df.sort_values('row_id')\n",
    "    df = df.drop(['row_id'],axis=1)\n",
    "    return df, dgs\n",
    "\n",
    "def add_stats_step(df, cols):\n",
    "    n = 50\n",
    "    dgs = []\n",
    "    for i in range(0,len(cols),n):\n",
    "        s = i\n",
    "        e = min(s+n, len(cols))\n",
    "        dg = add_stats_one_shot(df, cols[s:e])\n",
    "        dgs.append(dg)\n",
    "    return dgs\n",
    "\n",
    "def add_stats_one_shot(df, cols):\n",
    "    stats = ['mean','std']\n",
    "    dg = df.groupby('customer_ID').agg({col:stats for col in cols})\n",
    "    out_cols = []\n",
    "    for col in cols:\n",
    "        out_cols.extend([f'{col}_{s}' for s in stats])\n",
    "    dg.columns = out_cols\n",
    "    dg = dg.reset_index()\n",
    "    return dg\n",
    "\n",
    "def load_test_iter(chunks=4):\n",
    "    \n",
    "    test_rows = 11363762\n",
    "    chunk_rows = test_rows // chunks\n",
    "    \n",
    "    test = cudf.read_parquet('Data/test.parquet',\n",
    "                             columns=['customer_ID','S_2'],\n",
    "                             num_rows=test_rows)\n",
    "    test = get_segment(test)\n",
    "    start = 0\n",
    "    while start < test.shape[0]:\n",
    "        if start+chunk_rows < test.shape[0]:\n",
    "            end = test['cus_count'].values[start+chunk_rows]\n",
    "        else:\n",
    "            end = test['cus_count'].values[-1]\n",
    "        end = int(end)\n",
    "        df = cudf.read_parquet('Data/test.parquet',\n",
    "                               num_rows = end-start, skiprows=start)\n",
    "        start = end\n",
    "        yield process_data(df)\n",
    "    \n",
    "\n",
    "def load_data(data, type):    \n",
    "    data = process_data(data)\n",
    "    if type == 'train':\n",
    "        trainl = cudf.read_csv('Data/train_labels.csv')\n",
    "        data = data.merge(trainl, on='customer_ID', how='left')\n",
    "    return data\n",
    "\n",
    "def process_data(df):\n",
    "    df,dgs = preprocess(df)\n",
    "    df = df.drop_duplicates('customer_ID',keep='last')\n",
    "    for dg in dgs:\n",
    "        df = df.merge(dg, on='customer_ID', how='left')\n",
    "    diff_cols = [col for col in df.columns if col.endswith('_diff')]\n",
    "    df = df.drop(diff_cols,axis=1)\n",
    "    return df\n",
    "\n",
    "def get_segment(test):\n",
    "    dg = test.groupby('customer_ID').agg({'S_2':'count'})\n",
    "    dg.columns = ['cus_count']\n",
    "    dg = dg.reset_index()\n",
    "    dg['cid'],_ = dg['customer_ID'].factorize()\n",
    "    dg = dg.sort_values('cid')\n",
    "    dg['cus_count'] = dg['cus_count'].cumsum()\n",
    "    \n",
    "    test = test.merge(dg, on='customer_ID', how='left')\n",
    "    test = test.sort_values(['cid','S_2'])\n",
    "    assert test['cus_count'].values[-1] == test.shape[0]\n",
    "    return test"
   ]
  },
  {
   "cell_type": "markdown",
   "id": "bcd53683",
   "metadata": {
    "papermill": {
     "duration": 0.00492,
     "end_time": "2022-06-07T16:42:14.962224",
     "exception": false,
     "start_time": "2022-06-07T16:42:14.957304",
     "status": "completed"
    },
    "tags": []
   },
   "source": [
    "### XGB Params and utility functions"
   ]
  },
  {
   "cell_type": "code",
   "execution_count": null,
   "id": "9dc4005e",
   "metadata": {
    "execution": {
     "iopub.execute_input": "2022-06-07T16:42:14.973389Z",
     "iopub.status.busy": "2022-06-07T16:42:14.973081Z",
     "iopub.status.idle": "2022-06-07T16:42:14.982253Z",
     "shell.execute_reply": "2022-06-07T16:42:14.981286Z"
    },
    "jupyter": {
     "source_hidden": true
    },
    "papermill": {
     "duration": 0.017364,
     "end_time": "2022-06-07T16:42:14.984338",
     "exception": false,
     "start_time": "2022-06-07T16:42:14.966974",
     "status": "completed"
    },
    "tags": []
   },
   "outputs": [],
   "source": [
    "def xgb_train(x, y, xt, yt, seed):\n",
    "    print(\"# of features:\", x.shape[1])\n",
    "    assert x.shape[1] == xt.shape[1]\n",
    "    dtrain = xgb.DMatrix(data=x, label=y)\n",
    "    dvalid = xgb.DMatrix(data=xt, label=yt)\n",
    "    params = {\n",
    "            'objective': 'binary:logistic', \n",
    "            'tree_method': 'hist', \n",
    "            'max_depth': 7,\n",
    "            'subsample':0.88,\n",
    "            'colsample_bytree': 0.5,\n",
    "            'gamma':1.5,\n",
    "            'min_child_weight':8,\n",
    "            'lambda':70,\n",
    "            'eta':0.03,\n",
    "            'random_state':seed\n",
    "    }\n",
    "    watchlist = [(dvalid, 'eval')]\n",
    "    bst = xgb.train(params, dtrain=dtrain,\n",
    "                num_boost_round=9999,evals=watchlist,\n",
    "                early_stopping_rounds=1000, feval=xgb_amex, maximize=True,\n",
    "                verbose_eval=200)\n",
    "    print('best ntree_limit:', bst.best_ntree_limit)\n",
    "    print('best score:', bst.best_score)\n",
    "    pred = bst.predict(dvalid, iteration_range=(0,bst.best_ntree_limit))\n",
    "\n",
    "    return pred, bst"
   ]
  },
  {
   "cell_type": "markdown",
   "id": "4913ecee",
   "metadata": {
    "papermill": {
     "duration": 0.004691,
     "end_time": "2022-06-07T16:42:14.994005",
     "exception": false,
     "start_time": "2022-06-07T16:42:14.989314",
     "status": "completed"
    },
    "tags": []
   },
   "source": [
    "#### Metrics"
   ]
  },
  {
   "cell_type": "code",
   "execution_count": null,
   "id": "aab9838a",
   "metadata": {
    "execution": {
     "iopub.execute_input": "2022-06-07T16:42:15.006016Z",
     "iopub.status.busy": "2022-06-07T16:42:15.005168Z",
     "iopub.status.idle": "2022-06-07T16:42:15.025489Z",
     "shell.execute_reply": "2022-06-07T16:42:15.024567Z"
    },
    "jupyter": {
     "source_hidden": true
    },
    "papermill": {
     "duration": 0.028302,
     "end_time": "2022-06-07T16:42:15.027542",
     "exception": false,
     "start_time": "2022-06-07T16:42:14.999240",
     "status": "completed"
    },
    "tags": []
   },
   "outputs": [],
   "source": [
    "def xgb_amex(y_pred, y_true):\n",
    "    return 'amex', amex_metric_np(y_pred,y_true.get_label())\n",
    "\n",
    "# Created by https://www.kaggle.com/yunchonggan\n",
    "# https://www.kaggle.com/competitions/amex-default-prediction/discussion/328020\n",
    "def amex_metric_np(preds: np.ndarray, target: np.ndarray) -> float:\n",
    "    indices = np.argsort(preds)[::-1]\n",
    "    preds, target = preds[indices], target[indices]\n",
    "\n",
    "    weight = 20.0 - target * 19.0\n",
    "    cum_norm_weight = (weight / weight.sum()).cumsum()\n",
    "    four_pct_mask = cum_norm_weight <= 0.04\n",
    "    d = np.sum(target[four_pct_mask]) / np.sum(target)\n",
    "\n",
    "    weighted_target = target * weight\n",
    "    lorentz = (weighted_target / weighted_target.sum()).cumsum()\n",
    "    gini = ((lorentz - cum_norm_weight) * weight).sum()\n",
    "\n",
    "    n_pos = np.sum(target)\n",
    "    n_neg = target.shape[0] - n_pos\n",
    "    gini_max = 10 * n_neg * (n_pos + 20 * n_neg - 19) / (n_pos + 20 * n_neg)\n",
    "\n",
    "    g = gini / gini_max\n",
    "    return 0.5 * (g + d)\n",
    "\n",
    "# we still need the official metric since the faster version above is slightly off\n",
    "def amex_metric(y_true: pd.DataFrame, y_pred: pd.DataFrame) -> float:\n",
    "\n",
    "    def top_four_percent_captured(y_true: pd.DataFrame, y_pred: pd.DataFrame) -> float:\n",
    "        df = (pd.concat([y_true, y_pred], axis='columns')\n",
    "              .sort_values('prediction', ascending=False))\n",
    "        df['weight'] = df['target'].apply(lambda x: 20 if x==0 else 1)\n",
    "        four_pct_cutoff = int(0.04 * df['weight'].sum())\n",
    "        df['weight_cumsum'] = df['weight'].cumsum()\n",
    "        df_cutoff = df.loc[df['weight_cumsum'] <= four_pct_cutoff]\n",
    "        return (df_cutoff['target'] == 1).sum() / (df['target'] == 1).sum()\n",
    "        \n",
    "    def weighted_gini(y_true: pd.DataFrame, y_pred: pd.DataFrame) -> float:\n",
    "        df = (pd.concat([y_true, y_pred], axis='columns')\n",
    "              .sort_values('prediction', ascending=False))\n",
    "        df['weight'] = df['target'].apply(lambda x: 20 if x==0 else 1)\n",
    "        df['random'] = (df['weight'] / df['weight'].sum()).cumsum()\n",
    "        total_pos = (df['target'] * df['weight']).sum()\n",
    "        df['cum_pos_found'] = (df['target'] * df['weight']).cumsum()\n",
    "        df['lorentz'] = df['cum_pos_found'] / total_pos\n",
    "        df['gini'] = (df['lorentz'] - df['random']) * df['weight']\n",
    "        return df['gini'].sum()\n",
    "\n",
    "    def normalized_weighted_gini(y_true: pd.DataFrame, y_pred: pd.DataFrame) -> float:\n",
    "        y_true_pred = y_true.rename(columns={'target': 'prediction'})\n",
    "        return weighted_gini(y_true, y_pred) / weighted_gini(y_true, y_true_pred)\n",
    "\n",
    "    g = normalized_weighted_gini(y_true, y_pred)\n",
    "    d = top_four_percent_captured(y_true, y_pred)\n",
    "\n",
    "    return 0.5 * (g + d)"
   ]
  },
  {
   "cell_type": "markdown",
   "id": "b5771824",
   "metadata": {
    "papermill": {
     "duration": 0.004815,
     "end_time": "2022-06-07T16:42:15.037162",
     "exception": false,
     "start_time": "2022-06-07T16:42:15.032347",
     "status": "completed"
    },
    "tags": []
   },
   "source": [
    "### Load data and add feature"
   ]
  },
  {
   "cell_type": "code",
   "execution_count": null,
   "id": "5c7fd93b",
   "metadata": {},
   "outputs": [],
   "source": [
    "train = cudf.read_parquet('Data/train_data_aggV3.parquet')\n",
    "train.shape"
   ]
  },
  {
   "cell_type": "markdown",
   "id": "671a0f92",
   "metadata": {
    "papermill": {
     "duration": 0.00552,
     "end_time": "2022-06-07T16:42:46.925316",
     "exception": false,
     "start_time": "2022-06-07T16:42:46.919796",
     "status": "completed"
    },
    "tags": []
   },
   "source": [
    "### Train XGB in K-folds"
   ]
  },
  {
   "cell_type": "code",
   "execution_count": null,
   "id": "eda97ae1",
   "metadata": {
    "execution": {
     "iopub.execute_input": "2022-06-07T16:42:46.937161Z",
     "iopub.status.busy": "2022-06-07T16:42:46.936788Z",
     "iopub.status.idle": "2022-06-07T17:03:16.811465Z",
     "shell.execute_reply": "2022-06-07T17:03:16.809370Z"
    },
    "papermill": {
     "duration": 1229.88436,
     "end_time": "2022-06-07T17:03:16.814880",
     "exception": false,
     "start_time": "2022-06-07T16:42:46.930520",
     "status": "completed"
    },
    "tags": []
   },
   "outputs": [],
   "source": [
    "%%time\n",
    "\n",
    "not_used = get_not_used()\n",
    "not_used = [i for i in not_used if i in train.columns]\n",
    "msgs = {}\n",
    "folds = 10\n",
    "seeds = 4\n",
    "score = 0\n",
    "models = {}\n",
    "df_scores = []\n",
    "\n",
    "for i in range(folds):\n",
    "    mask = train['cid']%folds == i\n",
    "    tr,va = train[~mask], train[mask]\n",
    "    \n",
    "    x, y = tr.drop(not_used, axis=1), tr['target']\n",
    "    xt, yt = va.drop(not_used, axis=1), va['target']\n",
    "    for seed in range(seeds):\n",
    "        key = str(i)+'-'+str(seed)\n",
    "        yp, bst = xgb_train(x, y, xt, yt, seed)\n",
    "        models[key] = bst\n",
    "        amex_score = amex_metric(pd.DataFrame({'target':yt.values.get()}), \n",
    "                                        pd.DataFrame({'prediction':yp}))\n",
    "        df_scores.append((i, seed, amex_score))\n",
    "        msg = f\"Fold {i}-Seed {seed}:  amex {amex_score:.4f}\"\n",
    "\n",
    "        print(msg)"
   ]
  },
  {
   "cell_type": "code",
   "execution_count": null,
   "id": "18aba327",
   "metadata": {},
   "outputs": [],
   "source": [
    "pickle.dump(models, open(\"Models/xgboost_b1.pkl\", \"wb\"))"
   ]
  },
  {
   "cell_type": "code",
   "execution_count": null,
   "id": "41df0d8a",
   "metadata": {},
   "outputs": [],
   "source": [
    "fig, ax = plt.subplots(1,1,figsize=(14, 20))\n",
    "plot_importance(models['1-1'],max_num_features=50, ax = ax)\n",
    "plt.plot()"
   ]
  },
  {
   "cell_type": "code",
   "execution_count": null,
   "id": "4b72df1a",
   "metadata": {
    "execution": {
     "iopub.execute_input": "2022-06-07T17:03:16.845483Z",
     "iopub.status.busy": "2022-06-07T17:03:16.844949Z",
     "iopub.status.idle": "2022-06-07T17:03:17.074836Z",
     "shell.execute_reply": "2022-06-07T17:03:17.073947Z"
    },
    "papermill": {
     "duration": 0.247841,
     "end_time": "2022-06-07T17:03:17.077353",
     "exception": false,
     "start_time": "2022-06-07T17:03:16.829512",
     "status": "completed"
    },
    "tags": []
   },
   "outputs": [],
   "source": [
    "del train\n",
    "del tr,va"
   ]
  },
  {
   "cell_type": "markdown",
   "id": "c46623cf",
   "metadata": {},
   "source": [
    "### Prediction"
   ]
  },
  {
   "cell_type": "code",
   "execution_count": null,
   "id": "2f55bb11",
   "metadata": {},
   "outputs": [],
   "source": [
    "models = pickle.load(open(\"Models/xgboost_b1.pkl\", \"rb\"))"
   ]
  },
  {
   "cell_type": "code",
   "execution_count": null,
   "id": "10ac481f",
   "metadata": {},
   "outputs": [],
   "source": [
    "train = cudf.read_parquet('Data/train_data_aggV3.parquet')\n",
    "train_labels = pd.read_pickle('Data/train_labels.pkl').loc[train.set_index('customer_ID').to_pandas().index]\n",
    "train_features = train.drop(columns=['customer_ID', 'target', 'cid', 'S_2'], axis=1)\n",
    "train_features = xgb.DMatrix(data=train_features)"
   ]
  },
  {
   "cell_type": "code",
   "execution_count": null,
   "id": "e2f8d78c",
   "metadata": {},
   "outputs": [],
   "source": [
    "prediction_list = []\n",
    "for key in models.keys():\n",
    "    print(key, end=',')\n",
    "    model = models[key]\n",
    "    prediction_list.append(model.predict(train_features, iteration_range = (0,model.best_iteration)))\n",
    "\n",
    "train_prediction_df = pd.DataFrame(prediction_list).T\n",
    "train_prediction_df.columns = models.keys()\n",
    "train_prediction_df.index = train.set_index('customer_ID').to_pandas().index\n",
    "train_prediction_df.to_pickle('Output/p_train_xgb_b1.pkl')"
   ]
  },
  {
   "cell_type": "code",
   "execution_count": null,
   "id": "5224cd03",
   "metadata": {},
   "outputs": [],
   "source": [
    "test = cudf.read_parquet('Data/test_data_aggV3.parquet')"
   ]
  },
  {
   "cell_type": "code",
   "execution_count": null,
   "id": "9958b718",
   "metadata": {},
   "outputs": [],
   "source": [
    "test_features = test.drop(columns=['customer_ID', 'cid', 'S_2'], axis=1)\n",
    "test_features = xgb.DMatrix(data=test_features)"
   ]
  },
  {
   "cell_type": "code",
   "execution_count": null,
   "id": "ee00dae4",
   "metadata": {
    "execution": {
     "iopub.execute_input": "2022-06-07T17:03:17.108453Z",
     "iopub.status.busy": "2022-06-07T17:03:17.107427Z",
     "iopub.status.idle": "2022-06-07T17:11:33.475401Z",
     "shell.execute_reply": "2022-06-07T17:11:33.474268Z"
    },
    "papermill": {
     "duration": 496.38523,
     "end_time": "2022-06-07T17:11:33.477414",
     "exception": false,
     "start_time": "2022-06-07T17:03:17.092184",
     "status": "completed"
    },
    "tags": []
   },
   "outputs": [],
   "source": [
    "prediction_list = []\n",
    "for key in models.keys():\n",
    "    print(key, end=',')\n",
    "    model = models[key]\n",
    "    prediction_list.append(model.predict(test_features, ntree_limit=model.best_iteration))\n",
    "\n",
    "test_prediction_df = pd.DataFrame(prediction_list).T\n",
    "test_prediction_df.columns = models.keys()\n",
    "test_prediction_df.index = test.set_index('customer_ID').to_pandas().index"
   ]
  },
  {
   "cell_type": "code",
   "execution_count": null,
   "id": "cefe0552",
   "metadata": {},
   "outputs": [],
   "source": [
    "test_prediction_df.to_pickle('Output/p_test_xgb_b1.pkl')"
   ]
  },
  {
   "cell_type": "code",
   "execution_count": null,
   "id": "ca97085f",
   "metadata": {},
   "outputs": [],
   "source": [
    "test_prediction_df[['0-3','1-1','2-2', '3-1', '4-2', '5-0', '6-1', '7-3', '8-1', '9-1']]"
   ]
  },
  {
   "cell_type": "code",
   "execution_count": null,
   "id": "05879e66",
   "metadata": {
    "execution": {
     "iopub.execute_input": "2022-06-07T17:11:33.507333Z",
     "iopub.status.busy": "2022-06-07T17:11:33.506310Z",
     "iopub.status.idle": "2022-06-07T17:11:33.697446Z",
     "shell.execute_reply": "2022-06-07T17:11:33.696268Z"
    },
    "papermill": {
     "duration": 0.208451,
     "end_time": "2022-06-07T17:11:33.700164",
     "exception": false,
     "start_time": "2022-06-07T17:11:33.491713",
     "status": "completed"
    },
    "tags": []
   },
   "outputs": [],
   "source": [
    "test_prediction_df[['0-3','1-1','2-2', '3-1', '4-2', '5-0', '6-1', '7-3', '8-1', '9-1']].mean(axis=1).to_csv('Output/p_xgb_b1_best.csv', header=['prediction'])"
   ]
  },
  {
   "cell_type": "code",
   "execution_count": null,
   "id": "b73e62a5",
   "metadata": {},
   "outputs": [],
   "source": []
  }
 ],
 "metadata": {
  "kernelspec": {
   "display_name": "Python 3.9.12 ('rapids-22.06')",
   "language": "python",
   "name": "python3"
  },
  "language_info": {
   "codemirror_mode": {
    "name": "ipython",
    "version": 3
   },
   "file_extension": ".py",
   "mimetype": "text/x-python",
   "name": "python",
   "nbconvert_exporter": "python",
   "pygments_lexer": "ipython3",
   "version": "3.9.12"
  },
  "papermill": {
   "default_parameters": {},
   "duration": 1774.347036,
   "end_time": "2022-06-07T17:11:35.142176",
   "environment_variables": {},
   "exception": null,
   "input_path": "__notebook__.ipynb",
   "output_path": "__notebook__.ipynb",
   "parameters": {},
   "start_time": "2022-06-07T16:42:00.795140",
   "version": "2.3.4"
  },
  "vscode": {
   "interpreter": {
    "hash": "468ef23ed2970eb3eae24d512361eed443dbea3050d88b5fbf8075c8ae4b100c"
   }
  }
 },
 "nbformat": 4,
 "nbformat_minor": 5
}
