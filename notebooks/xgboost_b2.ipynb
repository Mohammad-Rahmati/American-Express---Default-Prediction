{
 "cells": [
  {
   "cell_type": "code",
   "execution_count": null,
   "metadata": {},
   "outputs": [],
   "source": [
    "import os\n",
    "dir = '__pycache__/'\n",
    "for f in os.listdir(dir):\n",
    "    os.remove(os.path.join(dir, f))\n",
    "\n",
    "import warnings\n",
    "warnings.filterwarnings(\"ignore\")\n",
    "\n",
    "from evaluation_metric import xgb_amex, amex_list\n",
    "\n",
    "import pandas as pd\n",
    "from sklearn.model_selection import StratifiedKFold\n",
    "import xgboost as xgb\n",
    "import pickle\n",
    "import gc"
   ]
  },
  {
   "cell_type": "code",
   "execution_count": null,
   "metadata": {},
   "outputs": [],
   "source": [
    "data = pd.read_parquet('Data/train_data_aggV3.parquet')\n",
    "data.set_index('customer_ID', inplace=True)\n",
    "train_data = data.drop(['target', 'cid', 'S_2'], axis=1)\n",
    "train_labels = data['target']\n",
    "del data\n",
    "gc.collect()\n",
    "train_data.shape, train_labels.shape"
   ]
  },
  {
   "cell_type": "code",
   "execution_count": null,
   "metadata": {},
   "outputs": [],
   "source": [
    "train_labels.value_counts()"
   ]
  },
  {
   "cell_type": "code",
   "execution_count": null,
   "metadata": {},
   "outputs": [],
   "source": [
    "def xgb_train(X_tr, y_tr, X_va, y_va, seed):\n",
    "\n",
    "        print(\"# of features:\", X_tr.shape[1])\n",
    "\n",
    "        dtrain = xgb.DMatrix(data=X_tr, label=y_tr)\n",
    "        dvalid = xgb.DMatrix(data=X_va, label=y_va)\n",
    "\n",
    "        params = {\n",
    "                'objective': 'binary:logistic', \n",
    "                'tree_method': 'gpu_hist', \n",
    "                'max_depth': 7,\n",
    "                'subsample':0.88,\n",
    "                'colsample_bytree':0.5,\n",
    "                'gamma':1.5,\n",
    "                'min_child_weight':8,\n",
    "                'lambda':70,\n",
    "                'eta':0.03,\n",
    "                'scale_pos_weight':2.86,\n",
    "                'random_state': seed\n",
    "        }\n",
    "\n",
    "        watchlist = [(dtrain, 'train'), (dvalid, 'eval')]\n",
    "        \n",
    "        model = xgb.train(\n",
    "                        params,\n",
    "                        dtrain=dtrain,\n",
    "                        num_boost_round=10000,\n",
    "                        evals=watchlist,\n",
    "                        early_stopping_rounds=200,\n",
    "                        feval=xgb_amex,\n",
    "                        maximize=True,\n",
    "                        verbose_eval=100\n",
    "        )\n",
    "                        \n",
    "        print('best ntree_limit:', model.best_ntree_limit)\n",
    "        print('best score:', model.best_score)\n",
    "        pred = model.predict(dvalid, iteration_range=(0, model.best_ntree_limit))\n",
    "        amex_score = amex_list(pred, y_va)\n",
    "\n",
    "        return amex_score, model"
   ]
  },
  {
   "cell_type": "code",
   "execution_count": null,
   "metadata": {},
   "outputs": [],
   "source": [
    "n_folds = 3\n",
    "seeds = 1\n",
    "\n",
    "models = {}\n",
    "df_scores = []\n",
    "\n",
    "kf = StratifiedKFold(n_splits=n_folds)\n",
    "for fold, (idx_tr, idx_va) in enumerate(kf.split(train_data, train_labels)):\n",
    "    \n",
    "    X_tr = train_data.iloc[idx_tr]\n",
    "    X_va = train_data.iloc[idx_va]\n",
    "    y_tr = train_labels.iloc[idx_tr]\n",
    "    y_va = train_labels.iloc[idx_va]\n",
    "\n",
    "    for seed in range(seeds):\n",
    "        key = str(fold) + '-' + str(seed) \n",
    "        score, model = xgb_train(X_tr, y_tr, X_va, y_va, seed)\n",
    "        models[key] = model\n",
    "\n",
    "        df_scores.append((fold, seed, score))\n",
    "        print(f\"Fold {fold}:, Seed {seed}, Amex_score {score:.4f}\")"
   ]
  },
  {
   "cell_type": "code",
   "execution_count": null,
   "metadata": {},
   "outputs": [],
   "source": [
    "pickle.dump(models, open(\"Models/xgboost_b2.pkl\", \"wb\"))"
   ]
  },
  {
   "cell_type": "code",
   "execution_count": null,
   "metadata": {},
   "outputs": [],
   "source": [
    "df_results = pd.DataFrame(df_scores,columns=['fold','seed','score']).pivot(index='fold',columns='seed',values='score')\n",
    "df_results.loc['seed_mean']= df_results.mean(numeric_only=True, axis=0)\n",
    "df_results.loc[:,'fold_mean'] = df_results.mean(numeric_only=True, axis=1)\n",
    "df_results"
   ]
  },
  {
   "cell_type": "markdown",
   "metadata": {},
   "source": [
    "### Prediction"
   ]
  },
  {
   "cell_type": "code",
   "execution_count": null,
   "metadata": {},
   "outputs": [],
   "source": [
    "test = pd.read_parquet('Data/test_data_aggV3.parquet')\n",
    "test.set_index('customer_ID', inplace=True)\n",
    "test = test.drop(columns=['cid', 'S_2'], axis=1)\n",
    "dtest = xgb.DMatrix(data=test)\n",
    "\n",
    "del test\n",
    "gc.collect()"
   ]
  },
  {
   "cell_type": "code",
   "execution_count": null,
   "metadata": {},
   "outputs": [],
   "source": [
    "model.predict(dtest, iteration_range = (0,model.best_iteration))"
   ]
  }
 ],
 "metadata": {
  "kernelspec": {
   "display_name": "Python 3.9.12 ('rapids-22.06')",
   "language": "python",
   "name": "python3"
  },
  "language_info": {
   "codemirror_mode": {
    "name": "ipython",
    "version": 3
   },
   "file_extension": ".py",
   "mimetype": "text/x-python",
   "name": "python",
   "nbconvert_exporter": "python",
   "pygments_lexer": "ipython3",
   "version": "3.9.12"
  },
  "orig_nbformat": 4,
  "vscode": {
   "interpreter": {
    "hash": "468ef23ed2970eb3eae24d512361eed443dbea3050d88b5fbf8075c8ae4b100c"
   }
  }
 },
 "nbformat": 4,
 "nbformat_minor": 2
}
