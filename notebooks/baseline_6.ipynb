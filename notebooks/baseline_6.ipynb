{
 "cells": [
  {
   "cell_type": "code",
   "execution_count": 1,
   "metadata": {},
   "outputs": [],
   "source": [
    "from evaluation_metric import *\n",
    "from baseline_model import *\n",
    "import pandas as pd\n",
    "import matplotlib.pyplot as plt\n",
    "import seaborn as sns\n",
    "import warnings\n",
    "import pickle\n",
    "warnings.filterwarnings(\"ignore\")"
   ]
  },
  {
   "cell_type": "code",
   "execution_count": null,
   "metadata": {},
   "outputs": [],
   "source": [
    "train_data = pd.read_pickle('Data/train_mo.pkl')\n",
    "train_data_org = pd.read_pickle('Data/train_data.pkl')\n",
    "\n",
    "train_labels = pd.read_pickle('Data/train_labels.pkl').loc[train_data_org.index]\n",
    "Features = train_data.columns\n",
    "train_labels.reset_index(inplace=True)\n",
    "train_labels.drop(columns=['customer_ID'], inplace=True)\n",
    "train_data.shape, train_labels.shape"
   ]
  },
  {
   "cell_type": "code",
   "execution_count": null,
   "metadata": {},
   "outputs": [],
   "source": [
    "models, df_scores, importances, df_results = base_model_lgbm(train_data, train_labels)"
   ]
  },
  {
   "cell_type": "code",
   "execution_count": null,
   "metadata": {},
   "outputs": [],
   "source": [
    "pickle.dump(models, open(\"Models/models_baseline_6.pkl\", \"wb\"))\n",
    "pickle.dump(importances, open(\"Models/importances_baseline_6.pkl\", \"wb\"))"
   ]
  },
  {
   "cell_type": "code",
   "execution_count": null,
   "metadata": {},
   "outputs": [],
   "source": [
    "df_results"
   ]
  },
  {
   "cell_type": "code",
   "execution_count": null,
   "metadata": {},
   "outputs": [],
   "source": [
    "importances = pickle.load(open(\"Models/importances_baseline_6.pkl\", \"rb\"))\n",
    "def plot_importance(ii, features, PLOT_TOP_N = 50, figsize=(10, 10)):\n",
    "    importance_df = pd.DataFrame(data=importances, columns=features)\n",
    "    sorted_indices = importance_df.median(axis=0).sort_values(ascending=False).index\n",
    "    sorted_importance_df = importance_df.loc[:, sorted_indices]\n",
    "    plot_cols = sorted_importance_df.columns[:PLOT_TOP_N]\n",
    "    _, ax = plt.subplots(figsize=figsize)\n",
    "    ax.grid()\n",
    "    ax.set_xscale('log')\n",
    "    ax.set_ylabel('Feature')\n",
    "    ax.set_xlabel('Importance')\n",
    "    sns.boxplot(data=sorted_importance_df[plot_cols],\n",
    "                orient='h',\n",
    "                ax=ax)\n",
    "    plt.show()\n",
    "    \n",
    "plot_importance(np.array(importances),train_data.columns, PLOT_TOP_N = 50, figsize=(10, 20))"
   ]
  },
  {
   "cell_type": "code",
   "execution_count": null,
   "metadata": {},
   "outputs": [],
   "source": [
    "train_data = pd.read_pickle('Data/train_mo.pkl')\n",
    "# test_data = pd.read_pickle('Data/test_mo.pkl')\n",
    "models = pd.read_pickle('Models/models_baseline_6.pkl')\n",
    "train_data.shape"
   ]
  },
  {
   "cell_type": "code",
   "execution_count": null,
   "metadata": {},
   "outputs": [],
   "source": [
    "prediction_list = []\n",
    "for keys in models.keys():\n",
    "    prediction_list.append(models[keys].predict(train_data))\n",
    "\n",
    "prediction_df = pd.DataFrame(prediction_list).T\n",
    "prediction_df.index = train_data.index"
   ]
  },
  {
   "cell_type": "code",
   "execution_count": null,
   "metadata": {},
   "outputs": [],
   "source": [
    "prediction_df"
   ]
  },
  {
   "cell_type": "code",
   "execution_count": null,
   "metadata": {},
   "outputs": [],
   "source": [
    "prediction_df.mean(axis=1).to_csv('Output/p_baseline_6_train.csv',header=['prediction'])"
   ]
  },
  {
   "cell_type": "code",
   "execution_count": null,
   "metadata": {},
   "outputs": [],
   "source": [
    "del train_data"
   ]
  },
  {
   "cell_type": "code",
   "execution_count": null,
   "metadata": {},
   "outputs": [],
   "source": [
    "test_data = pd.read_pickle('Data/test_mo.pkl')"
   ]
  },
  {
   "cell_type": "code",
   "execution_count": null,
   "metadata": {},
   "outputs": [],
   "source": [
    "prediction_list = []\n",
    "for keys in models.keys():\n",
    "    prediction_list.append(models[keys].predict(test_data))\n",
    "\n",
    "prediction_df = pd.DataFrame(prediction_list).T\n",
    "prediction_df.index = test_data.index"
   ]
  },
  {
   "cell_type": "code",
   "execution_count": null,
   "metadata": {},
   "outputs": [],
   "source": [
    "prediction_df.mean(axis=1).to_csv('Output/p_baseline_6_test.csv',header=['prediction'])"
   ]
  },
  {
   "cell_type": "code",
   "execution_count": null,
   "metadata": {},
   "outputs": [],
   "source": [
    "test_data = pd.read_pickle('Data/test_data.pkl')"
   ]
  },
  {
   "cell_type": "code",
   "execution_count": null,
   "metadata": {},
   "outputs": [],
   "source": [
    "prediction_df.index = test_data.index"
   ]
  },
  {
   "cell_type": "code",
   "execution_count": null,
   "metadata": {},
   "outputs": [],
   "source": [
    "prediction_df.mean(axis=1).to_csv('Output/p_baseline_6_test.csv', header=['prediction'])"
   ]
  },
  {
   "cell_type": "code",
   "execution_count": 2,
   "metadata": {},
   "outputs": [],
   "source": [
    "train_data = pd.read_pickle('Data/train_data.pkl')"
   ]
  },
  {
   "cell_type": "code",
   "execution_count": 18,
   "metadata": {},
   "outputs": [],
   "source": [
    "prediction_df = pd.read_csv('Output/p_baseline_6_test.csv', index_col='customer_ID')"
   ]
  },
  {
   "cell_type": "code",
   "execution_count": 19,
   "metadata": {},
   "outputs": [
    {
     "data": {
      "text/html": [
       "<div>\n",
       "<style scoped>\n",
       "    .dataframe tbody tr th:only-of-type {\n",
       "        vertical-align: middle;\n",
       "    }\n",
       "\n",
       "    .dataframe tbody tr th {\n",
       "        vertical-align: top;\n",
       "    }\n",
       "\n",
       "    .dataframe thead th {\n",
       "        text-align: right;\n",
       "    }\n",
       "</style>\n",
       "<table border=\"1\" class=\"dataframe\">\n",
       "  <thead>\n",
       "    <tr style=\"text-align: right;\">\n",
       "      <th></th>\n",
       "      <th>prediction</th>\n",
       "    </tr>\n",
       "    <tr>\n",
       "      <th>customer_ID</th>\n",
       "      <th></th>\n",
       "    </tr>\n",
       "  </thead>\n",
       "  <tbody>\n",
       "    <tr>\n",
       "      <th>00000469ba478561f23a92a868bd366de6f6527a684c9a2e78fb826dcac3b9b7</th>\n",
       "      <td>0.162897</td>\n",
       "    </tr>\n",
       "    <tr>\n",
       "      <th>00000469ba478561f23a92a868bd366de6f6527a684c9a2e78fb826dcac3b9b7</th>\n",
       "      <td>0.133657</td>\n",
       "    </tr>\n",
       "    <tr>\n",
       "      <th>00000469ba478561f23a92a868bd366de6f6527a684c9a2e78fb826dcac3b9b7</th>\n",
       "      <td>0.165984</td>\n",
       "    </tr>\n",
       "    <tr>\n",
       "      <th>00000469ba478561f23a92a868bd366de6f6527a684c9a2e78fb826dcac3b9b7</th>\n",
       "      <td>0.193313</td>\n",
       "    </tr>\n",
       "    <tr>\n",
       "      <th>00000469ba478561f23a92a868bd366de6f6527a684c9a2e78fb826dcac3b9b7</th>\n",
       "      <td>0.144993</td>\n",
       "    </tr>\n",
       "    <tr>\n",
       "      <th>...</th>\n",
       "      <td>...</td>\n",
       "    </tr>\n",
       "    <tr>\n",
       "      <th>fffffa7cf7e453e1acc6a1426475d5cb9400859f82ff61cceb803ea8ec37634d</th>\n",
       "      <td>0.115791</td>\n",
       "    </tr>\n",
       "    <tr>\n",
       "      <th>fffffa7cf7e453e1acc6a1426475d5cb9400859f82ff61cceb803ea8ec37634d</th>\n",
       "      <td>0.090566</td>\n",
       "    </tr>\n",
       "    <tr>\n",
       "      <th>fffffa7cf7e453e1acc6a1426475d5cb9400859f82ff61cceb803ea8ec37634d</th>\n",
       "      <td>0.085229</td>\n",
       "    </tr>\n",
       "    <tr>\n",
       "      <th>fffffa7cf7e453e1acc6a1426475d5cb9400859f82ff61cceb803ea8ec37634d</th>\n",
       "      <td>0.059722</td>\n",
       "    </tr>\n",
       "    <tr>\n",
       "      <th>fffffa7cf7e453e1acc6a1426475d5cb9400859f82ff61cceb803ea8ec37634d</th>\n",
       "      <td>0.077343</td>\n",
       "    </tr>\n",
       "  </tbody>\n",
       "</table>\n",
       "<p>11363762 rows × 1 columns</p>\n",
       "</div>"
      ],
      "text/plain": [
       "                                                    prediction\n",
       "customer_ID                                                   \n",
       "00000469ba478561f23a92a868bd366de6f6527a684c9a2...    0.162897\n",
       "00000469ba478561f23a92a868bd366de6f6527a684c9a2...    0.133657\n",
       "00000469ba478561f23a92a868bd366de6f6527a684c9a2...    0.165984\n",
       "00000469ba478561f23a92a868bd366de6f6527a684c9a2...    0.193313\n",
       "00000469ba478561f23a92a868bd366de6f6527a684c9a2...    0.144993\n",
       "...                                                        ...\n",
       "fffffa7cf7e453e1acc6a1426475d5cb9400859f82ff61c...    0.115791\n",
       "fffffa7cf7e453e1acc6a1426475d5cb9400859f82ff61c...    0.090566\n",
       "fffffa7cf7e453e1acc6a1426475d5cb9400859f82ff61c...    0.085229\n",
       "fffffa7cf7e453e1acc6a1426475d5cb9400859f82ff61c...    0.059722\n",
       "fffffa7cf7e453e1acc6a1426475d5cb9400859f82ff61c...    0.077343\n",
       "\n",
       "[11363762 rows x 1 columns]"
      ]
     },
     "execution_count": 19,
     "metadata": {},
     "output_type": "execute_result"
    }
   ],
   "source": [
    "prediction_df"
   ]
  },
  {
   "cell_type": "code",
   "execution_count": 5,
   "metadata": {},
   "outputs": [],
   "source": [
    "prediction_df.index = train_data.index"
   ]
  },
  {
   "cell_type": "code",
   "execution_count": 8,
   "metadata": {},
   "outputs": [],
   "source": [
    "prediction_df.drop(columns=['unique_id'], inplace = True)"
   ]
  },
  {
   "cell_type": "code",
   "execution_count": 9,
   "metadata": {},
   "outputs": [],
   "source": [
    "prediction_df.to_csv('Output/p_baseline_6_train.csv',header=['prediction'])"
   ]
  },
  {
   "cell_type": "code",
   "execution_count": 20,
   "metadata": {},
   "outputs": [],
   "source": [
    "pred_agg = prediction_df.groupby('customer_ID').agg(['mean', 'std', 'min', 'max', 'last'])"
   ]
  },
  {
   "cell_type": "code",
   "execution_count": 21,
   "metadata": {},
   "outputs": [],
   "source": [
    "pred_agg.columns = ['_'.join(x) for x in pred_agg.columns]"
   ]
  },
  {
   "cell_type": "code",
   "execution_count": 22,
   "metadata": {},
   "outputs": [
    {
     "data": {
      "text/html": [
       "<div>\n",
       "<style scoped>\n",
       "    .dataframe tbody tr th:only-of-type {\n",
       "        vertical-align: middle;\n",
       "    }\n",
       "\n",
       "    .dataframe tbody tr th {\n",
       "        vertical-align: top;\n",
       "    }\n",
       "\n",
       "    .dataframe thead th {\n",
       "        text-align: right;\n",
       "    }\n",
       "</style>\n",
       "<table border=\"1\" class=\"dataframe\">\n",
       "  <thead>\n",
       "    <tr style=\"text-align: right;\">\n",
       "      <th></th>\n",
       "      <th>prediction_mean</th>\n",
       "      <th>prediction_std</th>\n",
       "      <th>prediction_min</th>\n",
       "      <th>prediction_max</th>\n",
       "      <th>prediction_last</th>\n",
       "    </tr>\n",
       "    <tr>\n",
       "      <th>customer_ID</th>\n",
       "      <th></th>\n",
       "      <th></th>\n",
       "      <th></th>\n",
       "      <th></th>\n",
       "      <th></th>\n",
       "    </tr>\n",
       "  </thead>\n",
       "  <tbody>\n",
       "    <tr>\n",
       "      <th>00000469ba478561f23a92a868bd366de6f6527a684c9a2e78fb826dcac3b9b7</th>\n",
       "      <td>0.135921</td>\n",
       "      <td>0.035544</td>\n",
       "      <td>0.077001</td>\n",
       "      <td>0.193313</td>\n",
       "      <td>0.077001</td>\n",
       "    </tr>\n",
       "    <tr>\n",
       "      <th>00001bf2e77ff879fab36aa4fac689b9ba411dae63ae397d4263dafa1daedef5</th>\n",
       "      <td>0.002623</td>\n",
       "      <td>0.002688</td>\n",
       "      <td>0.001373</td>\n",
       "      <td>0.011307</td>\n",
       "      <td>0.001689</td>\n",
       "    </tr>\n",
       "    <tr>\n",
       "      <th>0000210045da4f81e5f122c6bde5c2a617d03eef67f82c5e400fc98e7bd43ce8</th>\n",
       "      <td>0.069125</td>\n",
       "      <td>0.042913</td>\n",
       "      <td>0.018695</td>\n",
       "      <td>0.151381</td>\n",
       "      <td>0.088345</td>\n",
       "    </tr>\n",
       "    <tr>\n",
       "      <th>00003b41e58ede33b8daf61ab56d9952f17c9ad1c3976cf6e56734528702d694</th>\n",
       "      <td>0.605367</td>\n",
       "      <td>0.111049</td>\n",
       "      <td>0.355077</td>\n",
       "      <td>0.714967</td>\n",
       "      <td>0.355077</td>\n",
       "    </tr>\n",
       "    <tr>\n",
       "      <th>00004b22eaeeeb0ec976890c1d9bfc14fd9427e98c4ee9a4693dd914fca22557</th>\n",
       "      <td>0.705946</td>\n",
       "      <td>0.110600</td>\n",
       "      <td>0.569758</td>\n",
       "      <td>0.884140</td>\n",
       "      <td>0.884140</td>\n",
       "    </tr>\n",
       "    <tr>\n",
       "      <th>...</th>\n",
       "      <td>...</td>\n",
       "      <td>...</td>\n",
       "      <td>...</td>\n",
       "      <td>...</td>\n",
       "      <td>...</td>\n",
       "    </tr>\n",
       "    <tr>\n",
       "      <th>ffff952c631f2c911b8a2a8ca56ea6e656309a83d2f64c5d60460dba6dedc41e</th>\n",
       "      <td>0.023539</td>\n",
       "      <td>0.003435</td>\n",
       "      <td>0.018300</td>\n",
       "      <td>0.029643</td>\n",
       "      <td>0.021161</td>\n",
       "    </tr>\n",
       "    <tr>\n",
       "      <th>ffffcf5df59e5e0bba2a5ac4578a34e2b5aa64a1546cd3a4f0ca3de613b0b2ad</th>\n",
       "      <td>0.679755</td>\n",
       "      <td>0.110146</td>\n",
       "      <td>0.553399</td>\n",
       "      <td>0.851208</td>\n",
       "      <td>0.844901</td>\n",
       "    </tr>\n",
       "    <tr>\n",
       "      <th>ffffd61f098cc056dbd7d2a21380c4804bbfe60856f475cb095d2443a68030f1</th>\n",
       "      <td>0.708895</td>\n",
       "      <td>0.070205</td>\n",
       "      <td>0.588526</td>\n",
       "      <td>0.842022</td>\n",
       "      <td>0.588526</td>\n",
       "    </tr>\n",
       "    <tr>\n",
       "      <th>ffffddef1fc3643ea179c93245b68dca0f36941cd83977822e8b356988ca4d07</th>\n",
       "      <td>0.441597</td>\n",
       "      <td>0.115112</td>\n",
       "      <td>0.285208</td>\n",
       "      <td>0.597753</td>\n",
       "      <td>0.294727</td>\n",
       "    </tr>\n",
       "    <tr>\n",
       "      <th>fffffa7cf7e453e1acc6a1426475d5cb9400859f82ff61cceb803ea8ec37634d</th>\n",
       "      <td>0.097646</td>\n",
       "      <td>0.026180</td>\n",
       "      <td>0.059722</td>\n",
       "      <td>0.132758</td>\n",
       "      <td>0.077343</td>\n",
       "    </tr>\n",
       "  </tbody>\n",
       "</table>\n",
       "<p>924621 rows × 5 columns</p>\n",
       "</div>"
      ],
      "text/plain": [
       "                                                    prediction_mean  \\\n",
       "customer_ID                                                           \n",
       "00000469ba478561f23a92a868bd366de6f6527a684c9a2...         0.135921   \n",
       "00001bf2e77ff879fab36aa4fac689b9ba411dae63ae397...         0.002623   \n",
       "0000210045da4f81e5f122c6bde5c2a617d03eef67f82c5...         0.069125   \n",
       "00003b41e58ede33b8daf61ab56d9952f17c9ad1c3976cf...         0.605367   \n",
       "00004b22eaeeeb0ec976890c1d9bfc14fd9427e98c4ee9a...         0.705946   \n",
       "...                                                             ...   \n",
       "ffff952c631f2c911b8a2a8ca56ea6e656309a83d2f64c5...         0.023539   \n",
       "ffffcf5df59e5e0bba2a5ac4578a34e2b5aa64a1546cd3a...         0.679755   \n",
       "ffffd61f098cc056dbd7d2a21380c4804bbfe60856f475c...         0.708895   \n",
       "ffffddef1fc3643ea179c93245b68dca0f36941cd839778...         0.441597   \n",
       "fffffa7cf7e453e1acc6a1426475d5cb9400859f82ff61c...         0.097646   \n",
       "\n",
       "                                                    prediction_std  \\\n",
       "customer_ID                                                          \n",
       "00000469ba478561f23a92a868bd366de6f6527a684c9a2...        0.035544   \n",
       "00001bf2e77ff879fab36aa4fac689b9ba411dae63ae397...        0.002688   \n",
       "0000210045da4f81e5f122c6bde5c2a617d03eef67f82c5...        0.042913   \n",
       "00003b41e58ede33b8daf61ab56d9952f17c9ad1c3976cf...        0.111049   \n",
       "00004b22eaeeeb0ec976890c1d9bfc14fd9427e98c4ee9a...        0.110600   \n",
       "...                                                            ...   \n",
       "ffff952c631f2c911b8a2a8ca56ea6e656309a83d2f64c5...        0.003435   \n",
       "ffffcf5df59e5e0bba2a5ac4578a34e2b5aa64a1546cd3a...        0.110146   \n",
       "ffffd61f098cc056dbd7d2a21380c4804bbfe60856f475c...        0.070205   \n",
       "ffffddef1fc3643ea179c93245b68dca0f36941cd839778...        0.115112   \n",
       "fffffa7cf7e453e1acc6a1426475d5cb9400859f82ff61c...        0.026180   \n",
       "\n",
       "                                                    prediction_min  \\\n",
       "customer_ID                                                          \n",
       "00000469ba478561f23a92a868bd366de6f6527a684c9a2...        0.077001   \n",
       "00001bf2e77ff879fab36aa4fac689b9ba411dae63ae397...        0.001373   \n",
       "0000210045da4f81e5f122c6bde5c2a617d03eef67f82c5...        0.018695   \n",
       "00003b41e58ede33b8daf61ab56d9952f17c9ad1c3976cf...        0.355077   \n",
       "00004b22eaeeeb0ec976890c1d9bfc14fd9427e98c4ee9a...        0.569758   \n",
       "...                                                            ...   \n",
       "ffff952c631f2c911b8a2a8ca56ea6e656309a83d2f64c5...        0.018300   \n",
       "ffffcf5df59e5e0bba2a5ac4578a34e2b5aa64a1546cd3a...        0.553399   \n",
       "ffffd61f098cc056dbd7d2a21380c4804bbfe60856f475c...        0.588526   \n",
       "ffffddef1fc3643ea179c93245b68dca0f36941cd839778...        0.285208   \n",
       "fffffa7cf7e453e1acc6a1426475d5cb9400859f82ff61c...        0.059722   \n",
       "\n",
       "                                                    prediction_max  \\\n",
       "customer_ID                                                          \n",
       "00000469ba478561f23a92a868bd366de6f6527a684c9a2...        0.193313   \n",
       "00001bf2e77ff879fab36aa4fac689b9ba411dae63ae397...        0.011307   \n",
       "0000210045da4f81e5f122c6bde5c2a617d03eef67f82c5...        0.151381   \n",
       "00003b41e58ede33b8daf61ab56d9952f17c9ad1c3976cf...        0.714967   \n",
       "00004b22eaeeeb0ec976890c1d9bfc14fd9427e98c4ee9a...        0.884140   \n",
       "...                                                            ...   \n",
       "ffff952c631f2c911b8a2a8ca56ea6e656309a83d2f64c5...        0.029643   \n",
       "ffffcf5df59e5e0bba2a5ac4578a34e2b5aa64a1546cd3a...        0.851208   \n",
       "ffffd61f098cc056dbd7d2a21380c4804bbfe60856f475c...        0.842022   \n",
       "ffffddef1fc3643ea179c93245b68dca0f36941cd839778...        0.597753   \n",
       "fffffa7cf7e453e1acc6a1426475d5cb9400859f82ff61c...        0.132758   \n",
       "\n",
       "                                                    prediction_last  \n",
       "customer_ID                                                          \n",
       "00000469ba478561f23a92a868bd366de6f6527a684c9a2...         0.077001  \n",
       "00001bf2e77ff879fab36aa4fac689b9ba411dae63ae397...         0.001689  \n",
       "0000210045da4f81e5f122c6bde5c2a617d03eef67f82c5...         0.088345  \n",
       "00003b41e58ede33b8daf61ab56d9952f17c9ad1c3976cf...         0.355077  \n",
       "00004b22eaeeeb0ec976890c1d9bfc14fd9427e98c4ee9a...         0.884140  \n",
       "...                                                             ...  \n",
       "ffff952c631f2c911b8a2a8ca56ea6e656309a83d2f64c5...         0.021161  \n",
       "ffffcf5df59e5e0bba2a5ac4578a34e2b5aa64a1546cd3a...         0.844901  \n",
       "ffffd61f098cc056dbd7d2a21380c4804bbfe60856f475c...         0.588526  \n",
       "ffffddef1fc3643ea179c93245b68dca0f36941cd839778...         0.294727  \n",
       "fffffa7cf7e453e1acc6a1426475d5cb9400859f82ff61c...         0.077343  \n",
       "\n",
       "[924621 rows x 5 columns]"
      ]
     },
     "execution_count": 22,
     "metadata": {},
     "output_type": "execute_result"
    }
   ],
   "source": [
    "pred_agg"
   ]
  },
  {
   "cell_type": "code",
   "execution_count": 23,
   "metadata": {},
   "outputs": [],
   "source": [
    "pred_agg.to_csv('Output/p_baseline_6_test_agg.csv')"
   ]
  },
  {
   "cell_type": "code",
   "execution_count": null,
   "metadata": {},
   "outputs": [],
   "source": []
  }
 ],
 "metadata": {
  "interpreter": {
   "hash": "dfe2e9041c24d5f91854bb9ffc35eacf9a6123f8e0fdaf39110ac9ad93cae24d"
  },
  "kernelspec": {
   "display_name": "Python 3.9.7 ('base')",
   "language": "python",
   "name": "python3"
  },
  "language_info": {
   "codemirror_mode": {
    "name": "ipython",
    "version": 3
   },
   "file_extension": ".py",
   "mimetype": "text/x-python",
   "name": "python",
   "nbconvert_exporter": "python",
   "pygments_lexer": "ipython3",
   "version": "3.9.7"
  },
  "orig_nbformat": 4
 },
 "nbformat": 4,
 "nbformat_minor": 2
}
