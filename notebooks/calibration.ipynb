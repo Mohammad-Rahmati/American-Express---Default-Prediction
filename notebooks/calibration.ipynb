{
 "cells": [
  {
   "cell_type": "code",
   "execution_count": 1,
   "metadata": {},
   "outputs": [],
   "source": [
    "from evaluation_metric import *\n",
    "\n",
    "import pandas as pd\n",
    "import matplotlib.pyplot as plt\n",
    "from sklearn.calibration import calibration_curve\n",
    "import xgboost as xgb\n",
    "import seaborn as sns\n",
    "import pickle\n",
    "import gc\n",
    "from sklearn.linear_model import LogisticRegression\n",
    "from sklearn.calibration import calibration_curve"
   ]
  },
  {
   "cell_type": "code",
   "execution_count": 2,
   "metadata": {},
   "outputs": [
    {
     "data": {
      "text/plain": [
       "(458913, 638)"
      ]
     },
     "execution_count": 2,
     "metadata": {},
     "output_type": "execute_result"
    }
   ],
   "source": [
    "train = pd.read_parquet('Data/train_data_aggV3.parquet')\n",
    "models = pickle.load(open(\"Models/xgboost_b1.pkl\", \"rb\"))\n",
    "train.shape"
   ]
  },
  {
   "cell_type": "code",
   "execution_count": 3,
   "metadata": {},
   "outputs": [
    {
     "data": {
      "text/html": [
       "<div>\n",
       "<style scoped>\n",
       "    .dataframe tbody tr th:only-of-type {\n",
       "        vertical-align: middle;\n",
       "    }\n",
       "\n",
       "    .dataframe tbody tr th {\n",
       "        vertical-align: top;\n",
       "    }\n",
       "\n",
       "    .dataframe thead th {\n",
       "        text-align: right;\n",
       "    }\n",
       "</style>\n",
       "<table border=\"1\" class=\"dataframe\">\n",
       "  <thead>\n",
       "    <tr style=\"text-align: right;\">\n",
       "      <th>seed</th>\n",
       "      <th>0</th>\n",
       "      <th>1</th>\n",
       "      <th>2</th>\n",
       "      <th>3</th>\n",
       "      <th>fold_mean</th>\n",
       "    </tr>\n",
       "    <tr>\n",
       "      <th>fold</th>\n",
       "      <th></th>\n",
       "      <th></th>\n",
       "      <th></th>\n",
       "      <th></th>\n",
       "      <th></th>\n",
       "    </tr>\n",
       "  </thead>\n",
       "  <tbody>\n",
       "    <tr>\n",
       "      <th>0</th>\n",
       "      <td>0.793920</td>\n",
       "      <td>0.793398</td>\n",
       "      <td>0.793624</td>\n",
       "      <td>0.794076</td>\n",
       "      <td>0.793754</td>\n",
       "    </tr>\n",
       "    <tr>\n",
       "      <th>1</th>\n",
       "      <td>0.793522</td>\n",
       "      <td>0.794974</td>\n",
       "      <td>0.794412</td>\n",
       "      <td>0.794801</td>\n",
       "      <td>0.794427</td>\n",
       "    </tr>\n",
       "    <tr>\n",
       "      <th>2</th>\n",
       "      <td>0.798908</td>\n",
       "      <td>0.798429</td>\n",
       "      <td>0.800846</td>\n",
       "      <td>0.800047</td>\n",
       "      <td>0.799558</td>\n",
       "    </tr>\n",
       "    <tr>\n",
       "      <th>3</th>\n",
       "      <td>0.794846</td>\n",
       "      <td>0.796447</td>\n",
       "      <td>0.793575</td>\n",
       "      <td>0.795646</td>\n",
       "      <td>0.795128</td>\n",
       "    </tr>\n",
       "    <tr>\n",
       "      <th>4</th>\n",
       "      <td>0.785267</td>\n",
       "      <td>0.785917</td>\n",
       "      <td>0.786509</td>\n",
       "      <td>0.786154</td>\n",
       "      <td>0.785962</td>\n",
       "    </tr>\n",
       "    <tr>\n",
       "      <th>5</th>\n",
       "      <td>0.793922</td>\n",
       "      <td>0.793085</td>\n",
       "      <td>0.791075</td>\n",
       "      <td>0.791652</td>\n",
       "      <td>0.792433</td>\n",
       "    </tr>\n",
       "    <tr>\n",
       "      <th>6</th>\n",
       "      <td>0.796355</td>\n",
       "      <td>0.798684</td>\n",
       "      <td>0.795205</td>\n",
       "      <td>0.793637</td>\n",
       "      <td>0.795970</td>\n",
       "    </tr>\n",
       "    <tr>\n",
       "      <th>7</th>\n",
       "      <td>0.796857</td>\n",
       "      <td>0.797352</td>\n",
       "      <td>0.795153</td>\n",
       "      <td>0.797738</td>\n",
       "      <td>0.796775</td>\n",
       "    </tr>\n",
       "    <tr>\n",
       "      <th>8</th>\n",
       "      <td>0.798118</td>\n",
       "      <td>0.798816</td>\n",
       "      <td>0.797260</td>\n",
       "      <td>0.797605</td>\n",
       "      <td>0.797950</td>\n",
       "    </tr>\n",
       "    <tr>\n",
       "      <th>9</th>\n",
       "      <td>0.803606</td>\n",
       "      <td>0.805228</td>\n",
       "      <td>0.802872</td>\n",
       "      <td>0.804817</td>\n",
       "      <td>0.804131</td>\n",
       "    </tr>\n",
       "    <tr>\n",
       "      <th>seed_mean</th>\n",
       "      <td>0.795532</td>\n",
       "      <td>0.796233</td>\n",
       "      <td>0.795053</td>\n",
       "      <td>0.795617</td>\n",
       "      <td>0.795609</td>\n",
       "    </tr>\n",
       "  </tbody>\n",
       "</table>\n",
       "</div>"
      ],
      "text/plain": [
       "seed              0         1         2         3  fold_mean\n",
       "fold                                                        \n",
       "0          0.793920  0.793398  0.793624  0.794076   0.793754\n",
       "1          0.793522  0.794974  0.794412  0.794801   0.794427\n",
       "2          0.798908  0.798429  0.800846  0.800047   0.799558\n",
       "3          0.794846  0.796447  0.793575  0.795646   0.795128\n",
       "4          0.785267  0.785917  0.786509  0.786154   0.785962\n",
       "5          0.793922  0.793085  0.791075  0.791652   0.792433\n",
       "6          0.796355  0.798684  0.795205  0.793637   0.795970\n",
       "7          0.796857  0.797352  0.795153  0.797738   0.796775\n",
       "8          0.798118  0.798816  0.797260  0.797605   0.797950\n",
       "9          0.803606  0.805228  0.802872  0.804817   0.804131\n",
       "seed_mean  0.795532  0.796233  0.795053  0.795617   0.795609"
      ]
     },
     "execution_count": 3,
     "metadata": {},
     "output_type": "execute_result"
    }
   ],
   "source": [
    "df_scores = []\n",
    "folds = 10\n",
    "for i in range(folds):\n",
    "    mask = train['cid']%folds == i\n",
    "    va = train[mask]\n",
    "\n",
    "    xt, yt = va.drop(['customer_ID', 'target', 'cid', 'S_2'], axis=1), va['target']\n",
    "    dvalid = xgb.DMatrix(data=xt, label=yt)\n",
    "    \n",
    "    keys = []\n",
    "    for j in range(4):\n",
    "        key = '{}-{}'.format(i,j)\n",
    "        model = models[key]\n",
    "        pred = model.predict(dvalid, iteration_range = (0,model.best_iteration))\n",
    "\n",
    "        pred = pd.DataFrame(pred, columns=['prediction']).reset_index(drop = True)\n",
    "        yt = pd.DataFrame(yt).reset_index(drop = True)\n",
    "        \n",
    "        score = amex_metric(yt, pred)\n",
    "        df_scores.append((i, j, score))\n",
    "\n",
    "df_results = pd.DataFrame(df_scores,columns=['fold','seed','score']).pivot(index='fold',columns='seed',values='score')\n",
    "df_results.loc['seed_mean']= df_results.mean(numeric_only=True, axis=0)\n",
    "df_results.loc[:,'fold_mean'] = df_results.mean(numeric_only=True, axis=1)\n",
    "\n",
    "del dvalid\n",
    "gc.collect()\n",
    "df_results"
   ]
  },
  {
   "cell_type": "code",
   "execution_count": 4,
   "metadata": {},
   "outputs": [
    {
     "data": {
      "text/plain": [
       "['0-3', '1-1', '2-2', '3-1', '4-2', '5-0', '6-1', '7-3', '8-1', '9-1']"
      ]
     },
     "execution_count": 4,
     "metadata": {},
     "output_type": "execute_result"
    }
   ],
   "source": [
    "indxmax = df_results.drop('seed_mean', axis=0).idxmax(axis=1).values\n",
    "list_best_model_keys = []\n",
    "for i in range(folds):\n",
    "    list_best_model_keys.append('{}-{}'.format(i, indxmax[i]))\n",
    "list_best_model_keys"
   ]
  },
  {
   "cell_type": "code",
   "execution_count": 40,
   "metadata": {},
   "outputs": [],
   "source": [
    "folds = 10\n",
    "i = 2\n",
    "mask = train['cid']%folds == i\n",
    "data = train[mask]\n",
    "data.set_index('customer_ID', inplace=True)\n",
    "data_features, data_targets  = data.drop(['target', 'cid', 'S_2'], axis=1), data['target']\n",
    "\n",
    "data_features_DMatrix = xgb.DMatrix(data=data_features)\n",
    "\n",
    "key = list_best_model_keys[i]\n",
    "model = models[key]\n",
    "pred = model.predict(data_features_DMatrix, iteration_range = (0,model.best_iteration))\n",
    "pred = pd.DataFrame(pred, columns=['prediction'], index=data_targets.index)"
   ]
  },
  {
   "cell_type": "code",
   "execution_count": 70,
   "metadata": {},
   "outputs": [
    {
     "data": {
      "text/plain": [
       "((41302, 2), (4590, 2))"
      ]
     },
     "execution_count": 70,
     "metadata": {},
     "output_type": "execute_result"
    }
   ],
   "source": [
    "df = pd.concat([pred, data_targets], axis=1)\n",
    "size = df.shape[0]\n",
    "pred_train = df.iloc[:int(0.9*size)]\n",
    "pred_test = df.iloc[int(0.9*size):]\n",
    "pred_train.shape, pred_test.shape"
   ]
  },
  {
   "cell_type": "code",
   "execution_count": 71,
   "metadata": {},
   "outputs": [
    {
     "data": {
      "text/plain": [
       "LogisticRegression()"
      ]
     },
     "execution_count": 71,
     "metadata": {},
     "output_type": "execute_result"
    }
   ],
   "source": [
    "lr = LogisticRegression()\n",
    "lr.fit(pred_train['prediction'].to_numpy().reshape(-1, 1), pred_train['target'])"
   ]
  },
  {
   "cell_type": "code",
   "execution_count": 72,
   "metadata": {},
   "outputs": [
    {
     "data": {
      "text/plain": [
       "array([[6.78520236]])"
      ]
     },
     "execution_count": 72,
     "metadata": {},
     "output_type": "execute_result"
    }
   ],
   "source": [
    "lr.coef_"
   ]
  },
  {
   "cell_type": "code",
   "execution_count": 73,
   "metadata": {},
   "outputs": [],
   "source": [
    "pred_df = pd.DataFrame(pred_test['prediction'], columns=['prediction']).reset_index(drop = True)\n",
    "yt_df = pd.DataFrame(pred_test['target']).reset_index(drop = True)"
   ]
  },
  {
   "cell_type": "code",
   "execution_count": 74,
   "metadata": {},
   "outputs": [
    {
     "data": {
      "text/plain": [
       "0.8018804948278312"
      ]
     },
     "execution_count": 74,
     "metadata": {},
     "output_type": "execute_result"
    }
   ],
   "source": [
    "amex_metric(yt_df, pred_df)"
   ]
  },
  {
   "cell_type": "code",
   "execution_count": 75,
   "metadata": {},
   "outputs": [],
   "source": [
    "calibrated_pred = lr.predict_proba(pred_test['prediction'].to_numpy().reshape(-1, 1))[:,1]"
   ]
  },
  {
   "cell_type": "code",
   "execution_count": 76,
   "metadata": {},
   "outputs": [],
   "source": [
    "calibrated_pred = pd.DataFrame(calibrated_pred, columns=['prediction']).reset_index(drop = True)"
   ]
  },
  {
   "cell_type": "code",
   "execution_count": 77,
   "metadata": {},
   "outputs": [
    {
     "data": {
      "text/plain": [
       "0.8018804948278312"
      ]
     },
     "execution_count": 77,
     "metadata": {},
     "output_type": "execute_result"
    }
   ],
   "source": [
    "amex_metric(yt_df, calibrated_pred)"
   ]
  },
  {
   "cell_type": "code",
   "execution_count": 78,
   "metadata": {},
   "outputs": [
    {
     "data": {
      "image/png": "[encoded data removed]",
      "text/plain": [
       "<Figure size 864x432 with 1 Axes>"
      ]
     },
     "metadata": {
      "needs_background": "light"
     },
     "output_type": "display_data"
    }
   ],
   "source": [
    "fraction_of_positives, mean_predicted_value = calibration_curve(yt_df, pred_df, n_bins=10)\n",
    "fig, ax = plt.subplots(1, figsize=(12, 6))\n",
    "plt.plot(mean_predicted_value, fraction_of_positives, 's-')\n",
    "plt.plot([0, 1], [0, 1], '--', color='gray')\n",
    "\n",
    "sns.despine(left=True, bottom=True)\n",
    "plt.gca().xaxis.set_ticks_position('none')\n",
    "plt.gca().yaxis.set_ticks_position('none')\n",
    "plt.title(\"$XGBOOST$ Calibration Curve\", fontsize=20); pass"
   ]
  },
  {
   "cell_type": "code",
   "execution_count": 79,
   "metadata": {},
   "outputs": [
    {
     "data": {
      "image/png": "[encoded data removed]",
      "text/plain": [
       "<Figure size 864x432 with 1 Axes>"
      ]
     },
     "metadata": {
      "needs_background": "light"
     },
     "output_type": "display_data"
    }
   ],
   "source": [
    "fraction_of_positives, mean_predicted_value = calibration_curve(yt_df, calibrated_pred, n_bins=10)\n",
    "fig, ax = plt.subplots(1, figsize=(12, 6))\n",
    "plt.plot(mean_predicted_value, fraction_of_positives, 's-')\n",
    "plt.plot([0, 1], [0, 1], '--', color='gray')\n",
    "\n",
    "sns.despine(left=True, bottom=True)\n",
    "plt.gca().xaxis.set_ticks_position('none')\n",
    "plt.gca().yaxis.set_ticks_position('none')\n",
    "plt.title(\"$XGBOOST$ Calibration Curve\", fontsize=20); pass"
   ]
  },
  {
   "cell_type": "code",
   "execution_count": null,
   "metadata": {},
   "outputs": [],
   "source": []
  }
 ],
 "metadata": {
  "kernelspec": {
   "display_name": "Python 3.9.12 ('rapids-22.06')",
   "language": "python",
   "name": "python3"
  },
  "language_info": {
   "codemirror_mode": {
    "name": "ipython",
    "version": 3
   },
   "file_extension": ".py",
   "mimetype": "text/x-python",
   "name": "python",
   "nbconvert_exporter": "python",
   "pygments_lexer": "ipython3",
   "version": "3.9.12"
  },
  "orig_nbformat": 4,
  "vscode": {
   "interpreter": {
    "hash": "468ef23ed2970eb3eae24d512361eed443dbea3050d88b5fbf8075c8ae4b100c"
   }
  }
 },
 "nbformat": 4,
 "nbformat_minor": 2
}
