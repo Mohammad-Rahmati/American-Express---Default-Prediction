{
 "cells": [
  {
   "cell_type": "code",
   "execution_count": null,
   "metadata": {},
   "outputs": [],
   "source": [
    "import pandas as pd\n",
    "from dython.nominal import associations\n",
    "from sklearn.preprocessing import StandardScaler\n",
    "import gc\n",
    "import warnings\n",
    "warnings.filterwarnings(\"ignore\")"
   ]
  },
  {
   "cell_type": "code",
   "execution_count": null,
   "metadata": {},
   "outputs": [],
   "source": [
    "train_data = pd.read_pickle('Data/train_agg_mo.pkl')\n",
    "train_labels = pd.read_pickle('Data/train_labels.pkl').loc[train_data.index]\n",
    "\n",
    "train_data.shape, train_labels.shape"
   ]
  },
  {
   "cell_type": "code",
   "execution_count": null,
   "metadata": {},
   "outputs": [],
   "source": [
    "train_data_org = pd.read_pickle('Data/train_data.pkl')\n",
    "train_data_org.shape"
   ]
  },
  {
   "cell_type": "markdown",
   "metadata": {},
   "source": [
    "D_* = Delinquency variables\n",
    "\n",
    "S_* = Spend variables\n",
    "\n",
    "P_* = Payment variables\n",
    "\n",
    "B_* = Balance variables\n",
    "\n",
    "R_* = Risk variables"
   ]
  },
  {
   "cell_type": "code",
   "execution_count": null,
   "metadata": {},
   "outputs": [],
   "source": [
    "d_features =train_data_org.columns[train_data_org.columns.str.startswith('D_')]\n",
    "s_features =train_data_org.columns[train_data_org.columns.str.startswith('S_')]\n",
    "p_features =train_data_org.columns[train_data_org.columns.str.startswith('P_')]\n",
    "b_features =train_data_org.columns[train_data_org.columns.str.startswith('B_')]\n",
    "r_features =train_data_org.columns[train_data_org.columns.str.startswith('R_')]"
   ]
  },
  {
   "cell_type": "code",
   "execution_count": null,
   "metadata": {},
   "outputs": [],
   "source": [
    "del train_data_org"
   ]
  },
  {
   "cell_type": "code",
   "execution_count": null,
   "metadata": {},
   "outputs": [],
   "source": [
    "fe_df = pd.DataFrame()\n",
    "for bcol in [f'{i}_num_mean' for i in b_features]+[f'{i}_num_mean' for i in d_features]+[f'{i}_num_mean' for i in s_features]:\n",
    "    for pcol in [f'{i}_num_mean' for i in p_features]:\n",
    "        if bcol in train_data.columns:\n",
    "            fe_df[f'{bcol}-{pcol}'] = train_data[bcol] - train_data[pcol]"
   ]
  },
  {
   "cell_type": "code",
   "execution_count": null,
   "metadata": {},
   "outputs": [],
   "source": [
    "fe_df = fe_df.fillna(fe_df.median())"
   ]
  },
  {
   "cell_type": "code",
   "execution_count": null,
   "metadata": {},
   "outputs": [],
   "source": [
    "fe_df_df = pd.DataFrame(fe_df, index=fe_df.index, columns=fe_df.columns)"
   ]
  },
  {
   "cell_type": "code",
   "execution_count": null,
   "metadata": {},
   "outputs": [],
   "source": [
    "fe_target_df = pd.concat([fe_df_df, train_labels['target']],axis=1)"
   ]
  },
  {
   "cell_type": "code",
   "execution_count": null,
   "metadata": {},
   "outputs": [],
   "source": [
    "association_dictionary = associations(fe_target_df,\n",
    "                                        nominal_columns = ['target'], mark_columns = True, \n",
    "                                        display_rows = ['target'], nan_strategy = 'drop_samples',figsize= (15, 15),\n",
    "                                        vmin = 0, vmax=0.8, compute_only = True, cbar = False) "
   ]
  },
  {
   "cell_type": "code",
   "execution_count": null,
   "metadata": {},
   "outputs": [],
   "source": [
    "cft = association_dictionary['corr'].stack().sort_values(ascending = False)\n",
    "cft"
   ]
  }
 ],
 "metadata": {
  "interpreter": {
   "hash": "916dbcbb3f70747c44a77c7bcd40155683ae19c65e1c03b4aa3499c5328201f1"
  },
  "kernelspec": {
   "display_name": "Python 3.10.4 64-bit",
   "language": "python",
   "name": "python3"
  },
  "language_info": {
   "codemirror_mode": {
    "name": "ipython",
    "version": 3
   },
   "file_extension": ".py",
   "mimetype": "text/x-python",
   "name": "python",
   "nbconvert_exporter": "python",
   "pygments_lexer": "ipython3",
   "version": "3.10.4"
  },
  "orig_nbformat": 4
 },
 "nbformat": 4,
 "nbformat_minor": 2
}
