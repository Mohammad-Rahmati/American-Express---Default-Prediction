{
 "cells": [
  {
   "cell_type": "code",
   "execution_count": 34,
   "metadata": {},
   "outputs": [],
   "source": [
    "import pandas as pd\n",
    "import numpy as np\n",
    "import matplotlib.pyplot as plt\n",
    "\n",
    "import warnings\n",
    "warnings.filterwarnings(\"ignore\")"
   ]
  },
  {
   "cell_type": "code",
   "execution_count": 22,
   "metadata": {},
   "outputs": [
    {
     "data": {
      "text/plain": [
       "((5531451, 189), (458913, 1))"
      ]
     },
     "execution_count": 22,
     "metadata": {},
     "output_type": "execute_result"
    }
   ],
   "source": [
    "train_data = pd.read_pickle('Data/train_data.pkl')\n",
    "train_labels = pd.read_pickle('Data/train_labels.pkl')\n",
    "train_data.shape, train_labels.shape"
   ]
  },
  {
   "cell_type": "code",
   "execution_count": 57,
   "metadata": {},
   "outputs": [
    {
     "data": {
      "text/html": [
       "<div>\n",
       "<style scoped>\n",
       "    .dataframe tbody tr th:only-of-type {\n",
       "        vertical-align: middle;\n",
       "    }\n",
       "\n",
       "    .dataframe tbody tr th {\n",
       "        vertical-align: top;\n",
       "    }\n",
       "\n",
       "    .dataframe thead th {\n",
       "        text-align: right;\n",
       "    }\n",
       "</style>\n",
       "<table border=\"1\" class=\"dataframe\">\n",
       "  <thead>\n",
       "    <tr style=\"text-align: right;\">\n",
       "      <th></th>\n",
       "      <th>B_1</th>\n",
       "      <th>B_37</th>\n",
       "    </tr>\n",
       "    <tr>\n",
       "      <th>customer_ID</th>\n",
       "      <th></th>\n",
       "      <th></th>\n",
       "    </tr>\n",
       "  </thead>\n",
       "  <tbody>\n",
       "    <tr>\n",
       "      <th>0000099d6bd597052cdcda90ffabf56573fe9d7c79be5fbac11a8ed792feb62a</th>\n",
       "      <td>0.008728</td>\n",
       "      <td>0.004570</td>\n",
       "    </tr>\n",
       "    <tr>\n",
       "      <th>0000099d6bd597052cdcda90ffabf56573fe9d7c79be5fbac11a8ed792feb62a</th>\n",
       "      <td>0.004925</td>\n",
       "      <td>0.004654</td>\n",
       "    </tr>\n",
       "    <tr>\n",
       "      <th>0000099d6bd597052cdcda90ffabf56573fe9d7c79be5fbac11a8ed792feb62a</th>\n",
       "      <td>0.021652</td>\n",
       "      <td>0.019180</td>\n",
       "    </tr>\n",
       "    <tr>\n",
       "      <th>0000099d6bd597052cdcda90ffabf56573fe9d7c79be5fbac11a8ed792feb62a</th>\n",
       "      <td>0.013687</td>\n",
       "      <td>0.011719</td>\n",
       "    </tr>\n",
       "    <tr>\n",
       "      <th>0000099d6bd597052cdcda90ffabf56573fe9d7c79be5fbac11a8ed792feb62a</th>\n",
       "      <td>0.015190</td>\n",
       "      <td>0.017593</td>\n",
       "    </tr>\n",
       "    <tr>\n",
       "      <th>...</th>\n",
       "      <td>...</td>\n",
       "      <td>...</td>\n",
       "    </tr>\n",
       "    <tr>\n",
       "      <th>fffff1d38b785cef84adeace64f8f83db3a0c31e8d92eaba8b115f71cab04681</th>\n",
       "      <td>0.020813</td>\n",
       "      <td>0.022903</td>\n",
       "    </tr>\n",
       "    <tr>\n",
       "      <th>fffff1d38b785cef84adeace64f8f83db3a0c31e8d92eaba8b115f71cab04681</th>\n",
       "      <td>0.007210</td>\n",
       "      <td>0.013443</td>\n",
       "    </tr>\n",
       "    <tr>\n",
       "      <th>fffff1d38b785cef84adeace64f8f83db3a0c31e8d92eaba8b115f71cab04681</th>\n",
       "      <td>0.013153</td>\n",
       "      <td>0.009064</td>\n",
       "    </tr>\n",
       "    <tr>\n",
       "      <th>fffff1d38b785cef84adeace64f8f83db3a0c31e8d92eaba8b115f71cab04681</th>\n",
       "      <td>0.009857</td>\n",
       "      <td>0.008064</td>\n",
       "    </tr>\n",
       "    <tr>\n",
       "      <th>fffff1d38b785cef84adeace64f8f83db3a0c31e8d92eaba8b115f71cab04681</th>\n",
       "      <td>0.000077</td>\n",
       "      <td>0.008003</td>\n",
       "    </tr>\n",
       "  </tbody>\n",
       "</table>\n",
       "<p>5531451 rows × 2 columns</p>\n",
       "</div>"
      ],
      "text/plain": [
       "                                                         B_1      B_37\n",
       "customer_ID                                                           \n",
       "0000099d6bd597052cdcda90ffabf56573fe9d7c79be5fb...  0.008728  0.004570\n",
       "0000099d6bd597052cdcda90ffabf56573fe9d7c79be5fb...  0.004925  0.004654\n",
       "0000099d6bd597052cdcda90ffabf56573fe9d7c79be5fb...  0.021652  0.019180\n",
       "0000099d6bd597052cdcda90ffabf56573fe9d7c79be5fb...  0.013687  0.011719\n",
       "0000099d6bd597052cdcda90ffabf56573fe9d7c79be5fb...  0.015190  0.017593\n",
       "...                                                      ...       ...\n",
       "fffff1d38b785cef84adeace64f8f83db3a0c31e8d92eab...  0.020813  0.022903\n",
       "fffff1d38b785cef84adeace64f8f83db3a0c31e8d92eab...  0.007210  0.013443\n",
       "fffff1d38b785cef84adeace64f8f83db3a0c31e8d92eab...  0.013153  0.009064\n",
       "fffff1d38b785cef84adeace64f8f83db3a0c31e8d92eab...  0.009857  0.008064\n",
       "fffff1d38b785cef84adeace64f8f83db3a0c31e8d92eab...  0.000077  0.008003\n",
       "\n",
       "[5531451 rows x 2 columns]"
      ]
     },
     "execution_count": 57,
     "metadata": {},
     "output_type": "execute_result"
    }
   ],
   "source": [
    "features = ['B_1', 'B_37']\n",
    "train_data[features]"
   ]
  },
  {
   "cell_type": "code",
   "execution_count": 58,
   "metadata": {},
   "outputs": [
    {
     "data": {
      "text/html": [
       "<div>\n",
       "<style scoped>\n",
       "    .dataframe tbody tr th:only-of-type {\n",
       "        vertical-align: middle;\n",
       "    }\n",
       "\n",
       "    .dataframe tbody tr th {\n",
       "        vertical-align: top;\n",
       "    }\n",
       "\n",
       "    .dataframe thead th {\n",
       "        text-align: right;\n",
       "    }\n",
       "</style>\n",
       "<table border=\"1\" class=\"dataframe\">\n",
       "  <thead>\n",
       "    <tr style=\"text-align: right;\">\n",
       "      <th></th>\n",
       "      <th>B_1</th>\n",
       "      <th>B_37</th>\n",
       "    </tr>\n",
       "  </thead>\n",
       "  <tbody>\n",
       "    <tr>\n",
       "      <th>count</th>\n",
       "      <td>5.531451e+06</td>\n",
       "      <td>5.531395e+06</td>\n",
       "    </tr>\n",
       "    <tr>\n",
       "      <th>mean</th>\n",
       "      <td>NaN</td>\n",
       "      <td>NaN</td>\n",
       "    </tr>\n",
       "    <tr>\n",
       "      <th>std</th>\n",
       "      <td>0.000000e+00</td>\n",
       "      <td>0.000000e+00</td>\n",
       "    </tr>\n",
       "    <tr>\n",
       "      <th>min</th>\n",
       "      <td>-7.589844e+00</td>\n",
       "      <td>-7.605469e+00</td>\n",
       "    </tr>\n",
       "    <tr>\n",
       "      <th>25%</th>\n",
       "      <td>8.865356e-03</td>\n",
       "      <td>8.834839e-03</td>\n",
       "    </tr>\n",
       "    <tr>\n",
       "      <th>50%</th>\n",
       "      <td>3.134155e-02</td>\n",
       "      <td>3.114319e-02</td>\n",
       "    </tr>\n",
       "    <tr>\n",
       "      <th>75%</th>\n",
       "      <td>1.258545e-01</td>\n",
       "      <td>1.238403e-01</td>\n",
       "    </tr>\n",
       "    <tr>\n",
       "      <th>max</th>\n",
       "      <td>1.324219e+00</td>\n",
       "      <td>1.328125e+00</td>\n",
       "    </tr>\n",
       "  </tbody>\n",
       "</table>\n",
       "</div>"
      ],
      "text/plain": [
       "                B_1          B_37\n",
       "count  5.531451e+06  5.531395e+06\n",
       "mean            NaN           NaN\n",
       "std    0.000000e+00  0.000000e+00\n",
       "min   -7.589844e+00 -7.605469e+00\n",
       "25%    8.865356e-03  8.834839e-03\n",
       "50%    3.134155e-02  3.114319e-02\n",
       "75%    1.258545e-01  1.238403e-01\n",
       "max    1.324219e+00  1.328125e+00"
      ]
     },
     "execution_count": 58,
     "metadata": {},
     "output_type": "execute_result"
    }
   ],
   "source": [
    "train_data[features].describe()"
   ]
  },
  {
   "cell_type": "code",
   "execution_count": 59,
   "metadata": {},
   "outputs": [
    {
     "data": {
      "text/plain": [
       "array([[<AxesSubplot:title={'center':'B_1'}>,\n",
       "        <AxesSubplot:title={'center':'B_37'}>]], dtype=object)"
      ]
     },
     "execution_count": 59,
     "metadata": {},
     "output_type": "execute_result"
    },
    {
     "data": {
      "image/png": "[encoded data removed]",
      "text/plain": [
       "<Figure size 432x288 with 2 Axes>"
      ]
     },
     "metadata": {
      "needs_background": "light"
     },
     "output_type": "display_data"
    }
   ],
   "source": [
    "train_data[features].hist()"
   ]
  },
  {
   "cell_type": "code",
   "execution_count": 60,
   "metadata": {},
   "outputs": [
    {
     "data": {
      "text/plain": [
       "array([[<AxesSubplot:title={'center':'B_1'}>,\n",
       "        <AxesSubplot:title={'center':'B_37'}>]], dtype=object)"
      ]
     },
     "execution_count": 60,
     "metadata": {},
     "output_type": "execute_result"
    },
    {
     "data": {
      "image/png": "[encoded data removed]",
      "text/plain": [
       "<Figure size 432x288 with 2 Axes>"
      ]
     },
     "metadata": {
      "needs_background": "light"
     },
     "output_type": "display_data"
    }
   ],
   "source": [
    "pd.DataFrame(np.log(train_data[features]+0.0001)).hist()"
   ]
  },
  {
   "cell_type": "code",
   "execution_count": 61,
   "metadata": {},
   "outputs": [
    {
     "data": {
      "text/plain": [
       "B_1      0\n",
       "B_37    56\n",
       "dtype: int64"
      ]
     },
     "execution_count": 61,
     "metadata": {},
     "output_type": "execute_result"
    }
   ],
   "source": [
    "train_data[features].isnull().sum()"
   ]
  },
  {
   "cell_type": "code",
   "execution_count": 47,
   "metadata": {},
   "outputs": [
    {
     "data": {
      "text/html": [
       "<div>\n",
       "<style scoped>\n",
       "    .dataframe tbody tr th:only-of-type {\n",
       "        vertical-align: middle;\n",
       "    }\n",
       "\n",
       "    .dataframe tbody tr th {\n",
       "        vertical-align: top;\n",
       "    }\n",
       "\n",
       "    .dataframe thead th {\n",
       "        text-align: right;\n",
       "    }\n",
       "</style>\n",
       "<table border=\"1\" class=\"dataframe\">\n",
       "  <thead>\n",
       "    <tr style=\"text-align: right;\">\n",
       "      <th></th>\n",
       "      <th>B_1</th>\n",
       "      <th>B_11</th>\n",
       "      <th>diff</th>\n",
       "    </tr>\n",
       "    <tr>\n",
       "      <th>customer_ID</th>\n",
       "      <th></th>\n",
       "      <th></th>\n",
       "      <th></th>\n",
       "    </tr>\n",
       "  </thead>\n",
       "  <tbody>\n",
       "    <tr>\n",
       "      <th>1934dee55d4b57dca16390e504c732f5ce887ab0be165d064412c5140a6ee350</th>\n",
       "      <td>0.845703</td>\n",
       "      <td>0.734863</td>\n",
       "      <td>0.110840</td>\n",
       "    </tr>\n",
       "    <tr>\n",
       "      <th>5ec79f6c50aee9f3cda624cfec130ede4a6e3e907f2d3694814289121290d576</th>\n",
       "      <td>0.950684</td>\n",
       "      <td>0.840332</td>\n",
       "      <td>0.110352</td>\n",
       "    </tr>\n",
       "    <tr>\n",
       "      <th>fdcefd55130b3aa2eda453fb78fb6715c88221a39e8c5a10f3891d21b0cff16f</th>\n",
       "      <td>0.856934</td>\n",
       "      <td>0.746582</td>\n",
       "      <td>0.110352</td>\n",
       "    </tr>\n",
       "    <tr>\n",
       "      <th>3dd50541c243672d6d714edf07cf3331354ee09d9d9e01ae01435714d3792f29</th>\n",
       "      <td>0.874023</td>\n",
       "      <td>0.763672</td>\n",
       "      <td>0.110352</td>\n",
       "    </tr>\n",
       "    <tr>\n",
       "      <th>353078c7375e33a4aed474403c99e941182c751aea211dc950a639896f5e6113</th>\n",
       "      <td>0.859863</td>\n",
       "      <td>0.749512</td>\n",
       "      <td>0.110352</td>\n",
       "    </tr>\n",
       "    <tr>\n",
       "      <th>...</th>\n",
       "      <td>...</td>\n",
       "      <td>...</td>\n",
       "      <td>...</td>\n",
       "    </tr>\n",
       "    <tr>\n",
       "      <th>2051d0cd445858284ebccd4163697cb1ebf367ac643b5971d195833a5d9bf9d7</th>\n",
       "      <td>-1.536133</td>\n",
       "      <td>0.004517</td>\n",
       "      <td>-1.541016</td>\n",
       "    </tr>\n",
       "    <tr>\n",
       "      <th>e641fb6132dde6b07cbacc4b9c14bfea2b22e4c20e9cedc56d1117bf968a64cd</th>\n",
       "      <td>-1.808594</td>\n",
       "      <td>0.009407</td>\n",
       "      <td>-1.818359</td>\n",
       "    </tr>\n",
       "    <tr>\n",
       "      <th>5ad7d25a4951eab874c50198e6a1ddd83c75249dffd4b08a78d1ae1c9f666ac8</th>\n",
       "      <td>-1.833008</td>\n",
       "      <td>0.001227</td>\n",
       "      <td>-1.833984</td>\n",
       "    </tr>\n",
       "    <tr>\n",
       "      <th>e71a691a4fb03ab2627d6260b5068811dd9a97fc26708a1aab1b458cfbb3079b</th>\n",
       "      <td>-3.570312</td>\n",
       "      <td>0.000077</td>\n",
       "      <td>-3.570312</td>\n",
       "    </tr>\n",
       "    <tr>\n",
       "      <th>6686ebd286c0b1a97852b2a91b899617aaedb4fc0a90bd29a67860b5da497e5d</th>\n",
       "      <td>-7.589844</td>\n",
       "      <td>0.007942</td>\n",
       "      <td>-7.597656</td>\n",
       "    </tr>\n",
       "  </tbody>\n",
       "</table>\n",
       "<p>5531451 rows × 3 columns</p>\n",
       "</div>"
      ],
      "text/plain": [
       "                                                         B_1      B_11  \\\n",
       "customer_ID                                                              \n",
       "1934dee55d4b57dca16390e504c732f5ce887ab0be165d0...  0.845703  0.734863   \n",
       "5ec79f6c50aee9f3cda624cfec130ede4a6e3e907f2d369...  0.950684  0.840332   \n",
       "fdcefd55130b3aa2eda453fb78fb6715c88221a39e8c5a1...  0.856934  0.746582   \n",
       "3dd50541c243672d6d714edf07cf3331354ee09d9d9e01a...  0.874023  0.763672   \n",
       "353078c7375e33a4aed474403c99e941182c751aea211dc...  0.859863  0.749512   \n",
       "...                                                      ...       ...   \n",
       "2051d0cd445858284ebccd4163697cb1ebf367ac643b597... -1.536133  0.004517   \n",
       "e641fb6132dde6b07cbacc4b9c14bfea2b22e4c20e9cedc... -1.808594  0.009407   \n",
       "5ad7d25a4951eab874c50198e6a1ddd83c75249dffd4b08... -1.833008  0.001227   \n",
       "e71a691a4fb03ab2627d6260b5068811dd9a97fc26708a1... -3.570312  0.000077   \n",
       "6686ebd286c0b1a97852b2a91b899617aaedb4fc0a90bd2... -7.589844  0.007942   \n",
       "\n",
       "                                                        diff  \n",
       "customer_ID                                                   \n",
       "1934dee55d4b57dca16390e504c732f5ce887ab0be165d0...  0.110840  \n",
       "5ec79f6c50aee9f3cda624cfec130ede4a6e3e907f2d369...  0.110352  \n",
       "fdcefd55130b3aa2eda453fb78fb6715c88221a39e8c5a1...  0.110352  \n",
       "3dd50541c243672d6d714edf07cf3331354ee09d9d9e01a...  0.110352  \n",
       "353078c7375e33a4aed474403c99e941182c751aea211dc...  0.110352  \n",
       "...                                                      ...  \n",
       "2051d0cd445858284ebccd4163697cb1ebf367ac643b597... -1.541016  \n",
       "e641fb6132dde6b07cbacc4b9c14bfea2b22e4c20e9cedc... -1.818359  \n",
       "5ad7d25a4951eab874c50198e6a1ddd83c75249dffd4b08... -1.833984  \n",
       "e71a691a4fb03ab2627d6260b5068811dd9a97fc26708a1... -3.570312  \n",
       "6686ebd286c0b1a97852b2a91b899617aaedb4fc0a90bd2... -7.597656  \n",
       "\n",
       "[5531451 rows x 3 columns]"
      ]
     },
     "execution_count": 47,
     "metadata": {},
     "output_type": "execute_result"
    }
   ],
   "source": [
    "df_study = train_data[features].fillna(-1)\n",
    "df_study['diff'] = df_study.iloc[:,0].sub(df_study.iloc[:,1])\n",
    "df_study.sort_values(by = 'diff', ascending = False, inplace=True)\n",
    "df_study"
   ]
  },
  {
   "cell_type": "code",
   "execution_count": 51,
   "metadata": {},
   "outputs": [
    {
     "data": {
      "text/html": [
       "<div>\n",
       "<style scoped>\n",
       "    .dataframe tbody tr th:only-of-type {\n",
       "        vertical-align: middle;\n",
       "    }\n",
       "\n",
       "    .dataframe tbody tr th {\n",
       "        vertical-align: top;\n",
       "    }\n",
       "\n",
       "    .dataframe thead th {\n",
       "        text-align: right;\n",
       "    }\n",
       "</style>\n",
       "<table border=\"1\" class=\"dataframe\">\n",
       "  <thead>\n",
       "    <tr style=\"text-align: right;\">\n",
       "      <th></th>\n",
       "      <th>B_1</th>\n",
       "      <th>B_11</th>\n",
       "      <th>diff</th>\n",
       "    </tr>\n",
       "    <tr>\n",
       "      <th>customer_ID</th>\n",
       "      <th></th>\n",
       "      <th></th>\n",
       "      <th></th>\n",
       "    </tr>\n",
       "  </thead>\n",
       "  <tbody>\n",
       "    <tr>\n",
       "      <th>1934dee55d4b57dca16390e504c732f5ce887ab0be165d064412c5140a6ee350</th>\n",
       "      <td>0.845703</td>\n",
       "      <td>0.734863</td>\n",
       "      <td>0.110840</td>\n",
       "    </tr>\n",
       "    <tr>\n",
       "      <th>5ec79f6c50aee9f3cda624cfec130ede4a6e3e907f2d3694814289121290d576</th>\n",
       "      <td>0.950684</td>\n",
       "      <td>0.840332</td>\n",
       "      <td>0.110352</td>\n",
       "    </tr>\n",
       "    <tr>\n",
       "      <th>fdcefd55130b3aa2eda453fb78fb6715c88221a39e8c5a10f3891d21b0cff16f</th>\n",
       "      <td>0.856934</td>\n",
       "      <td>0.746582</td>\n",
       "      <td>0.110352</td>\n",
       "    </tr>\n",
       "    <tr>\n",
       "      <th>3dd50541c243672d6d714edf07cf3331354ee09d9d9e01ae01435714d3792f29</th>\n",
       "      <td>0.874023</td>\n",
       "      <td>0.763672</td>\n",
       "      <td>0.110352</td>\n",
       "    </tr>\n",
       "    <tr>\n",
       "      <th>353078c7375e33a4aed474403c99e941182c751aea211dc950a639896f5e6113</th>\n",
       "      <td>0.859863</td>\n",
       "      <td>0.749512</td>\n",
       "      <td>0.110352</td>\n",
       "    </tr>\n",
       "    <tr>\n",
       "      <th>...</th>\n",
       "      <td>...</td>\n",
       "      <td>...</td>\n",
       "      <td>...</td>\n",
       "    </tr>\n",
       "    <tr>\n",
       "      <th>fc0ce3518e62fdc90fb1ea28b236774259a0d306bf88dec2f9ba47101daf273b</th>\n",
       "      <td>0.470459</td>\n",
       "      <td>0.420410</td>\n",
       "      <td>0.050049</td>\n",
       "    </tr>\n",
       "    <tr>\n",
       "      <th>d6f826265d69901975d9c7e9970bb291a917fc2e842df4c721f7314bb0d49bfe</th>\n",
       "      <td>0.275391</td>\n",
       "      <td>0.225342</td>\n",
       "      <td>0.050049</td>\n",
       "    </tr>\n",
       "    <tr>\n",
       "      <th>94b0054b8f6464d1be4cc64f201619db56e3bf1075ad411b09f70de9b50ec586</th>\n",
       "      <td>0.358398</td>\n",
       "      <td>0.308350</td>\n",
       "      <td>0.050049</td>\n",
       "    </tr>\n",
       "    <tr>\n",
       "      <th>2feb9697e040df982cca92d84b546b9c5324049f541a7cfb8d65066fa801404e</th>\n",
       "      <td>0.259033</td>\n",
       "      <td>0.208984</td>\n",
       "      <td>0.050049</td>\n",
       "    </tr>\n",
       "    <tr>\n",
       "      <th>4b6a6eac1203d80e803f2b382ec148dbaaca0c8ec2324d5b38e2e25d100fe015</th>\n",
       "      <td>0.435059</td>\n",
       "      <td>0.385010</td>\n",
       "      <td>0.050049</td>\n",
       "    </tr>\n",
       "  </tbody>\n",
       "</table>\n",
       "<p>283850 rows × 3 columns</p>\n",
       "</div>"
      ],
      "text/plain": [
       "                                                         B_1      B_11  \\\n",
       "customer_ID                                                              \n",
       "1934dee55d4b57dca16390e504c732f5ce887ab0be165d0...  0.845703  0.734863   \n",
       "5ec79f6c50aee9f3cda624cfec130ede4a6e3e907f2d369...  0.950684  0.840332   \n",
       "fdcefd55130b3aa2eda453fb78fb6715c88221a39e8c5a1...  0.856934  0.746582   \n",
       "3dd50541c243672d6d714edf07cf3331354ee09d9d9e01a...  0.874023  0.763672   \n",
       "353078c7375e33a4aed474403c99e941182c751aea211dc...  0.859863  0.749512   \n",
       "...                                                      ...       ...   \n",
       "fc0ce3518e62fdc90fb1ea28b236774259a0d306bf88dec...  0.470459  0.420410   \n",
       "d6f826265d69901975d9c7e9970bb291a917fc2e842df4c...  0.275391  0.225342   \n",
       "94b0054b8f6464d1be4cc64f201619db56e3bf1075ad411...  0.358398  0.308350   \n",
       "2feb9697e040df982cca92d84b546b9c5324049f541a7cf...  0.259033  0.208984   \n",
       "4b6a6eac1203d80e803f2b382ec148dbaaca0c8ec2324d5...  0.435059  0.385010   \n",
       "\n",
       "                                                        diff  \n",
       "customer_ID                                                   \n",
       "1934dee55d4b57dca16390e504c732f5ce887ab0be165d0...  0.110840  \n",
       "5ec79f6c50aee9f3cda624cfec130ede4a6e3e907f2d369...  0.110352  \n",
       "fdcefd55130b3aa2eda453fb78fb6715c88221a39e8c5a1...  0.110352  \n",
       "3dd50541c243672d6d714edf07cf3331354ee09d9d9e01a...  0.110352  \n",
       "353078c7375e33a4aed474403c99e941182c751aea211dc...  0.110352  \n",
       "...                                                      ...  \n",
       "fc0ce3518e62fdc90fb1ea28b236774259a0d306bf88dec...  0.050049  \n",
       "d6f826265d69901975d9c7e9970bb291a917fc2e842df4c...  0.050049  \n",
       "94b0054b8f6464d1be4cc64f201619db56e3bf1075ad411...  0.050049  \n",
       "2feb9697e040df982cca92d84b546b9c5324049f541a7cf...  0.050049  \n",
       "4b6a6eac1203d80e803f2b382ec148dbaaca0c8ec2324d5...  0.050049  \n",
       "\n",
       "[283850 rows x 3 columns]"
      ]
     },
     "execution_count": 51,
     "metadata": {},
     "output_type": "execute_result"
    }
   ],
   "source": [
    "df_study[df_study['diff'] > 0.05]"
   ]
  },
  {
   "cell_type": "code",
   "execution_count": 48,
   "metadata": {},
   "outputs": [
    {
     "data": {
      "text/plain": [
       "Index([], dtype='object', name='customer_ID')"
      ]
     },
     "execution_count": 48,
     "metadata": {},
     "output_type": "execute_result"
    }
   ],
   "source": [
    "indx = df_study[df_study['diff'] > 0.5].index.unique()\n",
    "# train_labels.loc[indx].hist()\n",
    "indx"
   ]
  },
  {
   "cell_type": "code",
   "execution_count": null,
   "metadata": {},
   "outputs": [],
   "source": []
  }
 ],
 "metadata": {
  "interpreter": {
   "hash": "dfe2e9041c24d5f91854bb9ffc35eacf9a6123f8e0fdaf39110ac9ad93cae24d"
  },
  "kernelspec": {
   "display_name": "Python 3.9.7 ('base')",
   "language": "python",
   "name": "python3"
  },
  "language_info": {
   "codemirror_mode": {
    "name": "ipython",
    "version": 3
   },
   "file_extension": ".py",
   "mimetype": "text/x-python",
   "name": "python",
   "nbconvert_exporter": "python",
   "pygments_lexer": "ipython3",
   "version": "3.9.7"
  },
  "orig_nbformat": 4
 },
 "nbformat": 4,
 "nbformat_minor": 2
}
