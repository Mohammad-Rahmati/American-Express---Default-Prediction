{
 "cells": [
  {
   "cell_type": "code",
   "execution_count": null,
   "metadata": {},
   "outputs": [],
   "source": [
    "import pandas as pd\n",
    "import numpy as np\n",
    "import matplotlib.pyplot as plt\n",
    "from evaluation_metric import amex_metric\n",
    "\n",
    "import warnings\n",
    "warnings.filterwarnings(\"ignore\")"
   ]
  },
  {
   "cell_type": "code",
   "execution_count": null,
   "metadata": {},
   "outputs": [],
   "source": [
    "p_train = pd.read_pickle('Output/p_train_xgb_b2.pkl')\n",
    "train_labels = pd.read_pickle('Data/train_labels.pkl').loc[p_train.index]\n",
    "p_train.shape, train_labels.shape"
   ]
  },
  {
   "cell_type": "code",
   "execution_count": null,
   "metadata": {},
   "outputs": [],
   "source": [
    "train_study_df = pd.DataFrame(p_train.mean(axis=1), columns=['mean'])\n",
    "train_study_df['std'] = p_train.std(axis=1)\n",
    "train_study_df['target'] = train_labels.values\n",
    "\n",
    "pred = pd.DataFrame(train_study_df['mean'].values, columns=['prediction']).reset_index(drop = True)\n",
    "yt = pd.DataFrame(train_study_df['target']).reset_index(drop = True)\n",
    "amex_metric(yt, pred)"
   ]
  },
  {
   "cell_type": "code",
   "execution_count": null,
   "metadata": {},
   "outputs": [],
   "source": [
    "train_top_std = train_study_df.sort_values(by='std', ascending=False).head(20000)\n",
    "train_top_std['mean'] = 0.5\n",
    "train_study_df['mean'].loc[train_top_std.index] = train_top_std['mean']\n",
    "\n",
    "pred = pd.DataFrame(train_study_df['mean'].values, columns=['prediction']).reset_index(drop = True)\n",
    "yt = pd.DataFrame(train_study_df['target']).reset_index(drop = True)\n",
    "amex_metric(yt, pred)"
   ]
  },
  {
   "cell_type": "code",
   "execution_count": null,
   "metadata": {},
   "outputs": [],
   "source": [
    "train_top_std"
   ]
  },
  {
   "cell_type": "markdown",
   "metadata": {},
   "source": [
    "### Prediction"
   ]
  },
  {
   "cell_type": "code",
   "execution_count": null,
   "metadata": {},
   "outputs": [],
   "source": [
    "p_test = pd.read_pickle('Output/p_test_xgb_b2.pkl')\n",
    "p_test.shape"
   ]
  },
  {
   "cell_type": "code",
   "execution_count": null,
   "metadata": {},
   "outputs": [],
   "source": [
    "test_study_df = pd.DataFrame(p_test.mean(axis=1), columns=['mean'])\n",
    "test_study_df['std'] = p_test.std(axis=1)"
   ]
  },
  {
   "cell_type": "code",
   "execution_count": null,
   "metadata": {},
   "outputs": [],
   "source": [
    "test_top_std = test_study_df.sort_values(by='std', ascending=False).head(1000)\n",
    "test_top_std['prediction'] =  1 - test_top_std['mean']"
   ]
  },
  {
   "cell_type": "code",
   "execution_count": null,
   "metadata": {},
   "outputs": [],
   "source": [
    "test_top_std"
   ]
  },
  {
   "cell_type": "code",
   "execution_count": null,
   "metadata": {},
   "outputs": [],
   "source": [
    "test_study_df['mean'].loc[test_top_std.index] = test_top_std['prediction']"
   ]
  },
  {
   "cell_type": "code",
   "execution_count": null,
   "metadata": {},
   "outputs": [],
   "source": [
    "test_study_df['mean'].to_csv('Output/p_xgb_b2_calibrated.csv', header='prediction')"
   ]
  },
  {
   "cell_type": "code",
   "execution_count": null,
   "metadata": {},
   "outputs": [],
   "source": []
  }
 ],
 "metadata": {
  "interpreter": {
   "hash": "916dbcbb3f70747c44a77c7bcd40155683ae19c65e1c03b4aa3499c5328201f1"
  },
  "kernelspec": {
   "display_name": "Python 3.10.4 64-bit",
   "language": "python",
   "name": "python3"
  },
  "language_info": {
   "codemirror_mode": {
    "name": "ipython",
    "version": 3
   },
   "file_extension": ".py",
   "mimetype": "text/x-python",
   "name": "python",
   "nbconvert_exporter": "python",
   "pygments_lexer": "ipython3",
   "version": "3.10.4"
  },
  "orig_nbformat": 4
 },
 "nbformat": 4,
 "nbformat_minor": 2
}
