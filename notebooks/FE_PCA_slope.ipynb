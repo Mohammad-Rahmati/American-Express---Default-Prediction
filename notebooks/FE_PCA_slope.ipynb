{
 "cells": [
  {
   "cell_type": "code",
   "execution_count": null,
   "metadata": {},
   "outputs": [],
   "source": [
    "import pandas as pd\n",
    "from sklearn.preprocessing import StandardScaler\n",
    "from scipy.stats import linregress\n",
    "from sklearn.decomposition import PCA\n",
    "import numpy as np\n",
    "import gc\n",
    "import warnings\n",
    "warnings.filterwarnings('ignore')"
   ]
  },
  {
   "cell_type": "code",
   "execution_count": null,
   "metadata": {},
   "outputs": [],
   "source": [
    "train = pd.read_parquet('Data/train.parquet')\n",
    "train.set_index('customer_ID', inplace=True)\n",
    "\n",
    "columns = train.columns\n",
    "cat_columns = ['B_30', 'B_38', 'D_114', 'D_116', 'D_117', 'D_120', 'D_126', 'D_63', 'D_64', 'D_66', 'D_68']\n",
    "num_columns = [c for c in columns if c not in cat_columns]\n",
    "\n",
    "train.shape"
   ]
  },
  {
   "cell_type": "code",
   "execution_count": null,
   "metadata": {},
   "outputs": [],
   "source": [
    "del train; gc.collect()"
   ]
  },
  {
   "cell_type": "code",
   "execution_count": null,
   "metadata": {},
   "outputs": [],
   "source": [
    "train.drop(cat_columns, axis=1, inplace=True)\n",
    "train['time'] = pd.to_datetime(train['S_2'])                                                                                                                                                                                                    \n",
    "train['time']  = train['time'].astype(np.int64) / 10**18\n",
    "train.drop(['S_2'], axis=1, inplace=True)\n",
    "num_columns.remove('S_2')"
   ]
  },
  {
   "cell_type": "code",
   "execution_count": null,
   "metadata": {},
   "outputs": [],
   "source": [
    "indx_series = train.groupby(train.index).count()['time'].apply(lambda x: x>2)\n",
    "indx = indx_series[indx_series==True].index\n",
    "train = train.loc[indx]\n",
    "train.shape"
   ]
  },
  {
   "cell_type": "code",
   "execution_count": null,
   "metadata": {},
   "outputs": [],
   "source": [
    "def process_fun(x):\n",
    "    global counter\n",
    "    counter  += 1\n",
    "    if counter % 1000 == 0: print(counter, end=', ')\n",
    "    pca_out = PCA(n_components=2).fit_transform(x[num_columns].fillna(x[num_columns].median()).fillna(0))\n",
    "    s1 = linregress(x['time'], pca_out[:, 0])[0]\n",
    "    s2 = linregress(x['time'], pca_out[:, 1])[0]\n",
    "    return s1, s2"
   ]
  },
  {
   "cell_type": "code",
   "execution_count": null,
   "metadata": {},
   "outputs": [],
   "source": [
    "counter = 0\n",
    "tr_pca_slope = train.groupby(train.index).apply(lambda x: process_fun(x))"
   ]
  },
  {
   "cell_type": "code",
   "execution_count": null,
   "metadata": {},
   "outputs": [],
   "source": [
    "pca0_slope = tr_pca_slope.apply(lambda x: x[0]).values\n",
    "pca1_slope = tr_pca_slope.apply(lambda x: x[1]).values"
   ]
  },
  {
   "cell_type": "code",
   "execution_count": null,
   "metadata": {},
   "outputs": [],
   "source": [
    "tr_df = pd.DataFrame({'pca0_slope': pca0_slope, 'pca1_slope': pca1_slope}, index=train.index.unique())\n",
    "tr_df"
   ]
  },
  {
   "cell_type": "code",
   "execution_count": null,
   "metadata": {},
   "outputs": [],
   "source": [
    "scaler = StandardScaler()\n",
    "tr_pca_slope_scaled = scaler.fit_transform(tr_df)\n",
    "tr_pca_slope_scaled_df = pd.DataFrame(tr_pca_slope_scaled, index=tr_df.index, columns=['pca_s1', 'pca_s2'])\n",
    "tr_pca_slope_scaled_df"
   ]
  },
  {
   "cell_type": "code",
   "execution_count": null,
   "metadata": {},
   "outputs": [],
   "source": [
    "train = pd.read_parquet('Data/train_all_slopes_corr.parquet')\n",
    "train = pd.concat([train, tr_pca_slope_scaled_df], axis=1)\n",
    "train.to_parquet('Data/train_all_slopes_corr_pcaslope.parquet')\n",
    "train.shape"
   ]
  },
  {
   "cell_type": "code",
   "execution_count": null,
   "metadata": {},
   "outputs": [],
   "source": [
    "train"
   ]
  },
  {
   "cell_type": "code",
   "execution_count": null,
   "metadata": {},
   "outputs": [],
   "source": [
    "del train, tr_pca_slope, tr_pca_slope_scaled, tr_pca_slope_scaled_df; gc.collect()"
   ]
  },
  {
   "cell_type": "markdown",
   "metadata": {},
   "source": [
    "### test"
   ]
  },
  {
   "cell_type": "code",
   "execution_count": null,
   "metadata": {},
   "outputs": [],
   "source": [
    "test = pd.read_parquet('Data/test.parquet')\n",
    "test.set_index('customer_ID', inplace=True)\n",
    "test.drop(cat_columns, axis=1, inplace=True)\n",
    "test['time'] = pd.to_datetime(test['S_2'])                                                                                                                                                                                      \n",
    "test['time']  = test['time'].astype(np.int64) / 10**18\n",
    "test.drop(['S_2'], axis=1, inplace=True)\n",
    "num_columns.remove('S_2')"
   ]
  },
  {
   "cell_type": "code",
   "execution_count": null,
   "metadata": {},
   "outputs": [],
   "source": [
    "indx_series = test.groupby(test.index).count()['time'].apply(lambda x: x>2)\n",
    "indx = indx_series[indx_series==True].index\n",
    "test = test.loc[indx]\n",
    "test.shape"
   ]
  },
  {
   "cell_type": "code",
   "execution_count": null,
   "metadata": {},
   "outputs": [],
   "source": [
    "counter = 0\n",
    "te_pca_slope = test.groupby(test.index).apply(lambda x: process_fun(x))"
   ]
  },
  {
   "cell_type": "code",
   "execution_count": null,
   "metadata": {},
   "outputs": [],
   "source": [
    "pca0_slope = te_pca_slope.apply(lambda x: x[0]).values\n",
    "pca1_slope = te_pca_slope.apply(lambda x: x[1]).values"
   ]
  },
  {
   "cell_type": "code",
   "execution_count": null,
   "metadata": {},
   "outputs": [],
   "source": [
    "te_df = pd.DataFrame({'pca0_slope': pca0_slope, 'pca1_slope': pca1_slope}, index=test.index.unique())"
   ]
  },
  {
   "cell_type": "code",
   "execution_count": null,
   "metadata": {},
   "outputs": [],
   "source": [
    "scaler = StandardScaler()\n",
    "te_pca_slope_scaled = scaler.fit_transform(te_df)\n",
    "te_pca_slope_scaled_df = pd.DataFrame(te_pca_slope_scaled, index=te_df.index, columns=['pca_s1', 'pca_s2'])\n",
    "te_pca_slope_scaled_df"
   ]
  },
  {
   "cell_type": "code",
   "execution_count": null,
   "metadata": {},
   "outputs": [],
   "source": [
    "test = pd.read_parquet('Data/test_all_slopes_corr.parquet')\n",
    "test = pd.concat([test, te_pca_slope_scaled_df], axis=1)\n",
    "test.to_parquet('Data/test_all_slopes_corr_pcaslope.parquet')\n",
    "test.shape"
   ]
  },
  {
   "cell_type": "code",
   "execution_count": null,
   "metadata": {},
   "outputs": [],
   "source": []
  }
 ],
 "metadata": {
  "kernelspec": {
   "display_name": "Python 3.9.12 ('rapids-22.06')",
   "language": "python",
   "name": "python3"
  },
  "language_info": {
   "codemirror_mode": {
    "name": "ipython",
    "version": 3
   },
   "file_extension": ".py",
   "mimetype": "text/x-python",
   "name": "python",
   "nbconvert_exporter": "python",
   "pygments_lexer": "ipython3",
   "version": "3.9.12"
  },
  "orig_nbformat": 4,
  "vscode": {
   "interpreter": {
    "hash": "468ef23ed2970eb3eae24d512361eed443dbea3050d88b5fbf8075c8ae4b100c"
   }
  }
 },
 "nbformat": 4,
 "nbformat_minor": 2
}
