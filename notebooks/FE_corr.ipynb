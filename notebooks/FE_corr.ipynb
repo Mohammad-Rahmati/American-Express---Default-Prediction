{
 "cells": [
  {
   "cell_type": "code",
   "execution_count": null,
   "metadata": {},
   "outputs": [],
   "source": [
    "import pandas as pd\n",
    "import gc\n",
    "import warnings\n",
    "warnings.filterwarnings('ignore')"
   ]
  },
  {
   "cell_type": "code",
   "execution_count": null,
   "metadata": {},
   "outputs": [],
   "source": [
    "train = pd.read_parquet('Data/train.parquet')\n",
    "train.set_index('customer_ID', inplace=True)\n",
    "\n",
    "num_columns = [\n",
    "\n",
    "    'D_46',\n",
    "    'B_5',\n",
    "    'B_4',\n",
    "    'D_43',\n",
    "    'S_3',\n",
    "    'D_48',\n",
    "    'B_2',\n",
    "    'R_1',\n",
    "    'B_3',\n",
    "    'D_39',\n",
    "    'B_9',\n",
    "    'R_27',\n",
    "    'S_7',\n",
    "    'S_9',\n",
    "    'B_17',\n",
    "    'B_24',\n",
    "    'B_26',\n",
    "    'D_69',\n",
    "    'D_62',\n",
    "    'R_6',\n",
    "    'S_5',\n",
    "    'S_12',\n",
    "    'S_23',\n",
    "    'S_27',\n",
    "    'S_25',\n",
    "    'S_26',\n",
    "    'B_36',\n",
    "    'B_21',\n",
    "    'S_19',\n",
    "    'B_27',\n",
    "    'P_2',\n",
    "    'B_15',\n",
    "    'D_61',\n",
    "    'S_17',\n",
    "    'S_24',\n",
    "    'D_47',\n",
    "    'B_1',\n",
    "    'S_16',\n",
    "    'D_71',\n",
    "    'D_77',\n",
    "    'D_42',\n",
    "    'B_10',\n",
    "    'D_144',\n",
    "    'D_133',\n",
    "    'B_11',\n",
    "    'S_22',\n",
    "    'P_3',\n",
    "    'D_44',\n",
    "    'D_50',\n",
    "    'D_52'\n",
    "]\n",
    "\n",
    "train = train[num_columns]\n",
    "train.shape"
   ]
  },
  {
   "cell_type": "code",
   "execution_count": null,
   "metadata": {},
   "outputs": [],
   "source": [
    "acff = train.iloc[:1000].corr().stack()\n",
    "acff = acff[acff.index.get_level_values(0) > acff.index.get_level_values(1)]\n",
    "corr_columns = 'corr_' + acff.index.get_level_values(0) + '-' + acff.index.get_level_values(1)\n",
    "\n",
    "corr_df = train.groupby('customer_ID').corr().unstack()\n",
    "corr_df.columns = 'corr_' + corr_df.columns.get_level_values(0) + '-' + corr_df.columns.get_level_values(1)\n",
    "tr_corr = corr_df[corr_columns]\n",
    "\n",
    "del train, corr_df; gc.collect()"
   ]
  },
  {
   "cell_type": "code",
   "execution_count": null,
   "metadata": {},
   "outputs": [],
   "source": [
    "train = pd.read_parquet('Data/train_all_slopes.parquet')\n",
    "train = pd.concat([train, tr_corr], axis = 1)\n",
    "train.to_parquet('Data/train_all_slopes_corr.parquet')\n",
    "print(train.shape)\n",
    "del train, tr_corr; gc.collect()"
   ]
  },
  {
   "cell_type": "code",
   "execution_count": null,
   "metadata": {},
   "outputs": [],
   "source": [
    "num_columns = [\n",
    "\n",
    "    'D_46',\n",
    "    'B_5',\n",
    "    'B_4',\n",
    "    'D_43',\n",
    "    'S_3',\n",
    "    'D_48',\n",
    "    'B_2',\n",
    "    'R_1',\n",
    "    'B_3',\n",
    "    'D_39',\n",
    "    'B_9',\n",
    "    'R_27',\n",
    "    'S_7',\n",
    "    'S_9',\n",
    "    'B_17',\n",
    "    'B_24',\n",
    "    'B_26',\n",
    "    'D_69',\n",
    "    'D_62',\n",
    "    'R_6',\n",
    "    'S_5',\n",
    "    'S_12',\n",
    "    'S_23',\n",
    "    'S_27',\n",
    "    'S_25',\n",
    "    'S_26',\n",
    "    'B_36',\n",
    "    'B_21',\n",
    "    'S_19',\n",
    "    'B_27',\n",
    "    'P_2',\n",
    "    'B_15',\n",
    "    'D_61',\n",
    "    'S_17',\n",
    "    'S_24',\n",
    "    'D_47',\n",
    "    'B_1',\n",
    "    'S_16',\n",
    "    'D_71',\n",
    "    'D_77',\n",
    "    'D_42',\n",
    "    'B_10',\n",
    "    'D_144',\n",
    "    'D_133',\n",
    "    'B_11',\n",
    "    'S_22',\n",
    "    'P_3',\n",
    "    'D_44',\n",
    "    'D_50',\n",
    "    'D_52'\n",
    "]"
   ]
  },
  {
   "cell_type": "code",
   "execution_count": null,
   "metadata": {},
   "outputs": [],
   "source": [
    "test = pd.read_parquet('Data/test.parquet')\n",
    "test.set_index('customer_ID', inplace=True)\n",
    "test = test[num_columns]\n",
    "test.shape"
   ]
  },
  {
   "cell_type": "code",
   "execution_count": null,
   "metadata": {},
   "outputs": [],
   "source": [
    "acff = test.iloc[:1000].corr().stack()\n",
    "acff = acff[acff.index.get_level_values(0) > acff.index.get_level_values(1)]\n",
    "corr_columns = 'corr_' + acff.index.get_level_values(0) + '-' + acff.index.get_level_values(1)\n",
    "\n",
    "corr_df = test.groupby('customer_ID').corr().unstack()\n",
    "corr_df.columns = 'corr_' + corr_df.columns.get_level_values(0) + '-' + corr_df.columns.get_level_values(1)\n",
    "te_corr = corr_df[corr_columns]\n",
    "\n",
    "del test; gc.collect()"
   ]
  },
  {
   "cell_type": "code",
   "execution_count": null,
   "metadata": {},
   "outputs": [],
   "source": [
    "test = pd.read_parquet('Data/test_all_slopes.parquet')\n",
    "test = pd.concat([test, te_corr], axis = 1)\n",
    "test.to_parquet('Data/test_all_slopes_corr.parquet')\n",
    "print(test.shape)\n",
    "del test, te_corr; gc.collect()"
   ]
  },
  {
   "cell_type": "code",
   "execution_count": null,
   "metadata": {},
   "outputs": [],
   "source": []
  }
 ],
 "metadata": {
  "kernelspec": {
   "display_name": "Python 3.9.12 ('rapids-22.06')",
   "language": "python",
   "name": "python3"
  },
  "language_info": {
   "codemirror_mode": {
    "name": "ipython",
    "version": 3
   },
   "file_extension": ".py",
   "mimetype": "text/x-python",
   "name": "python",
   "nbconvert_exporter": "python",
   "pygments_lexer": "ipython3",
   "version": "3.9.12"
  },
  "orig_nbformat": 4,
  "vscode": {
   "interpreter": {
    "hash": "468ef23ed2970eb3eae24d512361eed443dbea3050d88b5fbf8075c8ae4b100c"
   }
  }
 },
 "nbformat": 4,
 "nbformat_minor": 2
}
