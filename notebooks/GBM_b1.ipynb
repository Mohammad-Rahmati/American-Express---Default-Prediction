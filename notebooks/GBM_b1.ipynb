{
 "cells": [
  {
   "cell_type": "code",
   "execution_count": null,
   "metadata": {},
   "outputs": [],
   "source": [
    "import pandas as pd\n",
    "import matplotlib.pyplot as plt\n",
    "import gc\n",
    "from evaluation_metric import amex_metric\n",
    "from utils_model_metrics import *\n",
    "from utils_model_metrics import WeightedFalseNegativeLossMetric\n",
    "from h2o.estimators.gbm import H2OGradientBoostingEstimator\n",
    "import h2o\n",
    "\n",
    "import warnings\n",
    "warnings.filterwarnings(\"ignore\")"
   ]
  },
  {
   "cell_type": "code",
   "execution_count": null,
   "metadata": {},
   "outputs": [],
   "source": [
    "h2o.init(min_mem_size = '20G')"
   ]
  },
  {
   "cell_type": "code",
   "execution_count": null,
   "metadata": {},
   "outputs": [],
   "source": [
    "data = pd.read_parquet('Data/train_data_aggV3.parquet')\n",
    "data.set_index('customer_ID', inplace=True)\n",
    "train_data = data.drop(['target', 'cid', 'S_2'], axis=1)\n",
    "train_labels = data['target']\n",
    "del data\n",
    "gc.collect()\n",
    "train_data.shape, train_labels.shape"
   ]
  },
  {
   "cell_type": "code",
   "execution_count": null,
   "metadata": {},
   "outputs": [],
   "source": [
    "train_labels.value_counts()"
   ]
  },
  {
   "cell_type": "code",
   "execution_count": null,
   "metadata": {},
   "outputs": [],
   "source": [
    "train = h2o.H2OFrame(pd.concat([train_data, train_labels], axis=1))"
   ]
  },
  {
   "cell_type": "code",
   "execution_count": null,
   "metadata": {},
   "outputs": [],
   "source": [
    "del train_data, train_labels\n",
    "gc.collect()\n",
    "\n",
    "x = train.columns\n",
    "y = 'target'\n",
    "x.remove(y)\n",
    "\n",
    "train[y] = train[y].asfactor()\n",
    "train.shape"
   ]
  },
  {
   "cell_type": "code",
   "execution_count": null,
   "metadata": {},
   "outputs": [],
   "source": [
    "weighted_false_negative_loss_func = h2o.upload_custom_metric(WeightedFalseNegativeLossMetric,\n",
    "                                                 func_name = \"WeightedFalseNegativeLoss\",\n",
    "                                                 func_file = \"weighted_false_negative_loss.py\")"
   ]
  },
  {
   "cell_type": "code",
   "execution_count": null,
   "metadata": {},
   "outputs": [],
   "source": [
    "aml = H2OGradientBoostingEstimator(ntrees=2000,\n",
    "                                    nfolds=5,\n",
    "                                    max_depth=0,\n",
    "                                    sample_rate_per_class = [0.35, 1],\n",
    "                                    score_each_iteration=True,\n",
    "                                    custom_metric_func=weighted_false_negative_loss_func,\n",
    "                                    stopping_metric=\"custom\",\n",
    "                                    stopping_rounds=10)\n",
    "\n",
    "aml.train(x=x, y=y, training_frame=train)"
   ]
  },
  {
   "cell_type": "code",
   "execution_count": null,
   "metadata": {},
   "outputs": [],
   "source": [
    "model_path = h2o.save_model(model=aml, path=\"Models/gbm_b1\", force=True)\n",
    "model_path"
   ]
  },
  {
   "cell_type": "code",
   "execution_count": null,
   "metadata": {},
   "outputs": [],
   "source": [
    "pred = aml.predict(train)\n",
    "pred_df = pred['p1'].as_data_frame()\n",
    "train_targets = train['target'].as_data_frame()\n",
    "amex_metric(train_targets, pred_df.rename({'p1': 'prediction'}, axis=1))"
   ]
  },
  {
   "cell_type": "markdown",
   "metadata": {},
   "source": [
    "### Prediction"
   ]
  },
  {
   "cell_type": "code",
   "execution_count": null,
   "metadata": {},
   "outputs": [],
   "source": [
    "aml = h2o.load_model('Models/gbm_b1/GBM_model_python_1655233644697_1')"
   ]
  },
  {
   "cell_type": "code",
   "execution_count": null,
   "metadata": {},
   "outputs": [],
   "source": [
    "test = pd.read_parquet('Data/test_data_aggV3.parquet')\n",
    "test.set_index('customer_ID', inplace=True)\n",
    "test.drop(columns=['cid', 'S_2'], axis=1, inplace=True)\n",
    "test.shape"
   ]
  },
  {
   "cell_type": "code",
   "execution_count": null,
   "metadata": {},
   "outputs": [],
   "source": [
    "d_types = train.drop('target').types\n",
    "del train\n",
    "gc.collect()"
   ]
  },
  {
   "cell_type": "code",
   "execution_count": null,
   "metadata": {},
   "outputs": [],
   "source": [
    "test_h2o = h2o.H2OFrame(test, column_types = d_types)"
   ]
  },
  {
   "cell_type": "code",
   "execution_count": null,
   "metadata": {},
   "outputs": [],
   "source": [
    "pred_test = aml.predict(test_h2o)\n",
    "pred_test_df = pred_test['p1'].as_data_frame()\n",
    "pred_test_df.index = test.index"
   ]
  },
  {
   "cell_type": "code",
   "execution_count": null,
   "metadata": {},
   "outputs": [],
   "source": [
    "pred_test_df"
   ]
  },
  {
   "cell_type": "code",
   "execution_count": null,
   "metadata": {},
   "outputs": [
    {
     "name": "stdout",
     "output_type": "stream",
     "text": [
      "Closing connection _sid_94a9 at exit\n",
      "H2O session _sid_94a9 closed.\n"
     ]
    }
   ],
   "source": [
    "pred_test_df.to_csv('Output/p_gbm_b1.csv', header=['prediction'])"
   ]
  },
  {
   "cell_type": "code",
   "execution_count": null,
   "metadata": {},
   "outputs": [],
   "source": []
  }
 ],
 "metadata": {
  "kernelspec": {
   "display_name": "Python 3.9.12 ('rapids-22.06')",
   "language": "python",
   "name": "python3"
  },
  "language_info": {
   "codemirror_mode": {
    "name": "ipython",
    "version": 3
   },
   "file_extension": ".py",
   "mimetype": "text/x-python",
   "name": "python",
   "nbconvert_exporter": "python",
   "pygments_lexer": "ipython3",
   "version": "3.9.12"
  },
  "orig_nbformat": 4,
  "vscode": {
   "interpreter": {
    "hash": "468ef23ed2970eb3eae24d512361eed443dbea3050d88b5fbf8075c8ae4b100c"
   }
  }
 },
 "nbformat": 4,
 "nbformat_minor": 2
}
