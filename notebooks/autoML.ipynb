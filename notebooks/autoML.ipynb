{
 "cells": [
  {
   "cell_type": "code",
   "execution_count": null,
   "metadata": {},
   "outputs": [],
   "source": [
    "import pandas as pd\n",
    "import matplotlib.pyplot as plt\n",
    "import gc\n",
    "from evaluation_metric import amex_metric\n",
    "import h2o\n",
    "from h2o.automl import H2OAutoML\n",
    "import warnings\n",
    "warnings.filterwarnings(\"ignore\")"
   ]
  },
  {
   "cell_type": "code",
   "execution_count": null,
   "metadata": {},
   "outputs": [],
   "source": [
    "h2o.init(min_mem_size = '20G')"
   ]
  },
  {
   "cell_type": "code",
   "execution_count": null,
   "metadata": {},
   "outputs": [],
   "source": [
    "data = pd.read_parquet('Data/train_data_aggV3.parquet')\n",
    "data.set_index('customer_ID', inplace=True)\n",
    "train_data = data.drop(['target', 'cid', 'S_2'], axis=1)\n",
    "train_labels = data['target']\n",
    "del data\n",
    "gc.collect()\n",
    "train_data.shape, train_labels.shape"
   ]
  },
  {
   "cell_type": "code",
   "execution_count": null,
   "metadata": {},
   "outputs": [],
   "source": [
    "train_labels.value_counts()"
   ]
  },
  {
   "cell_type": "code",
   "execution_count": null,
   "metadata": {},
   "outputs": [],
   "source": [
    "train = h2o.H2OFrame(pd.concat([train_data, train_labels], axis=1))"
   ]
  },
  {
   "cell_type": "code",
   "execution_count": null,
   "metadata": {},
   "outputs": [],
   "source": [
    "del train_data, train_labels\n",
    "gc.collect()\n",
    "\n",
    "x = train.columns\n",
    "y = 'target'\n",
    "x.remove(y)\n",
    "\n",
    "train[y] = train[y].asfactor()\n",
    "train.shape"
   ]
  },
  {
   "cell_type": "code",
   "execution_count": null,
   "metadata": {},
   "outputs": [],
   "source": [
    "aml = H2OAutoML(balance_classes=True,\n",
    "                max_runtime_secs = 8*60*60,\n",
    "                nfolds=5,\n",
    "                stopping_metric='AUCPR',\n",
    "                stopping_rounds=3,\n",
    "                sort_metric = \"AUCPR\",\n",
    "                )\n",
    "\n",
    "aml.train(x=x, y=y, training_frame=train)"
   ]
  },
  {
   "cell_type": "code",
   "execution_count": null,
   "metadata": {},
   "outputs": [],
   "source": [
    "lb = aml.leaderboard\n",
    "lb.head(rows=lb.nrows) "
   ]
  },
  {
   "cell_type": "code",
   "execution_count": null,
   "metadata": {},
   "outputs": [],
   "source": [
    "best_model = aml.get_best_model()\n",
    "model_path = h2o.save_model(model=best_model, path=\"Models/autoML_b1\", force=True)\n",
    "path=\"Models/autoML_b1/StackedEnsemble_AllModels_1_AutoML_1_20220615_151032\"\n",
    "model = h2o.load_model(path)"
   ]
  },
  {
   "cell_type": "code",
   "execution_count": null,
   "metadata": {},
   "outputs": [],
   "source": [
    "path=\"Models/autoML_b1/StackedEnsemble_AllModels_1_AutoML_1_20220615_151032\"\n",
    "model = h2o.load_model(path)"
   ]
  },
  {
   "cell_type": "code",
   "execution_count": null,
   "metadata": {},
   "outputs": [],
   "source": [
    "pred = model.predict(train)\n",
    "pred_df = pred['p1'].as_data_frame()\n",
    "train_targets = train['target'].as_data_frame()\n",
    "amex_metric(train_targets, pred_df.rename({'p1': 'prediction'}, axis=1))"
   ]
  },
  {
   "cell_type": "markdown",
   "metadata": {},
   "source": [
    "### Prediction"
   ]
  },
  {
   "cell_type": "code",
   "execution_count": null,
   "metadata": {},
   "outputs": [],
   "source": [
    "test = pd.read_parquet('Data/test_data_aggV3.parquet')\n",
    "test.set_index('customer_ID', inplace=True)\n",
    "test.drop(columns=['cid', 'S_2'], axis=1, inplace=True)\n",
    "d_types = train.drop('target').types\n",
    "test.shape"
   ]
  },
  {
   "cell_type": "code",
   "execution_count": null,
   "metadata": {},
   "outputs": [
    {
     "name": "stdout",
     "output_type": "stream",
     "text": [
      "Closing connection _sid_a843 at exit\n",
      "H2O session _sid_a843 closed.\n"
     ]
    }
   ],
   "source": [
    "test_h2o = h2o.H2OFrame(test, column_types = d_types)"
   ]
  },
  {
   "cell_type": "code",
   "execution_count": null,
   "metadata": {},
   "outputs": [],
   "source": [
    "pred_test = best_model.predict(test_h2o)\n",
    "pred_test_df = pred_test['p1'].as_data_frame()\n",
    "pred_test_df.index = test.index\n",
    "pred_test_df"
   ]
  },
  {
   "cell_type": "code",
   "execution_count": null,
   "metadata": {},
   "outputs": [],
   "source": [
    "pred_test_df.to_csv('Output/p_autoML_b1.csv', header=['prediction'])"
   ]
  }
 ],
 "metadata": {
  "kernelspec": {
   "display_name": "Python 3.9.12 ('rapids-22.06')",
   "language": "python",
   "name": "python3"
  },
  "language_info": {
   "codemirror_mode": {
    "name": "ipython",
    "version": 3
   },
   "file_extension": ".py",
   "mimetype": "text/x-python",
   "name": "python",
   "nbconvert_exporter": "python",
   "pygments_lexer": "ipython3",
   "version": "3.9.12"
  },
  "orig_nbformat": 4,
  "vscode": {
   "interpreter": {
    "hash": "468ef23ed2970eb3eae24d512361eed443dbea3050d88b5fbf8075c8ae4b100c"
   }
  }
 },
 "nbformat": 4,
 "nbformat_minor": 2
}
