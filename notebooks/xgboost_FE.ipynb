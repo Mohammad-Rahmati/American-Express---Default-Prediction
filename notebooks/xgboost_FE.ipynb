{
 "cells": [
  {
   "cell_type": "code",
   "execution_count": 1,
   "metadata": {},
   "outputs": [],
   "source": [
    "import os\n",
    "dir = '__pycache__/'\n",
    "for f in os.listdir(dir):\n",
    "    os.remove(os.path.join(dir, f))\n",
    "\n",
    "# import warnings\n",
    "# warnings.filterwarnings(\"ignore\")\n",
    "\n",
    "from evaluation_metric import xgb_amex, amex_metric_np\n",
    "import cudf\n",
    "cudf.set_allocator('managed')\n",
    "import pandas as pd\n",
    "from matplotlib import pyplot as plt\n",
    "import xgboost as xgb\n",
    "from xgboost import plot_importance\n",
    "import pickle\n",
    "import gc"
   ]
  },
  {
   "cell_type": "code",
   "execution_count": 2,
   "metadata": {},
   "outputs": [],
   "source": [
    "model_id = 'm_xgb_pca50_FE'"
   ]
  },
  {
   "cell_type": "code",
   "execution_count": 3,
   "metadata": {},
   "outputs": [
    {
     "data": {
      "text/plain": [
       "((367130, 643), (91783, 643))"
      ]
     },
     "execution_count": 3,
     "metadata": {},
     "output_type": "execute_result"
    }
   ],
   "source": [
    "data = cudf.read_parquet('Data/train_agg_pca50_FE.parquet')\n",
    "labels = cudf.read_parquet('Data/train_labels.parquet')\n",
    "indx_df = cudf.read_parquet('Data/train_test_indx.parquet')\n",
    "\n",
    "train = data.loc[indx_df.train_indx]\n",
    "test = data.loc[indx_df.test_indx[indx_df.test_indx.notnull()]]\n",
    "del data; gc.collect()\n",
    "\n",
    "train.shape, test.shape"
   ]
  },
  {
   "cell_type": "code",
   "execution_count": 4,
   "metadata": {},
   "outputs": [],
   "source": [
    "def xgb_train(params, X_tr, y_tr, X_va, y_va):\n",
    "        \n",
    "        dtrain = xgb.DMatrix(data=X_tr, label=y_tr)\n",
    "        dvalid = xgb.DMatrix(data=X_va, label=y_va)\n",
    "        \n",
    "        watchlist = [(dtrain, 'train'), (dvalid, 'eval')]\n",
    "        \n",
    "        model = xgb.train(\n",
    "                        params,\n",
    "                        dtrain=dtrain,\n",
    "                        num_boost_round=2000,\n",
    "                        evals=watchlist,\n",
    "                        early_stopping_rounds=300,\n",
    "                        custom_metric=xgb_amex,\n",
    "                        maximize=True,\n",
    "                        verbose_eval=100,\n",
    "        )\n",
    "                        \n",
    "        print('best iteration:', model.best_ntree_limit)\n",
    "        print('best score:', model.best_score)\n",
    "\n",
    "        return model"
   ]
  },
  {
   "cell_type": "code",
   "execution_count": 5,
   "metadata": {},
   "outputs": [],
   "source": [
    "params = {\n",
    "        'objective': 'binary:logistic',\n",
    "        'tree_method': 'hist', \n",
    "        'max_depth': 7,\n",
    "        'subsample':0.88,\n",
    "        'colsample_bytree':0.5,\n",
    "        'gamma':1.5,\n",
    "        'min_child_weight':8,\n",
    "        'lambda':70,\n",
    "        'eta':0.03,\n",
    "        'random_state': 42\n",
    "}"
   ]
  },
  {
   "cell_type": "code",
   "execution_count": 6,
   "metadata": {},
   "outputs": [
    {
     "name": "stdout",
     "output_type": "stream",
     "text": [
      "[0]\ttrain-logloss:0.67368\ttrain-amex:0.71231\teval-logloss:0.67378\teval-amex:0.70368\n",
      "[100]\ttrain-logloss:0.23953\ttrain-amex:0.78357\teval-logloss:0.24597\teval-amex:0.77162\n",
      "[200]\ttrain-logloss:0.21677\ttrain-amex:0.79784\teval-logloss:0.22698\teval-amex:0.78222\n",
      "[300]\ttrain-logloss:0.20855\ttrain-amex:0.81001\teval-logloss:0.22285\teval-amex:0.78565\n",
      "[400]\ttrain-logloss:0.20306\ttrain-amex:0.81909\teval-logloss:0.22092\teval-amex:0.78889\n",
      "[500]\ttrain-logloss:0.19818\ttrain-amex:0.82734\teval-logloss:0.21963\teval-amex:0.78992\n",
      "[600]\ttrain-logloss:0.19418\ttrain-amex:0.83401\teval-logloss:0.21892\teval-amex:0.79102\n",
      "[700]\ttrain-logloss:0.19040\ttrain-amex:0.84078\teval-logloss:0.21837\teval-amex:0.79155\n",
      "[800]\ttrain-logloss:0.18680\ttrain-amex:0.84665\teval-logloss:0.21796\teval-amex:0.79165\n",
      "[900]\ttrain-logloss:0.18345\ttrain-amex:0.85259\teval-logloss:0.21764\teval-amex:0.79181\n",
      "[1000]\ttrain-logloss:0.18040\ttrain-amex:0.85840\teval-logloss:0.21745\teval-amex:0.79216\n",
      "[1100]\ttrain-logloss:0.17735\ttrain-amex:0.86389\teval-logloss:0.21731\teval-amex:0.79152\n",
      "[1200]\ttrain-logloss:0.17433\ttrain-amex:0.86905\teval-logloss:0.21716\teval-amex:0.79200\n",
      "[1283]\ttrain-logloss:0.17192\ttrain-amex:0.87319\teval-logloss:0.21707\teval-amex:0.79190\n",
      "best iteration: 985\n",
      "best score: 0.792504\n"
     ]
    }
   ],
   "source": [
    "model = xgb_train(params, train, labels.loc[train.index], test, labels.loc[test.index])"
   ]
  },
  {
   "cell_type": "code",
   "execution_count": 7,
   "metadata": {},
   "outputs": [],
   "source": [
    "pickle.dump(model, open('Models/' + model_id + '.pkl', 'wb'))"
   ]
  },
  {
   "cell_type": "code",
   "execution_count": null,
   "metadata": {},
   "outputs": [],
   "source": [
    "fig, ax = plt.subplots(1,1,figsize=(10,10))\n",
    "plot_importance(model,importance_type = 'gain', max_num_features=50, ax=ax);"
   ]
  },
  {
   "cell_type": "code",
   "execution_count": null,
   "metadata": {},
   "outputs": [],
   "source": [
    "model.predict(xgb.DMatrix(test))"
   ]
  },
  {
   "cell_type": "code",
   "execution_count": null,
   "metadata": {},
   "outputs": [],
   "source": [
    "labels.loc[test.index]"
   ]
  },
  {
   "cell_type": "code",
   "execution_count": 22,
   "metadata": {},
   "outputs": [
    {
     "data": {
      "text/plain": [
       "12.54299545288086"
      ]
     },
     "execution_count": 22,
     "metadata": {},
     "output_type": "execute_result"
    }
   ],
   "source": [
    "model.get_score(importance_type = 'gain')['FE3_max']"
   ]
  },
  {
   "cell_type": "code",
   "execution_count": null,
   "metadata": {},
   "outputs": [],
   "source": [
    "['FE1_mean', 'FE1_min', 'FE1_max', 'FE2_mean', 'FE2_min', 'FE2_max',\n",
    "       'FE3_mean', 'FE3_min', 'FE3_max']"
   ]
  }
 ],
 "metadata": {
  "kernelspec": {
   "display_name": "Python 3.9.12 ('rapids-22.06')",
   "language": "python",
   "name": "python3"
  },
  "language_info": {
   "codemirror_mode": {
    "name": "ipython",
    "version": 3
   },
   "file_extension": ".py",
   "mimetype": "text/x-python",
   "name": "python",
   "nbconvert_exporter": "python",
   "pygments_lexer": "ipython3",
   "version": "3.9.12"
  },
  "orig_nbformat": 4,
  "vscode": {
   "interpreter": {
    "hash": "468ef23ed2970eb3eae24d512361eed443dbea3050d88b5fbf8075c8ae4b100c"
   }
  }
 },
 "nbformat": 4,
 "nbformat_minor": 2
}
