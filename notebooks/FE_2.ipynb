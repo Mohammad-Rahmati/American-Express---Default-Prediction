{
 "cells": [
  {
   "cell_type": "code",
   "execution_count": 1,
   "metadata": {},
   "outputs": [],
   "source": [
    "import pandas as pd\n",
    "import numpy as np"
   ]
  },
  {
   "cell_type": "code",
   "execution_count": 2,
   "metadata": {},
   "outputs": [
    {
     "data": {
      "text/plain": [
       "(5531451, 190)"
      ]
     },
     "execution_count": 2,
     "metadata": {},
     "output_type": "execute_result"
    }
   ],
   "source": [
    "train_data = pd.read_parquet('Data/train.parquet')\n",
    "train_data.S_2 = pd.to_datetime(train_data.S_2)\n",
    "train_data.shape"
   ]
  },
  {
   "cell_type": "code",
   "execution_count": 3,
   "metadata": {},
   "outputs": [],
   "source": [
    "IR = pd.read_csv('Data/IR1Y.csv').rename({'DATE': 'S_2'}, axis=1).set_index('S_2', drop=True)\n",
    "IR.index = pd.to_datetime(IR.index)\n",
    "IR.DGS1.replace('.', np.NaN, inplace=True)\n",
    "IR.DGS1 = IR.DGS1.astype(float)"
   ]
  },
  {
   "cell_type": "code",
   "execution_count": 4,
   "metadata": {},
   "outputs": [],
   "source": [
    "Misery = pd.read_csv('Data/Misery.csv').rename({'DATE': 'S_2'}, axis=1).set_index('S_2', drop=True)\n",
    "Misery.index = pd.to_datetime(Misery.index)"
   ]
  },
  {
   "cell_type": "code",
   "execution_count": 5,
   "metadata": {},
   "outputs": [],
   "source": [
    "Sahm = pd.read_csv('Data/SAHMREALTIME.csv').rename({'DATE': 'S_2'}, axis=1).set_index('S_2', drop=True)\n",
    "Sahm.index = pd.to_datetime(Sahm.index)"
   ]
  },
  {
   "cell_type": "code",
   "execution_count": 6,
   "metadata": {},
   "outputs": [],
   "source": [
    "s = pd.DataFrame(\n",
    "    {\"S_2\": pd.date_range(IR.index.min(), IR.index.max(), freq=\"D\")}\n",
    ").set_index('S_2', drop=True)"
   ]
  },
  {
   "cell_type": "code",
   "execution_count": 7,
   "metadata": {},
   "outputs": [
    {
     "data": {
      "text/html": [
       "<div>\n",
       "<style scoped>\n",
       "    .dataframe tbody tr th:only-of-type {\n",
       "        vertical-align: middle;\n",
       "    }\n",
       "\n",
       "    .dataframe tbody tr th {\n",
       "        vertical-align: top;\n",
       "    }\n",
       "\n",
       "    .dataframe thead th {\n",
       "        text-align: right;\n",
       "    }\n",
       "</style>\n",
       "<table border=\"1\" class=\"dataframe\">\n",
       "  <thead>\n",
       "    <tr style=\"text-align: right;\">\n",
       "      <th></th>\n",
       "      <th>FE1</th>\n",
       "      <th>FE2</th>\n",
       "      <th>FE3</th>\n",
       "    </tr>\n",
       "    <tr>\n",
       "      <th>S_2</th>\n",
       "      <th></th>\n",
       "      <th></th>\n",
       "      <th></th>\n",
       "    </tr>\n",
       "  </thead>\n",
       "  <tbody>\n",
       "    <tr>\n",
       "      <th>1948-01-01</th>\n",
       "      <td>3.47</td>\n",
       "      <td>13.64209</td>\n",
       "      <td>0.77</td>\n",
       "    </tr>\n",
       "    <tr>\n",
       "      <th>1948-02-01</th>\n",
       "      <td>3.47</td>\n",
       "      <td>13.28196</td>\n",
       "      <td>0.77</td>\n",
       "    </tr>\n",
       "    <tr>\n",
       "      <th>1948-03-01</th>\n",
       "      <td>3.47</td>\n",
       "      <td>10.81818</td>\n",
       "      <td>0.77</td>\n",
       "    </tr>\n",
       "    <tr>\n",
       "      <th>1948-04-01</th>\n",
       "      <td>3.47</td>\n",
       "      <td>12.17273</td>\n",
       "      <td>0.77</td>\n",
       "    </tr>\n",
       "    <tr>\n",
       "      <th>1948-05-01</th>\n",
       "      <td>3.47</td>\n",
       "      <td>12.88497</td>\n",
       "      <td>0.77</td>\n",
       "    </tr>\n",
       "    <tr>\n",
       "      <th>...</th>\n",
       "      <td>...</td>\n",
       "      <td>...</td>\n",
       "      <td>...</td>\n",
       "    </tr>\n",
       "    <tr>\n",
       "      <th>2022-06-12</th>\n",
       "      <td>2.58</td>\n",
       "      <td>12.11641</td>\n",
       "      <td>-0.07</td>\n",
       "    </tr>\n",
       "    <tr>\n",
       "      <th>2022-06-13</th>\n",
       "      <td>2.89</td>\n",
       "      <td>12.11641</td>\n",
       "      <td>-0.07</td>\n",
       "    </tr>\n",
       "    <tr>\n",
       "      <th>2022-06-14</th>\n",
       "      <td>3.15</td>\n",
       "      <td>12.11641</td>\n",
       "      <td>-0.07</td>\n",
       "    </tr>\n",
       "    <tr>\n",
       "      <th>2022-06-15</th>\n",
       "      <td>2.93</td>\n",
       "      <td>12.11641</td>\n",
       "      <td>-0.07</td>\n",
       "    </tr>\n",
       "    <tr>\n",
       "      <th>2022-06-16</th>\n",
       "      <td>2.88</td>\n",
       "      <td>12.11641</td>\n",
       "      <td>-0.07</td>\n",
       "    </tr>\n",
       "  </tbody>\n",
       "</table>\n",
       "<p>11084 rows × 3 columns</p>\n",
       "</div>"
      ],
      "text/plain": [
       "             FE1       FE2   FE3\n",
       "S_2                             \n",
       "1948-01-01  3.47  13.64209  0.77\n",
       "1948-02-01  3.47  13.28196  0.77\n",
       "1948-03-01  3.47  10.81818  0.77\n",
       "1948-04-01  3.47  12.17273  0.77\n",
       "1948-05-01  3.47  12.88497  0.77\n",
       "...          ...       ...   ...\n",
       "2022-06-12  2.58  12.11641 -0.07\n",
       "2022-06-13  2.89  12.11641 -0.07\n",
       "2022-06-14  3.15  12.11641 -0.07\n",
       "2022-06-15  2.93  12.11641 -0.07\n",
       "2022-06-16  2.88  12.11641 -0.07\n",
       "\n",
       "[11084 rows x 3 columns]"
      ]
     },
     "execution_count": 7,
     "metadata": {},
     "output_type": "execute_result"
    }
   ],
   "source": [
    "FE_df = pd.concat([s, IR, Misery,Sahm], axis=1)\n",
    "FE_df.fillna(method='ffill', inplace=True)\n",
    "FE_df.fillna(method='bfill', inplace=True)\n",
    "\n",
    "FE_df.rename(columns={'DGS1':'FE1', 'UNRATE_CPIAUCSL_PC1': 'FE2', 'SAHMREALTIME':'FE3'}, inplace=True)\n",
    "FE_columns = FE_df.columns\n",
    "FE_df"
   ]
  },
  {
   "cell_type": "code",
   "execution_count": 8,
   "metadata": {},
   "outputs": [],
   "source": [
    "train_merged = pd.merge(train_data, FE_df, how='left', on='S_2')\n",
    "train_merged.set_index('customer_ID', inplace=True)"
   ]
  },
  {
   "cell_type": "code",
   "execution_count": 10,
   "metadata": {},
   "outputs": [],
   "source": [
    "new_FE_df = train_merged[FE_columns].groupby('customer_ID').agg(['mean', 'min', 'max'])"
   ]
  },
  {
   "cell_type": "code",
   "execution_count": 11,
   "metadata": {},
   "outputs": [],
   "source": [
    "new_FE_df.columns = ['_'.join(col) for col in new_FE_df.columns.values]"
   ]
  },
  {
   "cell_type": "code",
   "execution_count": 15,
   "metadata": {},
   "outputs": [
    {
     "data": {
      "text/plain": [
       "Index(['FE1_mean', 'FE1_min', 'FE1_max', 'FE2_mean', 'FE2_min', 'FE2_max',\n",
       "       'FE3_mean', 'FE3_min', 'FE3_max'],\n",
       "      dtype='object')"
      ]
     },
     "execution_count": 15,
     "metadata": {},
     "output_type": "execute_result"
    }
   ],
   "source": [
    "new_FE_df.columns"
   ]
  },
  {
   "cell_type": "code",
   "execution_count": 13,
   "metadata": {},
   "outputs": [
    {
     "data": {
      "text/plain": [
       "(458913, 634)"
      ]
     },
     "execution_count": 13,
     "metadata": {},
     "output_type": "execute_result"
    }
   ],
   "source": [
    "train = pd.read_parquet('Data/train_agg_pca50.parquet')\n",
    "train.shape"
   ]
  },
  {
   "cell_type": "code",
   "execution_count": 14,
   "metadata": {},
   "outputs": [],
   "source": [
    "pd.concat([train, new_FE_df], axis=1).to_parquet('Data/train_agg_pca50_FE.parquet')"
   ]
  },
  {
   "cell_type": "code",
   "execution_count": null,
   "metadata": {},
   "outputs": [],
   "source": []
  }
 ],
 "metadata": {
  "kernelspec": {
   "display_name": "Python 3.9.12 ('rapids-22.06')",
   "language": "python",
   "name": "python3"
  },
  "language_info": {
   "codemirror_mode": {
    "name": "ipython",
    "version": 3
   },
   "file_extension": ".py",
   "mimetype": "text/x-python",
   "name": "python",
   "nbconvert_exporter": "python",
   "pygments_lexer": "ipython3",
   "version": "3.9.12"
  },
  "orig_nbformat": 4,
  "vscode": {
   "interpreter": {
    "hash": "468ef23ed2970eb3eae24d512361eed443dbea3050d88b5fbf8075c8ae4b100c"
   }
  }
 },
 "nbformat": 4,
 "nbformat_minor": 2
}
