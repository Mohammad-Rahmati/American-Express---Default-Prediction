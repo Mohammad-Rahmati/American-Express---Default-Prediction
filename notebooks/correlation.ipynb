{
 "cells": [
  {
   "cell_type": "code",
   "execution_count": null,
   "metadata": {},
   "outputs": [],
   "source": [
    "import pandas as pd\n",
    "from dython.nominal import associations\n",
    "\n",
    "import warnings\n",
    "warnings.filterwarnings(\"ignore\")"
   ]
  },
  {
   "cell_type": "code",
   "execution_count": null,
   "metadata": {},
   "outputs": [],
   "source": [
    "train_data = pd.read_pickle('Data/train_data.pkl')\n",
    "train_labels = pd.read_pickle('Data/train_labels.pkl')"
   ]
  },
  {
   "cell_type": "code",
   "execution_count": null,
   "metadata": {},
   "outputs": [],
   "source": [
    "categorical_features = ['B_30', 'B_31', 'B_38', 'D_114', 'D_116', 'D_117', 'D_120', 'D_126', 'D_63', 'D_64', 'D_66', 'D_68']"
   ]
  },
  {
   "cell_type": "code",
   "execution_count": null,
   "metadata": {},
   "outputs": [],
   "source": [
    "association_dictionary = associations(train_data[categorical_features], nominal_columns = categorical_features, mark_columns = True, \n",
    "                nom_nom_assoc = 'theil', nan_strategy = 'drop_samples', figsize= (15, 15), vmin = 0, vmax=0.8, compute_only = False)"
   ]
  },
  {
   "cell_type": "code",
   "execution_count": null,
   "metadata": {},
   "outputs": [],
   "source": [
    "print('highest associations:')\n",
    "tdf = association_dictionary['corr'].stack()\n",
    "tdf = tdf[tdf.index.get_level_values(0) < tdf.index.get_level_values(1)]\n",
    "tdf = tdf.sort_values(ascending = False)\n",
    "print(tdf)"
   ]
  },
  {
   "cell_type": "code",
   "execution_count": null,
   "metadata": {},
   "outputs": [],
   "source": [
    "train_feature_target = pd.concat([train_data.groupby('customer_ID').tail(1), train_labels], axis=1)\n",
    "train_feature_target.head()"
   ]
  },
  {
   "cell_type": "code",
   "execution_count": null,
   "metadata": {},
   "outputs": [],
   "source": [
    "print('\\nThe association between a categorical target and categorical features:')\n",
    "association_dictionary = associations(train_feature_target[categorical_features + ['target']], \n",
    "                                        nominal_columns = categorical_features + ['target'], mark_columns = True, \n",
    "                                        display_rows = ['target'], nan_strategy = 'drop_samples',figsize= (15, 15),\n",
    "                                        vmin = 0, vmax=0.8, compute_only = False, cbar = False) "
   ]
  },
  {
   "cell_type": "code",
   "execution_count": null,
   "metadata": {},
   "outputs": [],
   "source": [
    "numerical_features = list(set(train_data.columns).difference(set(categorical_features)))\n",
    "numerical_features.remove('S_2')\n",
    "train_feature_target = train_feature_target.fillna(train_feature_target.median())"
   ]
  },
  {
   "cell_type": "code",
   "execution_count": null,
   "metadata": {},
   "outputs": [],
   "source": [
    "correlation_dictionary_ff = associations(train_feature_target[numerical_features], numerical_columns = numerical_features, \n",
    "                                        mark_columns = False, num_num_assoc = 'pearson', nan_strategy = 'drop_samples',\n",
    "                                        figsize= (15, 15), vmin = 0, vmax=0.8, compute_only = True)"
   ]
  },
  {
   "cell_type": "code",
   "execution_count": null,
   "metadata": {},
   "outputs": [],
   "source": [
    "print('highest correlations:')\n",
    "tdf = correlation_dictionary_ff['corr'].stack()\n",
    "tdf = tdf[tdf.index.get_level_values(0) < tdf.index.get_level_values(1)]\n",
    "tdf = tdf.sort_values(ascending = False)\n",
    "# tdf.to_csv('Data/feature_feature_corr.csv')\n",
    "print(tdf)"
   ]
  },
  {
   "cell_type": "code",
   "execution_count": null,
   "metadata": {},
   "outputs": [],
   "source": [
    "print('\\nThe correlation ration (eta) of a categorical target and numerical features:')\n",
    "correlation_dictionary_ft = associations(train_feature_target[numerical_features + ['target']], nominal_columns = 'target',\n",
    "                                        numerical_columns = numerical_features, mark_columns = True, \n",
    "                                        display_rows = ['target'], nan_strategy = 'drop_samples', \n",
    "                                        figsize= (15, 15), vmin = 0, vmax=0.8, compute_only = True, cbar = False)"
   ]
  },
  {
   "cell_type": "code",
   "execution_count": null,
   "metadata": {},
   "outputs": [],
   "source": [
    "cft = correlation_dictionary_ft['corr'].stack().sort_values(ascending = False)\n",
    "cft.to_csv('Data/feature_target_corr.csv')\n",
    "cft"
   ]
  },
  {
   "cell_type": "code",
   "execution_count": null,
   "metadata": {},
   "outputs": [],
   "source": []
  }
 ],
 "metadata": {
  "interpreter": {
   "hash": "916dbcbb3f70747c44a77c7bcd40155683ae19c65e1c03b4aa3499c5328201f1"
  },
  "kernelspec": {
   "display_name": "Python 3.10.4 64-bit",
   "language": "python",
   "name": "python3"
  },
  "language_info": {
   "codemirror_mode": {
    "name": "ipython",
    "version": 3
   },
   "file_extension": ".py",
   "mimetype": "text/x-python",
   "name": "python",
   "nbconvert_exporter": "python",
   "pygments_lexer": "ipython3",
   "version": "3.10.4"
  },
  "orig_nbformat": 4
 },
 "nbformat": 4,
 "nbformat_minor": 2
}
