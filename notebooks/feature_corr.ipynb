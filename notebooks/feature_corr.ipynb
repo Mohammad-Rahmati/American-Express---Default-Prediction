{
 "cells": [
  {
   "cell_type": "code",
   "execution_count": 1,
   "metadata": {},
   "outputs": [],
   "source": [
    "import pandas as pd\n",
    "import numpy as np\n",
    "import random\n",
    "import gc"
   ]
  },
  {
   "cell_type": "code",
   "execution_count": 2,
   "metadata": {},
   "outputs": [],
   "source": [
    "train = pd.read_pickle('Data/train_data.pkl')"
   ]
  },
  {
   "cell_type": "code",
   "execution_count": 3,
   "metadata": {},
   "outputs": [],
   "source": [
    "cat_cols = ['B_30', 'B_38', 'D_114', 'D_116', 'D_117', 'D_120',\n",
    "                'D_126', 'D_63', 'D_64', 'D_66', 'D_68']\n",
    "num_cols = set(train.columns).difference(set(cat_cols))"
   ]
  },
  {
   "cell_type": "code",
   "execution_count": 4,
   "metadata": {},
   "outputs": [],
   "source": [
    "features = random.choices(list(num_cols), k=2)"
   ]
  },
  {
   "cell_type": "code",
   "execution_count": 5,
   "metadata": {},
   "outputs": [],
   "source": [
    "train.drop(cat_cols, axis=1, inplace=True)"
   ]
  },
  {
   "cell_type": "code",
   "execution_count": 20,
   "metadata": {},
   "outputs": [
    {
     "data": {
      "text/html": [
       "<div>\n",
       "<style scoped>\n",
       "    .dataframe tbody tr th:only-of-type {\n",
       "        vertical-align: middle;\n",
       "    }\n",
       "\n",
       "    .dataframe tbody tr th {\n",
       "        vertical-align: top;\n",
       "    }\n",
       "\n",
       "    .dataframe thead th {\n",
       "        text-align: right;\n",
       "    }\n",
       "</style>\n",
       "<table border=\"1\" class=\"dataframe\">\n",
       "  <thead>\n",
       "    <tr style=\"text-align: right;\">\n",
       "      <th></th>\n",
       "      <th></th>\n",
       "      <th>S_5</th>\n",
       "      <th>S_6</th>\n",
       "    </tr>\n",
       "    <tr>\n",
       "      <th>customer_ID</th>\n",
       "      <th></th>\n",
       "      <th></th>\n",
       "      <th></th>\n",
       "    </tr>\n",
       "  </thead>\n",
       "  <tbody>\n",
       "    <tr>\n",
       "      <th rowspan=\"2\" valign=\"top\">0000099d6bd597052cdcda90ffabf56573fe9d7c79be5fbac11a8ed792feb62a</th>\n",
       "      <th>S_5</th>\n",
       "      <td>1.000000</td>\n",
       "      <td>-0.112958</td>\n",
       "    </tr>\n",
       "    <tr>\n",
       "      <th>S_6</th>\n",
       "      <td>-0.112958</td>\n",
       "      <td>1.000000</td>\n",
       "    </tr>\n",
       "    <tr>\n",
       "      <th rowspan=\"2\" valign=\"top\">00000fd6641609c6ece5454664794f0340ad84dddce9a267a310b5ae68e9d8e5</th>\n",
       "      <th>S_5</th>\n",
       "      <td>1.000000</td>\n",
       "      <td>-0.158492</td>\n",
       "    </tr>\n",
       "    <tr>\n",
       "      <th>S_6</th>\n",
       "      <td>-0.158492</td>\n",
       "      <td>1.000000</td>\n",
       "    </tr>\n",
       "    <tr>\n",
       "      <th>00001b22f846c82c51f6e3958ccd81970162bae8b007e80662ef27519fcc18c1</th>\n",
       "      <th>S_5</th>\n",
       "      <td>1.000000</td>\n",
       "      <td>0.323759</td>\n",
       "    </tr>\n",
       "    <tr>\n",
       "      <th>...</th>\n",
       "      <th>...</th>\n",
       "      <td>...</td>\n",
       "      <td>...</td>\n",
       "    </tr>\n",
       "    <tr>\n",
       "      <th>ffff9984b999fccb2b6127635ed0736dda94e544e67e026eee4d20f680639ff6</th>\n",
       "      <th>S_6</th>\n",
       "      <td>-0.164337</td>\n",
       "      <td>1.000000</td>\n",
       "    </tr>\n",
       "    <tr>\n",
       "      <th rowspan=\"2\" valign=\"top\">ffffa5c46bc8de74f5a4554e74e239c8dee6b9baf388145b2c3d01967fcce461</th>\n",
       "      <th>S_5</th>\n",
       "      <td>1.000000</td>\n",
       "      <td>-0.254317</td>\n",
       "    </tr>\n",
       "    <tr>\n",
       "      <th>S_6</th>\n",
       "      <td>-0.254317</td>\n",
       "      <td>1.000000</td>\n",
       "    </tr>\n",
       "    <tr>\n",
       "      <th rowspan=\"2\" valign=\"top\">fffff1d38b785cef84adeace64f8f83db3a0c31e8d92eaba8b115f71cab04681</th>\n",
       "      <th>S_5</th>\n",
       "      <td>1.000000</td>\n",
       "      <td>-0.260805</td>\n",
       "    </tr>\n",
       "    <tr>\n",
       "      <th>S_6</th>\n",
       "      <td>-0.260805</td>\n",
       "      <td>1.000000</td>\n",
       "    </tr>\n",
       "  </tbody>\n",
       "</table>\n",
       "<p>917826 rows × 2 columns</p>\n",
       "</div>"
      ],
      "text/plain": [
       "                                                             S_5       S_6\n",
       "customer_ID                                                               \n",
       "0000099d6bd597052cdcda90ffabf56573fe9d7c79be5fb... S_5  1.000000 -0.112958\n",
       "                                                   S_6 -0.112958  1.000000\n",
       "00000fd6641609c6ece5454664794f0340ad84dddce9a26... S_5  1.000000 -0.158492\n",
       "                                                   S_6 -0.158492  1.000000\n",
       "00001b22f846c82c51f6e3958ccd81970162bae8b007e80... S_5  1.000000  0.323759\n",
       "...                                                          ...       ...\n",
       "ffff9984b999fccb2b6127635ed0736dda94e544e67e026... S_6 -0.164337  1.000000\n",
       "ffffa5c46bc8de74f5a4554e74e239c8dee6b9baf388145... S_5  1.000000 -0.254317\n",
       "                                                   S_6 -0.254317  1.000000\n",
       "fffff1d38b785cef84adeace64f8f83db3a0c31e8d92eab... S_5  1.000000 -0.260805\n",
       "                                                   S_6 -0.260805  1.000000\n",
       "\n",
       "[917826 rows x 2 columns]"
      ]
     },
     "execution_count": 20,
     "metadata": {},
     "output_type": "execute_result"
    }
   ],
   "source": [
    "corr_df = train[features].groupby('customer_ID').corr()\n",
    "corr_df"
   ]
  },
  {
   "cell_type": "code",
   "execution_count": null,
   "metadata": {},
   "outputs": [],
   "source": []
  },
  {
   "cell_type": "code",
   "execution_count": null,
   "metadata": {},
   "outputs": [],
   "source": [
    "index_list = []\n",
    "tfc_list = []\n",
    "for counter, id in enumerate(train.index.unique()):\n",
    "    if counter%10000 == 0: print(counter, end=',')\n",
    "    tfc = corr_df.loc[id].copy()\n",
    "    tfc.fillna(0, inplace=True)\n",
    "    tfc = tfc.mask(np.tril(np.ones(tfc.shape)).astype(bool))\n",
    "    tfc_list.append(tfc.stack().values)\n",
    "    index_list.append(id)"
   ]
  },
  {
   "cell_type": "code",
   "execution_count": null,
   "metadata": {},
   "outputs": [],
   "source": [
    "study_df = pd.DataFrame(tfc_list, index=index_list)\n",
    "study_df.to_pickle('Data/train_feature_corr.pkl')"
   ]
  },
  {
   "cell_type": "code",
   "execution_count": null,
   "metadata": {},
   "outputs": [],
   "source": [
    "study_df"
   ]
  },
  {
   "cell_type": "code",
   "execution_count": null,
   "metadata": {},
   "outputs": [],
   "source": [
    "scaler = StandardScaler()\n",
    "study_df_scaled = scaler.fit_transform(study_df)\n",
    "pca = PCA(n_components=50, random_state=42)\n",
    "study_df_scaled_PCA = pca.fit_transform(study_df_scaled)\n",
    "print(pca.explained_variance_ratio_)"
   ]
  },
  {
   "cell_type": "code",
   "execution_count": null,
   "metadata": {},
   "outputs": [],
   "source": [
    "train_label = pd.read_pickle('Data/train_labels.pkl').loc[study_df.index]"
   ]
  },
  {
   "cell_type": "code",
   "execution_count": null,
   "metadata": {},
   "outputs": [],
   "source": [
    "column_name = []\n",
    "for i in range(0, study_df_scaled_PCA.shape[1], 1):\n",
    "    column_name.append('PCA_FE_CORR_' + str(i))\n",
    "\n",
    "pca_df = pd.DataFrame(study_df_scaled_PCA, columns=column_name, index=study_df.index)\n",
    "feature_list = pca_df.columns\n",
    "pca_target = pd.concat([pca_df, train_label], axis=1)"
   ]
  },
  {
   "cell_type": "code",
   "execution_count": null,
   "metadata": {},
   "outputs": [],
   "source": [
    "correlation_dictionary_ft = associations(pca_target, nominal_columns = 'target',\n",
    "                                        numerical_columns = feature_list.to_list(), mark_columns = True, \n",
    "                                        display_rows = ['target'], nan_strategy = 'drop_samples', \n",
    "                                        figsize= (15, 15), vmin = 0, vmax=0.8, compute_only = True, cbar = False)"
   ]
  },
  {
   "cell_type": "code",
   "execution_count": null,
   "metadata": {},
   "outputs": [],
   "source": [
    "cft = correlation_dictionary_ft['corr'].stack().sort_values(ascending = False)\n",
    "cft"
   ]
  },
  {
   "cell_type": "code",
   "execution_count": null,
   "metadata": {},
   "outputs": [],
   "source": [
    "pca_df.to_pickle('Data/pca_fe_corr_train.pkl')"
   ]
  },
  {
   "cell_type": "code",
   "execution_count": null,
   "metadata": {},
   "outputs": [],
   "source": []
  }
 ],
 "metadata": {
  "kernelspec": {
   "display_name": "Python 3.9.12 ('rapids-22.06')",
   "language": "python",
   "name": "python3"
  },
  "language_info": {
   "codemirror_mode": {
    "name": "ipython",
    "version": 3
   },
   "file_extension": ".py",
   "mimetype": "text/x-python",
   "name": "python",
   "nbconvert_exporter": "python",
   "pygments_lexer": "ipython3",
   "version": "3.9.12"
  },
  "orig_nbformat": 4,
  "vscode": {
   "interpreter": {
    "hash": "468ef23ed2970eb3eae24d512361eed443dbea3050d88b5fbf8075c8ae4b100c"
   }
  }
 },
 "nbformat": 4,
 "nbformat_minor": 2
}
