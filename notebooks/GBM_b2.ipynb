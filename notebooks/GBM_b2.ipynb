{
 "cells": [
  {
   "cell_type": "code",
   "execution_count": null,
   "metadata": {},
   "outputs": [],
   "source": [
    "import os\n",
    "dir = '__pycache__/'\n",
    "for f in os.listdir(dir):\n",
    "    os.remove(os.path.join(dir, f))\n",
    "if os.path.exists('log.txt'): os.remove('log.txt')\n",
    "\n",
    "import pandas as pd\n",
    "import gc\n",
    "import h2o\n",
    "from h2o.estimators.gbm import H2OGradientBoostingEstimator\n",
    "\n",
    "from custom_metric_function import AmexMetric\n",
    "from evaluation_metric import amex_metric, amex_list\n",
    "\n",
    "import matplotlib.pyplot as plt\n",
    "import seaborn as sns\n",
    "from sklearn.calibration import calibration_curve\n",
    "\n",
    "import warnings\n",
    "warnings.filterwarnings(\"ignore\")"
   ]
  },
  {
   "cell_type": "code",
   "execution_count": null,
   "metadata": {},
   "outputs": [],
   "source": [
    "h2o.init(min_mem_size = '20G', nthreads = -1)"
   ]
  },
  {
   "cell_type": "code",
   "execution_count": null,
   "metadata": {},
   "outputs": [],
   "source": [
    "data = pd.read_parquet('Data/train_data_aggV3.parquet')\n",
    "data.set_index('customer_ID', inplace=True)\n",
    "data.drop(['cid', 'S_2'], axis=1, inplace=True)\n",
    "data = data.sample(frac=1, random_state=42)\n",
    "data_h2o = h2o.H2OFrame(data)\n",
    "\n",
    "del data\n",
    "gc.collect()\n",
    "\n",
    "train, valid = data_h2o.split_frame(ratios=[.9], seed=42)\n",
    "h2o.remove(data_h2o.frame_id)\n",
    "gc.collect()\n",
    "\n",
    "x = train.columns\n",
    "y = 'target'\n",
    "x.remove(y)\n",
    "\n",
    "train[y] = train[y].asfactor()\n",
    "valid[y] = valid[y].asfactor()\n",
    "\n",
    "train.shape, valid.shape"
   ]
  },
  {
   "cell_type": "code",
   "execution_count": null,
   "metadata": {},
   "outputs": [],
   "source": [
    "train[y].as_data_frame().value_counts()"
   ]
  },
  {
   "cell_type": "markdown",
   "metadata": {},
   "source": [
    "### Training"
   ]
  },
  {
   "cell_type": "code",
   "execution_count": null,
   "metadata": {},
   "outputs": [],
   "source": [
    "amex = h2o.upload_custom_metric(AmexMetric,\n",
    "                                func_name = \"Amex\",\n",
    "                                func_file = \"custom_metric_function.py\")\n",
    "\n",
    "model = H2OGradientBoostingEstimator(model_id = 'GBM_b2',\n",
    "                                    ntrees=9999,\n",
    "                                    max_depth=0,\n",
    "                                    nfolds=5,\n",
    "                                    sample_rate_per_class = [0.35, 1],\n",
    "                                    custom_metric_func = amex,\n",
    "                                    stopping_metric='custom_increasing',\n",
    "                                    stopping_tolerance=0.001,\n",
    "                                    stopping_rounds=1000,\n",
    "                                    calibrate_model = True,\n",
    "                                    calibration_frame = valid)\n",
    "\n",
    "model.train(x = x, y = y, training_frame = train)"
   ]
  },
  {
   "cell_type": "code",
   "execution_count": null,
   "metadata": {},
   "outputs": [],
   "source": [
    "model_path = h2o.save_model(model=model, path=\"Models/gbm_b2\", force=True)\n",
    "model_path"
   ]
  },
  {
   "cell_type": "code",
   "execution_count": null,
   "metadata": {},
   "outputs": [],
   "source": [
    "pred = model.predict(train)\n",
    "pred_df = pred['cal_p1'].as_data_frame()\n",
    "train_targets = train['target'].as_data_frame()\n",
    "amex_metric(train_targets, pred_df.rename({'cal_p1': 'prediction'}, axis=1))"
   ]
  },
  {
   "cell_type": "code",
   "execution_count": null,
   "metadata": {},
   "outputs": [],
   "source": [
    "fraction_of_positives, mean_predicted_value = calibration_curve(train_targets, pred_df, n_bins=20)\n",
    "fig, ax = plt.subplots(1, figsize=(12, 6))\n",
    "plt.plot(mean_predicted_value, fraction_of_positives, 's-')\n",
    "plt.plot([0, 1], [0, 1], '--', color='gray')\n",
    "\n",
    "sns.despine(left=True, bottom=True)\n",
    "plt.gca().xaxis.set_ticks_position('none')\n",
    "plt.gca().yaxis.set_ticks_position('none')\n",
    "plt.title(\"Reliability Curve\", fontsize=20); pass"
   ]
  },
  {
   "cell_type": "markdown",
   "metadata": {},
   "source": [
    "### Prediction"
   ]
  },
  {
   "cell_type": "code",
   "execution_count": null,
   "metadata": {},
   "outputs": [],
   "source": [
    "test = pd.read_parquet('Data/test_data_aggV3.parquet')\n",
    "test.set_index('customer_ID', inplace=True)\n",
    "test.drop(columns=['cid', 'S_2'], axis=1, inplace=True)\n",
    "d_types = train.drop('target').types\n",
    "\n",
    "test_h2o = h2o.H2OFrame(test, column_types = d_types)"
   ]
  },
  {
   "cell_type": "code",
   "execution_count": null,
   "metadata": {},
   "outputs": [],
   "source": [
    "pred_test = model.predict(test_h2o)\n",
    "pred_test_df = pred_test['p1'].as_data_frame()\n",
    "pred_test_df.index = test.index"
   ]
  },
  {
   "cell_type": "code",
   "execution_count": null,
   "metadata": {},
   "outputs": [],
   "source": [
    "pred_test_df.hist(bins=100)"
   ]
  },
  {
   "cell_type": "code",
   "execution_count": null,
   "metadata": {},
   "outputs": [],
   "source": [
    "pred_test_df.to_csv('Output/p_gbm_b2.csv', header=['prediction'])"
   ]
  }
 ],
 "metadata": {
  "kernelspec": {
   "display_name": "Python 3.9.12 ('rapids-22.06')",
   "language": "python",
   "name": "python3"
  },
  "language_info": {
   "codemirror_mode": {
    "name": "ipython",
    "version": 3
   },
   "file_extension": ".py",
   "mimetype": "text/x-python",
   "name": "python",
   "nbconvert_exporter": "python",
   "pygments_lexer": "ipython3",
   "version": "3.9.12"
  },
  "orig_nbformat": 4,
  "vscode": {
   "interpreter": {
    "hash": "468ef23ed2970eb3eae24d512361eed443dbea3050d88b5fbf8075c8ae4b100c"
   }
  }
 },
 "nbformat": 4,
 "nbformat_minor": 2
}
