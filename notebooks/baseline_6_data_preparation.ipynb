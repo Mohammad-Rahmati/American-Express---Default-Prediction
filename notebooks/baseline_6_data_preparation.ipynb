{
 "cells": [
  {
   "cell_type": "code",
   "execution_count": null,
   "metadata": {},
   "outputs": [],
   "source": [
    "from evaluation_metric import *\n",
    "from baseline_model import *\n",
    "import pandas as pd\n",
    "from sklearn.decomposition import PCA\n",
    "from sklearn.preprocessing import StandardScaler\n",
    "from sklearn.preprocessing import OneHotEncoder\n",
    "\n",
    "import warnings\n",
    "warnings.filterwarnings(\"ignore\")"
   ]
  },
  {
   "cell_type": "code",
   "execution_count": null,
   "metadata": {},
   "outputs": [],
   "source": [
    "train_data = pd.read_pickle('Data/train_data.pkl')\n",
    "train_labels = pd.read_pickle('Data/train_labels.pkl').loc[train_data.index]\n",
    "test_data = pd.read_pickle('Data/test_data.pkl')\n",
    "Features = train_data.columns\n",
    "train_data.shape, train_labels.shape, test_data.shape"
   ]
  },
  {
   "cell_type": "code",
   "execution_count": null,
   "metadata": {},
   "outputs": [],
   "source": [
    "categorical_features = ['B_30', 'B_31', 'B_38', 'D_114', 'D_116', 'D_117', 'D_120', 'D_126', 'D_63', 'D_64', 'D_66', 'D_68']\n",
    "train_data.drop(columns=['S_2'], axis=1, inplace=True)\n",
    "test_data.drop(columns=['S_2'], axis=1, inplace=True)\n",
    "train_data[categorical_features] = train_data[categorical_features].astype(str)\n",
    "test_data[categorical_features] = test_data[categorical_features].astype(str)\n",
    "numerical_features = list(set(train_data.columns).difference(set(categorical_features)))"
   ]
  },
  {
   "cell_type": "code",
   "execution_count": null,
   "metadata": {},
   "outputs": [],
   "source": [
    "enc = OneHotEncoder()\n",
    "train_encoded_df = enc.fit_transform(train_data[categorical_features])\n",
    "test_encoded_df = enc.transform(test_data[categorical_features])"
   ]
  },
  {
   "cell_type": "code",
   "execution_count": null,
   "metadata": {},
   "outputs": [],
   "source": [
    "column_name = []\n",
    "for i in range(0, train_encoded_df.shape[1], 1):\n",
    "    column_name.append('enc_' + str(i))\n",
    "train_enc_df = pd.DataFrame(train_encoded_df.toarray(), columns = column_name, index= train_data.index)\n",
    "\n",
    "column_name = []\n",
    "for i in range(0, test_encoded_df.shape[1], 1):\n",
    "    column_name.append('enc_' + str(i))\n",
    "test_enc_df = pd.DataFrame(test_encoded_df.toarray(), columns = column_name, index= test_data.index)"
   ]
  },
  {
   "cell_type": "code",
   "execution_count": null,
   "metadata": {},
   "outputs": [],
   "source": [
    "train_data.drop(columns=categorical_features, axis=1, inplace=True)\n",
    "test_data.drop(columns=categorical_features, axis=1, inplace=True)"
   ]
  },
  {
   "cell_type": "code",
   "execution_count": null,
   "metadata": {},
   "outputs": [],
   "source": [
    "train_test_data = pd.concat([train_data,test_data], axis = 0)"
   ]
  },
  {
   "cell_type": "code",
   "execution_count": null,
   "metadata": {},
   "outputs": [],
   "source": [
    "scaler = StandardScaler()\n",
    "train_test_scaled = scaler.fit_transform(train_test_data.fillna(train_test_data.median()))\n",
    "\n",
    "pca = PCA(n_components=30, random_state=42)\n",
    "train_test_scaled_PCA = pca.fit_transform(train_test_scaled)\n",
    "\n",
    "print(pca.explained_variance_ratio_)"
   ]
  },
  {
   "cell_type": "code",
   "execution_count": null,
   "metadata": {},
   "outputs": [],
   "source": [
    "column_name = []\n",
    "for i in range(0, train_test_scaled_PCA.shape[1], 1):\n",
    "    column_name.append('PCA_' + str(i))\n",
    "\n",
    "train_test_PCA_df = pd.DataFrame(train_test_scaled_PCA, columns= column_name, index=train_test_data.index)"
   ]
  },
  {
   "cell_type": "code",
   "execution_count": null,
   "metadata": {},
   "outputs": [],
   "source": [
    "train_data['unique_id'] = range(0, train_data.shape[0],1)\n",
    "train_test_PCA_df['unique_id'] = range(0, train_test_PCA_df.shape[0],1)\n",
    "train_enc_df['unique_id'] = range(0, train_enc_df.shape[0],1)\n",
    "test_enc_df['unique_id'] = range(0, test_enc_df.shape[0],1)\n",
    "test_data['unique_id'] = range(0, test_data.shape[0],1)"
   ]
  },
  {
   "cell_type": "code",
   "execution_count": null,
   "metadata": {},
   "outputs": [],
   "source": [
    "train_data.set_index('unique_id', inplace=True)\n",
    "train_test_PCA_df.set_index('unique_id', inplace=True)\n",
    "train_enc_df.set_index('unique_id', inplace=True)\n",
    "test_enc_df.set_index('unique_id', inplace=True)\n",
    "test_data.set_index('unique_id', inplace=True)"
   ]
  },
  {
   "cell_type": "code",
   "execution_count": null,
   "metadata": {},
   "outputs": [],
   "source": [
    "train_mo = pd.concat([train_data, train_test_PCA_df.iloc[:5531450+1], train_enc_df], axis=1)\n",
    "test_mo = pd.concat([test_data, train_test_PCA_df.iloc[5531450+1:].reset_index(), test_enc_df], axis=1)\n",
    "test_mo.index.name = 'unique_id'\n",
    "test_mo.drop(columns=['unique_id'], axis=1, inplace=True)"
   ]
  },
  {
   "cell_type": "code",
   "execution_count": null,
   "metadata": {},
   "outputs": [],
   "source": [
    "train_mo.shape, test_mo.shape"
   ]
  },
  {
   "cell_type": "code",
   "execution_count": null,
   "metadata": {},
   "outputs": [],
   "source": [
    "del test_data, train_data, train_test_PCA_df, train_enc_df, test_enc_df"
   ]
  },
  {
   "cell_type": "code",
   "execution_count": null,
   "metadata": {},
   "outputs": [],
   "source": [
    "train_mo.to_pickle('Data/train_mo.pkl')\n",
    "test_mo.to_pickle('Data/test_mo.pkl')"
   ]
  },
  {
   "cell_type": "code",
   "execution_count": null,
   "metadata": {},
   "outputs": [],
   "source": []
  }
 ],
 "metadata": {
  "interpreter": {
   "hash": "dfe2e9041c24d5f91854bb9ffc35eacf9a6123f8e0fdaf39110ac9ad93cae24d"
  },
  "kernelspec": {
   "display_name": "Python 3.9.7 ('base')",
   "language": "python",
   "name": "python3"
  },
  "language_info": {
   "codemirror_mode": {
    "name": "ipython",
    "version": 3
   },
   "file_extension": ".py",
   "mimetype": "text/x-python",
   "name": "python",
   "nbconvert_exporter": "python",
   "pygments_lexer": "ipython3",
   "version": "3.9.7"
  },
  "orig_nbformat": 4
 },
 "nbformat": 4,
 "nbformat_minor": 2
}
