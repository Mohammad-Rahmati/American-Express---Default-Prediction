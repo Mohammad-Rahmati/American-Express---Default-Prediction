{
 "cells": [
  {
   "cell_type": "code",
   "execution_count": null,
   "metadata": {},
   "outputs": [],
   "source": [
    "import pandas as pd\n",
    "import matplotlib.pyplot as plt\n",
    "import joblib\n",
    "import lightgbm as lgb\n",
    "import os\n",
    "\n",
    "import warnings\n",
    "warnings.filterwarnings('ignore')"
   ]
  },
  {
   "cell_type": "code",
   "execution_count": null,
   "metadata": {},
   "outputs": [],
   "source": [
    "pd.read_parquet('Data/train_all_slopes.parquet').shape"
   ]
  },
  {
   "cell_type": "code",
   "execution_count": 1,
   "metadata": {},
   "outputs": [
    {
     "data": {
      "text/plain": [
       "79899.2"
      ]
     },
     "execution_count": 1,
     "metadata": {},
     "output_type": "execute_result"
    }
   ],
   "source": [
    "(80426+79635+79904+79516+80009)/5"
   ]
  },
  {
   "cell_type": "code",
   "execution_count": null,
   "metadata": {},
   "outputs": [],
   "source": [
    "fold = 0\n",
    "path = 'models_DART_top56corr/'\n",
    "for fname in os.listdir(path):\n",
    "            if fname.startswith(\"fold_{}_iter\".format(fold)):\n",
    "                print(fname)\n",
    "                model = joblib.load(path + fname)\n",
    "                model.save_model(path + 'cp_{}_model.txt'.format(fold))"
   ]
  },
  {
   "cell_type": "code",
   "execution_count": null,
   "metadata": {},
   "outputs": [],
   "source": [
    "# plt.rcParams[\"figure.figsize\"] = (18, 35)\n",
    "# lgb.plot_importance(model, importance_type='split' , max_num_features=200);"
   ]
  },
  {
   "cell_type": "code",
   "execution_count": null,
   "metadata": {},
   "outputs": [],
   "source": [
    "fe = model.feature_importance(importance_type='split')\n",
    "fn = model.feature_name()\n",
    "df = pd.DataFrame(fe, index=fn, columns=['importance'])\n",
    "df.sort_values(by='importance', ascending=False, inplace=True)\n",
    "df.reset_index(inplace=True)"
   ]
  },
  {
   "cell_type": "code",
   "execution_count": null,
   "metadata": {},
   "outputs": [],
   "source": [
    "df[df.importance == 0].shape"
   ]
  },
  {
   "cell_type": "code",
   "execution_count": null,
   "metadata": {},
   "outputs": [],
   "source": [
    "df[df['index'].str.startswith('pca_')]"
   ]
  },
  {
   "cell_type": "code",
   "execution_count": null,
   "metadata": {},
   "outputs": [],
   "source": [
    "importance = df[df['index'].str.startswith('corr_')]\n",
    "importance.rename(columns={'index': 'name'}, inplace=True)\n",
    "importance['name'].to_list()"
   ]
  },
  {
   "cell_type": "code",
   "execution_count": null,
   "metadata": {},
   "outputs": [],
   "source": [
    "score = pd.read_csv('Data/corr_importance.csv')"
   ]
  },
  {
   "cell_type": "code",
   "execution_count": null,
   "metadata": {},
   "outputs": [],
   "source": [
    "score.sort_values(by='score_first', ascending=False, inplace=True)"
   ]
  },
  {
   "cell_type": "code",
   "execution_count": null,
   "metadata": {},
   "outputs": [],
   "source": [
    "top_corr = score['first'].unique()[:10]\n",
    "top_corr"
   ]
  },
  {
   "cell_type": "code",
   "execution_count": null,
   "metadata": {},
   "outputs": [],
   "source": [
    "for i in range(0,10):\n",
    "    print(top_corr[i], end=', ')\n",
    "    score_first = score[score['first'] == top_corr[i]].sort_values(by='corr', ascending=False)\n",
    "    high_corr_list = score_first[score_first['corr'] > 0.5]['name'].to_list()\n",
    "    print(set(top_corr).intersection(set(high_corr_list)))"
   ]
  },
  {
   "cell_type": "code",
   "execution_count": null,
   "metadata": {},
   "outputs": [],
   "source": [
    "len(['corr_D_39-B_26', 'corr_D_48-B_4', 'corr_P_2-D_44',\n",
    "       'corr_D_47-B_4', 'corr_D_47-D_39', 'corr_P_2-B_4',\n",
    "       'corr_D_39-B_10', 'corr_D_44-B_4', 'corr_D_39-B_2',\n",
    "       'corr_D_46-B_4', 'corr_D_48-D_47', 'corr_D_48-B_3',\n",
    "       'corr_D_48-B_9', 'corr_S_5-S_24', 'corr_S_7-S_3',\n",
    "       'corr_D_43-D_144', 'corr_D_48-D_39', 'corr_D_44-B_3',\n",
    "       'corr_P_3-D_46', 'corr_S_5-D_43', 'corr_R_1-B_4', \n",
    "       'corr_P_3-D_47', 'corr_D_39-B_3', 'corr_R_6-D_39', 'corr_S_27-B_2',\n",
    "       'corr_S_23-D_43', 'corr_R_6-D_69', 'corr_P_2-D_48',\n",
    "       'corr_S_25-B_4', 'corr_D_43-B_4', 'corr_R_27-D_69',\n",
    "       'corr_S_7-S_27', 'corr_D_39-B_11', 'corr_S_3-D_39',\n",
    "       'corr_D_39-B_1', 'corr_S_12-B_4', 'corr_D_39-B_15',\n",
    "       'corr_R_27-B_26', 'corr_S_23-D_39', 'corr_R_27-R_1',\n",
    "       'corr_R_1-D_39', 'corr_S_19-D_39', 'corr_S_27-B_3',\n",
    "       'corr_S_16-D_39', 'corr_R_27-B_5',\n",
    "       'corr_S_3-D_62', 'corr_D_71-D_62', 'corr_R_27-D_39'])"
   ]
  }
 ],
 "metadata": {
  "kernelspec": {
   "display_name": "Python 3.9.12 ('rapids-22.06')",
   "language": "python",
   "name": "python3"
  },
  "language_info": {
   "codemirror_mode": {
    "name": "ipython",
    "version": 3
   },
   "file_extension": ".py",
   "mimetype": "text/x-python",
   "name": "python",
   "nbconvert_exporter": "python",
   "pygments_lexer": "ipython3",
   "version": "3.9.12"
  },
  "orig_nbformat": 4,
  "vscode": {
   "interpreter": {
    "hash": "468ef23ed2970eb3eae24d512361eed443dbea3050d88b5fbf8075c8ae4b100c"
   }
  }
 },
 "nbformat": 4,
 "nbformat_minor": 2
}
