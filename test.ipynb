{
 "cells": [
  {
   "cell_type": "code",
   "execution_count": 2,
   "metadata": {},
   "outputs": [],
   "source": [
    "import pandas as pd\n",
    "import joblib\n",
    "import os"
   ]
  },
  {
   "cell_type": "code",
   "execution_count": null,
   "metadata": {},
   "outputs": [],
   "source": [
    "test = pd.read_pickle('Output/test.pkl')\n",
    "test.shape"
   ]
  },
  {
   "cell_type": "code",
   "execution_count": 3,
   "metadata": {},
   "outputs": [
    {
     "name": "stdout",
     "output_type": "stream",
     "text": [
      "fold_0_iter_14639_score_0.80346.pkl\n",
      "167.87 MB\n",
      "fold_1_iter_13210_score_0.79412.pkl\n",
      "151.54 MB\n",
      "fold_2_iter_13358_score_0.79671.pkl\n",
      "153.27 MB\n",
      "fold_3_iter_12213_score_0.79410.pkl\n",
      "140.22 MB\n",
      "fold_4_iter_12729_score_0.79720.pkl\n",
      "146.11 MB\n"
     ]
    }
   ],
   "source": [
    "pred_list = []\n",
    "\n",
    "for fold in range(5):\n",
    "    path = 'Models/'\n",
    "    for fname in os.listdir(path):\n",
    "        if fname.startswith(\"fold_{}\".format(fold)):\n",
    "            print(fname)\n",
    "            print('{:.02f} MB'.format(os.path.getsize('Models/' + fname)/1000000))\n",
    "            model = joblib.load('Models/' + fname)\n",
    "            pred_list.append(model.predict(test))\n",
    "            model.save_model('Models/cp_{}_model.txt'.format(fold))   "
   ]
  },
  {
   "cell_type": "code",
   "execution_count": null,
   "metadata": {},
   "outputs": [],
   "source": [
    "model.current_iteration()"
   ]
  },
  {
   "cell_type": "code",
   "execution_count": null,
   "metadata": {},
   "outputs": [],
   "source": [
    "pred_df = pd.DataFrame(pred_list).T\n",
    "pred_df.columns = ['fold_0', 'fold_1', 'fold_2', 'fold_3', 'fold_4']\n",
    "pred_df.index = test.index\n",
    "pred_df"
   ]
  },
  {
   "cell_type": "code",
   "execution_count": null,
   "metadata": {},
   "outputs": [],
   "source": [
    "pred_df.mean(axis=1).to_csv('Output/p_lgbm_DART.csv', header=['prediction'])"
   ]
  },
  {
   "cell_type": "code",
   "execution_count": null,
   "metadata": {},
   "outputs": [],
   "source": []
  }
 ],
 "metadata": {
  "kernelspec": {
   "display_name": "Python 3.9.12 ('rapids-22.06')",
   "language": "python",
   "name": "python3"
  },
  "language_info": {
   "codemirror_mode": {
    "name": "ipython",
    "version": 3
   },
   "file_extension": ".py",
   "mimetype": "text/x-python",
   "name": "python",
   "nbconvert_exporter": "python",
   "pygments_lexer": "ipython3",
   "version": "3.9.12"
  },
  "orig_nbformat": 4,
  "vscode": {
   "interpreter": {
    "hash": "468ef23ed2970eb3eae24d512361eed443dbea3050d88b5fbf8075c8ae4b100c"
   }
  }
 },
 "nbformat": 4,
 "nbformat_minor": 2
}
