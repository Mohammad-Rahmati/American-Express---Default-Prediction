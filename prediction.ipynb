{
 "cells": [
  {
   "cell_type": "code",
   "execution_count": 1,
   "metadata": {},
   "outputs": [],
   "source": [
    "import pandas as pd\n",
    "import joblib\n",
    "import os\n",
    "import gc"
   ]
  },
  {
   "cell_type": "code",
   "execution_count": 2,
   "metadata": {},
   "outputs": [],
   "source": [
    "def predict(data, models):\n",
    "\n",
    "    model_list = []\n",
    "    for path in ['models_DART_top5corr/']:\n",
    "        for fname in os.listdir(path):\n",
    "            for model_name in models:\n",
    "                if model_name in fname:\n",
    "                    model_list.append(path + fname)\n",
    "\n",
    "    pred_list = []\n",
    "    for model_path in model_list:\n",
    "        print(model_path)\n",
    "        print('{:.02f} MB'.format(os.path.getsize(model_path)/1000000))\n",
    "        model = joblib.load(model_path)\n",
    "        pred_list.append(model.predict(data))\n",
    "    \n",
    "    return pred_list"
   ]
  },
  {
   "cell_type": "code",
   "execution_count": 3,
   "metadata": {},
   "outputs": [
    {
     "name": "stdout",
     "output_type": "stream",
     "text": [
      "models_DART_top5corr/fold_2_iter_10714_score_0.79904.pkl\n",
      "123.79 MB\n",
      "models_DART_top5corr/fold_1_iter_10410_score_0.79635.pkl\n",
      "120.12 MB\n",
      "models_DART_top5corr/fold_4_iter_11173_score_0.80009.pkl\n",
      "129.14 MB\n"
     ]
    }
   ],
   "source": [
    "test = pd.read_parquet('Data/test_all_slopes_corr_pcaslope.parquet')\n",
    "corr_col = test.columns[test.columns.str.startswith('corr_')].to_list()\n",
    "\n",
    "top_corr = ['corr_D_48-B_4', 'corr_P_2-D_44', 'corr_S_5-S_24', 'corr_D_48-B_9', 'corr_D_39-B_26']\n",
    "\n",
    "corr_to_remove = set(corr_col).difference(set(top_corr))\n",
    "test.drop(corr_to_remove, axis=1, inplace=True)\n",
    "\n",
    "models = [\n",
    "    'fold_1',\n",
    "    'fold_2',\n",
    "    'fold_4',\n",
    "]\n",
    "\n",
    "pred_list_124 = predict(test, models)"
   ]
  },
  {
   "cell_type": "code",
   "execution_count": 4,
   "metadata": {},
   "outputs": [
    {
     "data": {
      "text/plain": [
       "43"
      ]
     },
     "execution_count": 4,
     "metadata": {},
     "output_type": "execute_result"
    }
   ],
   "source": [
    "del test; gc.collect()"
   ]
  },
  {
   "cell_type": "code",
   "execution_count": 9,
   "metadata": {},
   "outputs": [],
   "source": [
    "test = pd.read_parquet('Data/test_all_slopes_corr_pcaslope.parquet')\n",
    "corr_col = test.columns[test.columns.str.startswith('corr_')].to_list()\n",
    "\n",
    "top_corr =['corr_D_39-B_26','corr_D_48-B_4','corr_S_5-S_24','corr_D_43-D_144','corr_P_2-D_44','corr_R_1-B_4',\n",
    " 'corr_D_44-B_3','corr_S_5-D_43','corr_S_3-D_62','corr_S_27-B_3','corr_D_46-B_4','corr_D_48-B_9',\n",
    " 'corr_R_27-D_69','corr_D_47-B_4','corr_D_43-B_4','corr_D_48-D_47','corr_D_39-B_2','corr_D_48-D_39',\n",
    " 'corr_D_71-D_62','corr_R_27-R_1','corr_D_48-B_3','corr_D_47-D_39','corr_R_6-D_39','corr_D_44-B_4',\n",
    " 'corr_S_23-D_43','corr_R_27-B_26','corr_S_7-S_3','corr_D_39-B_10','corr_S_3-D_39','corr_D_39-B_3',\n",
    " 'corr_S_7-S_27','corr_S_27-B_2','corr_P_2-B_4','corr_P_3-D_46','corr_P_2-D_48','corr_S_12-B_4',\n",
    " 'corr_S_25-B_4','corr_S_19-D_39','corr_R_1-D_39','corr_R_6-D_69','corr_D_39-B_1','corr_D_39-B_15',\n",
    " 'corr_R_27-D_39','corr_S_23-D_39','corr_R_27-B_5','corr_S_16-D_39','corr_D_39-B_11','corr_P_3-D_47']\n",
    "\n",
    "corr_to_remove = set(corr_col).difference(set(top_corr))\n",
    "test.drop(corr_to_remove, axis=1, inplace=True)\n",
    "\n",
    "models = [\n",
    "    'fold_3',\n",
    "]\n",
    "\n",
    "pred_list_3 = predict(test, models)"
   ]
  },
  {
   "cell_type": "code",
   "execution_count": 10,
   "metadata": {},
   "outputs": [],
   "source": [
    "pred_list_0 = pd.read_csv('Output/p_LgbmDART_AggPcaDiffRoundSlope_HT1234_folds.csv', index_col='customer_ID').loc[test.index]"
   ]
  },
  {
   "cell_type": "code",
   "execution_count": 11,
   "metadata": {},
   "outputs": [],
   "source": [
    "column_name = [\n",
    "    'fold_2',\n",
    "    'fold_1',\n",
    "    'fold_4',\n",
    "]\n",
    "\n",
    "pred_df_124 = pd.DataFrame(pred_list_124).T\n",
    "pred_df_124.columns = column_name\n",
    "pred_df_124.index = test.index\n",
    "\n",
    "column_name = [\n",
    "    'fold_3'\n",
    "]\n",
    "\n",
    "pred_df_3 = pd.DataFrame(pred_list_3).T\n",
    "pred_df_3.columns = column_name\n",
    "pred_df_3.index = test.index"
   ]
  },
  {
   "cell_type": "code",
   "execution_count": 13,
   "metadata": {},
   "outputs": [
    {
     "data": {
      "text/html": [
       "<div>\n",
       "<style scoped>\n",
       "    .dataframe tbody tr th:only-of-type {\n",
       "        vertical-align: middle;\n",
       "    }\n",
       "\n",
       "    .dataframe tbody tr th {\n",
       "        vertical-align: top;\n",
       "    }\n",
       "\n",
       "    .dataframe thead th {\n",
       "        text-align: right;\n",
       "    }\n",
       "</style>\n",
       "<table border=\"1\" class=\"dataframe\">\n",
       "  <thead>\n",
       "    <tr style=\"text-align: right;\">\n",
       "      <th></th>\n",
       "      <th>fold_2</th>\n",
       "      <th>fold_1</th>\n",
       "      <th>fold_4</th>\n",
       "    </tr>\n",
       "    <tr>\n",
       "      <th>customer_ID</th>\n",
       "      <th></th>\n",
       "      <th></th>\n",
       "      <th></th>\n",
       "    </tr>\n",
       "  </thead>\n",
       "  <tbody>\n",
       "    <tr>\n",
       "      <th>00000469ba478561f23a92a868bd366de6f6527a684c9a2e78fb826dcac3b9b7</th>\n",
       "      <td>0.023660</td>\n",
       "      <td>0.020353</td>\n",
       "      <td>0.016877</td>\n",
       "    </tr>\n",
       "    <tr>\n",
       "      <th>00001bf2e77ff879fab36aa4fac689b9ba411dae63ae397d4263dafa1daedef5</th>\n",
       "      <td>0.000825</td>\n",
       "      <td>0.000920</td>\n",
       "      <td>0.000722</td>\n",
       "    </tr>\n",
       "    <tr>\n",
       "      <th>0000210045da4f81e5f122c6bde5c2a617d03eef67f82c5e400fc98e7bd43ce8</th>\n",
       "      <td>0.037439</td>\n",
       "      <td>0.036835</td>\n",
       "      <td>0.040520</td>\n",
       "    </tr>\n",
       "    <tr>\n",
       "      <th>00003b41e58ede33b8daf61ab56d9952f17c9ad1c3976cf6e56734528702d694</th>\n",
       "      <td>0.276631</td>\n",
       "      <td>0.207837</td>\n",
       "      <td>0.232155</td>\n",
       "    </tr>\n",
       "    <tr>\n",
       "      <th>00004b22eaeeeb0ec976890c1d9bfc14fd9427e98c4ee9a4693dd914fca22557</th>\n",
       "      <td>0.891979</td>\n",
       "      <td>0.895011</td>\n",
       "      <td>0.856247</td>\n",
       "    </tr>\n",
       "  </tbody>\n",
       "</table>\n",
       "</div>"
      ],
      "text/plain": [
       "                                                      fold_2    fold_1  \\\n",
       "customer_ID                                                              \n",
       "00000469ba478561f23a92a868bd366de6f6527a684c9a2...  0.023660  0.020353   \n",
       "00001bf2e77ff879fab36aa4fac689b9ba411dae63ae397...  0.000825  0.000920   \n",
       "0000210045da4f81e5f122c6bde5c2a617d03eef67f82c5...  0.037439  0.036835   \n",
       "00003b41e58ede33b8daf61ab56d9952f17c9ad1c3976cf...  0.276631  0.207837   \n",
       "00004b22eaeeeb0ec976890c1d9bfc14fd9427e98c4ee9a...  0.891979  0.895011   \n",
       "\n",
       "                                                      fold_4  \n",
       "customer_ID                                                   \n",
       "00000469ba478561f23a92a868bd366de6f6527a684c9a2...  0.016877  \n",
       "00001bf2e77ff879fab36aa4fac689b9ba411dae63ae397...  0.000722  \n",
       "0000210045da4f81e5f122c6bde5c2a617d03eef67f82c5...  0.040520  \n",
       "00003b41e58ede33b8daf61ab56d9952f17c9ad1c3976cf...  0.232155  \n",
       "00004b22eaeeeb0ec976890c1d9bfc14fd9427e98c4ee9a...  0.856247  "
      ]
     },
     "execution_count": 13,
     "metadata": {},
     "output_type": "execute_result"
    }
   ],
   "source": [
    "pred_df_124.head()"
   ]
  },
  {
   "cell_type": "code",
   "execution_count": 14,
   "metadata": {},
   "outputs": [
    {
     "data": {
      "text/html": [
       "<div>\n",
       "<style scoped>\n",
       "    .dataframe tbody tr th:only-of-type {\n",
       "        vertical-align: middle;\n",
       "    }\n",
       "\n",
       "    .dataframe tbody tr th {\n",
       "        vertical-align: top;\n",
       "    }\n",
       "\n",
       "    .dataframe thead th {\n",
       "        text-align: right;\n",
       "    }\n",
       "</style>\n",
       "<table border=\"1\" class=\"dataframe\">\n",
       "  <thead>\n",
       "    <tr style=\"text-align: right;\">\n",
       "      <th></th>\n",
       "      <th>fold_3</th>\n",
       "    </tr>\n",
       "    <tr>\n",
       "      <th>customer_ID</th>\n",
       "      <th></th>\n",
       "    </tr>\n",
       "  </thead>\n",
       "  <tbody>\n",
       "    <tr>\n",
       "      <th>00000469ba478561f23a92a868bd366de6f6527a684c9a2e78fb826dcac3b9b7</th>\n",
       "      <td>0.028537</td>\n",
       "    </tr>\n",
       "    <tr>\n",
       "      <th>00001bf2e77ff879fab36aa4fac689b9ba411dae63ae397d4263dafa1daedef5</th>\n",
       "      <td>0.000718</td>\n",
       "    </tr>\n",
       "    <tr>\n",
       "      <th>0000210045da4f81e5f122c6bde5c2a617d03eef67f82c5e400fc98e7bd43ce8</th>\n",
       "      <td>0.048067</td>\n",
       "    </tr>\n",
       "    <tr>\n",
       "      <th>00003b41e58ede33b8daf61ab56d9952f17c9ad1c3976cf6e56734528702d694</th>\n",
       "      <td>0.290846</td>\n",
       "    </tr>\n",
       "    <tr>\n",
       "      <th>00004b22eaeeeb0ec976890c1d9bfc14fd9427e98c4ee9a4693dd914fca22557</th>\n",
       "      <td>0.851336</td>\n",
       "    </tr>\n",
       "  </tbody>\n",
       "</table>\n",
       "</div>"
      ],
      "text/plain": [
       "                                                      fold_3\n",
       "customer_ID                                                 \n",
       "00000469ba478561f23a92a868bd366de6f6527a684c9a2...  0.028537\n",
       "00001bf2e77ff879fab36aa4fac689b9ba411dae63ae397...  0.000718\n",
       "0000210045da4f81e5f122c6bde5c2a617d03eef67f82c5...  0.048067\n",
       "00003b41e58ede33b8daf61ab56d9952f17c9ad1c3976cf...  0.290846\n",
       "00004b22eaeeeb0ec976890c1d9bfc14fd9427e98c4ee9a...  0.851336"
      ]
     },
     "execution_count": 14,
     "metadata": {},
     "output_type": "execute_result"
    }
   ],
   "source": [
    "pred_df_3.head()"
   ]
  },
  {
   "cell_type": "code",
   "execution_count": 17,
   "metadata": {},
   "outputs": [
    {
     "data": {
      "text/plain": [
       "customer_ID\n",
       "00000469ba478561f23a92a868bd366de6f6527a684c9a2e78fb826dcac3b9b7    0.027622\n",
       "00001bf2e77ff879fab36aa4fac689b9ba411dae63ae397d4263dafa1daedef5    0.001060\n",
       "0000210045da4f81e5f122c6bde5c2a617d03eef67f82c5e400fc98e7bd43ce8    0.037987\n",
       "00003b41e58ede33b8daf61ab56d9952f17c9ad1c3976cf6e56734528702d694    0.218042\n",
       "00004b22eaeeeb0ec976890c1d9bfc14fd9427e98c4ee9a4693dd914fca22557    0.864229\n",
       "Name: fold_0, dtype: float64"
      ]
     },
     "execution_count": 17,
     "metadata": {},
     "output_type": "execute_result"
    }
   ],
   "source": [
    "pred_df_0 = pred_list_0['fold_0']\n",
    "pred_df_0.head()"
   ]
  },
  {
   "cell_type": "code",
   "execution_count": 19,
   "metadata": {},
   "outputs": [],
   "source": [
    "pred_df = pd.concat([pred_df_124, pred_df_3, pred_df_0], axis=1)"
   ]
  },
  {
   "cell_type": "code",
   "execution_count": 20,
   "metadata": {},
   "outputs": [],
   "source": [
    "pred_df.to_csv('Output/p_LgbmDART_AggPcaDiffRoundSlopeCorr5for124_56for3_0fromPreviousTop_PcaSlope_HT_folds.csv')\n",
    "pred_df.mean(axis=1).to_csv('Output/p_LgbmDART_AggPcaDiffRoundSlopeCorr5for124_56for3_0fromPreviousTop_PcaSlope_HT.csv', header=['prediction'])"
   ]
  },
  {
   "cell_type": "code",
   "execution_count": 34,
   "metadata": {},
   "outputs": [
    {
     "data": {
      "text/plain": [
       "customer_ID\n",
       "00000469ba478561f23a92a868bd366de6f6527a684c9a2e78fb826dcac3b9b7    0.023410\n",
       "00001bf2e77ff879fab36aa4fac689b9ba411dae63ae397d4263dafa1daedef5    0.000849\n",
       "0000210045da4f81e5f122c6bde5c2a617d03eef67f82c5e400fc98e7bd43ce8    0.040169\n",
       "00003b41e58ede33b8daf61ab56d9952f17c9ad1c3976cf6e56734528702d694    0.245102\n",
       "00004b22eaeeeb0ec976890c1d9bfc14fd9427e98c4ee9a4693dd914fca22557    0.871760\n",
       "                                                                      ...   \n",
       "ffff952c631f2c911b8a2a8ca56ea6e656309a83d2f64c5d60460dba6dedc41e    0.009856\n",
       "ffffcf5df59e5e0bba2a5ac4578a34e2b5aa64a1546cd3a4f0ca3de613b0b2ad    0.776483\n",
       "ffffd61f098cc056dbd7d2a21380c4804bbfe60856f475cb095d2443a68030f1    0.417295\n",
       "ffffddef1fc3643ea179c93245b68dca0f36941cd83977822e8b356988ca4d07    0.275070\n",
       "fffffa7cf7e453e1acc6a1426475d5cb9400859f82ff61cceb803ea8ec37634d    0.065277\n",
       "Length: 924621, dtype: float64"
      ]
     },
     "execution_count": 34,
     "metadata": {},
     "output_type": "execute_result"
    }
   ],
   "source": [
    " pred_df.mean(axis=1)"
   ]
  },
  {
   "cell_type": "code",
   "execution_count": 36,
   "metadata": {},
   "outputs": [],
   "source": [
    "pp = pred_df.mean(axis=1)\n",
    "pp *= 1.01"
   ]
  },
  {
   "cell_type": "code",
   "execution_count": 37,
   "metadata": {},
   "outputs": [],
   "source": [
    "pp.to_csv('Output/p_LgbmDART_AggPcaDiffRoundSlopeCorr5for124_56for3_0fromPreviousTop_PcaSlope_HT_scaled1.01.csv', header=['prediction'])"
   ]
  },
  {
   "cell_type": "code",
   "execution_count": 38,
   "metadata": {},
   "outputs": [
    {
     "data": {
      "text/plain": [
       "customer_ID\n",
       "00000469ba478561f23a92a868bd366de6f6527a684c9a2e78fb826dcac3b9b7    0.023644\n",
       "00001bf2e77ff879fab36aa4fac689b9ba411dae63ae397d4263dafa1daedef5    0.000858\n",
       "0000210045da4f81e5f122c6bde5c2a617d03eef67f82c5e400fc98e7bd43ce8    0.040571\n",
       "00003b41e58ede33b8daf61ab56d9952f17c9ad1c3976cf6e56734528702d694    0.247553\n",
       "00004b22eaeeeb0ec976890c1d9bfc14fd9427e98c4ee9a4693dd914fca22557    0.880478\n",
       "                                                                      ...   \n",
       "ffff952c631f2c911b8a2a8ca56ea6e656309a83d2f64c5d60460dba6dedc41e    0.009955\n",
       "ffffcf5df59e5e0bba2a5ac4578a34e2b5aa64a1546cd3a4f0ca3de613b0b2ad    0.784248\n",
       "ffffd61f098cc056dbd7d2a21380c4804bbfe60856f475cb095d2443a68030f1    0.421468\n",
       "ffffddef1fc3643ea179c93245b68dca0f36941cd83977822e8b356988ca4d07    0.277820\n",
       "fffffa7cf7e453e1acc6a1426475d5cb9400859f82ff61cceb803ea8ec37634d    0.065929\n",
       "Length: 924621, dtype: float64"
      ]
     },
     "execution_count": 38,
     "metadata": {},
     "output_type": "execute_result"
    }
   ],
   "source": [
    "pp"
   ]
  },
  {
   "cell_type": "code",
   "execution_count": null,
   "metadata": {},
   "outputs": [],
   "source": []
  }
 ],
 "metadata": {
  "kernelspec": {
   "display_name": "Python 3.9.12 ('rapids-22.06')",
   "language": "python",
   "name": "python3"
  },
  "language_info": {
   "codemirror_mode": {
    "name": "ipython",
    "version": 3
   },
   "file_extension": ".py",
   "mimetype": "text/x-python",
   "name": "python",
   "nbconvert_exporter": "python",
   "pygments_lexer": "ipython3",
   "version": "3.9.12"
  },
  "orig_nbformat": 4,
  "vscode": {
   "interpreter": {
    "hash": "468ef23ed2970eb3eae24d512361eed443dbea3050d88b5fbf8075c8ae4b100c"
   }
  }
 },
 "nbformat": 4,
 "nbformat_minor": 2
}
