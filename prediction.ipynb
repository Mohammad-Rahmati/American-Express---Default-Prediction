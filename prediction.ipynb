{
 "cells": [
  {
   "cell_type": "code",
   "execution_count": 1,
   "metadata": {},
   "outputs": [],
   "source": [
    "import pandas as pd\n",
    "import numpy as np\n",
    "import random\n",
    "import joblib\n",
    "import os\n",
    "import gc\n",
    "from sklearn.model_selection import ParameterGrid\n",
    "from evaluation_metric import amex_metric"
   ]
  },
  {
   "cell_type": "code",
   "execution_count": 2,
   "metadata": {},
   "outputs": [],
   "source": [
    "class Parameters:\n",
    "    path = 'Models_all_56corr_5folds_validation42/'\n",
    "    n_folds = 5"
   ]
  },
  {
   "cell_type": "code",
   "execution_count": 3,
   "metadata": {},
   "outputs": [],
   "source": [
    "def predict(data, models):\n",
    "\n",
    "    model_list = []\n",
    "    for path in [Parameters.path]:\n",
    "        for fname in os.listdir(path):\n",
    "            for model_name in models:\n",
    "                if model_name in fname:\n",
    "                    model_list.append(path + fname)\n",
    "\n",
    "    pred_list = []\n",
    "    for counter, model_path in enumerate(model_list):\n",
    "        if model_path.startswith(Parameters.path):\n",
    "            print(model_path)\n",
    "            model = joblib.load(model_path)\n",
    "            pred_list.append(model.predict(data))\n",
    "    \n",
    "    return pred_list, model_list"
   ]
  },
  {
   "cell_type": "code",
   "execution_count": 4,
   "metadata": {},
   "outputs": [],
   "source": [
    "top_corr = [\n",
    "    \"corr_D_39-B_26\",\n",
    "    \"corr_D_48-B_4\",\n",
    "    \"corr_P_2-D_44\",\n",
    "    \"corr_D_47-B_4\",\n",
    "    \"corr_D_47-D_39\",\n",
    "    \"corr_P_2-B_4\",\n",
    "    \"corr_D_39-B_10\",\n",
    "    \"corr_D_44-B_4\",\n",
    "    \"corr_D_39-B_2\",\n",
    "    \"corr_D_46-B_4\",\n",
    "    \"corr_D_48-B_3\",\n",
    "    \"corr_D_48-B_9\",\n",
    "    \"corr_S_5-S_24\",\n",
    "    \"corr_S_7-S_3\",\n",
    "    \"corr_D_43-D_144\",\n",
    "    \"corr_D_48-D_39\",\n",
    "    \"corr_P_3-D_46\",\n",
    "    \"corr_S_5-D_43\",\n",
    "    \"corr_R_1-B_4\",\n",
    "    \"corr_P_3-D_47\",\n",
    "    \"corr_D_39-B_3\",\n",
    "    \"corr_R_6-D_39\",\n",
    "    \"corr_S_27-B_2\",\n",
    "    \"corr_S_23-D_43\",\n",
    "    \"corr_R_6-D_69\",\n",
    "    \"corr_P_2-D_48\",\n",
    "    \"corr_S_25-B_4\",\n",
    "    \"corr_D_43-B_4\",\n",
    "    \"corr_R_27-D_69\",\n",
    "    \"corr_S_7-S_27\",\n",
    "    \"corr_D_39-B_11\",\n",
    "    \"corr_S_3-D_39\",\n",
    "    \"corr_S_12-B_4\",\n",
    "    \"corr_D_39-B_15\",\n",
    "    \"corr_R_27-B_26\",\n",
    "    \"corr_S_23-D_39\",\n",
    "    \"corr_R_27-R_1\",\n",
    "    \"corr_R_1-D_39\",\n",
    "    \"corr_S_19-D_39\",\n",
    "    \"corr_S_27-B_3\",\n",
    "    \"corr_S_16-D_39\",\n",
    "    \"corr_R_27-B_5\",\n",
    "    \"corr_S_3-D_62\",\n",
    "    \"corr_D_71-D_62\",\n",
    "    \"corr_R_27-D_39\",\n",
    "    \"corr_D_48-D_43\",\n",
    "    \"corr_D_61-B_36\",\n",
    "    \"corr_S_25-D_39\",\n",
    "    \"corr_R_6-D_43\",\n",
    "    \"corr_S_27-R_27\",\n",
    "    \"corr_S_27-S_12\",\n",
    "    \"corr_S_27-D_39\",\n",
    "    \"corr_D_46-B_3\",\n",
    "    \"corr_D_62-D_47\",\n",
    "    \"corr_B_4-B_3\",\n",
    "    \"corr_R_1-D_48\",\n",
    "]"
   ]
  },
  {
   "cell_type": "code",
   "execution_count": null,
   "metadata": {},
   "outputs": [],
   "source": [
    "validation = pd.read_parquet(Parameters.path + 'validation.parquet')\n",
    "validation_labels = validation['target']\n",
    "validation.drop('target', axis = 1, inplace=True)\n",
    "\n",
    "validation.shape"
   ]
  },
  {
   "cell_type": "code",
   "execution_count": null,
   "metadata": {},
   "outputs": [],
   "source": [
    "models = ['HT']\n",
    "\n",
    "print('Predicting the validation set...\\n')\n",
    "pred_df_validation, model_list = predict(validation, models)"
   ]
  },
  {
   "cell_type": "code",
   "execution_count": null,
   "metadata": {},
   "outputs": [],
   "source": [
    "model_list_modified = [model.split('/')[-1] for model in model_list]\n",
    "model_list_modified = [model.split('_')[0:3] for model in model_list_modified]\n",
    "model_list_modified = ['_'.join(model) for model in model_list_modified]"
   ]
  },
  {
   "cell_type": "code",
   "execution_count": null,
   "metadata": {},
   "outputs": [],
   "source": [
    "pred_df_validation = pd.DataFrame(pred_df_validation).T\n",
    "pred_df_validation.columns = model_list_modified\n",
    "pred_df_validation.index = validation.index\n",
    "\n",
    "del validation\n",
    "_ = gc.collect()"
   ]
  },
  {
   "cell_type": "code",
   "execution_count": null,
   "metadata": {},
   "outputs": [],
   "source": [
    "fold_score_dic = {}\n",
    "for col in pred_df_validation.columns:\n",
    "    score = amex_metric(validation_labels, pred_df_validation[col])\n",
    "    fold_score_dic[col] = score\n",
    "score_df = pd.DataFrame.from_dict(fold_score_dic, orient='index', columns=['score']).sort_values('score', ascending=False)\n",
    "\n",
    "score_df"
   ]
  },
  {
   "cell_type": "code",
   "execution_count": null,
   "metadata": {},
   "outputs": [],
   "source": [
    "high_score_folds = {}\n",
    "for i in range(Parameters.n_folds):\n",
    "    high_score_folds[f'fold_{i}'] = score_df[score_df.index.str.contains(f'fold_{i}')].index.tolist()\n",
    "high_score_folds"
   ]
  },
  {
   "cell_type": "code",
   "execution_count": null,
   "metadata": {},
   "outputs": [],
   "source": [
    "total_combinations = 1\n",
    "for i in range(Parameters.n_folds):\n",
    "   total_combinations *= len(high_score_folds['fold_{}'.format(i)])\n",
    "total_combinations"
   ]
  },
  {
   "cell_type": "code",
   "execution_count": null,
   "metadata": {},
   "outputs": [],
   "source": [
    "grid = iter(ParameterGrid(high_score_folds))\n",
    "counter = 0\n",
    "max_score = 0\n",
    "while True:\n",
    "    try:\n",
    "        counter += 1\n",
    "        list_folds = list(next(grid).values())\n",
    "        score = amex_metric(validation_labels, pred_df_validation[list_folds].mean(axis=1))\n",
    "\n",
    "        if score > max_score:\n",
    "            max_score = score\n",
    "            max_params = list_folds\n",
    "            print(counter, f':{max_score:.7f}', end=', ')\n",
    "\n",
    "    except StopIteration:\n",
    "        break\n",
    "\n",
    "print(f'\\n\\nMax score: {max_score:.7f}, Max params: {max_params}')"
   ]
  },
  {
   "cell_type": "code",
   "execution_count": null,
   "metadata": {},
   "outputs": [],
   "source": [
    "# Max score: 0.8094517, Max params: ['HT11_fold_0', 'HT10_fold_1', 'HT21_fold_2', 'HT5_fold_3', 'HT2_fold_4']"
   ]
  },
  {
   "cell_type": "code",
   "execution_count": 5,
   "metadata": {},
   "outputs": [],
   "source": [
    "max_params=['HT11_fold_0', 'HT10_fold_1', 'HT21_fold_2', 'HT5_fold_3', 'HT2_fold_4']"
   ]
  },
  {
   "cell_type": "code",
   "execution_count": 6,
   "metadata": {},
   "outputs": [
    {
     "name": "stdout",
     "output_type": "stream",
     "text": [
      "Predicting the first half...\n",
      "Models_all_56corr_5folds_validation42/HT5_fold_3_iter_13280_score_0.79846.pkl\n",
      "Models_all_56corr_5folds_validation42/HT10_fold_1_iter_9878_score_0.79968.pkl\n",
      "Models_all_56corr_5folds_validation42/HT21_fold_2_iter_14252_score_0.79831.pkl\n",
      "Models_all_56corr_5folds_validation42/HT11_fold_0_iter_15517_score_0.79775.pkl\n",
      "Models_all_56corr_5folds_validation42/HT2_fold_4_iter_13027_score_0.79944.pkl\n",
      "\n",
      "Predicting the second half...\n",
      "Models_all_56corr_5folds_validation42/HT5_fold_3_iter_13280_score_0.79846.pkl\n",
      "Models_all_56corr_5folds_validation42/HT10_fold_1_iter_9878_score_0.79968.pkl\n",
      "Models_all_56corr_5folds_validation42/HT21_fold_2_iter_14252_score_0.79831.pkl\n",
      "Models_all_56corr_5folds_validation42/HT11_fold_0_iter_15517_score_0.79775.pkl\n",
      "Models_all_56corr_5folds_validation42/HT2_fold_4_iter_13027_score_0.79944.pkl\n"
     ]
    }
   ],
   "source": [
    "test_first_half = pd.read_parquet('Data/test_all_slopes_corr_pcaslope_lagv2_avediff_catLastLastNAdate_part1.parquet')\n",
    "corr_col = test_first_half.columns[test_first_half.columns.str.startswith(\"corr_\")].to_list()\n",
    "corr_to_remove = set(corr_col).difference(set(top_corr))\n",
    "test_first_half.drop(corr_to_remove, axis=1, inplace=True)\n",
    "\n",
    "print('Predicting the first half...')\n",
    "pred_list_first_half, model_list_first_half = predict(test_first_half, max_params)\n",
    "\n",
    "model_list_modified_first_half = [model.split('/')[-1] for model in model_list_first_half]\n",
    "model_list_modified_first_half = [model.split('_')[0:3] for model in model_list_modified_first_half]\n",
    "model_list_modified_first_half = ['_'.join(model) for model in model_list_modified_first_half]\n",
    "\n",
    "pred_df_first_half = pd.DataFrame(pred_list_first_half).T\n",
    "pred_df_first_half.columns = model_list_modified_first_half\n",
    "pred_df_first_half.index = test_first_half.index\n",
    "\n",
    "del test_first_half\n",
    "_ = gc.collect()\n",
    "\n",
    "test_second_half = pd.read_parquet('Data/test_all_slopes_corr_pcaslope_lagv2_avediff_catLastLastNAdate_part2.parquet')\n",
    "test_second_half.drop(corr_to_remove, axis=1, inplace=True)\n",
    "print('\\nPredicting the second half...')\n",
    "pred_list_second_half, model_list_second_half = predict(test_second_half, max_params)\n",
    "\n",
    "pred_df_second_half = pd.DataFrame(pred_list_second_half).T\n",
    "pred_df_second_half.columns = model_list_modified_first_half\n",
    "pred_df_second_half.index = test_second_half.index\n",
    "\n",
    "del test_second_half\n",
    "_ = gc.collect()"
   ]
  },
  {
   "cell_type": "code",
   "execution_count": 7,
   "metadata": {},
   "outputs": [
    {
     "data": {
      "text/plain": [
       "((462310, 5), (462311, 5))"
      ]
     },
     "execution_count": 7,
     "metadata": {},
     "output_type": "execute_result"
    }
   ],
   "source": [
    "pred_df_first_half.shape, pred_df_second_half.shape"
   ]
  },
  {
   "cell_type": "code",
   "execution_count": 8,
   "metadata": {},
   "outputs": [
    {
     "data": {
      "text/plain": [
       "(924621, 5)"
      ]
     },
     "execution_count": 8,
     "metadata": {},
     "output_type": "execute_result"
    }
   ],
   "source": [
    "pred_df = pd.concat([pred_df_first_half, pred_df_second_half], axis=0)\n",
    "pred_df.shape"
   ]
  },
  {
   "cell_type": "code",
   "execution_count": 9,
   "metadata": {},
   "outputs": [],
   "source": [
    "pred_df.mean(axis = 1).to_csv('My_Predictions/' + f'p_M12_{max_params}.csv', header=['prediction'])"
   ]
  },
  {
   "cell_type": "code",
   "execution_count": null,
   "metadata": {},
   "outputs": [],
   "source": []
  }
 ],
 "metadata": {
  "kernelspec": {
   "display_name": "Python 3.9.12 ('rapids-22.06')",
   "language": "python",
   "name": "python3"
  },
  "language_info": {
   "codemirror_mode": {
    "name": "ipython",
    "version": 3
   },
   "file_extension": ".py",
   "mimetype": "text/x-python",
   "name": "python",
   "nbconvert_exporter": "python",
   "pygments_lexer": "ipython3",
   "version": "3.9.12"
  },
  "orig_nbformat": 4,
  "vscode": {
   "interpreter": {
    "hash": "468ef23ed2970eb3eae24d512361eed443dbea3050d88b5fbf8075c8ae4b100c"
   }
  }
 },
 "nbformat": 4,
 "nbformat_minor": 2
}
