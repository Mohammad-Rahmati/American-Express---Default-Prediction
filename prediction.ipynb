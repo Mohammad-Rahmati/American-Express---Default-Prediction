{
 "cells": [
  {
   "cell_type": "code",
   "execution_count": null,
   "metadata": {},
   "outputs": [],
   "source": [
    "import pandas as pd\n",
    "import joblib\n",
    "import os\n",
    "import gc"
   ]
  },
  {
   "cell_type": "code",
   "execution_count": null,
   "metadata": {},
   "outputs": [],
   "source": [
    "def predict(data, models):\n",
    "\n",
    "    model_list = []\n",
    "    for path in ['models_DART_top56corr/']:\n",
    "        for fname in os.listdir(path):\n",
    "            for model_name in models:\n",
    "                if model_name in fname:\n",
    "                    model_list.append(path + fname)\n",
    "\n",
    "    pred_list = []\n",
    "    for model_path in model_list:\n",
    "        print(model_path)\n",
    "        print('{:.02f} MB'.format(os.path.getsize(model_path)/1000000))\n",
    "        model = joblib.load(model_path)\n",
    "        pred_list.append(model.predict(data))\n",
    "    \n",
    "    return pred_list"
   ]
  },
  {
   "cell_type": "code",
   "execution_count": null,
   "metadata": {},
   "outputs": [],
   "source": [
    "test = pd.read_parquet('Data/test_all_slopes_corr_pcaslope.parquet')\n",
    "corr_col = test.columns[test.columns.str.startswith('corr_')].to_list()\n",
    "\n",
    "top_corr =['corr_D_39-B_26','corr_D_48-B_4','corr_S_5-S_24','corr_D_43-D_144','corr_P_2-D_44','corr_R_1-B_4',\n",
    " 'corr_D_44-B_3','corr_S_5-D_43','corr_S_3-D_62','corr_S_27-B_3','corr_D_46-B_4','corr_D_48-B_9',\n",
    " 'corr_R_27-D_69','corr_D_47-B_4','corr_D_43-B_4','corr_D_48-D_47','corr_D_39-B_2','corr_D_48-D_39',\n",
    " 'corr_D_71-D_62','corr_R_27-R_1','corr_D_48-B_3','corr_D_47-D_39','corr_R_6-D_39','corr_D_44-B_4',\n",
    " 'corr_S_23-D_43','corr_R_27-B_26','corr_S_7-S_3','corr_D_39-B_10','corr_S_3-D_39','corr_D_39-B_3',\n",
    " 'corr_S_7-S_27','corr_S_27-B_2','corr_P_2-B_4','corr_P_3-D_46','corr_P_2-D_48','corr_S_12-B_4',\n",
    " 'corr_S_25-B_4','corr_S_19-D_39','corr_R_1-D_39','corr_R_6-D_69','corr_D_39-B_1','corr_D_39-B_15',\n",
    " 'corr_R_27-D_39','corr_S_23-D_39','corr_R_27-B_5','corr_S_16-D_39','corr_D_39-B_11','corr_P_3-D_47']\n",
    "\n",
    "corr_to_remove = set(corr_col).difference(set(top_corr))\n",
    "test.drop(corr_to_remove, axis=1, inplace=True)\n",
    "\n",
    "models = [\n",
    "    'fold_0',\n",
    "    'fold_1',\n",
    "    'fold_2',\n",
    "    'fold_3',\n",
    "    'fold_4',\n",
    "]\n",
    "\n",
    "pred_list = predict(test, models)"
   ]
  },
  {
   "cell_type": "code",
   "execution_count": null,
   "metadata": {},
   "outputs": [],
   "source": [
    "column_name = [\n",
    "    'fold_3',\n",
    "    'fold_0',\n",
    "]\n",
    "\n",
    "pred_df = pd.DataFrame(pred_list).T\n",
    "pred_df.columns = column_name\n",
    "pred_df.index = test.index\n",
    "\n",
    "del test; gc.collect()"
   ]
  },
  {
   "cell_type": "code",
   "execution_count": null,
   "metadata": {},
   "outputs": [],
   "source": [
    "pred_df.to_csv('Output/p_LgbmDART_AggPcaDiffRoundSlopeCorr5for124_56for03_PcaSlope_HT1_folds.csv')\n",
    "pred_df.mean(axis=1).to_csv('Output/p_LgbmDART_AggPcaDiffRoundSlopeCorr5for124_56for03_PcaSlope_HT1.csv', header=['prediction'])"
   ]
  },
  {
   "cell_type": "code",
   "execution_count": null,
   "metadata": {},
   "outputs": [],
   "source": [
    "p1 = pd.read_csv('Output/p_LgbmDART_AggPcaDiffRoundSlopeCorr5for124_56for03_PcaSlope_HT1.csv', index_col='customer_ID')\n",
    "p2 = pd.read_csv('Output/lag_submission.csv', index_col='customer_ID').loc[p1.index]"
   ]
  },
  {
   "cell_type": "code",
   "execution_count": null,
   "metadata": {},
   "outputs": [],
   "source": [
    "p_ensemble = 0.35 * p1['prediction'] + 0.65 * p2['prediction']"
   ]
  },
  {
   "cell_type": "code",
   "execution_count": null,
   "metadata": {},
   "outputs": [],
   "source": [
    "p_ensemble.to_csv('Output/p_ensemble_LgbmDART_AggPcaDiffRoundSlopeCorr5for124_56for03_PcaSlope_HT1_0.65lag.csv', header=['prediction'])"
   ]
  },
  {
   "cell_type": "code",
   "execution_count": null,
   "metadata": {},
   "outputs": [],
   "source": [
    "p_ensemble"
   ]
  },
  {
   "cell_type": "code",
   "execution_count": null,
   "metadata": {},
   "outputs": [],
   "source": []
  }
 ],
 "metadata": {
  "kernelspec": {
   "display_name": "Python 3.9.12 ('rapids-22.06')",
   "language": "python",
   "name": "python3"
  },
  "language_info": {
   "codemirror_mode": {
    "name": "ipython",
    "version": 3
   },
   "file_extension": ".py",
   "mimetype": "text/x-python",
   "name": "python",
   "nbconvert_exporter": "python",
   "pygments_lexer": "ipython3",
   "version": "3.9.12"
  },
  "orig_nbformat": 4,
  "vscode": {
   "interpreter": {
    "hash": "468ef23ed2970eb3eae24d512361eed443dbea3050d88b5fbf8075c8ae4b100c"
   }
  }
 },
 "nbformat": 4,
 "nbformat_minor": 2
}
