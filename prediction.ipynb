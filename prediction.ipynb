{
 "cells": [
  {
   "cell_type": "code",
   "execution_count": null,
   "metadata": {},
   "outputs": [],
   "source": [
    "import pandas as pd\n",
    "import joblib\n",
    "import os\n",
    "import gc"
   ]
  },
  {
   "cell_type": "code",
   "execution_count": null,
   "metadata": {},
   "outputs": [],
   "source": [
    "def predict(data, models):\n",
    "\n",
    "    model_list = []\n",
    "    for path in ['models_DART_all_56corr_pcaslope_lag_SEED42/']:\n",
    "        for fname in os.listdir(path):\n",
    "            for model_name in models:\n",
    "                if model_name in fname:\n",
    "                    model_list.append(path + fname)\n",
    "\n",
    "    pred_list = []\n",
    "    for model_path in model_list:\n",
    "        print(model_path)\n",
    "        print('{:.02f} MB'.format(os.path.getsize(model_path)/1000000))\n",
    "        model = joblib.load(model_path)\n",
    "        pred_list.append(model.predict(data))\n",
    "    \n",
    "    return pred_list, model_list"
   ]
  },
  {
   "cell_type": "code",
   "execution_count": null,
   "metadata": {},
   "outputs": [],
   "source": [
    "test = pd.read_parquet('Data/test_all_slopes_corr_pcaslope_lag.parquet')\n",
    "corr_col = test.columns[test.columns.str.startswith('corr_')].to_list()\n",
    "\n",
    "\n",
    "top_corr = [\n",
    "    \"corr_D_39-B_26\",\n",
    "    \"corr_D_48-B_4\",\n",
    "    \"corr_P_2-D_44\",\n",
    "    \"corr_D_47-B_4\",\n",
    "    \"corr_D_47-D_39\",\n",
    "    \"corr_P_2-B_4\",\n",
    "    \"corr_D_39-B_10\",\n",
    "    \"corr_D_44-B_4\",\n",
    "    \"corr_D_39-B_2\",\n",
    "    \"corr_D_46-B_4\",\n",
    "    \"corr_D_48-B_3\",\n",
    "    \"corr_D_48-B_9\",\n",
    "    \"corr_S_5-S_24\",\n",
    "    \"corr_S_7-S_3\",\n",
    "    \"corr_D_43-D_144\",\n",
    "    \"corr_D_48-D_39\",\n",
    "    \"corr_P_3-D_46\",\n",
    "    \"corr_S_5-D_43\",\n",
    "    \"corr_R_1-B_4\",\n",
    "    \"corr_P_3-D_47\",\n",
    "    \"corr_D_39-B_3\",\n",
    "    \"corr_R_6-D_39\",\n",
    "    \"corr_S_27-B_2\",\n",
    "    \"corr_S_23-D_43\",\n",
    "    \"corr_R_6-D_69\",\n",
    "    \"corr_P_2-D_48\",\n",
    "    \"corr_S_25-B_4\",\n",
    "    \"corr_D_43-B_4\",\n",
    "    \"corr_R_27-D_69\",\n",
    "    \"corr_S_7-S_27\",\n",
    "    \"corr_D_39-B_11\",\n",
    "    \"corr_S_3-D_39\",\n",
    "    \"corr_S_12-B_4\",\n",
    "    \"corr_D_39-B_15\",\n",
    "    \"corr_R_27-B_26\",\n",
    "    \"corr_S_23-D_39\",\n",
    "    \"corr_R_27-R_1\",\n",
    "    \"corr_R_1-D_39\",\n",
    "    \"corr_S_19-D_39\",\n",
    "    \"corr_S_27-B_3\",\n",
    "    \"corr_S_16-D_39\",\n",
    "    \"corr_R_27-B_5\",\n",
    "    \"corr_S_3-D_62\",\n",
    "    \"corr_D_71-D_62\",\n",
    "    \"corr_R_27-D_39\",\n",
    "    \"corr_D_48-D_43\",\n",
    "    \"corr_D_61-B_36\",\n",
    "    \"corr_S_25-D_39\",\n",
    "    \"corr_R_6-D_43\",\n",
    "    \"corr_S_27-R_27\",\n",
    "    \"corr_S_27-S_12\",\n",
    "    \"corr_S_27-D_39\",\n",
    "    \"corr_D_46-B_3\",\n",
    "    \"corr_D_62-D_47\",\n",
    "    \"corr_B_4-B_3\",\n",
    "    \"corr_R_1-D_48\",\n",
    "]\n",
    "\n",
    "corr_to_remove = set(corr_col).difference(set(top_corr))\n",
    "test.drop(corr_to_remove, axis=1, inplace=True)\n",
    "\n",
    "models = [\n",
    "    'HT',\n",
    "]\n",
    "\n",
    "pred_list, model_list = predict(test, models)"
   ]
  },
  {
   "cell_type": "code",
   "execution_count": null,
   "metadata": {},
   "outputs": [],
   "source": [
    "model_names = [model.split('/')[-1][:10] for model in model_list]\n",
    "pred_df = pd.DataFrame(pred_list).T\n",
    "pred_df.columns = model_names\n",
    "pred_df.index = test.index\n",
    "\n",
    "del test\n",
    "_ = gc.collect()"
   ]
  },
  {
   "cell_type": "code",
   "execution_count": null,
   "metadata": {},
   "outputs": [],
   "source": [
    "sorted_columns = sorted(pred_df.columns)\n",
    "pred_df = pred_df[sorted_columns]"
   ]
  },
  {
   "cell_type": "code",
   "execution_count": null,
   "metadata": {},
   "outputs": [],
   "source": [
    "pred_df = pd.read_csv('models_DART_all_56corr_pcaslope_lag_SEED42/p_M6_folds.csv', index_col='customer_ID')"
   ]
  },
  {
   "cell_type": "code",
   "execution_count": null,
   "metadata": {},
   "outputs": [],
   "source": [
    "pred_df.to_csv('models_DART_all_56corr_pcaslope_lag_SEED42/p_M6_folds.csv')"
   ]
  },
  {
   "cell_type": "code",
   "execution_count": null,
   "metadata": {},
   "outputs": [],
   "source": [
    "HT = ['HT2_fold_0', 'HT1_fold_1', 'HT2_fold_2', 'HT1_fold_3', 'HT2_fold_4']\n",
    "pred_df[HT]"
   ]
  },
  {
   "cell_type": "code",
   "execution_count": null,
   "metadata": {},
   "outputs": [],
   "source": [
    "pred_df[HT].mean(axis=1).to_csv('models_DART_all_56corr_pcaslope_lag_SEED42/p_HT2.csv', header=['prediction'])"
   ]
  },
  {
   "cell_type": "code",
   "execution_count": null,
   "metadata": {},
   "outputs": [],
   "source": [
    "p1 = pd.read_csv('models_DART_all_56corr_pcaslope_lag_SEED42/p_HT2.csv', index_col='customer_ID')\n",
    "p2 = pd.read_csv('Output/test_lgbm_baseline_5fold_seed_blend.csv', index_col='customer_ID')"
   ]
  },
  {
   "cell_type": "code",
   "execution_count": null,
   "metadata": {},
   "outputs": [],
   "source": [
    "ensemble = p1['prediction'] * 0.50 + p2['prediction'] * 0.50\n",
    "ensemble.to_csv('Output/ensemble_HT2_p0_0.5.csv', header=['prediction'])"
   ]
  },
  {
   "cell_type": "code",
   "execution_count": null,
   "metadata": {},
   "outputs": [],
   "source": []
  }
 ],
 "metadata": {
  "kernelspec": {
   "display_name": "Python 3.9.12 ('rapids-22.06')",
   "language": "python",
   "name": "python3"
  },
  "language_info": {
   "codemirror_mode": {
    "name": "ipython",
    "version": 3
   },
   "file_extension": ".py",
   "mimetype": "text/x-python",
   "name": "python",
   "nbconvert_exporter": "python",
   "pygments_lexer": "ipython3",
   "version": "3.9.12"
  },
  "orig_nbformat": 4,
  "vscode": {
   "interpreter": {
    "hash": "468ef23ed2970eb3eae24d512361eed443dbea3050d88b5fbf8075c8ae4b100c"
   }
  }
 },
 "nbformat": 4,
 "nbformat_minor": 2
}
