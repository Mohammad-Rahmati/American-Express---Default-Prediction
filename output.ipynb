{
 "cells": [
  {
   "cell_type": "code",
   "execution_count": 1,
   "metadata": {},
   "outputs": [],
   "source": [
    "import pandas as pd\n",
    "import matplotlib.pyplot as plt\n",
    "import os\n",
    "from sklearn.mixture import GaussianMixture\n",
    "\n",
    "import warnings\n",
    "warnings.filterwarnings('ignore')"
   ]
  },
  {
   "cell_type": "code",
   "execution_count": 2,
   "metadata": {},
   "outputs": [],
   "source": [
    "p1 = pd.read_csv('Output/ensemble_f50.csv', index_col='customer_ID')\n",
    "# p2 = pd.read_csv('archive_models/models_DART_all_56corr_pcaslope_lag_SEED42/p_M6_folds.csv', index_col='customer_ID')"
   ]
  },
  {
   "cell_type": "code",
   "execution_count": 3,
   "metadata": {},
   "outputs": [],
   "source": [
    "p1['prediction'] *= .99 "
   ]
  },
  {
   "cell_type": "code",
   "execution_count": 4,
   "metadata": {},
   "outputs": [],
   "source": [
    "p1.to_csv('Output/ensemble_f50_multipleby0.99.csv')"
   ]
  },
  {
   "cell_type": "code",
   "execution_count": 3,
   "metadata": {},
   "outputs": [],
   "source": [
    "p2_std = p2.std(axis = 1).sort_values(ascending=False)"
   ]
  },
  {
   "cell_type": "code",
   "execution_count": 4,
   "metadata": {},
   "outputs": [],
   "source": [
    "indx = p2_std[p2_std > 0.05].index"
   ]
  },
  {
   "cell_type": "code",
   "execution_count": 5,
   "metadata": {},
   "outputs": [
    {
     "data": {
      "text/html": [
       "<div>\n",
       "<style scoped>\n",
       "    .dataframe tbody tr th:only-of-type {\n",
       "        vertical-align: middle;\n",
       "    }\n",
       "\n",
       "    .dataframe tbody tr th {\n",
       "        vertical-align: top;\n",
       "    }\n",
       "\n",
       "    .dataframe thead th {\n",
       "        text-align: right;\n",
       "    }\n",
       "</style>\n",
       "<table border=\"1\" class=\"dataframe\">\n",
       "  <thead>\n",
       "    <tr style=\"text-align: right;\">\n",
       "      <th></th>\n",
       "      <th>vote_1</th>\n",
       "      <th>vote_2</th>\n",
       "      <th>vote_3</th>\n",
       "    </tr>\n",
       "    <tr>\n",
       "      <th>customer_ID</th>\n",
       "      <th></th>\n",
       "      <th></th>\n",
       "      <th></th>\n",
       "    </tr>\n",
       "  </thead>\n",
       "  <tbody>\n",
       "    <tr>\n",
       "      <th>e1e3b9dc555f07ee53ee3c2fca78e7dc153e06fa7ffda798845a77d0982336fc</th>\n",
       "      <td>0.418828</td>\n",
       "      <td>0.545950</td>\n",
       "      <td>0.461052</td>\n",
       "    </tr>\n",
       "    <tr>\n",
       "      <th>a7dde773746a793a4b9c2c9a22f403c47d7fabf3e7793cebabc602c5c0524bba</th>\n",
       "      <td>0.631406</td>\n",
       "      <td>0.705776</td>\n",
       "      <td>0.790278</td>\n",
       "    </tr>\n",
       "    <tr>\n",
       "      <th>88db3baa19d3d9eaa7858f8aa75fe8c218cc84f6a5ace992535128576fb82cdd</th>\n",
       "      <td>0.647895</td>\n",
       "      <td>0.554630</td>\n",
       "      <td>0.711526</td>\n",
       "    </tr>\n",
       "    <tr>\n",
       "      <th>0525c054db8f8b450a50ac7712255d35dcf9db68b3595fd2e87b3c507cfe1f43</th>\n",
       "      <td>0.308797</td>\n",
       "      <td>0.432849</td>\n",
       "      <td>0.342302</td>\n",
       "    </tr>\n",
       "    <tr>\n",
       "      <th>d1d6209ad36ee11703306596951067bc6a186102f891187133e76c10c8fd6d56</th>\n",
       "      <td>0.625043</td>\n",
       "      <td>0.537654</td>\n",
       "      <td>0.488537</td>\n",
       "    </tr>\n",
       "    <tr>\n",
       "      <th>...</th>\n",
       "      <td>...</td>\n",
       "      <td>...</td>\n",
       "      <td>...</td>\n",
       "    </tr>\n",
       "    <tr>\n",
       "      <th>51e857d3219870f13b076336418225becf07a0383906e9ff4bbcb5e6bcd87a2e</th>\n",
       "      <td>0.731065</td>\n",
       "      <td>0.683466</td>\n",
       "      <td>0.573236</td>\n",
       "    </tr>\n",
       "    <tr>\n",
       "      <th>7e2eec4634fe4f1ee4a83ffc24ca9c7147a15fc8c4feb0f700f68a92664dfed9</th>\n",
       "      <td>0.202995</td>\n",
       "      <td>0.325087</td>\n",
       "      <td>0.240033</td>\n",
       "    </tr>\n",
       "    <tr>\n",
       "      <th>df68a6793edd91d7b574070324c0f6431addcad27f9409434877cae671d99d38</th>\n",
       "      <td>0.253413</td>\n",
       "      <td>0.172584</td>\n",
       "      <td>0.299767</td>\n",
       "    </tr>\n",
       "    <tr>\n",
       "      <th>6886fa21c7196da0d378a970d31e3de4715b7fabc6d5a9602cc32abcc43b23b4</th>\n",
       "      <td>0.301402</td>\n",
       "      <td>0.419452</td>\n",
       "      <td>0.440578</td>\n",
       "    </tr>\n",
       "    <tr>\n",
       "      <th>843ac9151a30b9b62467caaa59b344b0a49e01c0c0b686a19e5f7074acf4f5d7</th>\n",
       "      <td>0.625830</td>\n",
       "      <td>0.480676</td>\n",
       "      <td>0.561497</td>\n",
       "    </tr>\n",
       "  </tbody>\n",
       "</table>\n",
       "<p>20685 rows × 3 columns</p>\n",
       "</div>"
      ],
      "text/plain": [
       "                                                      vote_1    vote_2  \\\n",
       "customer_ID                                                              \n",
       "e1e3b9dc555f07ee53ee3c2fca78e7dc153e06fa7ffda79...  0.418828  0.545950   \n",
       "a7dde773746a793a4b9c2c9a22f403c47d7fabf3e7793ce...  0.631406  0.705776   \n",
       "88db3baa19d3d9eaa7858f8aa75fe8c218cc84f6a5ace99...  0.647895  0.554630   \n",
       "0525c054db8f8b450a50ac7712255d35dcf9db68b3595fd...  0.308797  0.432849   \n",
       "d1d6209ad36ee11703306596951067bc6a186102f891187...  0.625043  0.537654   \n",
       "...                                                      ...       ...   \n",
       "51e857d3219870f13b076336418225becf07a0383906e9f...  0.731065  0.683466   \n",
       "7e2eec4634fe4f1ee4a83ffc24ca9c7147a15fc8c4feb0f...  0.202995  0.325087   \n",
       "df68a6793edd91d7b574070324c0f6431addcad27f94094...  0.253413  0.172584   \n",
       "6886fa21c7196da0d378a970d31e3de4715b7fabc6d5a96...  0.301402  0.419452   \n",
       "843ac9151a30b9b62467caaa59b344b0a49e01c0c0b686a...  0.625830  0.480676   \n",
       "\n",
       "                                                      vote_3  \n",
       "customer_ID                                                   \n",
       "e1e3b9dc555f07ee53ee3c2fca78e7dc153e06fa7ffda79...  0.461052  \n",
       "a7dde773746a793a4b9c2c9a22f403c47d7fabf3e7793ce...  0.790278  \n",
       "88db3baa19d3d9eaa7858f8aa75fe8c218cc84f6a5ace99...  0.711526  \n",
       "0525c054db8f8b450a50ac7712255d35dcf9db68b3595fd...  0.342302  \n",
       "d1d6209ad36ee11703306596951067bc6a186102f891187...  0.488537  \n",
       "...                                                      ...  \n",
       "51e857d3219870f13b076336418225becf07a0383906e9f...  0.573236  \n",
       "7e2eec4634fe4f1ee4a83ffc24ca9c7147a15fc8c4feb0f...  0.240033  \n",
       "df68a6793edd91d7b574070324c0f6431addcad27f94094...  0.299767  \n",
       "6886fa21c7196da0d378a970d31e3de4715b7fabc6d5a96...  0.440578  \n",
       "843ac9151a30b9b62467caaa59b344b0a49e01c0c0b686a...  0.561497  \n",
       "\n",
       "[20685 rows x 3 columns]"
      ]
     },
     "execution_count": 5,
     "metadata": {},
     "output_type": "execute_result"
    }
   ],
   "source": [
    "p2_votes = p2.loc[indx].groupby('customer_ID').apply(lambda x: pd.DataFrame(data = GaussianMixture(n_components=3).fit(x.values.reshape(-1, 1)).means_).T)\n",
    "p2_votes = pd.DataFrame(p2_votes.values, index = indx, columns = ['vote_1', 'vote_2', 'vote_3'])\n",
    "p2_votes"
   ]
  },
  {
   "cell_type": "code",
   "execution_count": 14,
   "metadata": {},
   "outputs": [
    {
     "data": {
      "text/plain": [
       "customer_ID\n",
       "e1e3b9dc555f07ee53ee3c2fca78e7dc153e06fa7ffda798845a77d0982336fc    0.545950\n",
       "a7dde773746a793a4b9c2c9a22f403c47d7fabf3e7793cebabc602c5c0524bba    0.790278\n",
       "88db3baa19d3d9eaa7858f8aa75fe8c218cc84f6a5ace992535128576fb82cdd    0.711526\n",
       "0525c054db8f8b450a50ac7712255d35dcf9db68b3595fd2e87b3c507cfe1f43    0.308797\n",
       "d1d6209ad36ee11703306596951067bc6a186102f891187133e76c10c8fd6d56    0.625043\n",
       "                                                                      ...   \n",
       "51e857d3219870f13b076336418225becf07a0383906e9ff4bbcb5e6bcd87a2e    0.573236\n",
       "7e2eec4634fe4f1ee4a83ffc24ca9c7147a15fc8c4feb0f700f68a92664dfed9    0.325087\n",
       "df68a6793edd91d7b574070324c0f6431addcad27f9409434877cae671d99d38    0.253413\n",
       "6886fa21c7196da0d378a970d31e3de4715b7fabc6d5a9602cc32abcc43b23b4    0.419452\n",
       "843ac9151a30b9b62467caaa59b344b0a49e01c0c0b686a19e5f7074acf4f5d7    0.480676\n",
       "Name: prediction, Length: 20685, dtype: float64"
      ]
     },
     "execution_count": 14,
     "metadata": {},
     "output_type": "execute_result"
    }
   ],
   "source": [
    "p2_random = p2_votes.groupby('customer_ID').apply(lambda x: x.sample(axis = 1)).sum(axis = 1)\n",
    "p2_random.rename('prediction', inplace = True)"
   ]
  },
  {
   "cell_type": "code",
   "execution_count": 7,
   "metadata": {},
   "outputs": [],
   "source": [
    "p1.drop(indx, inplace=True)"
   ]
  },
  {
   "cell_type": "code",
   "execution_count": 26,
   "metadata": {},
   "outputs": [],
   "source": [
    "pd.concat([p1, p2_votes['vote_3']], axis=1).sum(axis=1).to_csv('Output/e4.csv', header=['prediction'])"
   ]
  },
  {
   "cell_type": "code",
   "execution_count": null,
   "metadata": {},
   "outputs": [],
   "source": []
  }
 ],
 "metadata": {
  "kernelspec": {
   "display_name": "Python 3.10.4 64-bit",
   "language": "python",
   "name": "python3"
  },
  "language_info": {
   "codemirror_mode": {
    "name": "ipython",
    "version": 3
   },
   "file_extension": ".py",
   "mimetype": "text/x-python",
   "name": "python",
   "nbconvert_exporter": "python",
   "pygments_lexer": "ipython3",
   "version": "3.10.4"
  },
  "orig_nbformat": 4,
  "vscode": {
   "interpreter": {
    "hash": "916dbcbb3f70747c44a77c7bcd40155683ae19c65e1c03b4aa3499c5328201f1"
   }
  }
 },
 "nbformat": 4,
 "nbformat_minor": 2
}
