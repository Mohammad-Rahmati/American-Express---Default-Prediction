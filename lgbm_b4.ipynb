{
 "cells": [
  {
   "cell_type": "code",
   "execution_count": 1,
   "metadata": {},
   "outputs": [],
   "source": [
    "import warnings\n",
    "warnings.filterwarnings('ignore')\n",
    "\n",
    "from evaluation_metric import lgb_amex_metric\n",
    "import os\n",
    "import gc\n",
    "import random\n",
    "import numpy as np\n",
    "import pandas as pd\n",
    "import joblib\n",
    "from sklearn.model_selection import StratifiedKFold\n",
    "from sklearn.preprocessing import LabelEncoder\n",
    "from sklearn.model_selection import ParameterGrid\n",
    "from sklearn.calibration import CalibratedClassifierCV\n",
    "import lightgbm as lgb\n",
    "\n",
    "class CFG:\n",
    "    input_dir = 'Data/'\n",
    "    seed = 42\n",
    "    n_folds = 5\n",
    "    target = 'target'\n",
    "\n",
    "def seed_everything(seed):\n",
    "    random.seed(seed)\n",
    "    np.random.seed(seed)\n",
    "    os.environ['PYTHONHASHSEED'] = str(seed)\n",
    "\n",
    "def save_model(fold):\n",
    "    def callback(env):\n",
    "        global max_score\n",
    "        iteration = env.iteration\n",
    "        score = env.evaluation_result_list[0][2]\n",
    "        if iteration % 200 == 0:\n",
    "            print('iteration {}, score= {:.05f}'.format(iteration,score))\n",
    "        if score > max_score:\n",
    "            max_score = score\n",
    "            path = 'Models/'\n",
    "            for fname in os.listdir(path):\n",
    "                if fname.startswith(\"fold_{}\".format(fold)):\n",
    "                    os.remove(os.path.join(path, fname))\n",
    "\n",
    "            print('High Score: iteration {}, score={:.05f}'.format(iteration, score))\n",
    "            joblib.dump(env.model, 'Models/fold_{}_iter_{}_score_{:.05f}.pkl'.format(fold, iteration, score))\n",
    "\n",
    "    callback.order = 0\n",
    "    return callback"
   ]
  },
  {
   "cell_type": "code",
   "execution_count": 2,
   "metadata": {},
   "outputs": [
    {
     "data": {
      "text/plain": [
       "((458913, 1104), (924621, 1103))"
      ]
     },
     "execution_count": 2,
     "metadata": {},
     "output_type": "execute_result"
    }
   ],
   "source": [
    "train = pd.read_parquet(CFG.input_dir + 'train_all.parquet')\n",
    "test = pd.read_parquet(CFG.input_dir + 'test_all.parquet')\n",
    "\n",
    "cat_features = [\n",
    "    \"B_30\",\n",
    "    \"B_38\",\n",
    "    \"D_114\",\n",
    "    \"D_116\",\n",
    "    \"D_117\",\n",
    "    \"D_120\",\n",
    "    \"D_126\",\n",
    "    \"D_63\",\n",
    "    \"D_64\",\n",
    "    \"D_66\",\n",
    "    \"D_68\"\n",
    "]\n",
    "\n",
    "cat_features = [f\"{cf}_last\" for cf in cat_features]\n",
    "for cat_col in cat_features:\n",
    "    encoder = LabelEncoder()\n",
    "    train[cat_col] = encoder.fit_transform(train[cat_col])\n",
    "    test[cat_col] = encoder.transform(test[cat_col])\n",
    "    \n",
    "num_cols = list(train.dtypes[(train.dtypes == 'float32') | (train.dtypes == 'float64')].index)\n",
    "num_cols = [col for col in num_cols if 'last' in col]\n",
    "for col in num_cols:\n",
    "    train[col + '_round2'] = train[col].round(2)\n",
    "    test[col + '_round2'] = test[col].round(2)\n",
    "\n",
    "features = [col for col in train.columns if col not in ['target']]\n",
    "\n",
    "train.shape, test.shape"
   ]
  },
  {
   "cell_type": "code",
   "execution_count": 3,
   "metadata": {},
   "outputs": [],
   "source": [
    "def train_and_evaluate(train, parameters):\n",
    "    global max_score\n",
    "    max_score = 0.785\n",
    "    kfold = StratifiedKFold(n_splits = CFG.n_folds, shuffle = True, random_state = CFG.seed)\n",
    "    for fold, (trn_ind, val_ind) in enumerate(kfold.split(train, train[CFG.target])):\n",
    "        if fold == 1 or fold == 3:\n",
    "            print(' ')\n",
    "\n",
    "            features = [col for col in train.columns if col not in ['target']]\n",
    "            print(f'Training fold {fold} with {len(features)} features...')\n",
    "            x_train, x_val = train[features].iloc[trn_ind], train[features].iloc[val_ind]\n",
    "            y_train, y_val = train[CFG.target].iloc[trn_ind], train[CFG.target].iloc[val_ind]\n",
    "            lgb_train = lgb.Dataset(x_train, y_train, categorical_feature = cat_features)\n",
    "            lgb_valid = lgb.Dataset(x_val, y_val, categorical_feature = cat_features)\n",
    "            del x_train, x_val, y_train, y_val; gc.collect()\n",
    "            \n",
    "             \n",
    "            model = lgb.train(\n",
    "                params = parameters,\n",
    "                train_set = lgb_train,\n",
    "                num_boost_round = 1500,\n",
    "                valid_sets = [lgb_valid],\n",
    "                feval = lgb_amex_metric,\n",
    "                callbacks=[save_model(fold)],\n",
    "                init_model='Models/cp_{}_model.txt'.format(fold),\n",
    "                )\n",
    "\n",
    "            path = 'Models/'\n",
    "            for fname in os.listdir(path):\n",
    "                if fname.startswith(\"fold_{}\".format(fold)):\n",
    "                    model = joblib.load('Models/' + fname)\n",
    "                    model.save_model('Models/cp_{}_model.txt'.format(fold))"
   ]
  },
  {
   "cell_type": "code",
   "execution_count": 4,
   "metadata": {},
   "outputs": [],
   "source": [
    "params = {\n",
    "    'objective': ['binary'],\n",
    "    'metric': ['amex_metric'],\n",
    "    'boosting': ['dart'],\n",
    "    'seed': [42, 43],\n",
    "    'num_leaves': [100, 250, 500, 1000],\n",
    "    'learning_rate': [0.01],\n",
    "    'drop_rate': [0.01, 0.025, 0.1, 0.2],\n",
    "    'feature_fraction': [0.20],\n",
    "    'bagging_freq': [10],\n",
    "    'bagging_fraction': [0.50],\n",
    "    'n_jobs': [-1],\n",
    "    'lambda_l2': [2],\n",
    "    'min_data_in_leaf': [40]\n",
    "    }"
   ]
  },
  {
   "cell_type": "code",
   "execution_count": 5,
   "metadata": {},
   "outputs": [
    {
     "name": "stdout",
     "output_type": "stream",
     "text": [
      "--------------------------------------------------\n",
      "0 32 {'bagging_fraction': 0.5, 'bagging_freq': 10, 'boosting': 'dart', 'drop_rate': 0.01, 'feature_fraction': 0.2, 'lambda_l2': 2, 'learning_rate': 0.01, 'metric': 'amex_metric', 'min_data_in_leaf': 40, 'n_jobs': -1, 'num_leaves': 100, 'objective': 'binary', 'seed': 42}\n",
      " \n",
      "Training fold 1 with 1103 features...\n"
     ]
    }
   ],
   "source": [
    "grid  = list(ParameterGrid(params))\n",
    "len_grid = len(grid)\n",
    "for run, parameters in enumerate(grid):\n",
    "    print('-'*50)\n",
    "    print(run, len_grid, parameters)\n",
    "    train_and_evaluate(train, parameters)"
   ]
  },
  {
   "cell_type": "code",
   "execution_count": null,
   "metadata": {},
   "outputs": [],
   "source": []
  }
 ],
 "metadata": {
  "kernelspec": {
   "display_name": "Python 3.9.12 ('rapids-22.06')",
   "language": "python",
   "name": "python3"
  },
  "language_info": {
   "codemirror_mode": {
    "name": "ipython",
    "version": 3
   },
   "file_extension": ".py",
   "mimetype": "text/x-python",
   "name": "python",
   "nbconvert_exporter": "python",
   "pygments_lexer": "ipython3",
   "version": "3.9.12"
  },
  "orig_nbformat": 4,
  "vscode": {
   "interpreter": {
    "hash": "468ef23ed2970eb3eae24d512361eed443dbea3050d88b5fbf8075c8ae4b100c"
   }
  }
 },
 "nbformat": 4,
 "nbformat_minor": 2
}
