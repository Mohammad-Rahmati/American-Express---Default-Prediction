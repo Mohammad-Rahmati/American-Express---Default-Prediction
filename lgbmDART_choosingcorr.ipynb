{
 "cells": [
  {
   "cell_type": "code",
   "execution_count": 13,
   "metadata": {},
   "outputs": [],
   "source": [
    "import warnings\n",
    "warnings.filterwarnings('ignore')\n",
    "from IPython.display import clear_output\n",
    "import itertools\n",
    "from tqdm import tqdm \n",
    "from evaluation_metric import lgb_amex_metric\n",
    "import os\n",
    "import gc\n",
    "import random\n",
    "import numpy as np\n",
    "import pandas as pd\n",
    "import joblib\n",
    "from sklearn.model_selection import StratifiedKFold\n",
    "from sklearn.model_selection import ParameterGrid\n",
    "import lightgbm as lgb\n",
    "\n",
    "class CFG:\n",
    "    input_dir = 'Data/'\n",
    "    seed = 42\n",
    "    n_folds = 5\n",
    "    target = 'target'\n",
    "    path = 'test/'\n",
    "\n",
    "def seed_everything(seed):\n",
    "    random.seed(seed)\n",
    "    np.random.seed(seed)\n",
    "    os.environ['PYTHONHASHSEED'] = str(seed)\n",
    "\n",
    "def save_model(fold):\n",
    "    def callback(env):\n",
    "        iteration = env.iteration\n",
    "        score = env.evaluation_result_list[0][2]\n",
    "        if score > score_dic[fold]:\n",
    "            score_dic[fold] = score\n",
    "\n",
    "    callback.order = 0\n",
    "    return callback"
   ]
  },
  {
   "cell_type": "code",
   "execution_count": 2,
   "metadata": {},
   "outputs": [
    {
     "data": {
      "text/plain": [
       "((458913, 2508), (458913, 1))"
      ]
     },
     "execution_count": 2,
     "metadata": {},
     "output_type": "execute_result"
    }
   ],
   "source": [
    "train = pd.read_parquet(CFG.input_dir + 'train_all_slopes_corr_pcaslope.parquet')\n",
    "labels = pd.read_pickle('Data/train_labels.pkl').loc[train.index]\n",
    "train['target'] = labels\n",
    "\n",
    "cat_features = [\n",
    "    \"B_30\",\n",
    "    \"B_38\",\n",
    "    \"D_114\",\n",
    "    \"D_116\",\n",
    "    \"D_117\",\n",
    "    \"D_120\",\n",
    "    \"D_126\",\n",
    "    \"D_63\",\n",
    "    \"D_64\",\n",
    "    \"D_66\",\n",
    "    \"D_68\"\n",
    "]\n",
    "\n",
    "cat_features = [f\"{cf}_last\" for cf in cat_features]\n",
    "train.shape, labels.shape"
   ]
  },
  {
   "cell_type": "code",
   "execution_count": 3,
   "metadata": {},
   "outputs": [],
   "source": [
    "top_corr = ['corr_D_39-B_26', 'corr_D_48-B_4', 'corr_P_2-D_44',\n",
    "       'corr_D_47-B_4', 'corr_D_47-D_39', 'corr_P_2-B_4',\n",
    "       'corr_D_39-B_10', 'corr_D_44-B_4', 'corr_D_39-B_2',\n",
    "       'corr_D_46-B_4', 'corr_D_48-D_47', 'corr_D_48-B_3',\n",
    "       'corr_D_48-B_9', 'corr_S_5-S_24', 'corr_S_7-S_3',\n",
    "       'corr_D_43-D_144', 'corr_D_48-D_39', 'corr_D_44-B_3',\n",
    "       'corr_P_3-D_46', 'corr_S_5-D_43', 'corr_R_1-B_4', \n",
    "       'corr_P_3-D_47', 'corr_D_39-B_3', 'corr_R_6-D_39', 'corr_S_27-B_2',\n",
    "       'corr_S_23-D_43', 'corr_R_6-D_69', 'corr_P_2-D_48',\n",
    "       'corr_S_25-B_4', 'corr_D_43-B_4', 'corr_R_27-D_69',\n",
    "       'corr_S_7-S_27', 'corr_D_39-B_11', 'corr_S_3-D_39',\n",
    "       'corr_D_39-B_1', 'corr_S_12-B_4', 'corr_D_39-B_15',\n",
    "       'corr_R_27-B_26', 'corr_S_23-D_39', 'corr_R_27-R_1',\n",
    "       'corr_R_1-D_39', 'corr_S_19-D_39', 'corr_S_27-B_3',\n",
    "       'corr_S_16-D_39', 'corr_R_27-B_5',\n",
    "       'corr_S_3-D_62', 'corr_D_71-D_62', 'corr_R_27-D_39']"
   ]
  },
  {
   "cell_type": "code",
   "execution_count": 18,
   "metadata": {},
   "outputs": [],
   "source": [
    "def train_and_evaluate(train_data, parameters):\n",
    "    \n",
    "    kfold = StratifiedKFold(n_splits = CFG.n_folds, shuffle = True, random_state = CFG.seed)\n",
    "    for fold, (trn_ind, val_ind) in enumerate(kfold.split(train_data, train_data[CFG.target])):\n",
    "        if fold in [1]:\n",
    "\n",
    "            features = [col for col in train_data.columns if col not in ['target']]\n",
    "            x_train, x_val = train_data[features].iloc[trn_ind], train_data[features].iloc[val_ind]\n",
    "            y_train, y_val = train_data[CFG.target].iloc[trn_ind], train_data[CFG.target].iloc[val_ind]\n",
    "            lgb_train = lgb.Dataset(x_train, y_train)\n",
    "            lgb_valid = lgb.Dataset(x_val, y_val)\n",
    "            del x_train, x_val, y_train, y_val; gc.collect()\n",
    "            \n",
    "            \n",
    "            model = lgb.train(\n",
    "                params = parameters,\n",
    "                train_set = lgb_train,\n",
    "                num_boost_round = 300,\n",
    "                valid_sets = [lgb_valid],\n",
    "                feval = lgb_amex_metric,\n",
    "                callbacks=[save_model(fold)],\n",
    "                )"
   ]
  },
  {
   "cell_type": "code",
   "execution_count": 5,
   "metadata": {},
   "outputs": [],
   "source": [
    "params = {\n",
    "    \n",
    "    'objective': ['binary'],\n",
    "    'metric': ['amex_metric'],\n",
    "    'seed': [42],\n",
    "    'feature_fraction': [1],\n",
    "    'verbosity': [-1],\n",
    "}"
   ]
  },
  {
   "cell_type": "code",
   "execution_count": 15,
   "metadata": {},
   "outputs": [
    {
     "name": "stderr",
     "output_type": "stream",
     "text": [
      "  0%|          | 8/2002 [01:42<7:07:38, 12.87s/it]\n"
     ]
    },
    {
     "ename": "KeyboardInterrupt",
     "evalue": "",
     "output_type": "error",
     "traceback": [
      "\u001b[0;31m---------------------------------------------------------------------------\u001b[0m",
      "\u001b[0;31mKeyboardInterrupt\u001b[0m                         Traceback (most recent call last)",
      "\u001b[1;32m/home/mora/Desktop/Github/Kaggle/Amex/lgbmDART_choosingcorr.ipynb Cell 6'\u001b[0m in \u001b[0;36m<cell line: 5>\u001b[0;34m()\u001b[0m\n\u001b[1;32m     <a href='vscode-notebook-cell:/home/mora/Desktop/Github/Kaggle/Amex/lgbmDART_choosingcorr.ipynb#ch0000005?line=18'>19</a>\u001b[0m train_data \u001b[39m=\u001b[39m train[subset]\n\u001b[1;32m     <a href='vscode-notebook-cell:/home/mora/Desktop/Github/Kaggle/Amex/lgbmDART_choosingcorr.ipynb#ch0000005?line=19'>20</a>\u001b[0m train_data[\u001b[39m'\u001b[39m\u001b[39mtarget\u001b[39m\u001b[39m'\u001b[39m] \u001b[39m=\u001b[39m labels\n\u001b[0;32m---> <a href='vscode-notebook-cell:/home/mora/Desktop/Github/Kaggle/Amex/lgbmDART_choosingcorr.ipynb#ch0000005?line=20'>21</a>\u001b[0m train_and_evaluate(train_data, parameters)\n\u001b[1;32m     <a href='vscode-notebook-cell:/home/mora/Desktop/Github/Kaggle/Amex/lgbmDART_choosingcorr.ipynb#ch0000005?line=21'>22</a>\u001b[0m corr_list\u001b[39m.\u001b[39mappend(\u001b[39mstr\u001b[39m(subset))\n\u001b[1;32m     <a href='vscode-notebook-cell:/home/mora/Desktop/Github/Kaggle/Amex/lgbmDART_choosingcorr.ipynb#ch0000005?line=22'>23</a>\u001b[0m score_list\u001b[39m.\u001b[39mappend(score_dic[\u001b[39m1\u001b[39m])\n",
      "\u001b[1;32m/home/mora/Desktop/Github/Kaggle/Amex/lgbmDART_choosingcorr.ipynb Cell 4'\u001b[0m in \u001b[0;36mtrain_and_evaluate\u001b[0;34m(train_data, parameters)\u001b[0m\n\u001b[1;32m     <a href='vscode-notebook-cell:/home/mora/Desktop/Github/Kaggle/Amex/lgbmDART_choosingcorr.ipynb#ch0000003?line=10'>11</a>\u001b[0m lgb_valid \u001b[39m=\u001b[39m lgb\u001b[39m.\u001b[39mDataset(x_val, y_val)\n\u001b[1;32m     <a href='vscode-notebook-cell:/home/mora/Desktop/Github/Kaggle/Amex/lgbmDART_choosingcorr.ipynb#ch0000003?line=11'>12</a>\u001b[0m \u001b[39mdel\u001b[39;00m x_train, x_val, y_train, y_val; gc\u001b[39m.\u001b[39mcollect()\n\u001b[0;32m---> <a href='vscode-notebook-cell:/home/mora/Desktop/Github/Kaggle/Amex/lgbmDART_choosingcorr.ipynb#ch0000003?line=14'>15</a>\u001b[0m model \u001b[39m=\u001b[39m lgb\u001b[39m.\u001b[39;49mtrain(\n\u001b[1;32m     <a href='vscode-notebook-cell:/home/mora/Desktop/Github/Kaggle/Amex/lgbmDART_choosingcorr.ipynb#ch0000003?line=15'>16</a>\u001b[0m     params \u001b[39m=\u001b[39;49m parameters,\n\u001b[1;32m     <a href='vscode-notebook-cell:/home/mora/Desktop/Github/Kaggle/Amex/lgbmDART_choosingcorr.ipynb#ch0000003?line=16'>17</a>\u001b[0m     train_set \u001b[39m=\u001b[39;49m lgb_train,\n\u001b[1;32m     <a href='vscode-notebook-cell:/home/mora/Desktop/Github/Kaggle/Amex/lgbmDART_choosingcorr.ipynb#ch0000003?line=17'>18</a>\u001b[0m     num_boost_round \u001b[39m=\u001b[39;49m \u001b[39m100\u001b[39;49m,\n\u001b[1;32m     <a href='vscode-notebook-cell:/home/mora/Desktop/Github/Kaggle/Amex/lgbmDART_choosingcorr.ipynb#ch0000003?line=18'>19</a>\u001b[0m     valid_sets \u001b[39m=\u001b[39;49m [lgb_valid],\n\u001b[1;32m     <a href='vscode-notebook-cell:/home/mora/Desktop/Github/Kaggle/Amex/lgbmDART_choosingcorr.ipynb#ch0000003?line=19'>20</a>\u001b[0m     feval \u001b[39m=\u001b[39;49m lgb_amex_metric,\n\u001b[1;32m     <a href='vscode-notebook-cell:/home/mora/Desktop/Github/Kaggle/Amex/lgbmDART_choosingcorr.ipynb#ch0000003?line=20'>21</a>\u001b[0m     callbacks\u001b[39m=\u001b[39;49m[save_model(fold)],\n\u001b[1;32m     <a href='vscode-notebook-cell:/home/mora/Desktop/Github/Kaggle/Amex/lgbmDART_choosingcorr.ipynb#ch0000003?line=21'>22</a>\u001b[0m     )\n",
      "File \u001b[0;32m~/miniconda3/envs/rapids-22.06/lib/python3.9/site-packages/lightgbm/engine.py:292\u001b[0m, in \u001b[0;36mtrain\u001b[0;34m(params, train_set, num_boost_round, valid_sets, valid_names, fobj, feval, init_model, feature_name, categorical_feature, early_stopping_rounds, evals_result, verbose_eval, learning_rates, keep_training_booster, callbacks)\u001b[0m\n\u001b[1;32m    284\u001b[0m \u001b[39mfor\u001b[39;00m cb \u001b[39min\u001b[39;00m callbacks_before_iter:\n\u001b[1;32m    285\u001b[0m     cb(callback\u001b[39m.\u001b[39mCallbackEnv(model\u001b[39m=\u001b[39mbooster,\n\u001b[1;32m    286\u001b[0m                             params\u001b[39m=\u001b[39mparams,\n\u001b[1;32m    287\u001b[0m                             iteration\u001b[39m=\u001b[39mi,\n\u001b[1;32m    288\u001b[0m                             begin_iteration\u001b[39m=\u001b[39minit_iteration,\n\u001b[1;32m    289\u001b[0m                             end_iteration\u001b[39m=\u001b[39minit_iteration \u001b[39m+\u001b[39m num_boost_round,\n\u001b[1;32m    290\u001b[0m                             evaluation_result_list\u001b[39m=\u001b[39m\u001b[39mNone\u001b[39;00m))\n\u001b[0;32m--> 292\u001b[0m booster\u001b[39m.\u001b[39;49mupdate(fobj\u001b[39m=\u001b[39;49mfobj)\n\u001b[1;32m    294\u001b[0m evaluation_result_list \u001b[39m=\u001b[39m []\n\u001b[1;32m    295\u001b[0m \u001b[39m# check evaluation result.\u001b[39;00m\n",
      "File \u001b[0;32m~/miniconda3/envs/rapids-22.06/lib/python3.9/site-packages/lightgbm/basic.py:3021\u001b[0m, in \u001b[0;36mBooster.update\u001b[0;34m(self, train_set, fobj)\u001b[0m\n\u001b[1;32m   3019\u001b[0m \u001b[39mif\u001b[39;00m \u001b[39mself\u001b[39m\u001b[39m.\u001b[39m__set_objective_to_none:\n\u001b[1;32m   3020\u001b[0m     \u001b[39mraise\u001b[39;00m LightGBMError(\u001b[39m'\u001b[39m\u001b[39mCannot update due to null objective function.\u001b[39m\u001b[39m'\u001b[39m)\n\u001b[0;32m-> 3021\u001b[0m _safe_call(_LIB\u001b[39m.\u001b[39;49mLGBM_BoosterUpdateOneIter(\n\u001b[1;32m   3022\u001b[0m     \u001b[39mself\u001b[39;49m\u001b[39m.\u001b[39;49mhandle,\n\u001b[1;32m   3023\u001b[0m     ctypes\u001b[39m.\u001b[39;49mbyref(is_finished)))\n\u001b[1;32m   3024\u001b[0m \u001b[39mself\u001b[39m\u001b[39m.\u001b[39m__is_predicted_cur_iter \u001b[39m=\u001b[39m [\u001b[39mFalse\u001b[39;00m \u001b[39mfor\u001b[39;00m _ \u001b[39min\u001b[39;00m \u001b[39mrange\u001b[39m(\u001b[39mself\u001b[39m\u001b[39m.\u001b[39m__num_dataset)]\n\u001b[1;32m   3025\u001b[0m \u001b[39mreturn\u001b[39;00m is_finished\u001b[39m.\u001b[39mvalue \u001b[39m==\u001b[39m \u001b[39m1\u001b[39m\n",
      "\u001b[0;31mKeyboardInterrupt\u001b[0m: "
     ]
    }
   ],
   "source": [
    "corr_list = []\n",
    "score_list = []\n",
    "grid  = list(ParameterGrid(params))\n",
    "len_grid = len(grid)\n",
    "for run, parameters in enumerate(grid):\n",
    "    set_of_combinations = itertools.combinations(top_corr[1:15], 5)\n",
    "    for subset in tqdm(list(set_of_combinations)):\n",
    "\n",
    "        score_dic = {\n",
    "            0:0.2,\n",
    "            1:0.2,\n",
    "            2:0.2,\n",
    "            3:0.2,\n",
    "            4:0.2,\n",
    "        }\n",
    "\n",
    "        subset = list(subset)\n",
    "        subset.append('corr_D_39-B_26')\n",
    "        train_data = train[subset]\n",
    "        train_data['target'] = labels\n",
    "        train_and_evaluate(train_data, parameters)\n",
    "        corr_list.append(str(subset))\n",
    "        score_list.append(score_dic[1])\n",
    "        clear_output(wait=True)"
   ]
  },
  {
   "cell_type": "code",
   "execution_count": 16,
   "metadata": {},
   "outputs": [
    {
     "name": "stdout",
     "output_type": "stream",
     "text": [
      "[\"['corr_D_48-B_4', 'corr_P_2-D_44', 'corr_D_47-B_4', 'corr_D_47-D_39', 'corr_D_48-B_3', 'corr_D_39-B_26']\"\n",
      " \"['corr_D_48-B_4', 'corr_P_2-D_44', 'corr_D_47-B_4', 'corr_D_47-D_39', 'corr_D_46-B_4', 'corr_D_39-B_26']\"\n",
      " \"['corr_D_48-B_4', 'corr_P_2-D_44', 'corr_D_47-B_4', 'corr_D_47-D_39', 'corr_D_39-B_2', 'corr_D_39-B_26']\"\n",
      " \"['corr_D_48-B_4', 'corr_P_2-D_44', 'corr_D_47-B_4', 'corr_D_47-D_39', 'corr_D_44-B_4', 'corr_D_39-B_26']\"\n",
      " \"['corr_D_48-B_4', 'corr_P_2-D_44', 'corr_D_47-B_4', 'corr_D_47-D_39', 'corr_P_2-B_4', 'corr_D_39-B_26']\"]\n"
     ]
    },
    {
     "data": {
      "text/html": [
       "<div>\n",
       "<style scoped>\n",
       "    .dataframe tbody tr th:only-of-type {\n",
       "        vertical-align: middle;\n",
       "    }\n",
       "\n",
       "    .dataframe tbody tr th {\n",
       "        vertical-align: top;\n",
       "    }\n",
       "\n",
       "    .dataframe thead th {\n",
       "        text-align: right;\n",
       "    }\n",
       "</style>\n",
       "<table border=\"1\" class=\"dataframe\">\n",
       "  <thead>\n",
       "    <tr style=\"text-align: right;\">\n",
       "      <th></th>\n",
       "      <th>features</th>\n",
       "      <th>score</th>\n",
       "    </tr>\n",
       "  </thead>\n",
       "  <tbody>\n",
       "    <tr>\n",
       "      <th>6</th>\n",
       "      <td>['corr_D_48-B_4', 'corr_P_2-D_44', 'corr_D_47-...</td>\n",
       "      <td>0.530691</td>\n",
       "    </tr>\n",
       "    <tr>\n",
       "      <th>4</th>\n",
       "      <td>['corr_D_48-B_4', 'corr_P_2-D_44', 'corr_D_47-...</td>\n",
       "      <td>0.529039</td>\n",
       "    </tr>\n",
       "    <tr>\n",
       "      <th>3</th>\n",
       "      <td>['corr_D_48-B_4', 'corr_P_2-D_44', 'corr_D_47-...</td>\n",
       "      <td>0.527045</td>\n",
       "    </tr>\n",
       "    <tr>\n",
       "      <th>2</th>\n",
       "      <td>['corr_D_48-B_4', 'corr_P_2-D_44', 'corr_D_47-...</td>\n",
       "      <td>0.526846</td>\n",
       "    </tr>\n",
       "    <tr>\n",
       "      <th>0</th>\n",
       "      <td>['corr_D_48-B_4', 'corr_P_2-D_44', 'corr_D_47-...</td>\n",
       "      <td>0.526775</td>\n",
       "    </tr>\n",
       "    <tr>\n",
       "      <th>7</th>\n",
       "      <td>['corr_D_48-B_4', 'corr_P_2-D_44', 'corr_D_47-...</td>\n",
       "      <td>0.525788</td>\n",
       "    </tr>\n",
       "    <tr>\n",
       "      <th>5</th>\n",
       "      <td>['corr_D_48-B_4', 'corr_P_2-D_44', 'corr_D_47-...</td>\n",
       "      <td>0.523087</td>\n",
       "    </tr>\n",
       "    <tr>\n",
       "      <th>1</th>\n",
       "      <td>['corr_D_48-B_4', 'corr_P_2-D_44', 'corr_D_47-...</td>\n",
       "      <td>0.519557</td>\n",
       "    </tr>\n",
       "  </tbody>\n",
       "</table>\n",
       "</div>"
      ],
      "text/plain": [
       "                                            features     score\n",
       "6  ['corr_D_48-B_4', 'corr_P_2-D_44', 'corr_D_47-...  0.530691\n",
       "4  ['corr_D_48-B_4', 'corr_P_2-D_44', 'corr_D_47-...  0.529039\n",
       "3  ['corr_D_48-B_4', 'corr_P_2-D_44', 'corr_D_47-...  0.527045\n",
       "2  ['corr_D_48-B_4', 'corr_P_2-D_44', 'corr_D_47-...  0.526846\n",
       "0  ['corr_D_48-B_4', 'corr_P_2-D_44', 'corr_D_47-...  0.526775\n",
       "7  ['corr_D_48-B_4', 'corr_P_2-D_44', 'corr_D_47-...  0.525788\n",
       "5  ['corr_D_48-B_4', 'corr_P_2-D_44', 'corr_D_47-...  0.523087\n",
       "1  ['corr_D_48-B_4', 'corr_P_2-D_44', 'corr_D_47-...  0.519557"
      ]
     },
     "execution_count": 16,
     "metadata": {},
     "output_type": "execute_result"
    }
   ],
   "source": [
    "score_df = pd.DataFrame({'features': corr_list, 'score': score_list}).sort_values('score', ascending=False)\n",
    "print(score_df.head(5)['features'].values)\n",
    "score_df"
   ]
  },
  {
   "cell_type": "code",
   "execution_count": 19,
   "metadata": {},
   "outputs": [
    {
     "data": {
      "text/plain": [
       "0.5315035344311915"
      ]
     },
     "execution_count": 19,
     "metadata": {},
     "output_type": "execute_result"
    }
   ],
   "source": [
    "score_dic = {\n",
    "    0:0.2,\n",
    "    1:0.2,\n",
    "    2:0.2,\n",
    "    3:0.2,\n",
    "    4:0.2,\n",
    "}\n",
    "\n",
    "train_data = train[['corr_D_47-B_4', 'corr_P_2-B_4', 'corr_D_44-B_4', 'corr_D_48-B_3', 'corr_D_39-B_26']]\n",
    "train_data['target'] = labels\n",
    "train_and_evaluate(train_data, parameters)\n",
    "score_dic[1]"
   ]
  },
  {
   "cell_type": "code",
   "execution_count": 20,
   "metadata": {},
   "outputs": [
    {
     "data": {
      "text/plain": [
       "0.49963919803957824"
      ]
     },
     "execution_count": 20,
     "metadata": {},
     "output_type": "execute_result"
    }
   ],
   "source": [
    "score_dic = {\n",
    "    0:0.2,\n",
    "    1:0.2,\n",
    "    2:0.2,\n",
    "    3:0.2,\n",
    "    4:0.2,\n",
    "}\n",
    "\n",
    "train_data = train[['corr_D_48-B_4', 'corr_P_2-D_44', 'corr_S_5-S_24', 'corr_D_48-B_9', 'corr_D_39-B_26']]\n",
    "train_data['target'] = labels\n",
    "train_and_evaluate(train_data, parameters)\n",
    "score_dic[1]"
   ]
  },
  {
   "cell_type": "code",
   "execution_count": null,
   "metadata": {},
   "outputs": [],
   "source": []
  }
 ],
 "metadata": {
  "kernelspec": {
   "display_name": "Python 3.9.12 ('rapids-22.06')",
   "language": "python",
   "name": "python3"
  },
  "language_info": {
   "codemirror_mode": {
    "name": "ipython",
    "version": 3
   },
   "file_extension": ".py",
   "mimetype": "text/x-python",
   "name": "python",
   "nbconvert_exporter": "python",
   "pygments_lexer": "ipython3",
   "version": "3.9.12"
  },
  "orig_nbformat": 4,
  "vscode": {
   "interpreter": {
    "hash": "468ef23ed2970eb3eae24d512361eed443dbea3050d88b5fbf8075c8ae4b100c"
   }
  }
 },
 "nbformat": 4,
 "nbformat_minor": 2
}
