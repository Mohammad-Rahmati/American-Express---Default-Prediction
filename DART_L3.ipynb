{
 "cells": [
  {
   "cell_type": "code",
   "execution_count": 1,
   "metadata": {},
   "outputs": [],
   "source": [
    "import warnings\n",
    "warnings.filterwarnings('ignore')\n",
    "import os\n",
    "import pandas as pd\n",
    "from sklearn.preprocessing import LabelEncoder\n",
    "from sklearn.model_selection import ParameterGrid\n",
    "from evaluation_metric import lgb_amex_metric\n",
    "from sklearn.model_selection import StratifiedKFold\n",
    "\n",
    "import joblib\n",
    "import lightgbm as lgb\n",
    "\n",
    "import gc\n",
    "\n",
    "def save_model(fold):\n",
    "    def callback(env):\n",
    "        \n",
    "        iteration = env.iteration\n",
    "        score = env.evaluation_result_list[0][2]\n",
    "        if iteration % 200 == 0:\n",
    "            print('iteration {}, score= {:.05f}'.format(iteration,score))\n",
    "        if score > score_dic[fold]:\n",
    "            score_dic[fold] = score\n",
    "            path = 'Models_DART_L3/'\n",
    "            for fname in os.listdir(path):\n",
    "                if fname.startswith(\"weak_fold_{}\".format(fold)):\n",
    "                    os.remove(os.path.join(path, fname))\n",
    "\n",
    "            print('High Score: iteration {}, score={:.05f}'.format(iteration, score))\n",
    "            joblib.dump(env.model, 'Models_DART_L3/weak_fold_{}_score_{:.05f}.pkl'.format(fold, score))\n",
    "\n",
    "    callback.order = 0\n",
    "    return callback"
   ]
  },
  {
   "cell_type": "code",
   "execution_count": 2,
   "metadata": {},
   "outputs": [
    {
     "data": {
      "text/plain": [
       "((385487, 1011), (73426, 1011))"
      ]
     },
     "execution_count": 2,
     "metadata": {},
     "output_type": "execute_result"
    }
   ],
   "source": [
    "val_indx = pd.read_pickle('Data/weak_fold_indx.pkl')['weak_index'].tolist()\n",
    "train_val = pd.read_parquet('Data/train_all.parquet')\n",
    "train_indx = set(train_val.index).difference(set(val_indx))\n",
    "train = train_val.loc[train_indx]\n",
    "val = train_val.loc[val_indx]\n",
    "train.shape, val.shape"
   ]
  },
  {
   "cell_type": "code",
   "execution_count": 3,
   "metadata": {},
   "outputs": [
    {
     "data": {
      "text/plain": [
       "((385487, 1104), (73426, 1104))"
      ]
     },
     "execution_count": 3,
     "metadata": {},
     "output_type": "execute_result"
    }
   ],
   "source": [
    "cat_features = [\n",
    "    \"B_30\",\n",
    "    \"B_38\",\n",
    "    \"D_114\",\n",
    "    \"D_116\",\n",
    "    \"D_117\",\n",
    "    \"D_120\",\n",
    "    \"D_126\",\n",
    "    \"D_63\",\n",
    "    \"D_64\",\n",
    "    \"D_66\",\n",
    "    \"D_68\"\n",
    "]\n",
    "\n",
    "cat_features = [f\"{cf}_last\" for cf in cat_features]\n",
    "for cat_col in cat_features:\n",
    "    encoder = LabelEncoder()\n",
    "    train[cat_col] = encoder.fit_transform(train[cat_col])\n",
    "    val[cat_col] = encoder.transform(val[cat_col])\n",
    "    \n",
    "num_cols = list(train.dtypes[(train.dtypes == 'float32') | (train.dtypes == 'float64')].index)\n",
    "num_cols = [col for col in num_cols if 'last' in col]\n",
    "for col in num_cols:\n",
    "    train[col + '_round2'] = train[col].round(2)\n",
    "    val[col + '_round2'] = val[col].round(2)\n",
    "\n",
    "features = [col for col in train.columns if col not in ['target']]\n",
    "\n",
    "train.shape, val.shape"
   ]
  },
  {
   "cell_type": "code",
   "execution_count": 4,
   "metadata": {},
   "outputs": [],
   "source": [
    "def train_and_evaluate(train_org, val, parameters):\n",
    "    kfold = StratifiedKFold(n_splits = 10, shuffle = True, random_state = 42)\n",
    "    for fold, (trn_ind, val_ind) in enumerate(kfold.split(val, val['target'])):\n",
    "        if fold in [7,9]:\n",
    "            print('-'*50)\n",
    "            print(f'Training fold {fold} with {len(features)} features...')\n",
    "            \n",
    "            x_train, x_val = val[features].iloc[trn_ind], val[features].iloc[val_ind]\n",
    "            y_train, y_val = val['target'].iloc[trn_ind], val['target'].iloc[val_ind]\n",
    "            x_train_new = pd.concat([train_org[features], x_train], axis=0)\n",
    "            y_train_new = pd.concat([train_org['target'], y_train], axis=0)\n",
    "\n",
    "            lgb_train = lgb.Dataset(x_train_new, y_train_new, categorical_feature = cat_features)\n",
    "            lgb_valid = lgb.Dataset(x_val, y_val, categorical_feature = cat_features)\n",
    "            del x_train, x_val, y_train, y_val, x_train_new, y_train_new; gc.collect()\n",
    "            model = lgb.train(\n",
    "                params = parameters,\n",
    "                train_set = lgb_train,\n",
    "                num_boost_round = 1200,\n",
    "                valid_sets = [lgb_valid],\n",
    "                feval = lgb_amex_metric,\n",
    "                callbacks=[save_model(fold)],\n",
    "                init_model= 'Models_DART_L3/weak_{}_model.txt'.format(fold)\n",
    "                )\n",
    "\n",
    "            path = 'Models_DART_L3/'\n",
    "            for fname in os.listdir(path):\n",
    "                if fname.startswith(\"weak_fold_{}\".format(fold)):\n",
    "                    model = joblib.load('Models/' + fname)\n",
    "                    model.save_model('Models/weak_{}_model.txt'.format(fold))"
   ]
  },
  {
   "cell_type": "code",
   "execution_count": 5,
   "metadata": {},
   "outputs": [],
   "source": [
    "params = {\n",
    "    \n",
    "    'objective': ['binary'],\n",
    "    'metric': ['amex_metric'],\n",
    "    'boosting': ['dart'],\n",
    "    'seed': [42],\n",
    "    'num_leaves': [100, 200],\n",
    "    'learning_rate': [0.01],\n",
    "    'drop_rate': [0.1],\n",
    "    'feature_fraction': [0.30],\n",
    "    'bagging_freq': [10],\n",
    "    'bagging_fraction': [0.25],\n",
    "    'n_jobs': [-1],\n",
    "    'lambda_l2': [20, 40, 60],\n",
    "    'min_data_in_leaf': [100, 150, 300]\n",
    "}"
   ]
  },
  {
   "cell_type": "code",
   "execution_count": 6,
   "metadata": {},
   "outputs": [],
   "source": [
    "score_dic = {\n",
    "    \n",
    "    0:0.79417, \n",
    "    1:0.79376, \n",
    "    2:0.79294 , \n",
    "    3: 0.79655, \n",
    "    4:0.79648, \n",
    "    5:0.80389, \n",
    "    6:0.80305, \n",
    "    7: 0.78515, \n",
    "    8: 0.79930, \n",
    "    9: 0.78428,\n",
    "}"
   ]
  },
  {
   "cell_type": "code",
   "execution_count": 7,
   "metadata": {},
   "outputs": [
    {
     "name": "stdout",
     "output_type": "stream",
     "text": [
      "--------------------------------------------------\n",
      "0 18 {'bagging_fraction': 0.25, 'bagging_freq': 10, 'boosting': 'dart', 'drop_rate': 0.1, 'feature_fraction': 0.3, 'lambda_l2': 20, 'learning_rate': 0.01, 'metric': 'amex_metric', 'min_data_in_leaf': 100, 'n_jobs': -1, 'num_leaves': 100, 'objective': 'binary', 'seed': 42}\n",
      "--------------------------------------------------\n",
      "Training fold 7 with 1103 features...\n"
     ]
    }
   ],
   "source": [
    "grid  = list(ParameterGrid(params))\n",
    "len_grid = len(grid)\n",
    "\n",
    "for run, parameters in enumerate(grid):\n",
    "    print('-'*50)\n",
    "    print(run, len_grid, parameters)\n",
    "    train_and_evaluate(train, val, parameters)"
   ]
  },
  {
   "cell_type": "code",
   "execution_count": null,
   "metadata": {},
   "outputs": [],
   "source": []
  }
 ],
 "metadata": {
  "kernelspec": {
   "display_name": "Python 3.9.12 ('rapids-22.06')",
   "language": "python",
   "name": "python3"
  },
  "language_info": {
   "codemirror_mode": {
    "name": "ipython",
    "version": 3
   },
   "file_extension": ".py",
   "mimetype": "text/x-python",
   "name": "python",
   "nbconvert_exporter": "python",
   "pygments_lexer": "ipython3",
   "version": "3.9.12"
  },
  "orig_nbformat": 4,
  "vscode": {
   "interpreter": {
    "hash": "468ef23ed2970eb3eae24d512361eed443dbea3050d88b5fbf8075c8ae4b100c"
   }
  }
 },
 "nbformat": 4,
 "nbformat_minor": 2
}
