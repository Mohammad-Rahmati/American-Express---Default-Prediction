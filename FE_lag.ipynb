{
 "cells": [
  {
   "cell_type": "code",
   "execution_count": null,
   "metadata": {},
   "outputs": [],
   "source": [
    "import pandas as pd\n",
    "import matplotlib.pyplot as plt\n",
    "from scipy.stats import linregress\n",
    "import numpy as np\n",
    "import gc\n",
    "import warnings\n",
    "warnings.filterwarnings('ignore')"
   ]
  },
  {
   "cell_type": "code",
   "execution_count": null,
   "metadata": {},
   "outputs": [],
   "source": [
    "train = pd.read_parquet('Data/test.parquet')\n",
    "train.set_index('customer_ID', inplace=True)\n",
    "\n",
    "columns = train.columns\n",
    "cat_columns = ['B_30', 'B_38', 'D_114', 'D_116', 'D_117', 'D_120', 'D_126', 'D_63', 'D_64', 'D_66', 'D_68']\n",
    "num_columns = [c for c in columns if c not in cat_columns]\n",
    "\n",
    "train.shape"
   ]
  },
  {
   "cell_type": "code",
   "execution_count": null,
   "metadata": {},
   "outputs": [],
   "source": [
    "num_columns.remove('S_2')"
   ]
  },
  {
   "cell_type": "code",
   "execution_count": null,
   "metadata": {},
   "outputs": [],
   "source": [
    "train_last_minus_first = train[num_columns].groupby(train.index).apply(lambda x: x.iloc[-1] - x.iloc[0])\n",
    "train_last_minus_first.columns = ['last-first_' + c for c in train_last_minus_first]\n",
    "print('train_last_minus_first Done')\n",
    "train_last_dividedby_first = train[num_columns].groupby(train.index).apply(lambda x: x.iloc[-1] / (x.iloc[0] + 0.0000001))\n",
    "train_last_dividedby_first.columns = ['last/first_' + c for c in train_last_dividedby_first]\n",
    "print('train_last_dividedby_first Done')\n",
    "train_last_dividedby_ave = train[num_columns].groupby(train.index).apply(lambda x: x.iloc[-1] / (x.mean() + 0.0000001))\n",
    "train_last_dividedby_ave.columns = ['last/ave_' + c for c in train_last_dividedby_ave]\n",
    "print('train_last_dividedby_ave Done')\n",
    "train_first = train[num_columns].groupby(train.index).first()\n",
    "train_first.columns = ['first_' + c for c in train_first]\n",
    "print('train_first Done')"
   ]
  },
  {
   "cell_type": "code",
   "execution_count": null,
   "metadata": {},
   "outputs": [],
   "source": [
    "del train; gc.collect()"
   ]
  },
  {
   "cell_type": "code",
   "execution_count": null,
   "metadata": {},
   "outputs": [],
   "source": [
    "train_fe_lag = pd.concat([train_last_minus_first, train_last_dividedby_first, train_last_dividedby_ave, train_first], axis=1)"
   ]
  },
  {
   "cell_type": "code",
   "execution_count": null,
   "metadata": {},
   "outputs": [],
   "source": [
    "del train; gc.collect()\n",
    "train = pd.read_parquet('Data/train_all_slopes_corr_pcaslope.parquet')\n",
    "train.shape"
   ]
  },
  {
   "cell_type": "code",
   "execution_count": null,
   "metadata": {},
   "outputs": [],
   "source": [
    "pd.concat([train, train_fe_lag], axis=1).to_parquet('Data/train_all_slopes_corr_pcaslope_lag.parquet')"
   ]
  },
  {
   "cell_type": "code",
   "execution_count": null,
   "metadata": {},
   "outputs": [],
   "source": [
    "import pandas as pd\n",
    "import matplotlib.pyplot as plt\n",
    "from scipy.stats import linregress\n",
    "import numpy as np\n",
    "import gc\n",
    "import warnings\n",
    "warnings.filterwarnings('ignore')"
   ]
  },
  {
   "cell_type": "code",
   "execution_count": null,
   "metadata": {},
   "outputs": [],
   "source": [
    "test = pd.read_parquet('Data/test.parquet')\n",
    "test.set_index('customer_ID', inplace=True)\n",
    "\n",
    "columns = test.columns\n",
    "cat_columns = ['B_30', 'B_38', 'D_114', 'D_116', 'D_117', 'D_120', 'D_126', 'D_63', 'D_64', 'D_66', 'D_68']\n",
    "num_columns = [c for c in columns if c not in cat_columns]"
   ]
  },
  {
   "cell_type": "code",
   "execution_count": null,
   "metadata": {},
   "outputs": [],
   "source": [
    "num_columns.remove('S_2')"
   ]
  },
  {
   "cell_type": "code",
   "execution_count": null,
   "metadata": {},
   "outputs": [],
   "source": [
    "test_last_minus_first = test[num_columns].groupby(test.index).apply(lambda x: x.iloc[-1] - x.iloc[0])\n",
    "test_last_minus_first.columns = ['last-first_' + c for c in test_last_minus_first]\n",
    "print('test_last_minus_first Done')\n",
    "test_last_dividedby_first = test[num_columns].groupby(test.index).apply(lambda x: x.iloc[-1] / (x.iloc[0] + 0.0000001))\n",
    "test_last_dividedby_first.columns = ['last/first_' + c for c in test_last_dividedby_first]\n",
    "print('test_last_dividedby_first Done')\n",
    "test_last_dividedby_ave = test[num_columns].groupby(test.index).apply(lambda x: x.iloc[-1] / (x.mean() + 0.0000001))\n",
    "test_last_dividedby_ave.columns = ['last/ave_' + c for c in test_last_dividedby_ave]\n",
    "print('test_last_dividedby_ave Done')\n",
    "test_first = test[num_columns].groupby(test.index).first()\n",
    "test_first.columns = ['first_' + c for c in test_first]\n",
    "print('test_first Done')"
   ]
  },
  {
   "cell_type": "code",
   "execution_count": null,
   "metadata": {},
   "outputs": [],
   "source": [
    "del test; gc.collect()"
   ]
  },
  {
   "cell_type": "code",
   "execution_count": null,
   "metadata": {},
   "outputs": [],
   "source": [
    "test_fe_lag = pd.concat([test_last_minus_first, test_last_dividedby_first, test_last_dividedby_ave, test_first], axis=1)"
   ]
  },
  {
   "cell_type": "code",
   "execution_count": null,
   "metadata": {},
   "outputs": [],
   "source": [
    "test = pd.read_parquet('Data/test_all_slopes_corr_pcaslope.parquet')\n",
    "test.shape"
   ]
  },
  {
   "cell_type": "code",
   "execution_count": null,
   "metadata": {},
   "outputs": [],
   "source": [
    "pd.concat([test, test_fe_lag], axis=1).to_parquet('Data/test_all_slopes_corr_pcaslope_lag.parquet')"
   ]
  },
  {
   "cell_type": "code",
   "execution_count": null,
   "metadata": {},
   "outputs": [],
   "source": []
  }
 ],
 "metadata": {
  "kernelspec": {
   "display_name": "Python 3.9.12 ('rapids-22.06')",
   "language": "python",
   "name": "python3"
  },
  "language_info": {
   "codemirror_mode": {
    "name": "ipython",
    "version": 3
   },
   "file_extension": ".py",
   "mimetype": "text/x-python",
   "name": "python",
   "nbconvert_exporter": "python",
   "pygments_lexer": "ipython3",
   "version": "3.9.12"
  },
  "orig_nbformat": 4,
  "vscode": {
   "interpreter": {
    "hash": "468ef23ed2970eb3eae24d512361eed443dbea3050d88b5fbf8075c8ae4b100c"
   }
  }
 },
 "nbformat": 4,
 "nbformat_minor": 2
}
