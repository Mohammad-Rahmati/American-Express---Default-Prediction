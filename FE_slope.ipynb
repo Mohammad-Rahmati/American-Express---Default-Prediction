{
 "cells": [
  {
   "cell_type": "code",
   "execution_count": 1,
   "metadata": {},
   "outputs": [],
   "source": [
    "import pandas as pd\n",
    "import matplotlib.pyplot as plt\n",
    "from scipy.stats import linregress\n",
    "import numpy as np\n",
    "import gc\n",
    "import warnings\n",
    "warnings.filterwarnings('ignore')"
   ]
  },
  {
   "cell_type": "code",
   "execution_count": 2,
   "metadata": {},
   "outputs": [
    {
     "data": {
      "text/plain": [
       "((5531451, 189), (458913, 1), (11363762, 189))"
      ]
     },
     "execution_count": 2,
     "metadata": {},
     "output_type": "execute_result"
    }
   ],
   "source": [
    "train = pd.read_parquet('Data/train.parquet')\n",
    "test = pd.read_parquet('Data/test.parquet')\n",
    "train.set_index('customer_ID', inplace=True)\n",
    "test.set_index('customer_ID', inplace=True)\n",
    "\n",
    "labels = pd.read_pickle('Data/train_labels.pkl')\n",
    "\n",
    "columns = train.columns\n",
    "cat_columns = ['B_30', 'B_38', 'D_114', 'D_116', 'D_117', 'D_120', 'D_126', 'D_63', 'D_64', 'D_66', 'D_68']\n",
    "num_columns = [c for c in columns if c not in cat_columns]\n",
    "\n",
    "train.shape, labels.shape, test.shape"
   ]
  },
  {
   "cell_type": "code",
   "execution_count": 3,
   "metadata": {},
   "outputs": [],
   "source": [
    "train.drop(cat_columns, axis=1, inplace=True)\n",
    "test.drop(cat_columns, axis=1, inplace=True)\n",
    "\n",
    "train['time'] = pd.to_datetime(train['S_2'])                                                                                                                                                                                                    \n",
    "train['time']  = train['time'].astype(np.int64) / 10**18\n",
    "test['time'] = pd.to_datetime(test['S_2'])                                                                                                                                                                                                    \n",
    "test['time']  = test['time'].astype(np.int64) / 10**18\n",
    "\n",
    "train.drop(['S_2'], axis=1, inplace=True)\n",
    "test.drop(['S_2'], axis=1, inplace=True)"
   ]
  },
  {
   "cell_type": "code",
   "execution_count": 4,
   "metadata": {},
   "outputs": [],
   "source": [
    "num_columns.remove('S_2')"
   ]
  },
  {
   "cell_type": "code",
   "execution_count": 5,
   "metadata": {},
   "outputs": [
    {
     "name": "stdout",
     "output_type": "stream",
     "text": [
      "P_2, D_39, B_1, B_2, "
     ]
    }
   ],
   "source": [
    "tr_slope = pd.DataFrame(index=train.index.unique())\n",
    "te_slope = pd.DataFrame(index=test.index.unique())\n",
    "\n",
    "for count, i in enumerate(num_columns):\n",
    "    print(i, end=', ')\n",
    "    if count > 0 and count % 15 == 0: print('')\n",
    "    tr_slope['slope_' + i] = train.groupby('customer_ID').apply(lambda v: linregress(v.time, v[i])[0])\n",
    "    te_slope['slope_' + i] = test.groupby('customer_ID').apply(lambda v: linregress(v.time, v[i])[0])"
   ]
  },
  {
   "cell_type": "code",
   "execution_count": null,
   "metadata": {},
   "outputs": [],
   "source": [
    "del train, test; gc.collect()"
   ]
  },
  {
   "cell_type": "code",
   "execution_count": null,
   "metadata": {},
   "outputs": [],
   "source": [
    "train = pd.read_pickle('Output/train.pkl')\n",
    "test = pd.read_pickle('Output/test.pkl')\n",
    "train.shape, test.shape"
   ]
  },
  {
   "cell_type": "code",
   "execution_count": null,
   "metadata": {},
   "outputs": [],
   "source": [
    "train = pd.concat([train, tr_p2, tr_b5, tr_d46, tr_b3], axis = 1)\n",
    "test = pd.concat([test, te_p2, te_b5, te_d46, te_b3], axis = 1)"
   ]
  },
  {
   "cell_type": "code",
   "execution_count": null,
   "metadata": {},
   "outputs": [],
   "source": [
    "train.rename(columns={0: 'slope_p2', 1: 'slope_b5', 2: 'slope_d46', 3: 'slope_b3'}, inplace=True)\n",
    "test.rename(columns={0: 'slope_p2', 1: 'slope_b5', 2: 'slope_d46', 3: 'slope_b3'}, inplace=True)"
   ]
  },
  {
   "cell_type": "code",
   "execution_count": null,
   "metadata": {},
   "outputs": [],
   "source": [
    "train.to_parquet('Data/train_all_slopes.parquet')\n",
    "test.to_parquet('Data/test_all_slopes.parquet')"
   ]
  },
  {
   "cell_type": "code",
   "execution_count": null,
   "metadata": {},
   "outputs": [],
   "source": [
    "train"
   ]
  },
  {
   "cell_type": "code",
   "execution_count": null,
   "metadata": {},
   "outputs": [],
   "source": []
  }
 ],
 "metadata": {
  "kernelspec": {
   "display_name": "Python 3.9.12 ('rapids-22.06')",
   "language": "python",
   "name": "python3"
  },
  "language_info": {
   "codemirror_mode": {
    "name": "ipython",
    "version": 3
   },
   "file_extension": ".py",
   "mimetype": "text/x-python",
   "name": "python",
   "nbconvert_exporter": "python",
   "pygments_lexer": "ipython3",
   "version": "3.9.12"
  },
  "orig_nbformat": 4,
  "vscode": {
   "interpreter": {
    "hash": "468ef23ed2970eb3eae24d512361eed443dbea3050d88b5fbf8075c8ae4b100c"
   }
  }
 },
 "nbformat": 4,
 "nbformat_minor": 2
}
