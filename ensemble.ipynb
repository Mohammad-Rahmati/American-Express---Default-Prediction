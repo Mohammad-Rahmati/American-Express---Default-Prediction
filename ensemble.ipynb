{
 "cells": [
  {
   "cell_type": "code",
   "execution_count": 2,
   "metadata": {},
   "outputs": [],
   "source": [
    "import pandas as pd\n",
    "import matplotlib.pyplot as plt\n",
    "import joblib\n",
    "import os"
   ]
  },
  {
   "cell_type": "code",
   "execution_count": null,
   "metadata": {},
   "outputs": [],
   "source": [
    "data = pd.read_pickle('Output/test.pkl')\n",
    "\n",
    "models = [\n",
    "    'fold_0_iter',\n",
    "    'fold_2_iter',\n",
    "    'fold_4_iter',\n",
    "\n",
    "    'fold_1_0_iter',\n",
    "    'fold_1_3_iter',\n",
    "    'fold_1_4_iter',\n",
    "    'fold_3_0_iter',\n",
    "    'fold_3_1_iter',\n",
    "    'fold_3_3_iter',\n",
    "\n",
    "    'weak_fold_'\n",
    "]\n",
    "\n",
    "model_list = []\n",
    "for path in ['Models_DART_L1,L2/', 'Models_DART_L3/']:\n",
    "    for fname in os.listdir(path):\n",
    "        for model_name in models:\n",
    "            if model_name in fname:\n",
    "                model_list.append(path + fname)\n",
    "\n",
    "pred_list = []\n",
    "for model_path in model_list:\n",
    "    print(model_path)\n",
    "    print('{:.02f} MB'.format(os.path.getsize(model_path)/1000000))\n",
    "    model = joblib.load(model_path)\n",
    "    pred_list.append(model.predict(data))"
   ]
  },
  {
   "cell_type": "code",
   "execution_count": null,
   "metadata": {},
   "outputs": [],
   "source": [
    "column_name = [\n",
    "    'fold_3_1',\n",
    "    'fold_2',\n",
    "    'fold_0',\n",
    "    'fold_3_0',\n",
    "    'fold_3_3',\n",
    "    'fold_1_3',\n",
    "    'fold_1_4',\n",
    "    'fold_4',\n",
    "    'fold_1_0',\n",
    "    'weak_fold_7',\n",
    "    'weak_fold_1',\n",
    "    'weak_fold_5',\n",
    "    'weak_fold_9',\n",
    "    'weak_fold_2',\n",
    "    'weak_fold_3',\n",
    "    'weak_fold_4',\n",
    "    'weak_fold_0',\n",
    "    'weak_fold_8',\n",
    "    'weak_fold_6',\n",
    "]\n",
    "\n",
    "pred_df = pd.DataFrame(pred_list).T\n",
    "pred_df.columns = column_name\n",
    "pred_df.index = data.index"
   ]
  },
  {
   "cell_type": "code",
   "execution_count": null,
   "metadata": {},
   "outputs": [],
   "source": [
    "pred_df.to_csv('Output/DART_folds.csv')\n",
    "pred_df.mean(axis=1).to_csv('Output/p_DART_fold.csv', header=['prediction'])"
   ]
  },
  {
   "cell_type": "code",
   "execution_count": null,
   "metadata": {},
   "outputs": [],
   "source": []
  }
 ],
 "metadata": {
  "kernelspec": {
   "display_name": "Python 3.9.12 ('rapids-22.06')",
   "language": "python",
   "name": "python3"
  },
  "language_info": {
   "codemirror_mode": {
    "name": "ipython",
    "version": 3
   },
   "file_extension": ".py",
   "mimetype": "text/x-python",
   "name": "python",
   "nbconvert_exporter": "python",
   "pygments_lexer": "ipython3",
   "version": "3.9.12"
  },
  "orig_nbformat": 4,
  "vscode": {
   "interpreter": {
    "hash": "468ef23ed2970eb3eae24d512361eed443dbea3050d88b5fbf8075c8ae4b100c"
   }
  }
 },
 "nbformat": 4,
 "nbformat_minor": 2
}
