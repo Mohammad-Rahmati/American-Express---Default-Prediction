{
 "cells": [
  {
   "cell_type": "code",
   "execution_count": 1,
   "metadata": {},
   "outputs": [],
   "source": [
    "import pandas as pd\n",
    "import matplotlib.pyplot as plt"
   ]
  },
  {
   "cell_type": "code",
   "execution_count": 2,
   "metadata": {},
   "outputs": [],
   "source": [
    "p_1 = pd.read_csv('Output/p_lgbm_DART.csv').set_index('customer_ID', drop=True).rename(columns={'prediction': 'p_1'})\n",
    "p_2 = pd.read_csv('Output/submission.csv').set_index('customer_ID', drop=True).rename(columns={'prediction': 'p_2'})"
   ]
  },
  {
   "cell_type": "code",
   "execution_count": 3,
   "metadata": {},
   "outputs": [
    {
     "data": {
      "text/html": [
       "<div>\n",
       "<style scoped>\n",
       "    .dataframe tbody tr th:only-of-type {\n",
       "        vertical-align: middle;\n",
       "    }\n",
       "\n",
       "    .dataframe tbody tr th {\n",
       "        vertical-align: top;\n",
       "    }\n",
       "\n",
       "    .dataframe thead th {\n",
       "        text-align: right;\n",
       "    }\n",
       "</style>\n",
       "<table border=\"1\" class=\"dataframe\">\n",
       "  <thead>\n",
       "    <tr style=\"text-align: right;\">\n",
       "      <th></th>\n",
       "      <th>p_1</th>\n",
       "      <th>p_2</th>\n",
       "    </tr>\n",
       "    <tr>\n",
       "      <th>customer_ID</th>\n",
       "      <th></th>\n",
       "      <th></th>\n",
       "    </tr>\n",
       "  </thead>\n",
       "  <tbody>\n",
       "    <tr>\n",
       "      <th>00000469ba478561f23a92a868bd366de6f6527a684c9a2e78fb826dcac3b9b7</th>\n",
       "      <td>0.022633</td>\n",
       "      <td>0.022078</td>\n",
       "    </tr>\n",
       "    <tr>\n",
       "      <th>00001bf2e77ff879fab36aa4fac689b9ba411dae63ae397d4263dafa1daedef5</th>\n",
       "      <td>0.000552</td>\n",
       "      <td>0.001576</td>\n",
       "    </tr>\n",
       "    <tr>\n",
       "      <th>0000210045da4f81e5f122c6bde5c2a617d03eef67f82c5e400fc98e7bd43ce8</th>\n",
       "      <td>0.043525</td>\n",
       "      <td>0.031195</td>\n",
       "    </tr>\n",
       "    <tr>\n",
       "      <th>00003b41e58ede33b8daf61ab56d9952f17c9ad1c3976cf6e56734528702d694</th>\n",
       "      <td>0.225644</td>\n",
       "      <td>0.258286</td>\n",
       "    </tr>\n",
       "    <tr>\n",
       "      <th>00004b22eaeeeb0ec976890c1d9bfc14fd9427e98c4ee9a4693dd914fca22557</th>\n",
       "      <td>0.882492</td>\n",
       "      <td>0.704350</td>\n",
       "    </tr>\n",
       "    <tr>\n",
       "      <th>...</th>\n",
       "      <td>...</td>\n",
       "      <td>...</td>\n",
       "    </tr>\n",
       "    <tr>\n",
       "      <th>ffff952c631f2c911b8a2a8ca56ea6e656309a83d2f64c5d60460dba6dedc41e</th>\n",
       "      <td>0.009781</td>\n",
       "      <td>0.013653</td>\n",
       "    </tr>\n",
       "    <tr>\n",
       "      <th>ffffcf5df59e5e0bba2a5ac4578a34e2b5aa64a1546cd3a4f0ca3de613b0b2ad</th>\n",
       "      <td>0.784413</td>\n",
       "      <td>0.626575</td>\n",
       "    </tr>\n",
       "    <tr>\n",
       "      <th>ffffd61f098cc056dbd7d2a21380c4804bbfe60856f475cb095d2443a68030f1</th>\n",
       "      <td>0.389915</td>\n",
       "      <td>0.471557</td>\n",
       "    </tr>\n",
       "    <tr>\n",
       "      <th>ffffddef1fc3643ea179c93245b68dca0f36941cd83977822e8b356988ca4d07</th>\n",
       "      <td>0.280497</td>\n",
       "      <td>0.317315</td>\n",
       "    </tr>\n",
       "    <tr>\n",
       "      <th>fffffa7cf7e453e1acc6a1426475d5cb9400859f82ff61cceb803ea8ec37634d</th>\n",
       "      <td>0.044088</td>\n",
       "      <td>0.061330</td>\n",
       "    </tr>\n",
       "  </tbody>\n",
       "</table>\n",
       "<p>924621 rows × 2 columns</p>\n",
       "</div>"
      ],
      "text/plain": [
       "                                                         p_1       p_2\n",
       "customer_ID                                                           \n",
       "00000469ba478561f23a92a868bd366de6f6527a684c9a2...  0.022633  0.022078\n",
       "00001bf2e77ff879fab36aa4fac689b9ba411dae63ae397...  0.000552  0.001576\n",
       "0000210045da4f81e5f122c6bde5c2a617d03eef67f82c5...  0.043525  0.031195\n",
       "00003b41e58ede33b8daf61ab56d9952f17c9ad1c3976cf...  0.225644  0.258286\n",
       "00004b22eaeeeb0ec976890c1d9bfc14fd9427e98c4ee9a...  0.882492  0.704350\n",
       "...                                                      ...       ...\n",
       "ffff952c631f2c911b8a2a8ca56ea6e656309a83d2f64c5...  0.009781  0.013653\n",
       "ffffcf5df59e5e0bba2a5ac4578a34e2b5aa64a1546cd3a...  0.784413  0.626575\n",
       "ffffd61f098cc056dbd7d2a21380c4804bbfe60856f475c...  0.389915  0.471557\n",
       "ffffddef1fc3643ea179c93245b68dca0f36941cd839778...  0.280497  0.317315\n",
       "fffffa7cf7e453e1acc6a1426475d5cb9400859f82ff61c...  0.044088  0.061330\n",
       "\n",
       "[924621 rows x 2 columns]"
      ]
     },
     "execution_count": 3,
     "metadata": {},
     "output_type": "execute_result"
    }
   ],
   "source": [
    "prediction_df = pd.concat([p_1, p_2], axis=1)\n",
    "prediction_df"
   ]
  },
  {
   "cell_type": "code",
   "execution_count": 4,
   "metadata": {},
   "outputs": [
    {
     "data": {
      "text/html": [
       "<div>\n",
       "<style scoped>\n",
       "    .dataframe tbody tr th:only-of-type {\n",
       "        vertical-align: middle;\n",
       "    }\n",
       "\n",
       "    .dataframe tbody tr th {\n",
       "        vertical-align: top;\n",
       "    }\n",
       "\n",
       "    .dataframe thead th {\n",
       "        text-align: right;\n",
       "    }\n",
       "</style>\n",
       "<table border=\"1\" class=\"dataframe\">\n",
       "  <thead>\n",
       "    <tr style=\"text-align: right;\">\n",
       "      <th></th>\n",
       "      <th>p_1</th>\n",
       "      <th>p_2</th>\n",
       "      <th>diff</th>\n",
       "    </tr>\n",
       "    <tr>\n",
       "      <th>customer_ID</th>\n",
       "      <th></th>\n",
       "      <th></th>\n",
       "      <th></th>\n",
       "    </tr>\n",
       "  </thead>\n",
       "  <tbody>\n",
       "    <tr>\n",
       "      <th>31e8856f5518cedbaebd6f59b5ea64c9c51b7abb7d08da34b42373189bce1fb9</th>\n",
       "      <td>0.206304</td>\n",
       "      <td>0.511626</td>\n",
       "      <td>0.305322</td>\n",
       "    </tr>\n",
       "    <tr>\n",
       "      <th>257ec4e45b6293a6899194652bbf258695a4b956d3fe7e09e75b54e68e1842a6</th>\n",
       "      <td>0.159191</td>\n",
       "      <td>0.437953</td>\n",
       "      <td>0.278762</td>\n",
       "    </tr>\n",
       "    <tr>\n",
       "      <th>03c87870a6d73629d61a55a17cb3ba6dbe7baa9a8700d16ef810f4f3f265ab2c</th>\n",
       "      <td>0.473952</td>\n",
       "      <td>0.741424</td>\n",
       "      <td>0.267472</td>\n",
       "    </tr>\n",
       "    <tr>\n",
       "      <th>587e90dbe37d8198ee56e594ca972b8b3afcdb96139c13ff5be0a38d1eb950d5</th>\n",
       "      <td>0.274919</td>\n",
       "      <td>0.522546</td>\n",
       "      <td>0.247627</td>\n",
       "    </tr>\n",
       "    <tr>\n",
       "      <th>b65c9f54c8264bd0158026c8b577c1fee717ac86ecc6fc9ffb7d0c490c04cf3f</th>\n",
       "      <td>0.329891</td>\n",
       "      <td>0.573881</td>\n",
       "      <td>0.243990</td>\n",
       "    </tr>\n",
       "    <tr>\n",
       "      <th>...</th>\n",
       "      <td>...</td>\n",
       "      <td>...</td>\n",
       "      <td>...</td>\n",
       "    </tr>\n",
       "    <tr>\n",
       "      <th>e02ac34f7d8fa7d87d7d59a805ddcccad9ecc3b0afca9c2679a74a969a9208d8</th>\n",
       "      <td>0.718796</td>\n",
       "      <td>0.380348</td>\n",
       "      <td>-0.338449</td>\n",
       "    </tr>\n",
       "    <tr>\n",
       "      <th>ece6e350df1d95b8e5abcbffc7a1ab4e1e0ac0ef24cfdfa84d329050a98ae6ff</th>\n",
       "      <td>0.685382</td>\n",
       "      <td>0.343206</td>\n",
       "      <td>-0.342176</td>\n",
       "    </tr>\n",
       "    <tr>\n",
       "      <th>ff08d40e56160b7dd7efca4e9e683ff36693fe7be3ffd774a20b57c32070b3dc</th>\n",
       "      <td>0.536691</td>\n",
       "      <td>0.193503</td>\n",
       "      <td>-0.343189</td>\n",
       "    </tr>\n",
       "    <tr>\n",
       "      <th>7c61e22d63ddcc6f63d15e24b4f5460cb544a49c032da5f8a8953a5a3dc82c96</th>\n",
       "      <td>0.824847</td>\n",
       "      <td>0.480178</td>\n",
       "      <td>-0.344668</td>\n",
       "    </tr>\n",
       "    <tr>\n",
       "      <th>2b965739da1b4621b711921b52d69c5a46e8ef2a0125ea2fa1112e0cf06d87c3</th>\n",
       "      <td>0.794797</td>\n",
       "      <td>0.429251</td>\n",
       "      <td>-0.365546</td>\n",
       "    </tr>\n",
       "  </tbody>\n",
       "</table>\n",
       "<p>924621 rows × 3 columns</p>\n",
       "</div>"
      ],
      "text/plain": [
       "                                                         p_1       p_2  \\\n",
       "customer_ID                                                              \n",
       "31e8856f5518cedbaebd6f59b5ea64c9c51b7abb7d08da3...  0.206304  0.511626   \n",
       "257ec4e45b6293a6899194652bbf258695a4b956d3fe7e0...  0.159191  0.437953   \n",
       "03c87870a6d73629d61a55a17cb3ba6dbe7baa9a8700d16...  0.473952  0.741424   \n",
       "587e90dbe37d8198ee56e594ca972b8b3afcdb96139c13f...  0.274919  0.522546   \n",
       "b65c9f54c8264bd0158026c8b577c1fee717ac86ecc6fc9...  0.329891  0.573881   \n",
       "...                                                      ...       ...   \n",
       "e02ac34f7d8fa7d87d7d59a805ddcccad9ecc3b0afca9c2...  0.718796  0.380348   \n",
       "ece6e350df1d95b8e5abcbffc7a1ab4e1e0ac0ef24cfdfa...  0.685382  0.343206   \n",
       "ff08d40e56160b7dd7efca4e9e683ff36693fe7be3ffd77...  0.536691  0.193503   \n",
       "7c61e22d63ddcc6f63d15e24b4f5460cb544a49c032da5f...  0.824847  0.480178   \n",
       "2b965739da1b4621b711921b52d69c5a46e8ef2a0125ea2...  0.794797  0.429251   \n",
       "\n",
       "                                                        diff  \n",
       "customer_ID                                                   \n",
       "31e8856f5518cedbaebd6f59b5ea64c9c51b7abb7d08da3...  0.305322  \n",
       "257ec4e45b6293a6899194652bbf258695a4b956d3fe7e0...  0.278762  \n",
       "03c87870a6d73629d61a55a17cb3ba6dbe7baa9a8700d16...  0.267472  \n",
       "587e90dbe37d8198ee56e594ca972b8b3afcdb96139c13f...  0.247627  \n",
       "b65c9f54c8264bd0158026c8b577c1fee717ac86ecc6fc9...  0.243990  \n",
       "...                                                      ...  \n",
       "e02ac34f7d8fa7d87d7d59a805ddcccad9ecc3b0afca9c2... -0.338449  \n",
       "ece6e350df1d95b8e5abcbffc7a1ab4e1e0ac0ef24cfdfa... -0.342176  \n",
       "ff08d40e56160b7dd7efca4e9e683ff36693fe7be3ffd77... -0.343189  \n",
       "7c61e22d63ddcc6f63d15e24b4f5460cb544a49c032da5f... -0.344668  \n",
       "2b965739da1b4621b711921b52d69c5a46e8ef2a0125ea2... -0.365546  \n",
       "\n",
       "[924621 rows x 3 columns]"
      ]
     },
     "execution_count": 4,
     "metadata": {},
     "output_type": "execute_result"
    }
   ],
   "source": [
    "prediction_df['diff'] = prediction_df['p_2'] - prediction_df['p_1']\n",
    "prediction_df.sort_values(by = 'diff', ascending = False, inplace=True)\n",
    "prediction_df"
   ]
  },
  {
   "cell_type": "code",
   "execution_count": 5,
   "metadata": {},
   "outputs": [
    {
     "data": {
      "text/plain": [
       "[]"
      ]
     },
     "execution_count": 5,
     "metadata": {},
     "output_type": "execute_result"
    },
    {
     "data": {
      "image/png": "[encoded data removed]",
      "text/plain": [
       "<Figure size 432x288 with 1 Axes>"
      ]
     },
     "metadata": {
      "needs_background": "light"
     },
     "output_type": "display_data"
    }
   ],
   "source": [
    "plt.hist(prediction_df.p_1, bins=100, color = 'black', alpha = 0.3)\n",
    "plt.hist(prediction_df.p_2, bins=100, color='red', alpha = 0.3)\n",
    "plt.legend(['p_1', 'p_2'])\n",
    "plt.plot()"
   ]
  },
  {
   "cell_type": "code",
   "execution_count": 6,
   "metadata": {},
   "outputs": [
    {
     "data": {
      "text/plain": [
       "[<matplotlib.lines.Line2D at 0x7f4763775e50>]"
      ]
     },
     "execution_count": 6,
     "metadata": {},
     "output_type": "execute_result"
    },
    {
     "data": {
      "image/png": "[encoded data removed]",
      "text/plain": [
       "<Figure size 432x288 with 1 Axes>"
      ]
     },
     "metadata": {
      "needs_background": "light"
     },
     "output_type": "display_data"
    }
   ],
   "source": [
    "plt.plot(range(0, prediction_df.shape[0], 1), (prediction_df['diff']))"
   ]
  },
  {
   "cell_type": "code",
   "execution_count": 7,
   "metadata": {},
   "outputs": [
    {
     "data": {
      "text/plain": [
       "customer_ID\n",
       "31e8856f5518cedbaebd6f59b5ea64c9c51b7abb7d08da34b42373189bce1fb9    0.221570\n",
       "257ec4e45b6293a6899194652bbf258695a4b956d3fe7e09e75b54e68e1842a6    0.173129\n",
       "03c87870a6d73629d61a55a17cb3ba6dbe7baa9a8700d16ef810f4f3f265ab2c    0.487326\n",
       "587e90dbe37d8198ee56e594ca972b8b3afcdb96139c13ff5be0a38d1eb950d5    0.287300\n",
       "b65c9f54c8264bd0158026c8b577c1fee717ac86ecc6fc9ffb7d0c490c04cf3f    0.342090\n",
       "                                                                      ...   \n",
       "e02ac34f7d8fa7d87d7d59a805ddcccad9ecc3b0afca9c2679a74a969a9208d8    0.701874\n",
       "ece6e350df1d95b8e5abcbffc7a1ab4e1e0ac0ef24cfdfa84d329050a98ae6ff    0.668273\n",
       "ff08d40e56160b7dd7efca4e9e683ff36693fe7be3ffd774a20b57c32070b3dc    0.519532\n",
       "7c61e22d63ddcc6f63d15e24b4f5460cb544a49c032da5f8a8953a5a3dc82c96    0.807614\n",
       "2b965739da1b4621b711921b52d69c5a46e8ef2a0125ea2fa1112e0cf06d87c3    0.776520\n",
       "Length: 924621, dtype: float64"
      ]
     },
     "execution_count": 7,
     "metadata": {},
     "output_type": "execute_result"
    }
   ],
   "source": [
    "pred = prediction_df.p_2 * 0.05 + prediction_df.p_1 * 0.95\n",
    "pred"
   ]
  },
  {
   "cell_type": "code",
   "execution_count": 8,
   "metadata": {},
   "outputs": [],
   "source": [
    "pred.to_csv('Output/p_blend.csv',header=['prediction'])"
   ]
  },
  {
   "cell_type": "code",
   "execution_count": null,
   "metadata": {},
   "outputs": [],
   "source": []
  }
 ],
 "metadata": {
  "kernelspec": {
   "display_name": "Python 3.9.12 ('rapids-22.06')",
   "language": "python",
   "name": "python3"
  },
  "language_info": {
   "codemirror_mode": {
    "name": "ipython",
    "version": 3
   },
   "file_extension": ".py",
   "mimetype": "text/x-python",
   "name": "python",
   "nbconvert_exporter": "python",
   "pygments_lexer": "ipython3",
   "version": "3.9.12"
  },
  "orig_nbformat": 4,
  "vscode": {
   "interpreter": {
    "hash": "468ef23ed2970eb3eae24d512361eed443dbea3050d88b5fbf8075c8ae4b100c"
   }
  }
 },
 "nbformat": 4,
 "nbformat_minor": 2
}
