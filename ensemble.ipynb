{
 "cells": [
  {
   "cell_type": "code",
   "execution_count": 1,
   "metadata": {},
   "outputs": [],
   "source": [
    "import pandas as pd\n",
    "import joblib\n",
    "import os"
   ]
  },
  {
   "cell_type": "code",
   "execution_count": 4,
   "metadata": {},
   "outputs": [
    {
     "data": {
      "text/plain": [
       "(924621, 1103)"
      ]
     },
     "execution_count": 4,
     "metadata": {},
     "output_type": "execute_result"
    }
   ],
   "source": [
    "data = pd.read_pickle('Output/test.pkl')\n",
    "data.shape"
   ]
  },
  {
   "cell_type": "code",
   "execution_count": 5,
   "metadata": {},
   "outputs": [],
   "source": [
    "def predict(data):\n",
    "    \n",
    "    models = [\n",
    "        'fold_0_iter',\n",
    "        'fold_2_iter',\n",
    "        'fold_4_iter',\n",
    "\n",
    "        'fold_1_0_iter',\n",
    "        'fold_1_3_iter',\n",
    "        'fold_1_4_iter',\n",
    "        'fold_3_0_iter',\n",
    "        'fold_3_1_iter',\n",
    "        'fold_3_3_iter',\n",
    "\n",
    "        'weak_fold_'\n",
    "    ]\n",
    "\n",
    "    model_list = []\n",
    "    for path in ['Models_DART_L1,L2/', 'Models_DART_L3/']:\n",
    "        for fname in os.listdir(path):\n",
    "            for model_name in models:\n",
    "                if model_name in fname:\n",
    "                    model_list.append(path + fname)\n",
    "\n",
    "    pred_list = []\n",
    "    for model_path in model_list:\n",
    "        print(model_path)\n",
    "        print('{:.02f} MB'.format(os.path.getsize(model_path)/1000000))\n",
    "        model = joblib.load(model_path)\n",
    "        pred_list.append(model.predict(data))\n",
    "    \n",
    "    return pred_list"
   ]
  },
  {
   "cell_type": "code",
   "execution_count": 6,
   "metadata": {},
   "outputs": [
    {
     "name": "stdout",
     "output_type": "stream",
     "text": [
      "Models_DART_L1,L2/fold_2_iter_15673_score_0.79786.pkl\n",
      "192.18 MB\n",
      "Models_DART_L1,L2/fold_3_3_iter_12338_score_0.79752.pkl\n",
      "141.22 MB\n",
      "Models_DART_L1,L2/fold_3_1_iter_9891_score_0.79668.pkl\n",
      "113.30 MB\n",
      "Models_DART_L1,L2/fold_1_4_iter_6205_score_0.80461.pkl\n",
      "71.20 MB\n",
      "Models_DART_L1,L2/fold_3_0_iter_12713_score_0.79723.pkl\n",
      "148.29 MB\n",
      "Models_DART_L1,L2/fold_0_iter_14937_score_0.80361.pkl\n",
      "171.27 MB\n",
      "Models_DART_L1,L2/fold_1_3_iter_8889_score_0.80380.pkl\n",
      "101.84 MB\n",
      "Models_DART_L1,L2/fold_4_iter_13953_score_0.79769.pkl\n",
      "153.02 MB\n",
      "Models_DART_L1,L2/fold_1_0_iter_6194_score_0.79579.pkl\n",
      "71.04 MB\n",
      "Models_DART_L3/weak_fold_3_score_0.79656.pkl\n",
      "176.48 MB\n",
      "Models_DART_L3/weak_fold_7_score_0.78550.pkl\n",
      "109.77 MB\n",
      "Models_DART_L3/weak_fold_8_score_0.79930.pkl\n",
      "218.46 MB\n",
      "Models_DART_L3/weak_fold_6_score_0.80330.pkl\n",
      "229.89 MB\n",
      "Models_DART_L3/weak_fold_4_score_0.79648.pkl\n",
      "288.36 MB\n",
      "Models_DART_L3/weak_fold_0_score_0.79444.pkl\n",
      "313.61 MB\n",
      "Models_DART_L3/weak_fold_9_score_0.78429.pkl\n",
      "89.47 MB\n",
      "Models_DART_L3/weak_fold_5_score_0.80553.pkl\n",
      "168.61 MB\n",
      "Models_DART_L3/weak_fold_1_score_0.79402.pkl\n",
      "208.15 MB\n",
      "Models_DART_L3/weak_fold_2_score_0.79294.pkl\n",
      "156.71 MB\n"
     ]
    }
   ],
   "source": [
    "pred_list = predict(data)"
   ]
  },
  {
   "cell_type": "code",
   "execution_count": 7,
   "metadata": {},
   "outputs": [],
   "source": [
    "column_name = [\n",
    "    'fold_2',\n",
    "    'fold_3_3',\n",
    "    'fold_3_1',\n",
    "    'fold_1_4',\n",
    "    'fold_3_0',\n",
    "    'fold_0',\n",
    "    'fold_1_3',\n",
    "    'fold_4',\n",
    "    'fold_1_0',\n",
    "    'weak_fold_3',\n",
    "    'weak_fold_7',\n",
    "    'weak_fold_8',\n",
    "    'weak_fold_6',\n",
    "    'weak_fold_4',\n",
    "    'weak_fold_0',\n",
    "    'weak_fold_9',\n",
    "    'weak_fold_5',\n",
    "    'weak_fold_1',\n",
    "    'weak_fold_2',\n",
    "]\n",
    "\n",
    "pred_df = pd.DataFrame(pred_list).T\n",
    "pred_df.columns = column_name\n",
    "pred_df.index = data.index"
   ]
  },
  {
   "cell_type": "code",
   "execution_count": 8,
   "metadata": {},
   "outputs": [],
   "source": [
    "pred_df.to_csv('Output/test_DART_folds.csv')"
   ]
  },
  {
   "cell_type": "code",
   "execution_count": null,
   "metadata": {},
   "outputs": [],
   "source": []
  }
 ],
 "metadata": {
  "kernelspec": {
   "display_name": "Python 3.9.12 ('rapids-22.06')",
   "language": "python",
   "name": "python3"
  },
  "language_info": {
   "codemirror_mode": {
    "name": "ipython",
    "version": 3
   },
   "file_extension": ".py",
   "mimetype": "text/x-python",
   "name": "python",
   "nbconvert_exporter": "python",
   "pygments_lexer": "ipython3",
   "version": "3.9.12"
  },
  "orig_nbformat": 4,
  "vscode": {
   "interpreter": {
    "hash": "468ef23ed2970eb3eae24d512361eed443dbea3050d88b5fbf8075c8ae4b100c"
   }
  }
 },
 "nbformat": 4,
 "nbformat_minor": 2
}
