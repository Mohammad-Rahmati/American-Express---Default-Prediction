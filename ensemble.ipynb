{
 "cells": [
  {
   "cell_type": "code",
   "execution_count": 1,
   "metadata": {},
   "outputs": [],
   "source": [
    "import pandas as pd\n",
    "import joblib\n",
    "import os"
   ]
  },
  {
   "cell_type": "code",
   "execution_count": 2,
   "metadata": {},
   "outputs": [
    {
     "data": {
      "text/plain": [
       "(924621, 1280)"
      ]
     },
     "execution_count": 2,
     "metadata": {},
     "output_type": "execute_result"
    }
   ],
   "source": [
    "data = pd.read_parquet('Data/test_all_slopes.parquet')\n",
    "data.shape"
   ]
  },
  {
   "cell_type": "code",
   "execution_count": 3,
   "metadata": {},
   "outputs": [],
   "source": [
    "def predict(data):\n",
    "    \n",
    "    models = [\n",
    "        'fold_0_iter',\n",
    "        'fold_1_iter',\n",
    "        'fold_2_iter',\n",
    "        'fold_3_iter',\n",
    "        'fold_4_iter',\n",
    "    ]\n",
    "\n",
    "    model_list = []\n",
    "    for path in ['models_DART_slope/']:\n",
    "        for fname in os.listdir(path):\n",
    "            for model_name in models:\n",
    "                if model_name in fname:\n",
    "                    model_list.append(path + fname)\n",
    "\n",
    "    pred_list = []\n",
    "    for model_path in model_list:\n",
    "        print(model_path)\n",
    "        print('{:.02f} MB'.format(os.path.getsize(model_path)/1000000))\n",
    "        model = joblib.load(model_path)\n",
    "        pred_list.append(model.predict(data))\n",
    "    \n",
    "    return pred_list"
   ]
  },
  {
   "cell_type": "code",
   "execution_count": 4,
   "metadata": {},
   "outputs": [
    {
     "name": "stdout",
     "output_type": "stream",
     "text": [
      "models_DART_slope/fold_4_iter_10204_score_0.79878.pkl\n",
      "117.69 MB\n",
      "models_DART_slope/fold_1_iter_7564_score_0.79535.pkl\n",
      "87.39 MB\n",
      "models_DART_slope/fold_2_iter_9796_score_0.79837.pkl\n",
      "113.09 MB\n",
      "models_DART_slope/fold_0_iter_8170_score_0.80355.pkl\n",
      "94.27 MB\n",
      "models_DART_slope/fold_3_iter_9478_score_0.79343.pkl\n",
      "109.41 MB\n"
     ]
    }
   ],
   "source": [
    "pred_list = predict(data)"
   ]
  },
  {
   "cell_type": "code",
   "execution_count": 5,
   "metadata": {},
   "outputs": [],
   "source": [
    "column_name = [\n",
    "    'fold_4',\n",
    "    'fold_1',\n",
    "    'fold_2',\n",
    "    'fold_0',\n",
    "    'fold_3',\n",
    "]\n",
    "\n",
    "pred_df = pd.DataFrame(pred_list).T\n",
    "pred_df.columns = column_name\n",
    "pred_df.index = data.index"
   ]
  },
  {
   "cell_type": "code",
   "execution_count": 6,
   "metadata": {},
   "outputs": [],
   "source": [
    "pred_df.mean(axis=1).to_csv('Output/p_LgbmDART_AggPcaDiffRoundSlope_HT1_1500_L1.csv', header=['prediction'])"
   ]
  },
  {
   "cell_type": "code",
   "execution_count": null,
   "metadata": {},
   "outputs": [],
   "source": [
    "p1 = pred_df.mean(axis=1)\n",
    "p2 = pd.read_csv('Output/p_blend_kaggle.csv', index_col='customer_ID').loc[pred_df.index]"
   ]
  },
  {
   "cell_type": "code",
   "execution_count": null,
   "metadata": {},
   "outputs": [],
   "source": [
    "p_df = pd.concat([p1, p2], axis=1)\n",
    "p_df"
   ]
  },
  {
   "cell_type": "code",
   "execution_count": null,
   "metadata": {},
   "outputs": [],
   "source": [
    "ensemble = 0.05*p_df[0] + 0.95*p_df['prediction'] "
   ]
  },
  {
   "cell_type": "code",
   "execution_count": null,
   "metadata": {},
   "outputs": [],
   "source": [
    "ensemble.to_csv('Output/p_ensemble_LgbmDART_AggPcaDiffRoundSlo_HT1_1500_L1__MybestKaggle.csv', header=['prediction'])\n"
   ]
  },
  {
   "cell_type": "code",
   "execution_count": null,
   "metadata": {},
   "outputs": [],
   "source": []
  }
 ],
 "metadata": {
  "kernelspec": {
   "display_name": "Python 3.9.12 ('rapids-22.06')",
   "language": "python",
   "name": "python3"
  },
  "language_info": {
   "codemirror_mode": {
    "name": "ipython",
    "version": 3
   },
   "file_extension": ".py",
   "mimetype": "text/x-python",
   "name": "python",
   "nbconvert_exporter": "python",
   "pygments_lexer": "ipython3",
   "version": "3.9.12"
  },
  "orig_nbformat": 4,
  "vscode": {
   "interpreter": {
    "hash": "468ef23ed2970eb3eae24d512361eed443dbea3050d88b5fbf8075c8ae4b100c"
   }
  }
 },
 "nbformat": 4,
 "nbformat_minor": 2
}
