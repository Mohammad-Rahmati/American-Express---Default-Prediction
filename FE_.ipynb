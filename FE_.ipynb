{
 "cells": [
  {
   "cell_type": "code",
   "execution_count": null,
   "metadata": {},
   "outputs": [],
   "source": [
    "import pandas as pd\n",
    "import numpy as np\n",
    "import gc\n",
    "import warnings\n",
    "warnings.filterwarnings('ignore')"
   ]
  },
  {
   "cell_type": "code",
   "execution_count": null,
   "metadata": {},
   "outputs": [],
   "source": [
    "def feature_engineering(data, cat_columns, num_columns):\n",
    "\n",
    "    cat_minus2_value = data[cat_columns].groupby('customer_ID').apply(lambda x: x.iloc[-2] if len(x) > 1 else x.iloc[0])\n",
    "    cat_minus2_value.columns = ['cat_-2_' + c for c in cat_minus2_value]\n",
    "    print('cat_-2 Done')\n",
    "\n",
    "    cat_first_value = data[cat_columns].groupby('customer_ID').apply(lambda x: x.iloc[0])\n",
    "    cat_first_value.columns = ['cat_first_' + c for c in cat_first_value]\n",
    "    print('cat_first Done')\n",
    "\n",
    "    na_fe = data.groupby('customer_ID').apply(lambda x: x.isnull().sum() / len(x))\n",
    "    na_fe.columns = ['NA_' + c for c in na_fe]\n",
    "    print('na Done')\n",
    "\n",
    "    num_last_minus2_diff = data[num_columns].groupby('customer_ID').apply(lambda x: x.iloc[-1] - x.iloc[-2] if len(x) > 1 else x.iloc[-1] - x.iloc[0])\n",
    "    num_last_minus2_diff.columns = ['diff_last_-2_' + c for c in num_last_minus2_diff]\n",
    "    print('diff_last_-2 Done')\n",
    "\n",
    "    data['date'] = pd.to_datetime(data['S_2'])\n",
    "    day_fe = data['date'].dt.day\n",
    "    day_fe.rename('day', inplace=True)\n",
    "    weekday_fe = data['date'].dt.weekday\n",
    "    weekday_fe.rename('weekday', inplace=True)\n",
    "    month_fe = data['date'].dt.month\n",
    "    month_fe.rename('month', inplace=True)\n",
    "    date_df = pd.concat([day_fe, weekday_fe, month_fe], axis=1)\n",
    "    date = date_df.groupby('customer_ID').agg(['mean', 'min', 'max', 'last', 'first'])\n",
    "    date.columns = ['date_' + c[0] + '_' + c[1] for c in date.columns]\n",
    "    print('date Done')\n",
    "\n",
    "    return pd.concat([cat_minus2_value, cat_first_value, na_fe, num_last_minus2_diff, date], axis=1)"
   ]
  },
  {
   "cell_type": "code",
   "execution_count": null,
   "metadata": {},
   "outputs": [],
   "source": [
    "train = pd.read_parquet('Data/train.parquet')\n",
    "train.set_index('customer_ID', inplace=True)\n",
    "\n",
    "columns = train.columns\n",
    "cat_columns = ['B_30', 'B_38', 'D_114', 'D_116', 'D_117', 'D_120', 'D_126', 'D_63', 'D_64', 'D_66', 'D_68']\n",
    "num_columns = [c for c in columns if c not in cat_columns]\n",
    "num_columns.remove('S_2')\n",
    "train.shape"
   ]
  },
  {
   "cell_type": "code",
   "execution_count": null,
   "metadata": {},
   "outputs": [],
   "source": [
    "tr_fe = feature_engineering(train, cat_columns, num_columns)"
   ]
  },
  {
   "cell_type": "code",
   "execution_count": null,
   "metadata": {},
   "outputs": [],
   "source": [
    "del train; gc.collect()\n",
    "train_agg = pd.read_parquet('Data/train_all_slopes_corr_pcaslope_lagv2_avediff.parquet')\n",
    "pd.concat([train_agg, tr_fe], axis=1).to_parquet('Data/train_all_slopes_corr_pcaslope_lagv2_avediff_catLastLastNAdate.parquet')"
   ]
  },
  {
   "cell_type": "code",
   "execution_count": null,
   "metadata": {},
   "outputs": [],
   "source": [
    "test = pd.read_parquet('Data/test.parquet')\n",
    "test.set_index('customer_ID', inplace=True)\n",
    "\n",
    "columns = test.columns\n",
    "cat_columns = ['B_30', 'B_38', 'D_114', 'D_116', 'D_117', 'D_120', 'D_126', 'D_63', 'D_64', 'D_66', 'D_68']\n",
    "num_columns = [c for c in columns if c not in cat_columns]\n",
    "num_columns.remove('S_2')\n",
    "test.shape"
   ]
  },
  {
   "cell_type": "code",
   "execution_count": null,
   "metadata": {},
   "outputs": [],
   "source": [
    "te_fe = feature_engineering(test, cat_columns, num_columns)"
   ]
  },
  {
   "cell_type": "code",
   "execution_count": null,
   "metadata": {},
   "outputs": [],
   "source": [
    "te_fe.to_parquet('Data/catLastLastNAdate.parquet')"
   ]
  },
  {
   "cell_type": "code",
   "execution_count": null,
   "metadata": {},
   "outputs": [],
   "source": [
    "del test; gc.collect()"
   ]
  },
  {
   "cell_type": "code",
   "execution_count": null,
   "metadata": {},
   "outputs": [],
   "source": [
    "te_fe = pd.read_parquet('Data/catLastLastNAdate.parquet')"
   ]
  },
  {
   "cell_type": "code",
   "execution_count": null,
   "metadata": {},
   "outputs": [],
   "source": [
    "te_fe.head()"
   ]
  },
  {
   "cell_type": "code",
   "execution_count": null,
   "metadata": {},
   "outputs": [],
   "source": [
    "test_agg = pd.read_parquet('Data/test_all_slopes_corr_pcaslope_lagv2_avediff.parquet')\n",
    "test_agg.shape"
   ]
  },
  {
   "cell_type": "code",
   "execution_count": null,
   "metadata": {},
   "outputs": [],
   "source": [
    "test_agg_first_half = test_agg.iloc[:int(test_agg.shape[0]/2)]\n",
    "test_agg_second_half = test_agg.iloc[int(test_agg.shape[0]/2):]\n",
    "del test_agg; gc.collect()"
   ]
  },
  {
   "cell_type": "code",
   "execution_count": null,
   "metadata": {},
   "outputs": [],
   "source": [
    "test_new_first_half = pd.concat([test_agg_first_half, te_fe.loc[test_agg_first_half.index]], axis=1)\n",
    "test_new_second_half = pd.concat([test_agg_second_half, te_fe.loc[test_agg_second_half.index]], axis=1)\n",
    "del test_agg_first_half, test_agg_second_half; gc.collect()"
   ]
  },
  {
   "cell_type": "code",
   "execution_count": null,
   "metadata": {},
   "outputs": [],
   "source": [
    "test_new_first_half.shape, test_new_second_half.shape"
   ]
  },
  {
   "cell_type": "code",
   "execution_count": null,
   "metadata": {},
   "outputs": [],
   "source": [
    "test_new_first_half.to_parquet('Data/test_all_slopes_corr_pcaslope_lagv2_avediff_catLastLastNAdate_part1.parquet')\n",
    "test_new_second_half.to_parquet('Data/test_all_slopes_corr_pcaslope_lagv2_avediff_catLastLastNAdate_part2.parquet')"
   ]
  },
  {
   "cell_type": "code",
   "execution_count": null,
   "metadata": {},
   "outputs": [],
   "source": []
  }
 ],
 "metadata": {
  "kernelspec": {
   "display_name": "Python 3.9.12 ('rapids-22.06')",
   "language": "python",
   "name": "python3"
  },
  "language_info": {
   "codemirror_mode": {
    "name": "ipython",
    "version": 3
   },
   "file_extension": ".py",
   "mimetype": "text/x-python",
   "name": "python",
   "nbconvert_exporter": "python",
   "pygments_lexer": "ipython3",
   "version": "3.9.12"
  },
  "orig_nbformat": 4,
  "vscode": {
   "interpreter": {
    "hash": "468ef23ed2970eb3eae24d512361eed443dbea3050d88b5fbf8075c8ae4b100c"
   }
  }
 },
 "nbformat": 4,
 "nbformat_minor": 2
}
